{
 "cells": [
  {
   "cell_type": "code",
   "execution_count": 7,
   "id": "8e8bcdea-587e-4c3d-9f68-c517dfa5b699",
   "metadata": {},
   "outputs": [
    {
     "data": {
      "application/vnd.plotly.v1+json": {
       "config": {
        "plotlyServerURL": "https://plot.ly"
       },
       "data": [
        {
         "alignmentgroup": "True",
         "hovertemplate": "x=%{x}<br>y=%{y}<extra></extra>",
         "legendgroup": "",
         "marker": {
          "color": "#636efa",
          "pattern": {
           "shape": ""
          }
         },
         "name": "",
         "offsetgroup": "",
         "orientation": "v",
         "showlegend": false,
         "textposition": "auto",
         "type": "bar",
         "x": [
          "node 0",
          "node 1",
          "node 2",
          "node 3",
          "node 4",
          "node 5",
          "node 6",
          "node 7",
          "node 8",
          "node 9",
          "node 10",
          "node 11",
          "node 12",
          "node 13",
          "node 14",
          "node 15",
          "node 16",
          "node 17",
          "node 18",
          "node 19",
          "node 20",
          "node 21",
          "node 22",
          "node 23",
          "node 24",
          "node 25",
          "node 26",
          "node 27",
          "node 28",
          "node 29",
          "node 30",
          "node 31",
          "node 32",
          "node 33",
          "node 34",
          "node 35",
          "node 36",
          "node 37",
          "node 38",
          "node 39",
          "node 40",
          "node 41",
          "node 42",
          "node 43",
          "node 44",
          "node 45",
          "node 46",
          "node 47",
          "node 48",
          "node 49",
          "node 50",
          "node 51",
          "node 52",
          "node 53",
          "node 54",
          "node 55",
          "node 56",
          "node 57",
          "node 58",
          "node 59",
          "node 60",
          "node 61",
          "node 62",
          "node 63",
          "node 64",
          "node 65",
          "node 66",
          "node 67",
          "node 68",
          "node 69",
          "node 70",
          "node 71",
          "node 72",
          "node 73",
          "node 74",
          "node 75",
          "node 76",
          "node 77",
          "node 78",
          "node 79",
          "node 80",
          "node 81",
          "node 82",
          "node 83",
          "node 84",
          "node 85",
          "node 86",
          "node 87",
          "node 88",
          "node 89",
          "node 90",
          "node 91",
          "node 92",
          "node 93",
          "node 94",
          "node 95",
          "node 96",
          "node 97",
          "node 98",
          "node 99"
         ],
         "xaxis": "x",
         "y": [
          0,
          1,
          2,
          3,
          4,
          5,
          6,
          7,
          8,
          9,
          10,
          11,
          12,
          13,
          14,
          15,
          16,
          17,
          18,
          19,
          20,
          21,
          22,
          23,
          24,
          25,
          26,
          27,
          28,
          29,
          30,
          31,
          32,
          33,
          34,
          35,
          36,
          37,
          38,
          39,
          40,
          41,
          42,
          43,
          44,
          45,
          46,
          47,
          48,
          49,
          50,
          51,
          52,
          53,
          54,
          55,
          56,
          57,
          58,
          59,
          60,
          61,
          62,
          63,
          64,
          65,
          66,
          67,
          68,
          69,
          70,
          71,
          72,
          73,
          74,
          75,
          76,
          77,
          78,
          79,
          80,
          81,
          82,
          83,
          84,
          85,
          86,
          87,
          88,
          89,
          90,
          91,
          92,
          93,
          94,
          95,
          96,
          97,
          98,
          99
         ],
         "yaxis": "y"
        },
        {
         "type": "scatter",
         "y": [
          3,
          4,
          5,
          6,
          7,
          8,
          9,
          0,
          1,
          2,
          3,
          4,
          5,
          6,
          7,
          8,
          9,
          0,
          1,
          2,
          3,
          4,
          5,
          6,
          7,
          8,
          9,
          0,
          1,
          2,
          3,
          4,
          5,
          6,
          7,
          8,
          9,
          0,
          1,
          2,
          3,
          4,
          5,
          6,
          7,
          8,
          9,
          0,
          1,
          2,
          3,
          4,
          5,
          6,
          7,
          8,
          9,
          0,
          1,
          2,
          3,
          4,
          5,
          6,
          7,
          8,
          9,
          0,
          1,
          2,
          3,
          4,
          5,
          6,
          7,
          8,
          9,
          0,
          1,
          2,
          3,
          4,
          5,
          6,
          7,
          8,
          9,
          0,
          1,
          2,
          3,
          4,
          5,
          6,
          7,
          8,
          9,
          0,
          1,
          2
         ]
        }
       ],
       "layout": {
        "autosize": true,
        "barmode": "relative",
        "legend": {
         "tracegroupgap": 0
        },
        "margin": {
         "t": 60
        },
        "template": {
         "data": {
          "bar": [
           {
            "error_x": {
             "color": "#2a3f5f"
            },
            "error_y": {
             "color": "#2a3f5f"
            },
            "marker": {
             "line": {
              "color": "#E5ECF6",
              "width": 0.5
             },
             "pattern": {
              "fillmode": "overlay",
              "size": 10,
              "solidity": 0.2
             }
            },
            "type": "bar"
           }
          ],
          "barpolar": [
           {
            "marker": {
             "line": {
              "color": "#E5ECF6",
              "width": 0.5
             },
             "pattern": {
              "fillmode": "overlay",
              "size": 10,
              "solidity": 0.2
             }
            },
            "type": "barpolar"
           }
          ],
          "carpet": [
           {
            "aaxis": {
             "endlinecolor": "#2a3f5f",
             "gridcolor": "white",
             "linecolor": "white",
             "minorgridcolor": "white",
             "startlinecolor": "#2a3f5f"
            },
            "baxis": {
             "endlinecolor": "#2a3f5f",
             "gridcolor": "white",
             "linecolor": "white",
             "minorgridcolor": "white",
             "startlinecolor": "#2a3f5f"
            },
            "type": "carpet"
           }
          ],
          "choropleth": [
           {
            "colorbar": {
             "outlinewidth": 0,
             "ticks": ""
            },
            "type": "choropleth"
           }
          ],
          "contour": [
           {
            "colorbar": {
             "outlinewidth": 0,
             "ticks": ""
            },
            "colorscale": [
             [
              0,
              "#0d0887"
             ],
             [
              0.1111111111111111,
              "#46039f"
             ],
             [
              0.2222222222222222,
              "#7201a8"
             ],
             [
              0.3333333333333333,
              "#9c179e"
             ],
             [
              0.4444444444444444,
              "#bd3786"
             ],
             [
              0.5555555555555556,
              "#d8576b"
             ],
             [
              0.6666666666666666,
              "#ed7953"
             ],
             [
              0.7777777777777778,
              "#fb9f3a"
             ],
             [
              0.8888888888888888,
              "#fdca26"
             ],
             [
              1,
              "#f0f921"
             ]
            ],
            "type": "contour"
           }
          ],
          "contourcarpet": [
           {
            "colorbar": {
             "outlinewidth": 0,
             "ticks": ""
            },
            "type": "contourcarpet"
           }
          ],
          "heatmap": [
           {
            "colorbar": {
             "outlinewidth": 0,
             "ticks": ""
            },
            "colorscale": [
             [
              0,
              "#0d0887"
             ],
             [
              0.1111111111111111,
              "#46039f"
             ],
             [
              0.2222222222222222,
              "#7201a8"
             ],
             [
              0.3333333333333333,
              "#9c179e"
             ],
             [
              0.4444444444444444,
              "#bd3786"
             ],
             [
              0.5555555555555556,
              "#d8576b"
             ],
             [
              0.6666666666666666,
              "#ed7953"
             ],
             [
              0.7777777777777778,
              "#fb9f3a"
             ],
             [
              0.8888888888888888,
              "#fdca26"
             ],
             [
              1,
              "#f0f921"
             ]
            ],
            "type": "heatmap"
           }
          ],
          "heatmapgl": [
           {
            "colorbar": {
             "outlinewidth": 0,
             "ticks": ""
            },
            "colorscale": [
             [
              0,
              "#0d0887"
             ],
             [
              0.1111111111111111,
              "#46039f"
             ],
             [
              0.2222222222222222,
              "#7201a8"
             ],
             [
              0.3333333333333333,
              "#9c179e"
             ],
             [
              0.4444444444444444,
              "#bd3786"
             ],
             [
              0.5555555555555556,
              "#d8576b"
             ],
             [
              0.6666666666666666,
              "#ed7953"
             ],
             [
              0.7777777777777778,
              "#fb9f3a"
             ],
             [
              0.8888888888888888,
              "#fdca26"
             ],
             [
              1,
              "#f0f921"
             ]
            ],
            "type": "heatmapgl"
           }
          ],
          "histogram": [
           {
            "marker": {
             "pattern": {
              "fillmode": "overlay",
              "size": 10,
              "solidity": 0.2
             }
            },
            "type": "histogram"
           }
          ],
          "histogram2d": [
           {
            "colorbar": {
             "outlinewidth": 0,
             "ticks": ""
            },
            "colorscale": [
             [
              0,
              "#0d0887"
             ],
             [
              0.1111111111111111,
              "#46039f"
             ],
             [
              0.2222222222222222,
              "#7201a8"
             ],
             [
              0.3333333333333333,
              "#9c179e"
             ],
             [
              0.4444444444444444,
              "#bd3786"
             ],
             [
              0.5555555555555556,
              "#d8576b"
             ],
             [
              0.6666666666666666,
              "#ed7953"
             ],
             [
              0.7777777777777778,
              "#fb9f3a"
             ],
             [
              0.8888888888888888,
              "#fdca26"
             ],
             [
              1,
              "#f0f921"
             ]
            ],
            "type": "histogram2d"
           }
          ],
          "histogram2dcontour": [
           {
            "colorbar": {
             "outlinewidth": 0,
             "ticks": ""
            },
            "colorscale": [
             [
              0,
              "#0d0887"
             ],
             [
              0.1111111111111111,
              "#46039f"
             ],
             [
              0.2222222222222222,
              "#7201a8"
             ],
             [
              0.3333333333333333,
              "#9c179e"
             ],
             [
              0.4444444444444444,
              "#bd3786"
             ],
             [
              0.5555555555555556,
              "#d8576b"
             ],
             [
              0.6666666666666666,
              "#ed7953"
             ],
             [
              0.7777777777777778,
              "#fb9f3a"
             ],
             [
              0.8888888888888888,
              "#fdca26"
             ],
             [
              1,
              "#f0f921"
             ]
            ],
            "type": "histogram2dcontour"
           }
          ],
          "mesh3d": [
           {
            "colorbar": {
             "outlinewidth": 0,
             "ticks": ""
            },
            "type": "mesh3d"
           }
          ],
          "parcoords": [
           {
            "line": {
             "colorbar": {
              "outlinewidth": 0,
              "ticks": ""
             }
            },
            "type": "parcoords"
           }
          ],
          "pie": [
           {
            "automargin": true,
            "type": "pie"
           }
          ],
          "scatter": [
           {
            "fillpattern": {
             "fillmode": "overlay",
             "size": 10,
             "solidity": 0.2
            },
            "type": "scatter"
           }
          ],
          "scatter3d": [
           {
            "line": {
             "colorbar": {
              "outlinewidth": 0,
              "ticks": ""
             }
            },
            "marker": {
             "colorbar": {
              "outlinewidth": 0,
              "ticks": ""
             }
            },
            "type": "scatter3d"
           }
          ],
          "scattercarpet": [
           {
            "marker": {
             "colorbar": {
              "outlinewidth": 0,
              "ticks": ""
             }
            },
            "type": "scattercarpet"
           }
          ],
          "scattergeo": [
           {
            "marker": {
             "colorbar": {
              "outlinewidth": 0,
              "ticks": ""
             }
            },
            "type": "scattergeo"
           }
          ],
          "scattergl": [
           {
            "marker": {
             "colorbar": {
              "outlinewidth": 0,
              "ticks": ""
             }
            },
            "type": "scattergl"
           }
          ],
          "scattermapbox": [
           {
            "marker": {
             "colorbar": {
              "outlinewidth": 0,
              "ticks": ""
             }
            },
            "type": "scattermapbox"
           }
          ],
          "scatterpolar": [
           {
            "marker": {
             "colorbar": {
              "outlinewidth": 0,
              "ticks": ""
             }
            },
            "type": "scatterpolar"
           }
          ],
          "scatterpolargl": [
           {
            "marker": {
             "colorbar": {
              "outlinewidth": 0,
              "ticks": ""
             }
            },
            "type": "scatterpolargl"
           }
          ],
          "scatterternary": [
           {
            "marker": {
             "colorbar": {
              "outlinewidth": 0,
              "ticks": ""
             }
            },
            "type": "scatterternary"
           }
          ],
          "surface": [
           {
            "colorbar": {
             "outlinewidth": 0,
             "ticks": ""
            },
            "colorscale": [
             [
              0,
              "#0d0887"
             ],
             [
              0.1111111111111111,
              "#46039f"
             ],
             [
              0.2222222222222222,
              "#7201a8"
             ],
             [
              0.3333333333333333,
              "#9c179e"
             ],
             [
              0.4444444444444444,
              "#bd3786"
             ],
             [
              0.5555555555555556,
              "#d8576b"
             ],
             [
              0.6666666666666666,
              "#ed7953"
             ],
             [
              0.7777777777777778,
              "#fb9f3a"
             ],
             [
              0.8888888888888888,
              "#fdca26"
             ],
             [
              1,
              "#f0f921"
             ]
            ],
            "type": "surface"
           }
          ],
          "table": [
           {
            "cells": {
             "fill": {
              "color": "#EBF0F8"
             },
             "line": {
              "color": "white"
             }
            },
            "header": {
             "fill": {
              "color": "#C8D4E3"
             },
             "line": {
              "color": "white"
             }
            },
            "type": "table"
           }
          ]
         },
         "layout": {
          "annotationdefaults": {
           "arrowcolor": "#2a3f5f",
           "arrowhead": 0,
           "arrowwidth": 1
          },
          "autotypenumbers": "strict",
          "coloraxis": {
           "colorbar": {
            "outlinewidth": 0,
            "ticks": ""
           }
          },
          "colorscale": {
           "diverging": [
            [
             0,
             "#8e0152"
            ],
            [
             0.1,
             "#c51b7d"
            ],
            [
             0.2,
             "#de77ae"
            ],
            [
             0.3,
             "#f1b6da"
            ],
            [
             0.4,
             "#fde0ef"
            ],
            [
             0.5,
             "#f7f7f7"
            ],
            [
             0.6,
             "#e6f5d0"
            ],
            [
             0.7,
             "#b8e186"
            ],
            [
             0.8,
             "#7fbc41"
            ],
            [
             0.9,
             "#4d9221"
            ],
            [
             1,
             "#276419"
            ]
           ],
           "sequential": [
            [
             0,
             "#0d0887"
            ],
            [
             0.1111111111111111,
             "#46039f"
            ],
            [
             0.2222222222222222,
             "#7201a8"
            ],
            [
             0.3333333333333333,
             "#9c179e"
            ],
            [
             0.4444444444444444,
             "#bd3786"
            ],
            [
             0.5555555555555556,
             "#d8576b"
            ],
            [
             0.6666666666666666,
             "#ed7953"
            ],
            [
             0.7777777777777778,
             "#fb9f3a"
            ],
            [
             0.8888888888888888,
             "#fdca26"
            ],
            [
             1,
             "#f0f921"
            ]
           ],
           "sequentialminus": [
            [
             0,
             "#0d0887"
            ],
            [
             0.1111111111111111,
             "#46039f"
            ],
            [
             0.2222222222222222,
             "#7201a8"
            ],
            [
             0.3333333333333333,
             "#9c179e"
            ],
            [
             0.4444444444444444,
             "#bd3786"
            ],
            [
             0.5555555555555556,
             "#d8576b"
            ],
            [
             0.6666666666666666,
             "#ed7953"
            ],
            [
             0.7777777777777778,
             "#fb9f3a"
            ],
            [
             0.8888888888888888,
             "#fdca26"
            ],
            [
             1,
             "#f0f921"
            ]
           ]
          },
          "colorway": [
           "#636efa",
           "#EF553B",
           "#00cc96",
           "#ab63fa",
           "#FFA15A",
           "#19d3f3",
           "#FF6692",
           "#B6E880",
           "#FF97FF",
           "#FECB52"
          ],
          "font": {
           "color": "#2a3f5f"
          },
          "geo": {
           "bgcolor": "white",
           "lakecolor": "white",
           "landcolor": "#E5ECF6",
           "showlakes": true,
           "showland": true,
           "subunitcolor": "white"
          },
          "hoverlabel": {
           "align": "left"
          },
          "hovermode": "closest",
          "mapbox": {
           "style": "light"
          },
          "paper_bgcolor": "white",
          "plot_bgcolor": "#E5ECF6",
          "polar": {
           "angularaxis": {
            "gridcolor": "white",
            "linecolor": "white",
            "ticks": ""
           },
           "bgcolor": "#E5ECF6",
           "radialaxis": {
            "gridcolor": "white",
            "linecolor": "white",
            "ticks": ""
           }
          },
          "scene": {
           "xaxis": {
            "backgroundcolor": "#E5ECF6",
            "gridcolor": "white",
            "gridwidth": 2,
            "linecolor": "white",
            "showbackground": true,
            "ticks": "",
            "zerolinecolor": "white"
           },
           "yaxis": {
            "backgroundcolor": "#E5ECF6",
            "gridcolor": "white",
            "gridwidth": 2,
            "linecolor": "white",
            "showbackground": true,
            "ticks": "",
            "zerolinecolor": "white"
           },
           "zaxis": {
            "backgroundcolor": "#E5ECF6",
            "gridcolor": "white",
            "gridwidth": 2,
            "linecolor": "white",
            "showbackground": true,
            "ticks": "",
            "zerolinecolor": "white"
           }
          },
          "shapedefaults": {
           "line": {
            "color": "#2a3f5f"
           }
          },
          "ternary": {
           "aaxis": {
            "gridcolor": "white",
            "linecolor": "white",
            "ticks": ""
           },
           "baxis": {
            "gridcolor": "white",
            "linecolor": "white",
            "ticks": ""
           },
           "bgcolor": "#E5ECF6",
           "caxis": {
            "gridcolor": "white",
            "linecolor": "white",
            "ticks": ""
           }
          },
          "title": {
           "x": 0.05
          },
          "xaxis": {
           "automargin": true,
           "gridcolor": "white",
           "linecolor": "white",
           "ticks": "",
           "title": {
            "standoff": 15
           },
           "zerolinecolor": "white",
           "zerolinewidth": 2
          },
          "yaxis": {
           "automargin": true,
           "gridcolor": "white",
           "linecolor": "white",
           "ticks": "",
           "title": {
            "standoff": 15
           },
           "zerolinecolor": "white",
           "zerolinewidth": 2
          }
         }
        },
        "title": {
         "text": "fuck"
        },
        "xaxis": {
         "anchor": "y",
         "autorange": true,
         "domain": [
          0,
          1
         ],
         "range": [
          -0.5,
          199
         ],
         "title": {
          "text": "x"
         },
         "type": "category"
        },
        "yaxis": {
         "anchor": "x",
         "autorange": true,
         "domain": [
          0,
          1
         ],
         "range": [
          -5.5,
          104.5
         ],
         "title": {
          "text": "y"
         },
         "type": "linear"
        }
       }
      },
      "image/png": "[encoded data removed]",
      "text/html": [
       "<div>                            <div id=\"8b8ba8e3-dd97-4a11-b589-39ef32b8d6e2\" class=\"plotly-graph-div\" style=\"height:525px; width:100%;\"></div>            <script type=\"text/javascript\">                require([\"plotly\"], function(Plotly) {                    window.PLOTLYENV=window.PLOTLYENV || {};                                    if (document.getElementById(\"8b8ba8e3-dd97-4a11-b589-39ef32b8d6e2\")) {                    Plotly.newPlot(                        \"8b8ba8e3-dd97-4a11-b589-39ef32b8d6e2\",                        [{\"alignmentgroup\":\"True\",\"hovertemplate\":\"x=%{x}<br>y=%{y}<extra></extra>\",\"legendgroup\":\"\",\"marker\":{\"color\":\"#636efa\",\"pattern\":{\"shape\":\"\"}},\"name\":\"\",\"offsetgroup\":\"\",\"orientation\":\"v\",\"showlegend\":false,\"textposition\":\"auto\",\"x\":[\"node 0\",\"node 1\",\"node 2\",\"node 3\",\"node 4\",\"node 5\",\"node 6\",\"node 7\",\"node 8\",\"node 9\",\"node 10\",\"node 11\",\"node 12\",\"node 13\",\"node 14\",\"node 15\",\"node 16\",\"node 17\",\"node 18\",\"node 19\",\"node 20\",\"node 21\",\"node 22\",\"node 23\",\"node 24\",\"node 25\",\"node 26\",\"node 27\",\"node 28\",\"node 29\",\"node 30\",\"node 31\",\"node 32\",\"node 33\",\"node 34\",\"node 35\",\"node 36\",\"node 37\",\"node 38\",\"node 39\",\"node 40\",\"node 41\",\"node 42\",\"node 43\",\"node 44\",\"node 45\",\"node 46\",\"node 47\",\"node 48\",\"node 49\",\"node 50\",\"node 51\",\"node 52\",\"node 53\",\"node 54\",\"node 55\",\"node 56\",\"node 57\",\"node 58\",\"node 59\",\"node 60\",\"node 61\",\"node 62\",\"node 63\",\"node 64\",\"node 65\",\"node 66\",\"node 67\",\"node 68\",\"node 69\",\"node 70\",\"node 71\",\"node 72\",\"node 73\",\"node 74\",\"node 75\",\"node 76\",\"node 77\",\"node 78\",\"node 79\",\"node 80\",\"node 81\",\"node 82\",\"node 83\",\"node 84\",\"node 85\",\"node 86\",\"node 87\",\"node 88\",\"node 89\",\"node 90\",\"node 91\",\"node 92\",\"node 93\",\"node 94\",\"node 95\",\"node 96\",\"node 97\",\"node 98\",\"node 99\"],\"xaxis\":\"x\",\"y\":[0,1,2,3,4,5,6,7,8,9,10,11,12,13,14,15,16,17,18,19,20,21,22,23,24,25,26,27,28,29,30,31,32,33,34,35,36,37,38,39,40,41,42,43,44,45,46,47,48,49,50,51,52,53,54,55,56,57,58,59,60,61,62,63,64,65,66,67,68,69,70,71,72,73,74,75,76,77,78,79,80,81,82,83,84,85,86,87,88,89,90,91,92,93,94,95,96,97,98,99],\"yaxis\":\"y\",\"type\":\"bar\"},{\"y\":[3,4,5,6,7,8,9,0,1,2,3,4,5,6,7,8,9,0,1,2,3,4,5,6,7,8,9,0,1,2,3,4,5,6,7,8,9,0,1,2,3,4,5,6,7,8,9,0,1,2,3,4,5,6,7,8,9,0,1,2,3,4,5,6,7,8,9,0,1,2,3,4,5,6,7,8,9,0,1,2,3,4,5,6,7,8,9,0,1,2,3,4,5,6,7,8,9,0,1,2],\"type\":\"scatter\"}],                        {\"template\":{\"data\":{\"histogram2dcontour\":[{\"type\":\"histogram2dcontour\",\"colorbar\":{\"outlinewidth\":0,\"ticks\":\"\"},\"colorscale\":[[0.0,\"#0d0887\"],[0.1111111111111111,\"#46039f\"],[0.2222222222222222,\"#7201a8\"],[0.3333333333333333,\"#9c179e\"],[0.4444444444444444,\"#bd3786\"],[0.5555555555555556,\"#d8576b\"],[0.6666666666666666,\"#ed7953\"],[0.7777777777777778,\"#fb9f3a\"],[0.8888888888888888,\"#fdca26\"],[1.0,\"#f0f921\"]]}],\"choropleth\":[{\"type\":\"choropleth\",\"colorbar\":{\"outlinewidth\":0,\"ticks\":\"\"}}],\"histogram2d\":[{\"type\":\"histogram2d\",\"colorbar\":{\"outlinewidth\":0,\"ticks\":\"\"},\"colorscale\":[[0.0,\"#0d0887\"],[0.1111111111111111,\"#46039f\"],[0.2222222222222222,\"#7201a8\"],[0.3333333333333333,\"#9c179e\"],[0.4444444444444444,\"#bd3786\"],[0.5555555555555556,\"#d8576b\"],[0.6666666666666666,\"#ed7953\"],[0.7777777777777778,\"#fb9f3a\"],[0.8888888888888888,\"#fdca26\"],[1.0,\"#f0f921\"]]}],\"heatmap\":[{\"type\":\"heatmap\",\"colorbar\":{\"outlinewidth\":0,\"ticks\":\"\"},\"colorscale\":[[0.0,\"#0d0887\"],[0.1111111111111111,\"#46039f\"],[0.2222222222222222,\"#7201a8\"],[0.3333333333333333,\"#9c179e\"],[0.4444444444444444,\"#bd3786\"],[0.5555555555555556,\"#d8576b\"],[0.6666666666666666,\"#ed7953\"],[0.7777777777777778,\"#fb9f3a\"],[0.8888888888888888,\"#fdca26\"],[1.0,\"#f0f921\"]]}],\"heatmapgl\":[{\"type\":\"heatmapgl\",\"colorbar\":{\"outlinewidth\":0,\"ticks\":\"\"},\"colorscale\":[[0.0,\"#0d0887\"],[0.1111111111111111,\"#46039f\"],[0.2222222222222222,\"#7201a8\"],[0.3333333333333333,\"#9c179e\"],[0.4444444444444444,\"#bd3786\"],[0.5555555555555556,\"#d8576b\"],[0.6666666666666666,\"#ed7953\"],[0.7777777777777778,\"#fb9f3a\"],[0.8888888888888888,\"#fdca26\"],[1.0,\"#f0f921\"]]}],\"contourcarpet\":[{\"type\":\"contourcarpet\",\"colorbar\":{\"outlinewidth\":0,\"ticks\":\"\"}}],\"contour\":[{\"type\":\"contour\",\"colorbar\":{\"outlinewidth\":0,\"ticks\":\"\"},\"colorscale\":[[0.0,\"#0d0887\"],[0.1111111111111111,\"#46039f\"],[0.2222222222222222,\"#7201a8\"],[0.3333333333333333,\"#9c179e\"],[0.4444444444444444,\"#bd3786\"],[0.5555555555555556,\"#d8576b\"],[0.6666666666666666,\"#ed7953\"],[0.7777777777777778,\"#fb9f3a\"],[0.8888888888888888,\"#fdca26\"],[1.0,\"#f0f921\"]]}],\"surface\":[{\"type\":\"surface\",\"colorbar\":{\"outlinewidth\":0,\"ticks\":\"\"},\"colorscale\":[[0.0,\"#0d0887\"],[0.1111111111111111,\"#46039f\"],[0.2222222222222222,\"#7201a8\"],[0.3333333333333333,\"#9c179e\"],[0.4444444444444444,\"#bd3786\"],[0.5555555555555556,\"#d8576b\"],[0.6666666666666666,\"#ed7953\"],[0.7777777777777778,\"#fb9f3a\"],[0.8888888888888888,\"#fdca26\"],[1.0,\"#f0f921\"]]}],\"mesh3d\":[{\"type\":\"mesh3d\",\"colorbar\":{\"outlinewidth\":0,\"ticks\":\"\"}}],\"scatter\":[{\"fillpattern\":{\"fillmode\":\"overlay\",\"size\":10,\"solidity\":0.2},\"type\":\"scatter\"}],\"parcoords\":[{\"type\":\"parcoords\",\"line\":{\"colorbar\":{\"outlinewidth\":0,\"ticks\":\"\"}}}],\"scatterpolargl\":[{\"type\":\"scatterpolargl\",\"marker\":{\"colorbar\":{\"outlinewidth\":0,\"ticks\":\"\"}}}],\"bar\":[{\"error_x\":{\"color\":\"#2a3f5f\"},\"error_y\":{\"color\":\"#2a3f5f\"},\"marker\":{\"line\":{\"color\":\"#E5ECF6\",\"width\":0.5},\"pattern\":{\"fillmode\":\"overlay\",\"size\":10,\"solidity\":0.2}},\"type\":\"bar\"}],\"scattergeo\":[{\"type\":\"scattergeo\",\"marker\":{\"colorbar\":{\"outlinewidth\":0,\"ticks\":\"\"}}}],\"scatterpolar\":[{\"type\":\"scatterpolar\",\"marker\":{\"colorbar\":{\"outlinewidth\":0,\"ticks\":\"\"}}}],\"histogram\":[{\"marker\":{\"pattern\":{\"fillmode\":\"overlay\",\"size\":10,\"solidity\":0.2}},\"type\":\"histogram\"}],\"scattergl\":[{\"type\":\"scattergl\",\"marker\":{\"colorbar\":{\"outlinewidth\":0,\"ticks\":\"\"}}}],\"scatter3d\":[{\"type\":\"scatter3d\",\"line\":{\"colorbar\":{\"outlinewidth\":0,\"ticks\":\"\"}},\"marker\":{\"colorbar\":{\"outlinewidth\":0,\"ticks\":\"\"}}}],\"scattermapbox\":[{\"type\":\"scattermapbox\",\"marker\":{\"colorbar\":{\"outlinewidth\":0,\"ticks\":\"\"}}}],\"scatterternary\":[{\"type\":\"scatterternary\",\"marker\":{\"colorbar\":{\"outlinewidth\":0,\"ticks\":\"\"}}}],\"scattercarpet\":[{\"type\":\"scattercarpet\",\"marker\":{\"colorbar\":{\"outlinewidth\":0,\"ticks\":\"\"}}}],\"carpet\":[{\"aaxis\":{\"endlinecolor\":\"#2a3f5f\",\"gridcolor\":\"white\",\"linecolor\":\"white\",\"minorgridcolor\":\"white\",\"startlinecolor\":\"#2a3f5f\"},\"baxis\":{\"endlinecolor\":\"#2a3f5f\",\"gridcolor\":\"white\",\"linecolor\":\"white\",\"minorgridcolor\":\"white\",\"startlinecolor\":\"#2a3f5f\"},\"type\":\"carpet\"}],\"table\":[{\"cells\":{\"fill\":{\"color\":\"#EBF0F8\"},\"line\":{\"color\":\"white\"}},\"header\":{\"fill\":{\"color\":\"#C8D4E3\"},\"line\":{\"color\":\"white\"}},\"type\":\"table\"}],\"barpolar\":[{\"marker\":{\"line\":{\"color\":\"#E5ECF6\",\"width\":0.5},\"pattern\":{\"fillmode\":\"overlay\",\"size\":10,\"solidity\":0.2}},\"type\":\"barpolar\"}],\"pie\":[{\"automargin\":true,\"type\":\"pie\"}]},\"layout\":{\"autotypenumbers\":\"strict\",\"colorway\":[\"#636efa\",\"#EF553B\",\"#00cc96\",\"#ab63fa\",\"#FFA15A\",\"#19d3f3\",\"#FF6692\",\"#B6E880\",\"#FF97FF\",\"#FECB52\"],\"font\":{\"color\":\"#2a3f5f\"},\"hovermode\":\"closest\",\"hoverlabel\":{\"align\":\"left\"},\"paper_bgcolor\":\"white\",\"plot_bgcolor\":\"#E5ECF6\",\"polar\":{\"bgcolor\":\"#E5ECF6\",\"angularaxis\":{\"gridcolor\":\"white\",\"linecolor\":\"white\",\"ticks\":\"\"},\"radialaxis\":{\"gridcolor\":\"white\",\"linecolor\":\"white\",\"ticks\":\"\"}},\"ternary\":{\"bgcolor\":\"#E5ECF6\",\"aaxis\":{\"gridcolor\":\"white\",\"linecolor\":\"white\",\"ticks\":\"\"},\"baxis\":{\"gridcolor\":\"white\",\"linecolor\":\"white\",\"ticks\":\"\"},\"caxis\":{\"gridcolor\":\"white\",\"linecolor\":\"white\",\"ticks\":\"\"}},\"coloraxis\":{\"colorbar\":{\"outlinewidth\":0,\"ticks\":\"\"}},\"colorscale\":{\"sequential\":[[0.0,\"#0d0887\"],[0.1111111111111111,\"#46039f\"],[0.2222222222222222,\"#7201a8\"],[0.3333333333333333,\"#9c179e\"],[0.4444444444444444,\"#bd3786\"],[0.5555555555555556,\"#d8576b\"],[0.6666666666666666,\"#ed7953\"],[0.7777777777777778,\"#fb9f3a\"],[0.8888888888888888,\"#fdca26\"],[1.0,\"#f0f921\"]],\"sequentialminus\":[[0.0,\"#0d0887\"],[0.1111111111111111,\"#46039f\"],[0.2222222222222222,\"#7201a8\"],[0.3333333333333333,\"#9c179e\"],[0.4444444444444444,\"#bd3786\"],[0.5555555555555556,\"#d8576b\"],[0.6666666666666666,\"#ed7953\"],[0.7777777777777778,\"#fb9f3a\"],[0.8888888888888888,\"#fdca26\"],[1.0,\"#f0f921\"]],\"diverging\":[[0,\"#8e0152\"],[0.1,\"#c51b7d\"],[0.2,\"#de77ae\"],[0.3,\"#f1b6da\"],[0.4,\"#fde0ef\"],[0.5,\"#f7f7f7\"],[0.6,\"#e6f5d0\"],[0.7,\"#b8e186\"],[0.8,\"#7fbc41\"],[0.9,\"#4d9221\"],[1,\"#276419\"]]},\"xaxis\":{\"gridcolor\":\"white\",\"linecolor\":\"white\",\"ticks\":\"\",\"title\":{\"standoff\":15},\"zerolinecolor\":\"white\",\"automargin\":true,\"zerolinewidth\":2},\"yaxis\":{\"gridcolor\":\"white\",\"linecolor\":\"white\",\"ticks\":\"\",\"title\":{\"standoff\":15},\"zerolinecolor\":\"white\",\"automargin\":true,\"zerolinewidth\":2},\"scene\":{\"xaxis\":{\"backgroundcolor\":\"#E5ECF6\",\"gridcolor\":\"white\",\"linecolor\":\"white\",\"showbackground\":true,\"ticks\":\"\",\"zerolinecolor\":\"white\",\"gridwidth\":2},\"yaxis\":{\"backgroundcolor\":\"#E5ECF6\",\"gridcolor\":\"white\",\"linecolor\":\"white\",\"showbackground\":true,\"ticks\":\"\",\"zerolinecolor\":\"white\",\"gridwidth\":2},\"zaxis\":{\"backgroundcolor\":\"#E5ECF6\",\"gridcolor\":\"white\",\"linecolor\":\"white\",\"showbackground\":true,\"ticks\":\"\",\"zerolinecolor\":\"white\",\"gridwidth\":2}},\"shapedefaults\":{\"line\":{\"color\":\"#2a3f5f\"}},\"annotationdefaults\":{\"arrowcolor\":\"#2a3f5f\",\"arrowhead\":0,\"arrowwidth\":1},\"geo\":{\"bgcolor\":\"white\",\"landcolor\":\"#E5ECF6\",\"subunitcolor\":\"white\",\"showland\":true,\"showlakes\":true,\"lakecolor\":\"white\"},\"title\":{\"x\":0.05},\"mapbox\":{\"style\":\"light\"}}},\"xaxis\":{\"anchor\":\"y\",\"domain\":[0.0,1.0],\"title\":{\"text\":\"x\"}},\"yaxis\":{\"anchor\":\"x\",\"domain\":[0.0,1.0],\"title\":{\"text\":\"y\"}},\"legend\":{\"tracegroupgap\":0},\"margin\":{\"t\":60},\"barmode\":\"relative\",\"title\":{\"text\":\"fuck\"}},                        {\"responsive\": true}                    ).then(function(){\n",
       "                            \n",
       "var gd = document.getElementById('8b8ba8e3-dd97-4a11-b589-39ef32b8d6e2');\n",
       "var x = new MutationObserver(function (mutations, observer) {{\n",
       "        var display = window.getComputedStyle(gd).display;\n",
       "        if (!display || display === 'none') {{\n",
       "            console.log([gd, 'removed!']);\n",
       "            Plotly.purge(gd);\n",
       "            observer.disconnect();\n",
       "        }}\n",
       "}});\n",
       "\n",
       "// Listen for the removal of the full notebook cells\n",
       "var notebookContainer = gd.closest('#notebook-container');\n",
       "if (notebookContainer) {{\n",
       "    x.observe(notebookContainer, {childList: true});\n",
       "}}\n",
       "\n",
       "// Listen for the clearing of the current output cell\n",
       "var outputEl = gd.closest('.output');\n",
       "if (outputEl) {{\n",
       "    x.observe(outputEl, {childList: true});\n",
       "}}\n",
       "\n",
       "                        })                };                });            </script>        </div>"
      ]
     },
     "metadata": {},
     "output_type": "display_data"
    },
    {
     "data": {
      "application/vnd.plotly.v1+json": {
       "config": {
        "plotlyServerURL": "https://plot.ly"
       },
       "data": [
        {
         "histnorm": "probability density",
         "legendgroup": "Group 1",
         "marker": {
          "color": "rgb(31, 119, 180)"
         },
         "name": "Group 1",
         "opacity": 0.7,
         "type": "histogram",
         "x": [
          0,
          1,
          2,
          3,
          4,
          5,
          6,
          7,
          8,
          9,
          10,
          11,
          12,
          13,
          14,
          15,
          16,
          17,
          18,
          19,
          20,
          21,
          22,
          23,
          24,
          25,
          26,
          27,
          28,
          29,
          30,
          31,
          32,
          33,
          34,
          35,
          36,
          37,
          38,
          39,
          40,
          41,
          42,
          43,
          44,
          45,
          46,
          47,
          48,
          49,
          50,
          51,
          52,
          53,
          54,
          55,
          56,
          57,
          58,
          59,
          60,
          61,
          62,
          63,
          64,
          65,
          66,
          67,
          68,
          69,
          70,
          71,
          72,
          73,
          74,
          75,
          76,
          77,
          78,
          79,
          80,
          81,
          82,
          83,
          84,
          85,
          86,
          87,
          88,
          89,
          90,
          91,
          92,
          93,
          94,
          95,
          96,
          97,
          98,
          99
         ],
         "xaxis": "x",
         "xbins": {
          "end": 99,
          "size": 1,
          "start": 0
         },
         "yaxis": "y"
        },
        {
         "legendgroup": "Group 1",
         "marker": {
          "color": "rgb(31, 119, 180)"
         },
         "mode": "lines",
         "name": "Group 1",
         "showlegend": false,
         "type": "scatter",
         "x": [
          0,
          0.198,
          0.396,
          0.594,
          0.792,
          0.99,
          1.188,
          1.386,
          1.584,
          1.782,
          1.98,
          2.178,
          2.376,
          2.574,
          2.772,
          2.97,
          3.168,
          3.366,
          3.564,
          3.762,
          3.96,
          4.158,
          4.356,
          4.554,
          4.752,
          4.95,
          5.148,
          5.346,
          5.544,
          5.742,
          5.94,
          6.138,
          6.336,
          6.534,
          6.732,
          6.93,
          7.128,
          7.326,
          7.524,
          7.722,
          7.92,
          8.118,
          8.316,
          8.514,
          8.712,
          8.91,
          9.108,
          9.306,
          9.504,
          9.702,
          9.9,
          10.098,
          10.296,
          10.494,
          10.692,
          10.89,
          11.088,
          11.286,
          11.484,
          11.682,
          11.88,
          12.078,
          12.276,
          12.474,
          12.672,
          12.87,
          13.068,
          13.266,
          13.464,
          13.662,
          13.86,
          14.058,
          14.256,
          14.454,
          14.652,
          14.85,
          15.048,
          15.246,
          15.444,
          15.642,
          15.84,
          16.038,
          16.236,
          16.434,
          16.632,
          16.83,
          17.028,
          17.226,
          17.424,
          17.622,
          17.82,
          18.018,
          18.216,
          18.414,
          18.612,
          18.81,
          19.008,
          19.206,
          19.404,
          19.602,
          19.8,
          19.998,
          20.196,
          20.394,
          20.592,
          20.79,
          20.988,
          21.186,
          21.384,
          21.582,
          21.78,
          21.978,
          22.176,
          22.374,
          22.572,
          22.77,
          22.968,
          23.166,
          23.364,
          23.562,
          23.76,
          23.958,
          24.156,
          24.354,
          24.552,
          24.75,
          24.948,
          25.146,
          25.344,
          25.542,
          25.74,
          25.938,
          26.136,
          26.334,
          26.532,
          26.73,
          26.928,
          27.126,
          27.324,
          27.522,
          27.72,
          27.918,
          28.116,
          28.314,
          28.512,
          28.71,
          28.908,
          29.106,
          29.304,
          29.502,
          29.7,
          29.898,
          30.096,
          30.294,
          30.492,
          30.69,
          30.888,
          31.086,
          31.284,
          31.482,
          31.68,
          31.878,
          32.076,
          32.274,
          32.472,
          32.67,
          32.868,
          33.066,
          33.264,
          33.462,
          33.66,
          33.858,
          34.056,
          34.254,
          34.452,
          34.65,
          34.848,
          35.046,
          35.244,
          35.442,
          35.64,
          35.838,
          36.036,
          36.234,
          36.432,
          36.63,
          36.828,
          37.026,
          37.224,
          37.422,
          37.62,
          37.818,
          38.016,
          38.214,
          38.412,
          38.61,
          38.808,
          39.006,
          39.204,
          39.402,
          39.6,
          39.798,
          39.996,
          40.194,
          40.392,
          40.59,
          40.788,
          40.986,
          41.184,
          41.382,
          41.58,
          41.778,
          41.976,
          42.174,
          42.372,
          42.57,
          42.768,
          42.966,
          43.164,
          43.362,
          43.56,
          43.758,
          43.956,
          44.154,
          44.352,
          44.55,
          44.748,
          44.946,
          45.144,
          45.342,
          45.54,
          45.738,
          45.936,
          46.134,
          46.332,
          46.53,
          46.728,
          46.926,
          47.124,
          47.322,
          47.52,
          47.718,
          47.916,
          48.114,
          48.312,
          48.51,
          48.708,
          48.906,
          49.104,
          49.302,
          49.5,
          49.698,
          49.896,
          50.094,
          50.292,
          50.49,
          50.688,
          50.886,
          51.084,
          51.282,
          51.48,
          51.678,
          51.876,
          52.074,
          52.272,
          52.47,
          52.668,
          52.866,
          53.064,
          53.262,
          53.46,
          53.658,
          53.856,
          54.054,
          54.252,
          54.45,
          54.648,
          54.846,
          55.044,
          55.242,
          55.44,
          55.638,
          55.836,
          56.034,
          56.232,
          56.43,
          56.628,
          56.826,
          57.024,
          57.222,
          57.42,
          57.618,
          57.816,
          58.014,
          58.212,
          58.41,
          58.608,
          58.806,
          59.004,
          59.202,
          59.4,
          59.598,
          59.796,
          59.994,
          60.192,
          60.39,
          60.588,
          60.786,
          60.984,
          61.182,
          61.38,
          61.578,
          61.776,
          61.974,
          62.172,
          62.37,
          62.568,
          62.766,
          62.964,
          63.162,
          63.36,
          63.558,
          63.756,
          63.954,
          64.152,
          64.35,
          64.548,
          64.746,
          64.944,
          65.142,
          65.34,
          65.538,
          65.736,
          65.934,
          66.132,
          66.33,
          66.528,
          66.726,
          66.924,
          67.122,
          67.32,
          67.518,
          67.716,
          67.914,
          68.112,
          68.31,
          68.508,
          68.706,
          68.904,
          69.102,
          69.3,
          69.498,
          69.696,
          69.894,
          70.092,
          70.29,
          70.488,
          70.686,
          70.884,
          71.082,
          71.28,
          71.478,
          71.676,
          71.874,
          72.072,
          72.27,
          72.468,
          72.666,
          72.864,
          73.062,
          73.26,
          73.458,
          73.656,
          73.854,
          74.052,
          74.25,
          74.448,
          74.646,
          74.844,
          75.042,
          75.24,
          75.438,
          75.636,
          75.834,
          76.032,
          76.23,
          76.428,
          76.626,
          76.824,
          77.022,
          77.22,
          77.418,
          77.616,
          77.814,
          78.012,
          78.21,
          78.408,
          78.606,
          78.804,
          79.002,
          79.2,
          79.398,
          79.596,
          79.794,
          79.992,
          80.19,
          80.388,
          80.586,
          80.784,
          80.982,
          81.18,
          81.378,
          81.576,
          81.774,
          81.972,
          82.17,
          82.368,
          82.566,
          82.764,
          82.962,
          83.16,
          83.358,
          83.556,
          83.754,
          83.952,
          84.15,
          84.348,
          84.546,
          84.744,
          84.942,
          85.14,
          85.338,
          85.536,
          85.734,
          85.932,
          86.13,
          86.328,
          86.526,
          86.724,
          86.922,
          87.12,
          87.318,
          87.516,
          87.714,
          87.912,
          88.11,
          88.308,
          88.506,
          88.704,
          88.902,
          89.1,
          89.298,
          89.496,
          89.694,
          89.892,
          90.09,
          90.288,
          90.486,
          90.684,
          90.882,
          91.08,
          91.278,
          91.476,
          91.674,
          91.872,
          92.07,
          92.268,
          92.466,
          92.664,
          92.862,
          93.06,
          93.258,
          93.456,
          93.654,
          93.852,
          94.05,
          94.248,
          94.446,
          94.644,
          94.842,
          95.04,
          95.238,
          95.436,
          95.634,
          95.832,
          96.03,
          96.228,
          96.426,
          96.624,
          96.822,
          97.02,
          97.218,
          97.416,
          97.614,
          97.812,
          98.01,
          98.208,
          98.406,
          98.604,
          98.802
         ],
         "xaxis": "x",
         "y": [
          0.00517270702622411,
          0.005241027546954843,
          0.005309277278418846,
          0.005377436247490255,
          0.0054454845609423295,
          0.005513402422863513,
          0.005581170151930918,
          0.005648768198515999,
          0.005716177161597776,
          0.005783377805459133,
          0.005850351076142317,
          0.0059170781176401096,
          0.005983540287799906,
          0.006049719173918199,
          0.006115596608003944,
          0.006181154681689676,
          0.006246375760770035,
          0.006311242499348245,
          0.0063757378535717,
          0.006439845094938591,
          0.006503547823158695,
          0.006566829978551867,
          0.006629675853969009,
          0.006692070106221181,
          0.006753997767003329,
          0.00681544425330025,
          0.006876395377263336,
          0.0069368373555476716,
          0.006996756818100067,
          0.007056140816389699,
          0.007114976831074017,
          0.007173252779093669,
          0.007230957020191288,
          0.007288078362849919,
          0.007344606069648118,
          0.007400529862029557,
          0.007455839924486338,
          0.007510526908155883,
          0.0075645819338326535,
          0.0076179965943967065,
          0.007670762956662196,
          0.007722873562650002,
          0.0077743214302893595,
          0.00782510005355469,
          0.007875203402044312,
          0.00792462592000896,
          0.007973362524838854,
          0.008021408605018494,
          0.008068760017559847,
          0.008115413084924687,
          0.008161364591448091,
          0.00820661177927553,
          0.008251152343826599,
          0.00829498442879948,
          0.008338106620730227,
          0.008380517943121934,
          0.00842221785015937,
          0.008463206220024883,
          0.008503483347831867,
          0.008543049938192828,
          0.008581907097438902,
          0.008620056325508437,
          0.00865749950752219,
          0.008694238905063238,
          0.008730277147179529,
          0.008765617221127668,
          0.00880026246287582,
          0.008834216547384758,
          0.008867483478685035,
          0.008900067579769095,
          0.008931973482316573,
          0.00896320611627122,
          0.008993770699287624,
          0.009023672726065824,
          0.00905291795759173,
          0.009081512410301047,
          0.00910946234518394,
          0.009136774256847988,
          0.009163454862555712,
          0.009189511091253696,
          0.009214950072609123,
          0.00923977912606953,
          0.009264005749961349,
          0.009287637610641702,
          0.009310682531718404,
          0.009333148483351856,
          0.009355043571652368,
          0.00937637602818604,
          0.009397154199601618,
          0.009417386537390243,
          0.009437081587789584,
          0.009456247981843214,
          0.00947489442562551,
          0.009493029690641929,
          0.009510662604413658,
          0.009527802041255563,
          0.009544456913255103,
          0.009560636161460056,
          0.009576348747281695,
          0.009591603644119871,
          0.0096064098292157,
          0.009620776275737193,
          0.009634711945102258,
          0.009648225779543369,
          0.009661326694917387,
          0.009674023573763487,
          0.00968632525861188,
          0.009698240545545071,
          0.009709778178013353,
          0.009720946840905456,
          0.009731755154874797,
          0.00974221167092164,
          0.009752324865230486,
          0.009762103134262077,
          0.009771554790098747,
          0.0097806880560415,
          0.00978951106245675,
          0.009798031842870454,
          0.00980625833030679,
          0.009814198353868485,
          0.009821859635555213,
          0.009829249787316639,
          0.009836376308335974,
          0.009843246582539914,
          0.009849867876330557,
          0.009856247336534518,
          0.009862391988564449,
          0.00986830873478786,
          0.009874004353098015,
          0.009879485495681425,
          0.009884758687976525,
          0.009889830327817716,
          0.009894706684759148,
          0.009899393899572251,
          0.009903897983911163,
          0.009908224820139984,
          0.00991238016131583,
          0.00991636963132172,
          0.009920198725142815,
          0.009923872809280504,
          0.009927397122297558,
          0.009930776775488918,
          0.00993401675367145,
          0.009937121916087132,
          0.009940096997413495,
          0.009942946608875321,
          0.009945675239452102,
          0.009948287257175045,
          0.009950786910508382,
          0.009953178329809177,
          0.009955465528860176,
          0.009957652406470494,
          0.009959742748138614,
          0.00996174022777297,
          0.00996364840946469,
          0.00996547074930791,
          0.00996721059726294,
          0.009968871199057407,
          0.009970455698121277,
          0.009971967137551219,
          0.009973408462100151,
          0.009974782520188094,
          0.009976092065930286,
          0.009977339761179012,
          0.009978528177575373,
          0.0099796597986078,
          0.009980737021673866,
          0.00998176216014235,
          0.009982737445412547,
          0.009983665028968124,
          0.009984546984422568,
          0.009985385309554043,
          0.009986181928326919,
          0.009986938692897976,
          0.0099876573856051,
          0.009988339720936292,
          0.009988987347477576,
          0.009989601849837585,
          0.009990184750547556,
          0.009990737511935204,
          0.009991261537971086,
          0.009991758176086135,
          0.00999222871895947,
          0.00999267440627525,
          0.009993096426447756,
          0.00999349591831388,
          0.009993873972792366,
          0.009994231634509026,
          0.009994569903387596,
          0.009994889736205707,
          0.009995192048115574,
          0.009995477714129182,
          0.00999574757056772,
          0.009996002416475228,
          0.009996243014996175,
          0.00999647009471729,
          0.009996684350973317,
          0.009996886447117156,
          0.00999707701575433,
          0.009997256659942073,
          0.009997425954353286,
          0.009997585446405692,
          0.00999773565735647,
          0.00999787708336283,
          0.009998010196508781,
          0.009998135445798806,
          0.009998253258118582,
          0.009998364039163533,
          0.009998468174335515,
          0.009998566029608255,
          0.009998657952362166,
          0.009998744272188897,
          0.009998825301666448,
          0.00999890133710524,
          0.009998972659265802,
          0.009999039534048659,
          0.009999102213157113,
          0.009999160934733397,
          0.00999921592396879,
          0.00999926739368846,
          0.009999315544911533,
          0.009999360567386881,
          0.009999402640105402,
          0.0099994419317893,
          0.009999478601358854,
          0.009999512798377377,
          0.009999544663474774,
          0.009999574328750432,
          0.009999601918155679,
          0.009999627547856643,
          0.009999651326577685,
          0.00999967335592628,
          0.00999969373069931,
          0.009999712539171705,
          0.009999729863367479,
          0.009999745779313868,
          0.009999760357278672,
          0.009999773661991434,
          0.009999785752848624,
          0.009999796684103238,
          0.00999980650503912,
          0.009999815260130218,
          0.009999822989185163,
          0.009999829727477308,
          0.009999835505860484,
          0.009999840350870683,
          0.00999984428481379,
          0.009999847325839657,
          0.009999849488002383,
          0.00999985078130726,
          0.009999851211744088,
          0.00999985078130726,
          0.009999849488002381,
          0.009999847325839657,
          0.009999844284813797,
          0.009999840350870681,
          0.009999835505860488,
          0.00999982972747731,
          0.009999822989185161,
          0.00999981526013021,
          0.009999806505039118,
          0.009999796684103241,
          0.00999978575284863,
          0.009999773661991439,
          0.009999760357278675,
          0.009999745779313873,
          0.009999729863367477,
          0.009999712539171701,
          0.009999693730699312,
          0.009999673355926275,
          0.009999651326577687,
          0.009999627547856639,
          0.00999960191815569,
          0.009999574328750436,
          0.009999544663474786,
          0.009999512798377375,
          0.009999478601358858,
          0.009999441931789303,
          0.009999402640105404,
          0.009999360567386885,
          0.009999315544911538,
          0.00999926739368846,
          0.009999215923968786,
          0.009999160934733397,
          0.009999102213157116,
          0.009999039534048659,
          0.009998972659265807,
          0.009998901337105248,
          0.00999882530166645,
          0.009998744272188899,
          0.009998657952362162,
          0.009998566029608259,
          0.009998468174335515,
          0.009998364039163534,
          0.00999825325811858,
          0.009998135445798802,
          0.009998010196508781,
          0.00999787708336283,
          0.009997735657356479,
          0.00999758544640569,
          0.009997425954353288,
          0.009997256659942068,
          0.00999707701575433,
          0.009996886447117161,
          0.009996684350973317,
          0.009996470094717292,
          0.00999624301499618,
          0.009996002416475228,
          0.00999574757056772,
          0.009995477714129179,
          0.009995192048115574,
          0.009994889736205707,
          0.00999456990338759,
          0.009994231634509024,
          0.009993873972792368,
          0.009993495918313887,
          0.00999309642644775,
          0.00999267440627525,
          0.009992228718959472,
          0.009991758176086137,
          0.009991261537971089,
          0.009990737511935214,
          0.009990184750547559,
          0.009989601849837583,
          0.00998898734747758,
          0.009988339720936294,
          0.009987657385605088,
          0.009986938692897981,
          0.009986181928326923,
          0.009985385309554052,
          0.009984546984422572,
          0.009983665028968119,
          0.009982737445412546,
          0.00998176216014234,
          0.009980737021673866,
          0.009979659798607803,
          0.00997852817757537,
          0.009977339761179012,
          0.009976092065930283,
          0.009974782520188092,
          0.009973408462100151,
          0.009971967137551224,
          0.00997045569812128,
          0.009968871199057408,
          0.009967210597262938,
          0.009965470749307915,
          0.00996364840946469,
          0.009961740227772973,
          0.009959742748138618,
          0.009957652406470488,
          0.00995546552886018,
          0.009953178329809177,
          0.00995078691050838,
          0.009948287257175045,
          0.009945675239452108,
          0.009942946608875328,
          0.009940096997413495,
          0.009937121916087133,
          0.009934016753671447,
          0.009930776775488924,
          0.009927397122297567,
          0.0099238728092805,
          0.009920198725142826,
          0.009916369631321724,
          0.009912380161315841,
          0.009908224820139982,
          0.009903897983911164,
          0.009899393899572251,
          0.009894706684759147,
          0.00988983032781772,
          0.009884758687976527,
          0.009879485495681423,
          0.00987400435309801,
          0.009868308734787857,
          0.00986239198856444,
          0.009856247336534521,
          0.009849867876330562,
          0.009843246582539919,
          0.009836376308335976,
          0.009829249787316644,
          0.009821859635555217,
          0.009814198353868485,
          0.009806258330306796,
          0.009798031842870451,
          0.009789511062456752,
          0.009780688056041497,
          0.00977155479009875,
          0.009762103134262077,
          0.009752324865230491,
          0.009742211670921642,
          0.009731755154874793,
          0.00972094684090545,
          0.009709778178013355,
          0.009698240545545073,
          0.009686325258611883,
          0.009674023573763483,
          0.009661326694917384,
          0.00964822577954337,
          0.00963471194510226,
          0.009620776275737196,
          0.009606409829215703,
          0.009591603644119864,
          0.009576348747281693,
          0.009560636161460061,
          0.009544456913255102,
          0.009527802041255563,
          0.009510662604413661,
          0.009493029690641926,
          0.00947489442562551,
          0.009456247981843208,
          0.009437081587789579,
          0.009417386537390241,
          0.009397154199601618,
          0.009376376028186037,
          0.009355043571652365,
          0.009333148483351856,
          0.009310682531718408,
          0.0092876376106417,
          0.009264005749961342,
          0.009239779126069528,
          0.009214950072609114,
          0.009189511091253702,
          0.009163454862555716,
          0.009136774256847993,
          0.009109462345183943,
          0.009081512410301036,
          0.009052917957591732,
          0.00902367272606582,
          0.008993770699287624,
          0.008963206116271223,
          0.008931973482316573,
          0.008900067579769097,
          0.008867483478685037,
          0.008834216547384761,
          0.008800262462875826,
          0.008765617221127666,
          0.008730277147179532,
          0.008694238905063234,
          0.008657499507522197,
          0.00862005632550844,
          0.008581907097438904,
          0.008543049938192819,
          0.008503483347831861,
          0.008463206220024878,
          0.008422217850159373,
          0.00838051794312193,
          0.008338106620730222,
          0.008294984428799486,
          0.008251152343826593,
          0.008206611779275516,
          0.008161364591448091,
          0.00811541308492468,
          0.00806876001755985,
          0.0080214086050185,
          0.007973362524838852,
          0.007924625920008956,
          0.0078752034020443,
          0.007825100053554688,
          0.007774321430289364,
          0.007722873562649998,
          0.0076707629566621985,
          0.007617996594396706,
          0.007564581933832656,
          0.007510526908155881,
          0.007455839924486339,
          0.007400529862029559,
          0.0073446060696481155,
          0.007288078362849924,
          0.007230957020191291,
          0.007173252779093672,
          0.007114976831074015,
          0.0070561408163897,
          0.006996756818100065,
          0.00693683735554767,
          0.006876395377263336,
          0.006815444253300253,
          0.006753997767003327,
          0.00669207010622118,
          0.0066296758539690056,
          0.006566829978551864,
          0.006503547823158696,
          0.00643984509493859,
          0.006375737853571692,
          0.006311242499348246,
          0.006246375760770039,
          0.006181154681689676,
          0.0061155966080039485,
          0.006049719173918199,
          0.005983540287799906,
          0.005917078117640108,
          0.005850351076142313,
          0.005783377805459134,
          0.005716177161597775,
          0.005648768198516,
          0.005581170151930921,
          0.0055134024228635095,
          0.005445484560942324,
          0.005377436247490252,
          0.005309277278418845,
          0.005241027546954843
         ],
         "yaxis": "y"
        },
        {
         "legendgroup": "Group 1",
         "marker": {
          "color": "rgb(31, 119, 180)",
          "symbol": "line-ns-open"
         },
         "mode": "markers",
         "name": "Group 1",
         "showlegend": false,
         "type": "scatter",
         "x": [
          0,
          1,
          2,
          3,
          4,
          5,
          6,
          7,
          8,
          9,
          10,
          11,
          12,
          13,
          14,
          15,
          16,
          17,
          18,
          19,
          20,
          21,
          22,
          23,
          24,
          25,
          26,
          27,
          28,
          29,
          30,
          31,
          32,
          33,
          34,
          35,
          36,
          37,
          38,
          39,
          40,
          41,
          42,
          43,
          44,
          45,
          46,
          47,
          48,
          49,
          50,
          51,
          52,
          53,
          54,
          55,
          56,
          57,
          58,
          59,
          60,
          61,
          62,
          63,
          64,
          65,
          66,
          67,
          68,
          69,
          70,
          71,
          72,
          73,
          74,
          75,
          76,
          77,
          78,
          79,
          80,
          81,
          82,
          83,
          84,
          85,
          86,
          87,
          88,
          89,
          90,
          91,
          92,
          93,
          94,
          95,
          96,
          97,
          98,
          99
         ],
         "xaxis": "x",
         "y": [
          "Group 1",
          "Group 1",
          "Group 1",
          "Group 1",
          "Group 1",
          "Group 1",
          "Group 1",
          "Group 1",
          "Group 1",
          "Group 1",
          "Group 1",
          "Group 1",
          "Group 1",
          "Group 1",
          "Group 1",
          "Group 1",
          "Group 1",
          "Group 1",
          "Group 1",
          "Group 1",
          "Group 1",
          "Group 1",
          "Group 1",
          "Group 1",
          "Group 1",
          "Group 1",
          "Group 1",
          "Group 1",
          "Group 1",
          "Group 1",
          "Group 1",
          "Group 1",
          "Group 1",
          "Group 1",
          "Group 1",
          "Group 1",
          "Group 1",
          "Group 1",
          "Group 1",
          "Group 1",
          "Group 1",
          "Group 1",
          "Group 1",
          "Group 1",
          "Group 1",
          "Group 1",
          "Group 1",
          "Group 1",
          "Group 1",
          "Group 1",
          "Group 1",
          "Group 1",
          "Group 1",
          "Group 1",
          "Group 1",
          "Group 1",
          "Group 1",
          "Group 1",
          "Group 1",
          "Group 1",
          "Group 1",
          "Group 1",
          "Group 1",
          "Group 1",
          "Group 1",
          "Group 1",
          "Group 1",
          "Group 1",
          "Group 1",
          "Group 1",
          "Group 1",
          "Group 1",
          "Group 1",
          "Group 1",
          "Group 1",
          "Group 1",
          "Group 1",
          "Group 1",
          "Group 1",
          "Group 1",
          "Group 1",
          "Group 1",
          "Group 1",
          "Group 1",
          "Group 1",
          "Group 1",
          "Group 1",
          "Group 1",
          "Group 1",
          "Group 1",
          "Group 1",
          "Group 1",
          "Group 1",
          "Group 1",
          "Group 1",
          "Group 1",
          "Group 1",
          "Group 1",
          "Group 1",
          "Group 1"
         ],
         "yaxis": "y2"
        }
       ],
       "layout": {
        "autosize": true,
        "barmode": "overlay",
        "hovermode": "closest",
        "legend": {
         "traceorder": "reversed"
        },
        "template": {
         "data": {
          "bar": [
           {
            "error_x": {
             "color": "#2a3f5f"
            },
            "error_y": {
             "color": "#2a3f5f"
            },
            "marker": {
             "line": {
              "color": "#E5ECF6",
              "width": 0.5
             },
             "pattern": {
              "fillmode": "overlay",
              "size": 10,
              "solidity": 0.2
             }
            },
            "type": "bar"
           }
          ],
          "barpolar": [
           {
            "marker": {
             "line": {
              "color": "#E5ECF6",
              "width": 0.5
             },
             "pattern": {
              "fillmode": "overlay",
              "size": 10,
              "solidity": 0.2
             }
            },
            "type": "barpolar"
           }
          ],
          "carpet": [
           {
            "aaxis": {
             "endlinecolor": "#2a3f5f",
             "gridcolor": "white",
             "linecolor": "white",
             "minorgridcolor": "white",
             "startlinecolor": "#2a3f5f"
            },
            "baxis": {
             "endlinecolor": "#2a3f5f",
             "gridcolor": "white",
             "linecolor": "white",
             "minorgridcolor": "white",
             "startlinecolor": "#2a3f5f"
            },
            "type": "carpet"
           }
          ],
          "choropleth": [
           {
            "colorbar": {
             "outlinewidth": 0,
             "ticks": ""
            },
            "type": "choropleth"
           }
          ],
          "contour": [
           {
            "colorbar": {
             "outlinewidth": 0,
             "ticks": ""
            },
            "colorscale": [
             [
              0,
              "#0d0887"
             ],
             [
              0.1111111111111111,
              "#46039f"
             ],
             [
              0.2222222222222222,
              "#7201a8"
             ],
             [
              0.3333333333333333,
              "#9c179e"
             ],
             [
              0.4444444444444444,
              "#bd3786"
             ],
             [
              0.5555555555555556,
              "#d8576b"
             ],
             [
              0.6666666666666666,
              "#ed7953"
             ],
             [
              0.7777777777777778,
              "#fb9f3a"
             ],
             [
              0.8888888888888888,
              "#fdca26"
             ],
             [
              1,
              "#f0f921"
             ]
            ],
            "type": "contour"
           }
          ],
          "contourcarpet": [
           {
            "colorbar": {
             "outlinewidth": 0,
             "ticks": ""
            },
            "type": "contourcarpet"
           }
          ],
          "heatmap": [
           {
            "colorbar": {
             "outlinewidth": 0,
             "ticks": ""
            },
            "colorscale": [
             [
              0,
              "#0d0887"
             ],
             [
              0.1111111111111111,
              "#46039f"
             ],
             [
              0.2222222222222222,
              "#7201a8"
             ],
             [
              0.3333333333333333,
              "#9c179e"
             ],
             [
              0.4444444444444444,
              "#bd3786"
             ],
             [
              0.5555555555555556,
              "#d8576b"
             ],
             [
              0.6666666666666666,
              "#ed7953"
             ],
             [
              0.7777777777777778,
              "#fb9f3a"
             ],
             [
              0.8888888888888888,
              "#fdca26"
             ],
             [
              1,
              "#f0f921"
             ]
            ],
            "type": "heatmap"
           }
          ],
          "heatmapgl": [
           {
            "colorbar": {
             "outlinewidth": 0,
             "ticks": ""
            },
            "colorscale": [
             [
              0,
              "#0d0887"
             ],
             [
              0.1111111111111111,
              "#46039f"
             ],
             [
              0.2222222222222222,
              "#7201a8"
             ],
             [
              0.3333333333333333,
              "#9c179e"
             ],
             [
              0.4444444444444444,
              "#bd3786"
             ],
             [
              0.5555555555555556,
              "#d8576b"
             ],
             [
              0.6666666666666666,
              "#ed7953"
             ],
             [
              0.7777777777777778,
              "#fb9f3a"
             ],
             [
              0.8888888888888888,
              "#fdca26"
             ],
             [
              1,
              "#f0f921"
             ]
            ],
            "type": "heatmapgl"
           }
          ],
          "histogram": [
           {
            "marker": {
             "pattern": {
              "fillmode": "overlay",
              "size": 10,
              "solidity": 0.2
             }
            },
            "type": "histogram"
           }
          ],
          "histogram2d": [
           {
            "colorbar": {
             "outlinewidth": 0,
             "ticks": ""
            },
            "colorscale": [
             [
              0,
              "#0d0887"
             ],
             [
              0.1111111111111111,
              "#46039f"
             ],
             [
              0.2222222222222222,
              "#7201a8"
             ],
             [
              0.3333333333333333,
              "#9c179e"
             ],
             [
              0.4444444444444444,
              "#bd3786"
             ],
             [
              0.5555555555555556,
              "#d8576b"
             ],
             [
              0.6666666666666666,
              "#ed7953"
             ],
             [
              0.7777777777777778,
              "#fb9f3a"
             ],
             [
              0.8888888888888888,
              "#fdca26"
             ],
             [
              1,
              "#f0f921"
             ]
            ],
            "type": "histogram2d"
           }
          ],
          "histogram2dcontour": [
           {
            "colorbar": {
             "outlinewidth": 0,
             "ticks": ""
            },
            "colorscale": [
             [
              0,
              "#0d0887"
             ],
             [
              0.1111111111111111,
              "#46039f"
             ],
             [
              0.2222222222222222,
              "#7201a8"
             ],
             [
              0.3333333333333333,
              "#9c179e"
             ],
             [
              0.4444444444444444,
              "#bd3786"
             ],
             [
              0.5555555555555556,
              "#d8576b"
             ],
             [
              0.6666666666666666,
              "#ed7953"
             ],
             [
              0.7777777777777778,
              "#fb9f3a"
             ],
             [
              0.8888888888888888,
              "#fdca26"
             ],
             [
              1,
              "#f0f921"
             ]
            ],
            "type": "histogram2dcontour"
           }
          ],
          "mesh3d": [
           {
            "colorbar": {
             "outlinewidth": 0,
             "ticks": ""
            },
            "type": "mesh3d"
           }
          ],
          "parcoords": [
           {
            "line": {
             "colorbar": {
              "outlinewidth": 0,
              "ticks": ""
             }
            },
            "type": "parcoords"
           }
          ],
          "pie": [
           {
            "automargin": true,
            "type": "pie"
           }
          ],
          "scatter": [
           {
            "fillpattern": {
             "fillmode": "overlay",
             "size": 10,
             "solidity": 0.2
            },
            "type": "scatter"
           }
          ],
          "scatter3d": [
           {
            "line": {
             "colorbar": {
              "outlinewidth": 0,
              "ticks": ""
             }
            },
            "marker": {
             "colorbar": {
              "outlinewidth": 0,
              "ticks": ""
             }
            },
            "type": "scatter3d"
           }
          ],
          "scattercarpet": [
           {
            "marker": {
             "colorbar": {
              "outlinewidth": 0,
              "ticks": ""
             }
            },
            "type": "scattercarpet"
           }
          ],
          "scattergeo": [
           {
            "marker": {
             "colorbar": {
              "outlinewidth": 0,
              "ticks": ""
             }
            },
            "type": "scattergeo"
           }
          ],
          "scattergl": [
           {
            "marker": {
             "colorbar": {
              "outlinewidth": 0,
              "ticks": ""
             }
            },
            "type": "scattergl"
           }
          ],
          "scattermapbox": [
           {
            "marker": {
             "colorbar": {
              "outlinewidth": 0,
              "ticks": ""
             }
            },
            "type": "scattermapbox"
           }
          ],
          "scatterpolar": [
           {
            "marker": {
             "colorbar": {
              "outlinewidth": 0,
              "ticks": ""
             }
            },
            "type": "scatterpolar"
           }
          ],
          "scatterpolargl": [
           {
            "marker": {
             "colorbar": {
              "outlinewidth": 0,
              "ticks": ""
             }
            },
            "type": "scatterpolargl"
           }
          ],
          "scatterternary": [
           {
            "marker": {
             "colorbar": {
              "outlinewidth": 0,
              "ticks": ""
             }
            },
            "type": "scatterternary"
           }
          ],
          "surface": [
           {
            "colorbar": {
             "outlinewidth": 0,
             "ticks": ""
            },
            "colorscale": [
             [
              0,
              "#0d0887"
             ],
             [
              0.1111111111111111,
              "#46039f"
             ],
             [
              0.2222222222222222,
              "#7201a8"
             ],
             [
              0.3333333333333333,
              "#9c179e"
             ],
             [
              0.4444444444444444,
              "#bd3786"
             ],
             [
              0.5555555555555556,
              "#d8576b"
             ],
             [
              0.6666666666666666,
              "#ed7953"
             ],
             [
              0.7777777777777778,
              "#fb9f3a"
             ],
             [
              0.8888888888888888,
              "#fdca26"
             ],
             [
              1,
              "#f0f921"
             ]
            ],
            "type": "surface"
           }
          ],
          "table": [
           {
            "cells": {
             "fill": {
              "color": "#EBF0F8"
             },
             "line": {
              "color": "white"
             }
            },
            "header": {
             "fill": {
              "color": "#C8D4E3"
             },
             "line": {
              "color": "white"
             }
            },
            "type": "table"
           }
          ]
         },
         "layout": {
          "annotationdefaults": {
           "arrowcolor": "#2a3f5f",
           "arrowhead": 0,
           "arrowwidth": 1
          },
          "autotypenumbers": "strict",
          "coloraxis": {
           "colorbar": {
            "outlinewidth": 0,
            "ticks": ""
           }
          },
          "colorscale": {
           "diverging": [
            [
             0,
             "#8e0152"
            ],
            [
             0.1,
             "#c51b7d"
            ],
            [
             0.2,
             "#de77ae"
            ],
            [
             0.3,
             "#f1b6da"
            ],
            [
             0.4,
             "#fde0ef"
            ],
            [
             0.5,
             "#f7f7f7"
            ],
            [
             0.6,
             "#e6f5d0"
            ],
            [
             0.7,
             "#b8e186"
            ],
            [
             0.8,
             "#7fbc41"
            ],
            [
             0.9,
             "#4d9221"
            ],
            [
             1,
             "#276419"
            ]
           ],
           "sequential": [
            [
             0,
             "#0d0887"
            ],
            [
             0.1111111111111111,
             "#46039f"
            ],
            [
             0.2222222222222222,
             "#7201a8"
            ],
            [
             0.3333333333333333,
             "#9c179e"
            ],
            [
             0.4444444444444444,
             "#bd3786"
            ],
            [
             0.5555555555555556,
             "#d8576b"
            ],
            [
             0.6666666666666666,
             "#ed7953"
            ],
            [
             0.7777777777777778,
             "#fb9f3a"
            ],
            [
             0.8888888888888888,
             "#fdca26"
            ],
            [
             1,
             "#f0f921"
            ]
           ],
           "sequentialminus": [
            [
             0,
             "#0d0887"
            ],
            [
             0.1111111111111111,
             "#46039f"
            ],
            [
             0.2222222222222222,
             "#7201a8"
            ],
            [
             0.3333333333333333,
             "#9c179e"
            ],
            [
             0.4444444444444444,
             "#bd3786"
            ],
            [
             0.5555555555555556,
             "#d8576b"
            ],
            [
             0.6666666666666666,
             "#ed7953"
            ],
            [
             0.7777777777777778,
             "#fb9f3a"
            ],
            [
             0.8888888888888888,
             "#fdca26"
            ],
            [
             1,
             "#f0f921"
            ]
           ]
          },
          "colorway": [
           "#636efa",
           "#EF553B",
           "#00cc96",
           "#ab63fa",
           "#FFA15A",
           "#19d3f3",
           "#FF6692",
           "#B6E880",
           "#FF97FF",
           "#FECB52"
          ],
          "font": {
           "color": "#2a3f5f"
          },
          "geo": {
           "bgcolor": "white",
           "lakecolor": "white",
           "landcolor": "#E5ECF6",
           "showlakes": true,
           "showland": true,
           "subunitcolor": "white"
          },
          "hoverlabel": {
           "align": "left"
          },
          "hovermode": "closest",
          "mapbox": {
           "style": "light"
          },
          "paper_bgcolor": "white",
          "plot_bgcolor": "#E5ECF6",
          "polar": {
           "angularaxis": {
            "gridcolor": "white",
            "linecolor": "white",
            "ticks": ""
           },
           "bgcolor": "#E5ECF6",
           "radialaxis": {
            "gridcolor": "white",
            "linecolor": "white",
            "ticks": ""
           }
          },
          "scene": {
           "xaxis": {
            "backgroundcolor": "#E5ECF6",
            "gridcolor": "white",
            "gridwidth": 2,
            "linecolor": "white",
            "showbackground": true,
            "ticks": "",
            "zerolinecolor": "white"
           },
           "yaxis": {
            "backgroundcolor": "#E5ECF6",
            "gridcolor": "white",
            "gridwidth": 2,
            "linecolor": "white",
            "showbackground": true,
            "ticks": "",
            "zerolinecolor": "white"
           },
           "zaxis": {
            "backgroundcolor": "#E5ECF6",
            "gridcolor": "white",
            "gridwidth": 2,
            "linecolor": "white",
            "showbackground": true,
            "ticks": "",
            "zerolinecolor": "white"
           }
          },
          "shapedefaults": {
           "line": {
            "color": "#2a3f5f"
           }
          },
          "ternary": {
           "aaxis": {
            "gridcolor": "white",
            "linecolor": "white",
            "ticks": ""
           },
           "baxis": {
            "gridcolor": "white",
            "linecolor": "white",
            "ticks": ""
           },
           "bgcolor": "#E5ECF6",
           "caxis": {
            "gridcolor": "white",
            "linecolor": "white",
            "ticks": ""
           }
          },
          "title": {
           "x": 0.05
          },
          "xaxis": {
           "automargin": true,
           "gridcolor": "white",
           "linecolor": "white",
           "ticks": "",
           "title": {
            "standoff": 15
           },
           "zerolinecolor": "white",
           "zerolinewidth": 2
          },
          "yaxis": {
           "automargin": true,
           "gridcolor": "white",
           "linecolor": "white",
           "ticks": "",
           "title": {
            "standoff": 15
           },
           "zerolinecolor": "white",
           "zerolinewidth": 2
          }
         }
        },
        "xaxis": {
         "anchor": "y2",
         "autorange": true,
         "domain": [
          0,
          1
         ],
         "range": [
          -6.049121405750799,
          105.0491214057508
         ],
         "type": "linear",
         "zeroline": false
        },
        "yaxis": {
         "anchor": "free",
         "autorange": true,
         "domain": [
          0.35,
          1
         ],
         "position": 0,
         "range": [
          0,
          0.01063264221158958
         ],
         "type": "linear"
        },
        "yaxis2": {
         "anchor": "x",
         "autorange": true,
         "domain": [
          0,
          0.25
         ],
         "dtick": 1,
         "range": [
          -1,
          1
         ],
         "showticklabels": false,
         "type": "category"
        }
       }
      },
      "image/png": "[encoded data removed]",
      "text/html": [
       "<div>                            <div id=\"1d009aac-0eea-49c9-8665-b13f3303ecba\" class=\"plotly-graph-div\" style=\"height:525px; width:100%;\"></div>            <script type=\"text/javascript\">                require([\"plotly\"], function(Plotly) {                    window.PLOTLYENV=window.PLOTLYENV || {};                                    if (document.getElementById(\"1d009aac-0eea-49c9-8665-b13f3303ecba\")) {                    Plotly.newPlot(                        \"1d009aac-0eea-49c9-8665-b13f3303ecba\",                        [{\"autobinx\":false,\"histnorm\":\"probability density\",\"legendgroup\":\"Group 1\",\"marker\":{\"color\":\"rgb(31, 119, 180)\"},\"name\":\"Group 1\",\"opacity\":0.7,\"x\":[0,1,2,3,4,5,6,7,8,9,10,11,12,13,14,15,16,17,18,19,20,21,22,23,24,25,26,27,28,29,30,31,32,33,34,35,36,37,38,39,40,41,42,43,44,45,46,47,48,49,50,51,52,53,54,55,56,57,58,59,60,61,62,63,64,65,66,67,68,69,70,71,72,73,74,75,76,77,78,79,80,81,82,83,84,85,86,87,88,89,90,91,92,93,94,95,96,97,98,99],\"xaxis\":\"x\",\"xbins\":{\"end\":99.0,\"size\":1.0,\"start\":0.0},\"yaxis\":\"y\",\"type\":\"histogram\"},{\"legendgroup\":\"Group 1\",\"marker\":{\"color\":\"rgb(31, 119, 180)\"},\"mode\":\"lines\",\"name\":\"Group 1\",\"showlegend\":false,\"x\":[0.0,0.198,0.396,0.594,0.792,0.99,1.188,1.386,1.584,1.782,1.98,2.178,2.376,2.574,2.772,2.97,3.168,3.366,3.564,3.762,3.96,4.158,4.356,4.554,4.752,4.95,5.148,5.346,5.544,5.742,5.94,6.138,6.336,6.534,6.732,6.93,7.128,7.326,7.524,7.722,7.92,8.118,8.316,8.514,8.712,8.91,9.108,9.306,9.504,9.702,9.9,10.098,10.296,10.494,10.692,10.89,11.088,11.286,11.484,11.682,11.88,12.078,12.276,12.474,12.672,12.87,13.068,13.266,13.464,13.662,13.86,14.058,14.256,14.454,14.652,14.85,15.048,15.246,15.444,15.642,15.84,16.038,16.236,16.434,16.632,16.83,17.028,17.226,17.424,17.622,17.82,18.018,18.216,18.414,18.612,18.81,19.008,19.206,19.404,19.602,19.8,19.998,20.196,20.394,20.592,20.79,20.988,21.186,21.384,21.582,21.78,21.978,22.176,22.374,22.572,22.77,22.968,23.166,23.364,23.562,23.76,23.958,24.156,24.354,24.552,24.75,24.948,25.146,25.344,25.542,25.74,25.938,26.136,26.334,26.532,26.73,26.928,27.126,27.324,27.522,27.72,27.918,28.116,28.314,28.512,28.71,28.908,29.106,29.304,29.502,29.7,29.898,30.096,30.294,30.492,30.69,30.888,31.086,31.284,31.482,31.68,31.878,32.076,32.274,32.472,32.67,32.868,33.066,33.264,33.462,33.66,33.858,34.056,34.254,34.452,34.65,34.848,35.046,35.244,35.442,35.64,35.838,36.036,36.234,36.432,36.63,36.828,37.026,37.224,37.422,37.62,37.818,38.016,38.214,38.412,38.61,38.808,39.006,39.204,39.402,39.6,39.798,39.996,40.194,40.392,40.59,40.788,40.986,41.184,41.382,41.58,41.778,41.976,42.174,42.372,42.57,42.768,42.966,43.164,43.362,43.56,43.758,43.956,44.154,44.352,44.55,44.748,44.946,45.144,45.342,45.54,45.738,45.936,46.134,46.332,46.53,46.728,46.926,47.124,47.322,47.52,47.718,47.916,48.114,48.312,48.51,48.708,48.906,49.104,49.302,49.5,49.698,49.896,50.094,50.292,50.49,50.688,50.886,51.084,51.282,51.48,51.678,51.876,52.074,52.272,52.47,52.668,52.866,53.064,53.262,53.46,53.658,53.856,54.054,54.252,54.45,54.648,54.846,55.044,55.242,55.44,55.638,55.836,56.034,56.232,56.43,56.628,56.826,57.024,57.222,57.42,57.618,57.816,58.014,58.212,58.41,58.608,58.806,59.004,59.202,59.4,59.598,59.796,59.994,60.192,60.39,60.588,60.786,60.984,61.182,61.38,61.578,61.776,61.974,62.172,62.37,62.568,62.766,62.964,63.162,63.36,63.558,63.756,63.954,64.152,64.35,64.548,64.746,64.944,65.142,65.34,65.538,65.736,65.934,66.132,66.33,66.528,66.726,66.924,67.122,67.32,67.518,67.716,67.914,68.112,68.31,68.508,68.706,68.904,69.102,69.3,69.498,69.696,69.894,70.092,70.29,70.488,70.686,70.884,71.082,71.28,71.478,71.676,71.874,72.072,72.27,72.468,72.666,72.864,73.062,73.26,73.458,73.656,73.854,74.052,74.25,74.448,74.646,74.844,75.042,75.24,75.438,75.636,75.834,76.032,76.23,76.428,76.626,76.824,77.022,77.22,77.418,77.616,77.814,78.012,78.21,78.408,78.606,78.804,79.002,79.2,79.398,79.596,79.794,79.992,80.19,80.388,80.586,80.784,80.982,81.18,81.378,81.576,81.774,81.972,82.17,82.368,82.566,82.764,82.962,83.16,83.358,83.556,83.754,83.952,84.15,84.348,84.546,84.744,84.942,85.14,85.338,85.536,85.734,85.932,86.13,86.328,86.526,86.724,86.922,87.12,87.318,87.516,87.714,87.912,88.11,88.308,88.506,88.704,88.902,89.1,89.298,89.496,89.694,89.892,90.09,90.288,90.486,90.684,90.882,91.08,91.278,91.476,91.674,91.872,92.07,92.268,92.466,92.664,92.862,93.06,93.258,93.456,93.654,93.852,94.05,94.248,94.446,94.644,94.842,95.04,95.238,95.436,95.634,95.832,96.03,96.228,96.426,96.624,96.822,97.02,97.218,97.416,97.614,97.812,98.01,98.208,98.406,98.604,98.802],\"xaxis\":\"x\",\"y\":[0.00517270702622411,0.005241027546954843,0.005309277278418846,0.005377436247490255,0.0054454845609423295,0.005513402422863513,0.005581170151930918,0.005648768198515999,0.005716177161597776,0.005783377805459133,0.005850351076142317,0.0059170781176401096,0.005983540287799906,0.006049719173918199,0.006115596608003944,0.006181154681689676,0.006246375760770035,0.006311242499348245,0.0063757378535717,0.006439845094938591,0.006503547823158695,0.006566829978551867,0.006629675853969009,0.006692070106221181,0.006753997767003329,0.00681544425330025,0.006876395377263336,0.0069368373555476716,0.006996756818100067,0.007056140816389699,0.007114976831074017,0.007173252779093669,0.007230957020191288,0.007288078362849919,0.007344606069648118,0.007400529862029557,0.007455839924486338,0.007510526908155883,0.0075645819338326535,0.0076179965943967065,0.007670762956662196,0.007722873562650002,0.0077743214302893595,0.00782510005355469,0.007875203402044312,0.00792462592000896,0.007973362524838854,0.008021408605018494,0.008068760017559847,0.008115413084924687,0.008161364591448091,0.00820661177927553,0.008251152343826599,0.00829498442879948,0.008338106620730227,0.008380517943121934,0.00842221785015937,0.008463206220024883,0.008503483347831867,0.008543049938192828,0.008581907097438902,0.008620056325508437,0.00865749950752219,0.008694238905063238,0.008730277147179529,0.008765617221127668,0.00880026246287582,0.008834216547384758,0.008867483478685035,0.008900067579769095,0.008931973482316573,0.00896320611627122,0.008993770699287624,0.009023672726065824,0.00905291795759173,0.009081512410301047,0.00910946234518394,0.009136774256847988,0.009163454862555712,0.009189511091253696,0.009214950072609123,0.00923977912606953,0.009264005749961349,0.009287637610641702,0.009310682531718404,0.009333148483351856,0.009355043571652368,0.00937637602818604,0.009397154199601618,0.009417386537390243,0.009437081587789584,0.009456247981843214,0.00947489442562551,0.009493029690641929,0.009510662604413658,0.009527802041255563,0.009544456913255103,0.009560636161460056,0.009576348747281695,0.009591603644119871,0.0096064098292157,0.009620776275737193,0.009634711945102258,0.009648225779543369,0.009661326694917387,0.009674023573763487,0.00968632525861188,0.009698240545545071,0.009709778178013353,0.009720946840905456,0.009731755154874797,0.00974221167092164,0.009752324865230486,0.009762103134262077,0.009771554790098747,0.0097806880560415,0.00978951106245675,0.009798031842870454,0.00980625833030679,0.009814198353868485,0.009821859635555213,0.009829249787316639,0.009836376308335974,0.009843246582539914,0.009849867876330557,0.009856247336534518,0.009862391988564449,0.00986830873478786,0.009874004353098015,0.009879485495681425,0.009884758687976525,0.009889830327817716,0.009894706684759148,0.009899393899572251,0.009903897983911163,0.009908224820139984,0.00991238016131583,0.00991636963132172,0.009920198725142815,0.009923872809280504,0.009927397122297558,0.009930776775488918,0.00993401675367145,0.009937121916087132,0.009940096997413495,0.009942946608875321,0.009945675239452102,0.009948287257175045,0.009950786910508382,0.009953178329809177,0.009955465528860176,0.009957652406470494,0.009959742748138614,0.00996174022777297,0.00996364840946469,0.00996547074930791,0.00996721059726294,0.009968871199057407,0.009970455698121277,0.009971967137551219,0.009973408462100151,0.009974782520188094,0.009976092065930286,0.009977339761179012,0.009978528177575373,0.0099796597986078,0.009980737021673866,0.00998176216014235,0.009982737445412547,0.009983665028968124,0.009984546984422568,0.009985385309554043,0.009986181928326919,0.009986938692897976,0.0099876573856051,0.009988339720936292,0.009988987347477576,0.009989601849837585,0.009990184750547556,0.009990737511935204,0.009991261537971086,0.009991758176086135,0.00999222871895947,0.00999267440627525,0.009993096426447756,0.00999349591831388,0.009993873972792366,0.009994231634509026,0.009994569903387596,0.009994889736205707,0.009995192048115574,0.009995477714129182,0.00999574757056772,0.009996002416475228,0.009996243014996175,0.00999647009471729,0.009996684350973317,0.009996886447117156,0.00999707701575433,0.009997256659942073,0.009997425954353286,0.009997585446405692,0.00999773565735647,0.00999787708336283,0.009998010196508781,0.009998135445798806,0.009998253258118582,0.009998364039163533,0.009998468174335515,0.009998566029608255,0.009998657952362166,0.009998744272188897,0.009998825301666448,0.00999890133710524,0.009998972659265802,0.009999039534048659,0.009999102213157113,0.009999160934733397,0.00999921592396879,0.00999926739368846,0.009999315544911533,0.009999360567386881,0.009999402640105402,0.0099994419317893,0.009999478601358854,0.009999512798377377,0.009999544663474774,0.009999574328750432,0.009999601918155679,0.009999627547856643,0.009999651326577685,0.00999967335592628,0.00999969373069931,0.009999712539171705,0.009999729863367479,0.009999745779313868,0.009999760357278672,0.009999773661991434,0.009999785752848624,0.009999796684103238,0.00999980650503912,0.009999815260130218,0.009999822989185163,0.009999829727477308,0.009999835505860484,0.009999840350870683,0.00999984428481379,0.009999847325839657,0.009999849488002383,0.00999985078130726,0.009999851211744088,0.00999985078130726,0.009999849488002381,0.009999847325839657,0.009999844284813797,0.009999840350870681,0.009999835505860488,0.00999982972747731,0.009999822989185161,0.00999981526013021,0.009999806505039118,0.009999796684103241,0.00999978575284863,0.009999773661991439,0.009999760357278675,0.009999745779313873,0.009999729863367477,0.009999712539171701,0.009999693730699312,0.009999673355926275,0.009999651326577687,0.009999627547856639,0.00999960191815569,0.009999574328750436,0.009999544663474786,0.009999512798377375,0.009999478601358858,0.009999441931789303,0.009999402640105404,0.009999360567386885,0.009999315544911538,0.00999926739368846,0.009999215923968786,0.009999160934733397,0.009999102213157116,0.009999039534048659,0.009998972659265807,0.009998901337105248,0.00999882530166645,0.009998744272188899,0.009998657952362162,0.009998566029608259,0.009998468174335515,0.009998364039163534,0.00999825325811858,0.009998135445798802,0.009998010196508781,0.00999787708336283,0.009997735657356479,0.00999758544640569,0.009997425954353288,0.009997256659942068,0.00999707701575433,0.009996886447117161,0.009996684350973317,0.009996470094717292,0.00999624301499618,0.009996002416475228,0.00999574757056772,0.009995477714129179,0.009995192048115574,0.009994889736205707,0.00999456990338759,0.009994231634509024,0.009993873972792368,0.009993495918313887,0.00999309642644775,0.00999267440627525,0.009992228718959472,0.009991758176086137,0.009991261537971089,0.009990737511935214,0.009990184750547559,0.009989601849837583,0.00998898734747758,0.009988339720936294,0.009987657385605088,0.009986938692897981,0.009986181928326923,0.009985385309554052,0.009984546984422572,0.009983665028968119,0.009982737445412546,0.00998176216014234,0.009980737021673866,0.009979659798607803,0.00997852817757537,0.009977339761179012,0.009976092065930283,0.009974782520188092,0.009973408462100151,0.009971967137551224,0.00997045569812128,0.009968871199057408,0.009967210597262938,0.009965470749307915,0.00996364840946469,0.009961740227772973,0.009959742748138618,0.009957652406470488,0.00995546552886018,0.009953178329809177,0.00995078691050838,0.009948287257175045,0.009945675239452108,0.009942946608875328,0.009940096997413495,0.009937121916087133,0.009934016753671447,0.009930776775488924,0.009927397122297567,0.0099238728092805,0.009920198725142826,0.009916369631321724,0.009912380161315841,0.009908224820139982,0.009903897983911164,0.009899393899572251,0.009894706684759147,0.00988983032781772,0.009884758687976527,0.009879485495681423,0.00987400435309801,0.009868308734787857,0.00986239198856444,0.009856247336534521,0.009849867876330562,0.009843246582539919,0.009836376308335976,0.009829249787316644,0.009821859635555217,0.009814198353868485,0.009806258330306796,0.009798031842870451,0.009789511062456752,0.009780688056041497,0.00977155479009875,0.009762103134262077,0.009752324865230491,0.009742211670921642,0.009731755154874793,0.00972094684090545,0.009709778178013355,0.009698240545545073,0.009686325258611883,0.009674023573763483,0.009661326694917384,0.00964822577954337,0.00963471194510226,0.009620776275737196,0.009606409829215703,0.009591603644119864,0.009576348747281693,0.009560636161460061,0.009544456913255102,0.009527802041255563,0.009510662604413661,0.009493029690641926,0.00947489442562551,0.009456247981843208,0.009437081587789579,0.009417386537390241,0.009397154199601618,0.009376376028186037,0.009355043571652365,0.009333148483351856,0.009310682531718408,0.0092876376106417,0.009264005749961342,0.009239779126069528,0.009214950072609114,0.009189511091253702,0.009163454862555716,0.009136774256847993,0.009109462345183943,0.009081512410301036,0.009052917957591732,0.00902367272606582,0.008993770699287624,0.008963206116271223,0.008931973482316573,0.008900067579769097,0.008867483478685037,0.008834216547384761,0.008800262462875826,0.008765617221127666,0.008730277147179532,0.008694238905063234,0.008657499507522197,0.00862005632550844,0.008581907097438904,0.008543049938192819,0.008503483347831861,0.008463206220024878,0.008422217850159373,0.00838051794312193,0.008338106620730222,0.008294984428799486,0.008251152343826593,0.008206611779275516,0.008161364591448091,0.00811541308492468,0.00806876001755985,0.0080214086050185,0.007973362524838852,0.007924625920008956,0.0078752034020443,0.007825100053554688,0.007774321430289364,0.007722873562649998,0.0076707629566621985,0.007617996594396706,0.007564581933832656,0.007510526908155881,0.007455839924486339,0.007400529862029559,0.0073446060696481155,0.007288078362849924,0.007230957020191291,0.007173252779093672,0.007114976831074015,0.0070561408163897,0.006996756818100065,0.00693683735554767,0.006876395377263336,0.006815444253300253,0.006753997767003327,0.00669207010622118,0.0066296758539690056,0.006566829978551864,0.006503547823158696,0.00643984509493859,0.006375737853571692,0.006311242499348246,0.006246375760770039,0.006181154681689676,0.0061155966080039485,0.006049719173918199,0.005983540287799906,0.005917078117640108,0.005850351076142313,0.005783377805459134,0.005716177161597775,0.005648768198516,0.005581170151930921,0.0055134024228635095,0.005445484560942324,0.005377436247490252,0.005309277278418845,0.005241027546954843],\"yaxis\":\"y\",\"type\":\"scatter\"},{\"legendgroup\":\"Group 1\",\"marker\":{\"color\":\"rgb(31, 119, 180)\",\"symbol\":\"line-ns-open\"},\"mode\":\"markers\",\"name\":\"Group 1\",\"showlegend\":false,\"x\":[0,1,2,3,4,5,6,7,8,9,10,11,12,13,14,15,16,17,18,19,20,21,22,23,24,25,26,27,28,29,30,31,32,33,34,35,36,37,38,39,40,41,42,43,44,45,46,47,48,49,50,51,52,53,54,55,56,57,58,59,60,61,62,63,64,65,66,67,68,69,70,71,72,73,74,75,76,77,78,79,80,81,82,83,84,85,86,87,88,89,90,91,92,93,94,95,96,97,98,99],\"xaxis\":\"x\",\"y\":[\"Group 1\",\"Group 1\",\"Group 1\",\"Group 1\",\"Group 1\",\"Group 1\",\"Group 1\",\"Group 1\",\"Group 1\",\"Group 1\",\"Group 1\",\"Group 1\",\"Group 1\",\"Group 1\",\"Group 1\",\"Group 1\",\"Group 1\",\"Group 1\",\"Group 1\",\"Group 1\",\"Group 1\",\"Group 1\",\"Group 1\",\"Group 1\",\"Group 1\",\"Group 1\",\"Group 1\",\"Group 1\",\"Group 1\",\"Group 1\",\"Group 1\",\"Group 1\",\"Group 1\",\"Group 1\",\"Group 1\",\"Group 1\",\"Group 1\",\"Group 1\",\"Group 1\",\"Group 1\",\"Group 1\",\"Group 1\",\"Group 1\",\"Group 1\",\"Group 1\",\"Group 1\",\"Group 1\",\"Group 1\",\"Group 1\",\"Group 1\",\"Group 1\",\"Group 1\",\"Group 1\",\"Group 1\",\"Group 1\",\"Group 1\",\"Group 1\",\"Group 1\",\"Group 1\",\"Group 1\",\"Group 1\",\"Group 1\",\"Group 1\",\"Group 1\",\"Group 1\",\"Group 1\",\"Group 1\",\"Group 1\",\"Group 1\",\"Group 1\",\"Group 1\",\"Group 1\",\"Group 1\",\"Group 1\",\"Group 1\",\"Group 1\",\"Group 1\",\"Group 1\",\"Group 1\",\"Group 1\",\"Group 1\",\"Group 1\",\"Group 1\",\"Group 1\",\"Group 1\",\"Group 1\",\"Group 1\",\"Group 1\",\"Group 1\",\"Group 1\",\"Group 1\",\"Group 1\",\"Group 1\",\"Group 1\",\"Group 1\",\"Group 1\",\"Group 1\",\"Group 1\",\"Group 1\",\"Group 1\"],\"yaxis\":\"y2\",\"type\":\"scatter\"}],                        {\"barmode\":\"overlay\",\"hovermode\":\"closest\",\"legend\":{\"traceorder\":\"reversed\"},\"xaxis\":{\"anchor\":\"y2\",\"domain\":[0.0,1.0],\"zeroline\":false},\"yaxis\":{\"anchor\":\"free\",\"domain\":[0.35,1],\"position\":0.0},\"yaxis2\":{\"anchor\":\"x\",\"domain\":[0,0.25],\"dtick\":1,\"showticklabels\":false},\"template\":{\"data\":{\"histogram2dcontour\":[{\"type\":\"histogram2dcontour\",\"colorbar\":{\"outlinewidth\":0,\"ticks\":\"\"},\"colorscale\":[[0.0,\"#0d0887\"],[0.1111111111111111,\"#46039f\"],[0.2222222222222222,\"#7201a8\"],[0.3333333333333333,\"#9c179e\"],[0.4444444444444444,\"#bd3786\"],[0.5555555555555556,\"#d8576b\"],[0.6666666666666666,\"#ed7953\"],[0.7777777777777778,\"#fb9f3a\"],[0.8888888888888888,\"#fdca26\"],[1.0,\"#f0f921\"]]}],\"choropleth\":[{\"type\":\"choropleth\",\"colorbar\":{\"outlinewidth\":0,\"ticks\":\"\"}}],\"histogram2d\":[{\"type\":\"histogram2d\",\"colorbar\":{\"outlinewidth\":0,\"ticks\":\"\"},\"colorscale\":[[0.0,\"#0d0887\"],[0.1111111111111111,\"#46039f\"],[0.2222222222222222,\"#7201a8\"],[0.3333333333333333,\"#9c179e\"],[0.4444444444444444,\"#bd3786\"],[0.5555555555555556,\"#d8576b\"],[0.6666666666666666,\"#ed7953\"],[0.7777777777777778,\"#fb9f3a\"],[0.8888888888888888,\"#fdca26\"],[1.0,\"#f0f921\"]]}],\"heatmap\":[{\"type\":\"heatmap\",\"colorbar\":{\"outlinewidth\":0,\"ticks\":\"\"},\"colorscale\":[[0.0,\"#0d0887\"],[0.1111111111111111,\"#46039f\"],[0.2222222222222222,\"#7201a8\"],[0.3333333333333333,\"#9c179e\"],[0.4444444444444444,\"#bd3786\"],[0.5555555555555556,\"#d8576b\"],[0.6666666666666666,\"#ed7953\"],[0.7777777777777778,\"#fb9f3a\"],[0.8888888888888888,\"#fdca26\"],[1.0,\"#f0f921\"]]}],\"heatmapgl\":[{\"type\":\"heatmapgl\",\"colorbar\":{\"outlinewidth\":0,\"ticks\":\"\"},\"colorscale\":[[0.0,\"#0d0887\"],[0.1111111111111111,\"#46039f\"],[0.2222222222222222,\"#7201a8\"],[0.3333333333333333,\"#9c179e\"],[0.4444444444444444,\"#bd3786\"],[0.5555555555555556,\"#d8576b\"],[0.6666666666666666,\"#ed7953\"],[0.7777777777777778,\"#fb9f3a\"],[0.8888888888888888,\"#fdca26\"],[1.0,\"#f0f921\"]]}],\"contourcarpet\":[{\"type\":\"contourcarpet\",\"colorbar\":{\"outlinewidth\":0,\"ticks\":\"\"}}],\"contour\":[{\"type\":\"contour\",\"colorbar\":{\"outlinewidth\":0,\"ticks\":\"\"},\"colorscale\":[[0.0,\"#0d0887\"],[0.1111111111111111,\"#46039f\"],[0.2222222222222222,\"#7201a8\"],[0.3333333333333333,\"#9c179e\"],[0.4444444444444444,\"#bd3786\"],[0.5555555555555556,\"#d8576b\"],[0.6666666666666666,\"#ed7953\"],[0.7777777777777778,\"#fb9f3a\"],[0.8888888888888888,\"#fdca26\"],[1.0,\"#f0f921\"]]}],\"surface\":[{\"type\":\"surface\",\"colorbar\":{\"outlinewidth\":0,\"ticks\":\"\"},\"colorscale\":[[0.0,\"#0d0887\"],[0.1111111111111111,\"#46039f\"],[0.2222222222222222,\"#7201a8\"],[0.3333333333333333,\"#9c179e\"],[0.4444444444444444,\"#bd3786\"],[0.5555555555555556,\"#d8576b\"],[0.6666666666666666,\"#ed7953\"],[0.7777777777777778,\"#fb9f3a\"],[0.8888888888888888,\"#fdca26\"],[1.0,\"#f0f921\"]]}],\"mesh3d\":[{\"type\":\"mesh3d\",\"colorbar\":{\"outlinewidth\":0,\"ticks\":\"\"}}],\"scatter\":[{\"fillpattern\":{\"fillmode\":\"overlay\",\"size\":10,\"solidity\":0.2},\"type\":\"scatter\"}],\"parcoords\":[{\"type\":\"parcoords\",\"line\":{\"colorbar\":{\"outlinewidth\":0,\"ticks\":\"\"}}}],\"scatterpolargl\":[{\"type\":\"scatterpolargl\",\"marker\":{\"colorbar\":{\"outlinewidth\":0,\"ticks\":\"\"}}}],\"bar\":[{\"error_x\":{\"color\":\"#2a3f5f\"},\"error_y\":{\"color\":\"#2a3f5f\"},\"marker\":{\"line\":{\"color\":\"#E5ECF6\",\"width\":0.5},\"pattern\":{\"fillmode\":\"overlay\",\"size\":10,\"solidity\":0.2}},\"type\":\"bar\"}],\"scattergeo\":[{\"type\":\"scattergeo\",\"marker\":{\"colorbar\":{\"outlinewidth\":0,\"ticks\":\"\"}}}],\"scatterpolar\":[{\"type\":\"scatterpolar\",\"marker\":{\"colorbar\":{\"outlinewidth\":0,\"ticks\":\"\"}}}],\"histogram\":[{\"marker\":{\"pattern\":{\"fillmode\":\"overlay\",\"size\":10,\"solidity\":0.2}},\"type\":\"histogram\"}],\"scattergl\":[{\"type\":\"scattergl\",\"marker\":{\"colorbar\":{\"outlinewidth\":0,\"ticks\":\"\"}}}],\"scatter3d\":[{\"type\":\"scatter3d\",\"line\":{\"colorbar\":{\"outlinewidth\":0,\"ticks\":\"\"}},\"marker\":{\"colorbar\":{\"outlinewidth\":0,\"ticks\":\"\"}}}],\"scattermapbox\":[{\"type\":\"scattermapbox\",\"marker\":{\"colorbar\":{\"outlinewidth\":0,\"ticks\":\"\"}}}],\"scatterternary\":[{\"type\":\"scatterternary\",\"marker\":{\"colorbar\":{\"outlinewidth\":0,\"ticks\":\"\"}}}],\"scattercarpet\":[{\"type\":\"scattercarpet\",\"marker\":{\"colorbar\":{\"outlinewidth\":0,\"ticks\":\"\"}}}],\"carpet\":[{\"aaxis\":{\"endlinecolor\":\"#2a3f5f\",\"gridcolor\":\"white\",\"linecolor\":\"white\",\"minorgridcolor\":\"white\",\"startlinecolor\":\"#2a3f5f\"},\"baxis\":{\"endlinecolor\":\"#2a3f5f\",\"gridcolor\":\"white\",\"linecolor\":\"white\",\"minorgridcolor\":\"white\",\"startlinecolor\":\"#2a3f5f\"},\"type\":\"carpet\"}],\"table\":[{\"cells\":{\"fill\":{\"color\":\"#EBF0F8\"},\"line\":{\"color\":\"white\"}},\"header\":{\"fill\":{\"color\":\"#C8D4E3\"},\"line\":{\"color\":\"white\"}},\"type\":\"table\"}],\"barpolar\":[{\"marker\":{\"line\":{\"color\":\"#E5ECF6\",\"width\":0.5},\"pattern\":{\"fillmode\":\"overlay\",\"size\":10,\"solidity\":0.2}},\"type\":\"barpolar\"}],\"pie\":[{\"automargin\":true,\"type\":\"pie\"}]},\"layout\":{\"autotypenumbers\":\"strict\",\"colorway\":[\"#636efa\",\"#EF553B\",\"#00cc96\",\"#ab63fa\",\"#FFA15A\",\"#19d3f3\",\"#FF6692\",\"#B6E880\",\"#FF97FF\",\"#FECB52\"],\"font\":{\"color\":\"#2a3f5f\"},\"hovermode\":\"closest\",\"hoverlabel\":{\"align\":\"left\"},\"paper_bgcolor\":\"white\",\"plot_bgcolor\":\"#E5ECF6\",\"polar\":{\"bgcolor\":\"#E5ECF6\",\"angularaxis\":{\"gridcolor\":\"white\",\"linecolor\":\"white\",\"ticks\":\"\"},\"radialaxis\":{\"gridcolor\":\"white\",\"linecolor\":\"white\",\"ticks\":\"\"}},\"ternary\":{\"bgcolor\":\"#E5ECF6\",\"aaxis\":{\"gridcolor\":\"white\",\"linecolor\":\"white\",\"ticks\":\"\"},\"baxis\":{\"gridcolor\":\"white\",\"linecolor\":\"white\",\"ticks\":\"\"},\"caxis\":{\"gridcolor\":\"white\",\"linecolor\":\"white\",\"ticks\":\"\"}},\"coloraxis\":{\"colorbar\":{\"outlinewidth\":0,\"ticks\":\"\"}},\"colorscale\":{\"sequential\":[[0.0,\"#0d0887\"],[0.1111111111111111,\"#46039f\"],[0.2222222222222222,\"#7201a8\"],[0.3333333333333333,\"#9c179e\"],[0.4444444444444444,\"#bd3786\"],[0.5555555555555556,\"#d8576b\"],[0.6666666666666666,\"#ed7953\"],[0.7777777777777778,\"#fb9f3a\"],[0.8888888888888888,\"#fdca26\"],[1.0,\"#f0f921\"]],\"sequentialminus\":[[0.0,\"#0d0887\"],[0.1111111111111111,\"#46039f\"],[0.2222222222222222,\"#7201a8\"],[0.3333333333333333,\"#9c179e\"],[0.4444444444444444,\"#bd3786\"],[0.5555555555555556,\"#d8576b\"],[0.6666666666666666,\"#ed7953\"],[0.7777777777777778,\"#fb9f3a\"],[0.8888888888888888,\"#fdca26\"],[1.0,\"#f0f921\"]],\"diverging\":[[0,\"#8e0152\"],[0.1,\"#c51b7d\"],[0.2,\"#de77ae\"],[0.3,\"#f1b6da\"],[0.4,\"#fde0ef\"],[0.5,\"#f7f7f7\"],[0.6,\"#e6f5d0\"],[0.7,\"#b8e186\"],[0.8,\"#7fbc41\"],[0.9,\"#4d9221\"],[1,\"#276419\"]]},\"xaxis\":{\"gridcolor\":\"white\",\"linecolor\":\"white\",\"ticks\":\"\",\"title\":{\"standoff\":15},\"zerolinecolor\":\"white\",\"automargin\":true,\"zerolinewidth\":2},\"yaxis\":{\"gridcolor\":\"white\",\"linecolor\":\"white\",\"ticks\":\"\",\"title\":{\"standoff\":15},\"zerolinecolor\":\"white\",\"automargin\":true,\"zerolinewidth\":2},\"scene\":{\"xaxis\":{\"backgroundcolor\":\"#E5ECF6\",\"gridcolor\":\"white\",\"linecolor\":\"white\",\"showbackground\":true,\"ticks\":\"\",\"zerolinecolor\":\"white\",\"gridwidth\":2},\"yaxis\":{\"backgroundcolor\":\"#E5ECF6\",\"gridcolor\":\"white\",\"linecolor\":\"white\",\"showbackground\":true,\"ticks\":\"\",\"zerolinecolor\":\"white\",\"gridwidth\":2},\"zaxis\":{\"backgroundcolor\":\"#E5ECF6\",\"gridcolor\":\"white\",\"linecolor\":\"white\",\"showbackground\":true,\"ticks\":\"\",\"zerolinecolor\":\"white\",\"gridwidth\":2}},\"shapedefaults\":{\"line\":{\"color\":\"#2a3f5f\"}},\"annotationdefaults\":{\"arrowcolor\":\"#2a3f5f\",\"arrowhead\":0,\"arrowwidth\":1},\"geo\":{\"bgcolor\":\"white\",\"landcolor\":\"#E5ECF6\",\"subunitcolor\":\"white\",\"showland\":true,\"showlakes\":true,\"lakecolor\":\"white\"},\"title\":{\"x\":0.05},\"mapbox\":{\"style\":\"light\"}}}},                        {\"responsive\": true}                    ).then(function(){\n",
       "                            \n",
       "var gd = document.getElementById('1d009aac-0eea-49c9-8665-b13f3303ecba');\n",
       "var x = new MutationObserver(function (mutations, observer) {{\n",
       "        var display = window.getComputedStyle(gd).display;\n",
       "        if (!display || display === 'none') {{\n",
       "            console.log([gd, 'removed!']);\n",
       "            Plotly.purge(gd);\n",
       "            observer.disconnect();\n",
       "        }}\n",
       "}});\n",
       "\n",
       "// Listen for the removal of the full notebook cells\n",
       "var notebookContainer = gd.closest('#notebook-container');\n",
       "if (notebookContainer) {{\n",
       "    x.observe(notebookContainer, {childList: true});\n",
       "}}\n",
       "\n",
       "// Listen for the clearing of the current output cell\n",
       "var outputEl = gd.closest('.output');\n",
       "if (outputEl) {{\n",
       "    x.observe(outputEl, {childList: true});\n",
       "}}\n",
       "\n",
       "                        })                };                });            </script>        </div>"
      ]
     },
     "metadata": {},
     "output_type": "display_data"
    }
   ],
   "source": [
    "import plotly.express as px\n",
    "\n",
    "x = []\n",
    "y = []\n",
    "s = []\n",
    "\n",
    "for i in range(100):\n",
    "    x.append(\"node {}\".format(i))\n",
    "    y.append(i)\n",
    "    s.append((i+3)%10)\n",
    "\n",
    "fig = px.bar(x=x, y=y)\n",
    "fig.add_scatter(y=s)\n",
    "fig.layout.title = \"fuck\"\n",
    "fig.show()\n",
    "\n",
    "group_labels = ['Group 1']\n",
    "fig2 = ff.create_distplot([y], group_labels)\n",
    "fig2.show()"
   ]
  },
  {
   "cell_type": "code",
   "execution_count": 2,
   "id": "89a16cd8-ff01-4f71-bd5f-f917bd38954d",
   "metadata": {},
   "outputs": [
    {
     "data": {
      "application/vnd.plotly.v1+json": {
       "config": {
        "plotlyServerURL": "https://plot.ly"
       },
       "data": [
        {
         "alignmentgroup": "True",
         "bingroup": "x",
         "histfunc": "sum",
         "hovertemplate": "sex=Female<br>total_bill=%{x}<br>sum of tip=%{y}<extra></extra>",
         "legendgroup": "Female",
         "marker": {
          "color": "#636efa",
          "pattern": {
           "shape": ""
          }
         },
         "name": "Female",
         "offsetgroup": "Female",
         "orientation": "v",
         "showlegend": true,
         "type": "histogram",
         "x": [
          16.99,
          24.59,
          35.26,
          14.83,
          10.33,
          16.97,
          20.29,
          15.77,
          19.65,
          15.06,
          20.69,
          16.93,
          10.29,
          34.81,
          26.41,
          16.45,
          3.07,
          17.07,
          26.86,
          25.28,
          14.73,
          10.07,
          34.83,
          5.75,
          16.32,
          22.75,
          11.35,
          15.38,
          44.3,
          22.42,
          20.92,
          14.31,
          7.25,
          25.71,
          17.31,
          10.65,
          12.43,
          24.08,
          13.42,
          12.48,
          29.8,
          14.52,
          11.38,
          20.27,
          11.17,
          12.26,
          18.26,
          8.51,
          10.33,
          14.15,
          13.16,
          17.47,
          27.05,
          16.43,
          8.35,
          18.64,
          11.87,
          29.85,
          25,
          13.39,
          16.21,
          17.51,
          10.59,
          10.63,
          9.6,
          20.9,
          18.15,
          19.81,
          43.11,
          13,
          12.74,
          13,
          16.4,
          16.47,
          12.76,
          13.27,
          28.17,
          12.9,
          30.14,
          13.42,
          15.98,
          16.27,
          10.09,
          22.12,
          35.83,
          27.18,
          18.78
         ],
         "xaxis": "x",
         "y": [
          1.01,
          3.61,
          5,
          3.02,
          1.67,
          3.5,
          2.75,
          2.23,
          3,
          3,
          2.45,
          3.07,
          2.6,
          5.2,
          1.5,
          2.47,
          1,
          3,
          3.14,
          5,
          2.2,
          1.83,
          5.17,
          1,
          4.3,
          3.25,
          2.5,
          3,
          2.5,
          3.48,
          4.08,
          4,
          1,
          4,
          3.5,
          1.5,
          1.8,
          2.92,
          1.68,
          2.52,
          4.2,
          2,
          2,
          2.83,
          1.5,
          2,
          3.25,
          1.25,
          2,
          2,
          2.75,
          3.5,
          5,
          2.3,
          1.5,
          1.36,
          1.63,
          5.14,
          3.75,
          2.61,
          2,
          3,
          1.61,
          2,
          4,
          3.5,
          3.5,
          4.19,
          5,
          2,
          2.01,
          2,
          2.5,
          3.23,
          2.23,
          2.5,
          6.5,
          1.1,
          3.09,
          3.48,
          3,
          2.5,
          2,
          2.88,
          4.67,
          2,
          3
         ],
         "yaxis": "y"
        },
        {
         "alignmentgroup": "True",
         "boxpoints": "all",
         "customdata": [
          [
           "Female",
           "No",
           "Sun",
           "Dinner",
           2
          ],
          [
           "Female",
           "No",
           "Sun",
           "Dinner",
           4
          ],
          [
           "Female",
           "No",
           "Sun",
           "Dinner",
           4
          ],
          [
           "Female",
           "No",
           "Sun",
           "Dinner",
           2
          ],
          [
           "Female",
           "No",
           "Sun",
           "Dinner",
           3
          ],
          [
           "Female",
           "No",
           "Sun",
           "Dinner",
           3
          ],
          [
           "Female",
           "No",
           "Sat",
           "Dinner",
           2
          ],
          [
           "Female",
           "No",
           "Sat",
           "Dinner",
           2
          ],
          [
           "Female",
           "No",
           "Sat",
           "Dinner",
           2
          ],
          [
           "Female",
           "No",
           "Sat",
           "Dinner",
           2
          ],
          [
           "Female",
           "No",
           "Sat",
           "Dinner",
           4
          ],
          [
           "Female",
           "No",
           "Sat",
           "Dinner",
           3
          ],
          [
           "Female",
           "No",
           "Sun",
           "Dinner",
           2
          ],
          [
           "Female",
           "No",
           "Sun",
           "Dinner",
           4
          ],
          [
           "Female",
           "No",
           "Sat",
           "Dinner",
           2
          ],
          [
           "Female",
           "No",
           "Sat",
           "Dinner",
           2
          ],
          [
           "Female",
           "Yes",
           "Sat",
           "Dinner",
           1
          ],
          [
           "Female",
           "No",
           "Sat",
           "Dinner",
           3
          ],
          [
           "Female",
           "Yes",
           "Sat",
           "Dinner",
           2
          ],
          [
           "Female",
           "Yes",
           "Sat",
           "Dinner",
           2
          ],
          [
           "Female",
           "No",
           "Sat",
           "Dinner",
           2
          ],
          [
           "Female",
           "No",
           "Thur",
           "Lunch",
           1
          ],
          [
           "Female",
           "No",
           "Thur",
           "Lunch",
           4
          ],
          [
           "Female",
           "Yes",
           "Fri",
           "Dinner",
           2
          ],
          [
           "Female",
           "Yes",
           "Fri",
           "Dinner",
           2
          ],
          [
           "Female",
           "No",
           "Fri",
           "Dinner",
           2
          ],
          [
           "Female",
           "Yes",
           "Fri",
           "Dinner",
           2
          ],
          [
           "Female",
           "Yes",
           "Fri",
           "Dinner",
           2
          ],
          [
           "Female",
           "Yes",
           "Sat",
           "Dinner",
           3
          ],
          [
           "Female",
           "Yes",
           "Sat",
           "Dinner",
           2
          ],
          [
           "Female",
           "No",
           "Sat",
           "Dinner",
           2
          ],
          [
           "Female",
           "Yes",
           "Sat",
           "Dinner",
           2
          ],
          [
           "Female",
           "No",
           "Sat",
           "Dinner",
           1
          ],
          [
           "Female",
           "No",
           "Sun",
           "Dinner",
           3
          ],
          [
           "Female",
           "No",
           "Sun",
           "Dinner",
           2
          ],
          [
           "Female",
           "No",
           "Thur",
           "Lunch",
           2
          ],
          [
           "Female",
           "No",
           "Thur",
           "Lunch",
           2
          ],
          [
           "Female",
           "No",
           "Thur",
           "Lunch",
           4
          ],
          [
           "Female",
           "No",
           "Thur",
           "Lunch",
           2
          ],
          [
           "Female",
           "No",
           "Thur",
           "Lunch",
           2
          ],
          [
           "Female",
           "No",
           "Thur",
           "Lunch",
           6
          ],
          [
           "Female",
           "No",
           "Thur",
           "Lunch",
           2
          ],
          [
           "Female",
           "No",
           "Thur",
           "Lunch",
           2
          ],
          [
           "Female",
           "No",
           "Thur",
           "Lunch",
           2
          ],
          [
           "Female",
           "No",
           "Thur",
           "Lunch",
           2
          ],
          [
           "Female",
           "No",
           "Thur",
           "Lunch",
           2
          ],
          [
           "Female",
           "No",
           "Thur",
           "Lunch",
           2
          ],
          [
           "Female",
           "No",
           "Thur",
           "Lunch",
           2
          ],
          [
           "Female",
           "No",
           "Thur",
           "Lunch",
           2
          ],
          [
           "Female",
           "No",
           "Thur",
           "Lunch",
           2
          ],
          [
           "Female",
           "No",
           "Thur",
           "Lunch",
           2
          ],
          [
           "Female",
           "No",
           "Thur",
           "Lunch",
           2
          ],
          [
           "Female",
           "No",
           "Thur",
           "Lunch",
           6
          ],
          [
           "Female",
           "No",
           "Thur",
           "Lunch",
           2
          ],
          [
           "Female",
           "No",
           "Thur",
           "Lunch",
           2
          ],
          [
           "Female",
           "No",
           "Thur",
           "Lunch",
           3
          ],
          [
           "Female",
           "No",
           "Thur",
           "Lunch",
           2
          ],
          [
           "Female",
           "No",
           "Sun",
           "Dinner",
           5
          ],
          [
           "Female",
           "No",
           "Sun",
           "Dinner",
           4
          ],
          [
           "Female",
           "No",
           "Sun",
           "Dinner",
           2
          ],
          [
           "Female",
           "No",
           "Sun",
           "Dinner",
           3
          ],
          [
           "Female",
           "Yes",
           "Sun",
           "Dinner",
           2
          ],
          [
           "Female",
           "Yes",
           "Sat",
           "Dinner",
           2
          ],
          [
           "Female",
           "Yes",
           "Sat",
           "Dinner",
           2
          ],
          [
           "Female",
           "Yes",
           "Sun",
           "Dinner",
           2
          ],
          [
           "Female",
           "Yes",
           "Sun",
           "Dinner",
           3
          ],
          [
           "Female",
           "Yes",
           "Sun",
           "Dinner",
           3
          ],
          [
           "Female",
           "Yes",
           "Thur",
           "Lunch",
           2
          ],
          [
           "Female",
           "Yes",
           "Thur",
           "Lunch",
           4
          ],
          [
           "Female",
           "Yes",
           "Thur",
           "Lunch",
           2
          ],
          [
           "Female",
           "Yes",
           "Thur",
           "Lunch",
           2
          ],
          [
           "Female",
           "Yes",
           "Thur",
           "Lunch",
           2
          ],
          [
           "Female",
           "Yes",
           "Thur",
           "Lunch",
           2
          ],
          [
           "Female",
           "Yes",
           "Thur",
           "Lunch",
           3
          ],
          [
           "Female",
           "Yes",
           "Sat",
           "Dinner",
           2
          ],
          [
           "Female",
           "Yes",
           "Sat",
           "Dinner",
           2
          ],
          [
           "Female",
           "Yes",
           "Sat",
           "Dinner",
           3
          ],
          [
           "Female",
           "Yes",
           "Sat",
           "Dinner",
           2
          ],
          [
           "Female",
           "Yes",
           "Sat",
           "Dinner",
           4
          ],
          [
           "Female",
           "Yes",
           "Fri",
           "Lunch",
           2
          ],
          [
           "Female",
           "No",
           "Fri",
           "Lunch",
           3
          ],
          [
           "Female",
           "Yes",
           "Fri",
           "Lunch",
           2
          ],
          [
           "Female",
           "Yes",
           "Fri",
           "Lunch",
           2
          ],
          [
           "Female",
           "Yes",
           "Sat",
           "Dinner",
           2
          ],
          [
           "Female",
           "No",
           "Sat",
           "Dinner",
           3
          ],
          [
           "Female",
           "Yes",
           "Sat",
           "Dinner",
           2
          ],
          [
           "Female",
           "No",
           "Thur",
           "Dinner",
           2
          ]
         ],
         "fillcolor": "rgba(255,255,255,0)",
         "hoveron": "points",
         "hovertemplate": "sex=%{customdata[0]}<br>total_bill=%{x}<br>smoker=%{customdata[1]}<br>day=%{customdata[2]}<br>time=%{customdata[3]}<br>size=%{customdata[4]}<extra></extra>",
         "jitter": 0,
         "legendgroup": "Female",
         "line": {
          "color": "rgba(255,255,255,0)"
         },
         "marker": {
          "color": "#636efa",
          "symbol": "line-ns-open"
         },
         "name": "Female",
         "offsetgroup": "Female",
         "showlegend": false,
         "type": "box",
         "x": [
          16.99,
          24.59,
          35.26,
          14.83,
          10.33,
          16.97,
          20.29,
          15.77,
          19.65,
          15.06,
          20.69,
          16.93,
          10.29,
          34.81,
          26.41,
          16.45,
          3.07,
          17.07,
          26.86,
          25.28,
          14.73,
          10.07,
          34.83,
          5.75,
          16.32,
          22.75,
          11.35,
          15.38,
          44.3,
          22.42,
          20.92,
          14.31,
          7.25,
          25.71,
          17.31,
          10.65,
          12.43,
          24.08,
          13.42,
          12.48,
          29.8,
          14.52,
          11.38,
          20.27,
          11.17,
          12.26,
          18.26,
          8.51,
          10.33,
          14.15,
          13.16,
          17.47,
          27.05,
          16.43,
          8.35,
          18.64,
          11.87,
          29.85,
          25,
          13.39,
          16.21,
          17.51,
          10.59,
          10.63,
          9.6,
          20.9,
          18.15,
          19.81,
          43.11,
          13,
          12.74,
          13,
          16.4,
          16.47,
          12.76,
          13.27,
          28.17,
          12.9,
          30.14,
          13.42,
          15.98,
          16.27,
          10.09,
          22.12,
          35.83,
          27.18,
          18.78
         ],
         "xaxis": "x2",
         "yaxis": "y2"
        },
        {
         "alignmentgroup": "True",
         "bingroup": "x",
         "histfunc": "sum",
         "hovertemplate": "sex=Male<br>total_bill=%{x}<br>sum of tip=%{y}<extra></extra>",
         "legendgroup": "Male",
         "marker": {
          "color": "#EF553B",
          "pattern": {
           "shape": ""
          }
         },
         "name": "Male",
         "offsetgroup": "Male",
         "orientation": "v",
         "showlegend": true,
         "type": "histogram",
         "x": [
          10.34,
          21.01,
          23.68,
          25.29,
          8.77,
          26.88,
          15.04,
          14.78,
          10.27,
          15.42,
          18.43,
          21.58,
          16.29,
          20.65,
          17.92,
          39.42,
          19.82,
          17.81,
          13.37,
          12.69,
          21.7,
          9.55,
          18.35,
          17.78,
          24.06,
          16.31,
          18.69,
          31.27,
          16.04,
          17.46,
          13.94,
          9.68,
          30.4,
          18.29,
          22.23,
          32.4,
          28.55,
          18.04,
          12.54,
          9.94,
          25.56,
          19.49,
          38.01,
          11.24,
          48.27,
          20.29,
          13.81,
          11.02,
          18.29,
          17.59,
          20.08,
          20.23,
          15.01,
          12.02,
          10.51,
          17.92,
          27.2,
          22.76,
          17.29,
          19.44,
          16.66,
          32.68,
          15.98,
          13.03,
          18.28,
          24.71,
          21.16,
          28.97,
          22.49,
          40.17,
          27.28,
          12.03,
          21.01,
          12.46,
          15.36,
          20.49,
          25.21,
          18.24,
          14,
          38.07,
          23.95,
          29.93,
          11.69,
          14.26,
          15.95,
          8.52,
          22.82,
          19.08,
          16,
          34.3,
          41.19,
          9.78,
          7.51,
          14.07,
          13.13,
          17.26,
          24.55,
          19.77,
          48.17,
          16.49,
          21.5,
          12.66,
          13.81,
          24.52,
          20.76,
          31.71,
          50.81,
          15.81,
          7.25,
          31.85,
          16.82,
          32.9,
          17.89,
          14.48,
          34.63,
          34.65,
          23.33,
          45.35,
          23.17,
          40.55,
          20.69,
          30.46,
          23.1,
          15.69,
          28.44,
          15.48,
          16.58,
          7.56,
          10.34,
          13.51,
          18.71,
          20.53,
          26.59,
          38.73,
          24.27,
          30.06,
          25.89,
          48.33,
          28.15,
          11.59,
          7.74,
          12.16,
          8.58,
          13.42,
          20.45,
          13.28,
          24.01,
          15.69,
          11.61,
          10.77,
          15.53,
          10.07,
          12.6,
          32.83,
          29.03,
          22.67,
          17.82
         ],
         "xaxis": "x",
         "y": [
          1.66,
          3.5,
          3.31,
          4.71,
          2,
          3.12,
          1.96,
          3.23,
          1.71,
          1.57,
          3,
          3.92,
          3.71,
          3.35,
          4.08,
          7.58,
          3.18,
          2.34,
          2,
          2,
          4.3,
          1.45,
          2.5,
          3.27,
          3.6,
          2,
          2.31,
          5,
          2.24,
          2.54,
          3.06,
          1.32,
          5.6,
          3,
          5,
          6,
          2.05,
          3,
          2.5,
          1.56,
          4.34,
          3.51,
          3,
          1.76,
          6.73,
          3.21,
          2,
          1.98,
          3.76,
          2.64,
          3.15,
          2.01,
          2.09,
          1.97,
          1.25,
          3.08,
          4,
          3,
          2.71,
          3,
          3.4,
          5,
          2.03,
          2,
          4,
          5.85,
          3,
          3,
          3.5,
          4.73,
          4,
          1.5,
          3,
          1.5,
          1.64,
          4.06,
          4.29,
          3.76,
          3,
          4,
          2.55,
          5.07,
          2.31,
          2.5,
          2,
          1.48,
          2.18,
          1.5,
          2,
          6.7,
          5,
          1.73,
          2,
          2.5,
          2,
          2.74,
          2,
          2,
          5,
          2,
          3.5,
          2.5,
          2,
          3.48,
          2.24,
          4.5,
          10,
          3.16,
          5.15,
          3.18,
          4,
          3.11,
          2,
          2,
          3.55,
          3.68,
          5.65,
          3.5,
          6.5,
          3,
          5,
          2,
          4,
          1.5,
          2.56,
          2.02,
          4,
          1.44,
          2,
          2,
          4,
          4,
          3.41,
          3,
          2.03,
          2,
          5.16,
          9,
          3,
          1.5,
          1.44,
          2.2,
          1.92,
          1.58,
          3,
          2.72,
          2,
          3,
          3.39,
          1.47,
          3,
          1.25,
          1,
          1.17,
          5.92,
          2,
          1.75
         ],
         "yaxis": "y"
        },
        {
         "alignmentgroup": "True",
         "boxpoints": "all",
         "customdata": [
          [
           "Male",
           "No",
           "Sun",
           "Dinner",
           3
          ],
          [
           "Male",
           "No",
           "Sun",
           "Dinner",
           3
          ],
          [
           "Male",
           "No",
           "Sun",
           "Dinner",
           2
          ],
          [
           "Male",
           "No",
           "Sun",
           "Dinner",
           4
          ],
          [
           "Male",
           "No",
           "Sun",
           "Dinner",
           2
          ],
          [
           "Male",
           "No",
           "Sun",
           "Dinner",
           4
          ],
          [
           "Male",
           "No",
           "Sun",
           "Dinner",
           2
          ],
          [
           "Male",
           "No",
           "Sun",
           "Dinner",
           2
          ],
          [
           "Male",
           "No",
           "Sun",
           "Dinner",
           2
          ],
          [
           "Male",
           "No",
           "Sun",
           "Dinner",
           2
          ],
          [
           "Male",
           "No",
           "Sun",
           "Dinner",
           4
          ],
          [
           "Male",
           "No",
           "Sun",
           "Dinner",
           2
          ],
          [
           "Male",
           "No",
           "Sun",
           "Dinner",
           3
          ],
          [
           "Male",
           "No",
           "Sat",
           "Dinner",
           3
          ],
          [
           "Male",
           "No",
           "Sat",
           "Dinner",
           2
          ],
          [
           "Male",
           "No",
           "Sat",
           "Dinner",
           4
          ],
          [
           "Male",
           "No",
           "Sat",
           "Dinner",
           2
          ],
          [
           "Male",
           "No",
           "Sat",
           "Dinner",
           4
          ],
          [
           "Male",
           "No",
           "Sat",
           "Dinner",
           2
          ],
          [
           "Male",
           "No",
           "Sat",
           "Dinner",
           2
          ],
          [
           "Male",
           "No",
           "Sat",
           "Dinner",
           2
          ],
          [
           "Male",
           "No",
           "Sat",
           "Dinner",
           2
          ],
          [
           "Male",
           "No",
           "Sat",
           "Dinner",
           4
          ],
          [
           "Male",
           "No",
           "Sat",
           "Dinner",
           2
          ],
          [
           "Male",
           "No",
           "Sat",
           "Dinner",
           3
          ],
          [
           "Male",
           "No",
           "Sat",
           "Dinner",
           3
          ],
          [
           "Male",
           "No",
           "Sat",
           "Dinner",
           3
          ],
          [
           "Male",
           "No",
           "Sat",
           "Dinner",
           3
          ],
          [
           "Male",
           "No",
           "Sat",
           "Dinner",
           3
          ],
          [
           "Male",
           "No",
           "Sun",
           "Dinner",
           2
          ],
          [
           "Male",
           "No",
           "Sun",
           "Dinner",
           2
          ],
          [
           "Male",
           "No",
           "Sun",
           "Dinner",
           2
          ],
          [
           "Male",
           "No",
           "Sun",
           "Dinner",
           4
          ],
          [
           "Male",
           "No",
           "Sun",
           "Dinner",
           2
          ],
          [
           "Male",
           "No",
           "Sun",
           "Dinner",
           2
          ],
          [
           "Male",
           "No",
           "Sun",
           "Dinner",
           4
          ],
          [
           "Male",
           "No",
           "Sun",
           "Dinner",
           3
          ],
          [
           "Male",
           "No",
           "Sun",
           "Dinner",
           2
          ],
          [
           "Male",
           "No",
           "Sun",
           "Dinner",
           2
          ],
          [
           "Male",
           "No",
           "Sun",
           "Dinner",
           2
          ],
          [
           "Male",
           "No",
           "Sun",
           "Dinner",
           4
          ],
          [
           "Male",
           "No",
           "Sun",
           "Dinner",
           2
          ],
          [
           "Male",
           "Yes",
           "Sat",
           "Dinner",
           4
          ],
          [
           "Male",
           "Yes",
           "Sat",
           "Dinner",
           2
          ],
          [
           "Male",
           "No",
           "Sat",
           "Dinner",
           4
          ],
          [
           "Male",
           "Yes",
           "Sat",
           "Dinner",
           2
          ],
          [
           "Male",
           "Yes",
           "Sat",
           "Dinner",
           2
          ],
          [
           "Male",
           "Yes",
           "Sat",
           "Dinner",
           2
          ],
          [
           "Male",
           "Yes",
           "Sat",
           "Dinner",
           4
          ],
          [
           "Male",
           "No",
           "Sat",
           "Dinner",
           3
          ],
          [
           "Male",
           "No",
           "Sat",
           "Dinner",
           3
          ],
          [
           "Male",
           "No",
           "Sat",
           "Dinner",
           2
          ],
          [
           "Male",
           "Yes",
           "Sat",
           "Dinner",
           2
          ],
          [
           "Male",
           "No",
           "Sat",
           "Dinner",
           2
          ],
          [
           "Male",
           "No",
           "Sat",
           "Dinner",
           2
          ],
          [
           "Male",
           "Yes",
           "Sat",
           "Dinner",
           2
          ],
          [
           "Male",
           "No",
           "Thur",
           "Lunch",
           4
          ],
          [
           "Male",
           "No",
           "Thur",
           "Lunch",
           2
          ],
          [
           "Male",
           "No",
           "Thur",
           "Lunch",
           2
          ],
          [
           "Male",
           "Yes",
           "Thur",
           "Lunch",
           2
          ],
          [
           "Male",
           "No",
           "Thur",
           "Lunch",
           2
          ],
          [
           "Male",
           "Yes",
           "Thur",
           "Lunch",
           2
          ],
          [
           "Male",
           "No",
           "Thur",
           "Lunch",
           2
          ],
          [
           "Male",
           "No",
           "Thur",
           "Lunch",
           2
          ],
          [
           "Male",
           "No",
           "Thur",
           "Lunch",
           2
          ],
          [
           "Male",
           "No",
           "Thur",
           "Lunch",
           2
          ],
          [
           "Male",
           "No",
           "Thur",
           "Lunch",
           2
          ],
          [
           "Male",
           "Yes",
           "Fri",
           "Dinner",
           2
          ],
          [
           "Male",
           "No",
           "Fri",
           "Dinner",
           2
          ],
          [
           "Male",
           "Yes",
           "Fri",
           "Dinner",
           4
          ],
          [
           "Male",
           "Yes",
           "Fri",
           "Dinner",
           2
          ],
          [
           "Male",
           "Yes",
           "Fri",
           "Dinner",
           2
          ],
          [
           "Male",
           "Yes",
           "Fri",
           "Dinner",
           2
          ],
          [
           "Male",
           "No",
           "Fri",
           "Dinner",
           2
          ],
          [
           "Male",
           "Yes",
           "Sat",
           "Dinner",
           2
          ],
          [
           "Male",
           "Yes",
           "Sat",
           "Dinner",
           2
          ],
          [
           "Male",
           "Yes",
           "Sat",
           "Dinner",
           2
          ],
          [
           "Male",
           "No",
           "Sat",
           "Dinner",
           2
          ],
          [
           "Male",
           "No",
           "Sat",
           "Dinner",
           2
          ],
          [
           "Male",
           "No",
           "Sun",
           "Dinner",
           3
          ],
          [
           "Male",
           "No",
           "Sun",
           "Dinner",
           2
          ],
          [
           "Male",
           "No",
           "Sun",
           "Dinner",
           4
          ],
          [
           "Male",
           "No",
           "Thur",
           "Lunch",
           2
          ],
          [
           "Male",
           "No",
           "Thur",
           "Lunch",
           2
          ],
          [
           "Male",
           "No",
           "Thur",
           "Lunch",
           2
          ],
          [
           "Male",
           "No",
           "Thur",
           "Lunch",
           2
          ],
          [
           "Male",
           "No",
           "Thur",
           "Lunch",
           3
          ],
          [
           "Male",
           "No",
           "Thur",
           "Lunch",
           2
          ],
          [
           "Male",
           "Yes",
           "Thur",
           "Lunch",
           2
          ],
          [
           "Male",
           "No",
           "Thur",
           "Lunch",
           6
          ],
          [
           "Male",
           "No",
           "Thur",
           "Lunch",
           5
          ],
          [
           "Male",
           "No",
           "Thur",
           "Lunch",
           2
          ],
          [
           "Male",
           "No",
           "Thur",
           "Lunch",
           2
          ],
          [
           "Male",
           "No",
           "Sun",
           "Dinner",
           2
          ],
          [
           "Male",
           "No",
           "Sun",
           "Dinner",
           2
          ],
          [
           "Male",
           "No",
           "Sun",
           "Dinner",
           3
          ],
          [
           "Male",
           "No",
           "Sun",
           "Dinner",
           4
          ],
          [
           "Male",
           "No",
           "Sun",
           "Dinner",
           4
          ],
          [
           "Male",
           "No",
           "Sun",
           "Dinner",
           6
          ],
          [
           "Male",
           "No",
           "Sun",
           "Dinner",
           4
          ],
          [
           "Male",
           "No",
           "Sun",
           "Dinner",
           4
          ],
          [
           "Male",
           "No",
           "Sun",
           "Dinner",
           2
          ],
          [
           "Male",
           "No",
           "Sun",
           "Dinner",
           2
          ],
          [
           "Male",
           "No",
           "Sun",
           "Dinner",
           3
          ],
          [
           "Male",
           "No",
           "Sun",
           "Dinner",
           2
          ],
          [
           "Male",
           "No",
           "Sun",
           "Dinner",
           4
          ],
          [
           "Male",
           "Yes",
           "Sat",
           "Dinner",
           3
          ],
          [
           "Male",
           "Yes",
           "Sat",
           "Dinner",
           2
          ],
          [
           "Male",
           "Yes",
           "Sun",
           "Dinner",
           2
          ],
          [
           "Male",
           "Yes",
           "Sun",
           "Dinner",
           2
          ],
          [
           "Male",
           "Yes",
           "Sun",
           "Dinner",
           2
          ],
          [
           "Male",
           "Yes",
           "Sun",
           "Dinner",
           2
          ],
          [
           "Male",
           "Yes",
           "Sun",
           "Dinner",
           2
          ],
          [
           "Male",
           "Yes",
           "Sun",
           "Dinner",
           2
          ],
          [
           "Male",
           "Yes",
           "Sun",
           "Dinner",
           2
          ],
          [
           "Male",
           "Yes",
           "Sun",
           "Dinner",
           4
          ],
          [
           "Male",
           "Yes",
           "Sun",
           "Dinner",
           2
          ],
          [
           "Male",
           "Yes",
           "Sun",
           "Dinner",
           3
          ],
          [
           "Male",
           "Yes",
           "Sun",
           "Dinner",
           4
          ],
          [
           "Male",
           "Yes",
           "Sun",
           "Dinner",
           2
          ],
          [
           "Male",
           "No",
           "Sun",
           "Dinner",
           5
          ],
          [
           "Male",
           "Yes",
           "Sun",
           "Dinner",
           5
          ],
          [
           "Male",
           "Yes",
           "Sun",
           "Dinner",
           3
          ],
          [
           "Male",
           "Yes",
           "Sun",
           "Dinner",
           2
          ],
          [
           "Male",
           "Yes",
           "Thur",
           "Lunch",
           2
          ],
          [
           "Male",
           "Yes",
           "Thur",
           "Lunch",
           2
          ],
          [
           "Male",
           "Yes",
           "Thur",
           "Lunch",
           2
          ],
          [
           "Male",
           "No",
           "Thur",
           "Lunch",
           2
          ],
          [
           "Male",
           "Yes",
           "Thur",
           "Lunch",
           2
          ],
          [
           "Male",
           "Yes",
           "Thur",
           "Lunch",
           2
          ],
          [
           "Male",
           "Yes",
           "Thur",
           "Lunch",
           3
          ],
          [
           "Male",
           "Yes",
           "Thur",
           "Lunch",
           4
          ],
          [
           "Male",
           "Yes",
           "Sat",
           "Dinner",
           3
          ],
          [
           "Male",
           "Yes",
           "Sat",
           "Dinner",
           4
          ],
          [
           "Male",
           "Yes",
           "Sat",
           "Dinner",
           2
          ],
          [
           "Male",
           "Yes",
           "Sat",
           "Dinner",
           3
          ],
          [
           "Male",
           "Yes",
           "Sat",
           "Dinner",
           4
          ],
          [
           "Male",
           "No",
           "Sat",
           "Dinner",
           4
          ],
          [
           "Male",
           "Yes",
           "Sat",
           "Dinner",
           5
          ],
          [
           "Male",
           "Yes",
           "Sat",
           "Dinner",
           2
          ],
          [
           "Male",
           "Yes",
           "Sat",
           "Dinner",
           2
          ],
          [
           "Male",
           "Yes",
           "Fri",
           "Lunch",
           2
          ],
          [
           "Male",
           "Yes",
           "Fri",
           "Lunch",
           1
          ],
          [
           "Male",
           "Yes",
           "Fri",
           "Lunch",
           2
          ],
          [
           "Male",
           "No",
           "Sat",
           "Dinner",
           4
          ],
          [
           "Male",
           "No",
           "Sat",
           "Dinner",
           2
          ],
          [
           "Male",
           "Yes",
           "Sat",
           "Dinner",
           4
          ],
          [
           "Male",
           "Yes",
           "Sat",
           "Dinner",
           3
          ],
          [
           "Male",
           "No",
           "Sat",
           "Dinner",
           2
          ],
          [
           "Male",
           "No",
           "Sat",
           "Dinner",
           2
          ],
          [
           "Male",
           "Yes",
           "Sat",
           "Dinner",
           2
          ],
          [
           "Male",
           "No",
           "Sat",
           "Dinner",
           2
          ],
          [
           "Male",
           "Yes",
           "Sat",
           "Dinner",
           2
          ],
          [
           "Male",
           "Yes",
           "Sat",
           "Dinner",
           2
          ],
          [
           "Male",
           "No",
           "Sat",
           "Dinner",
           3
          ],
          [
           "Male",
           "Yes",
           "Sat",
           "Dinner",
           2
          ],
          [
           "Male",
           "No",
           "Sat",
           "Dinner",
           2
          ]
         ],
         "fillcolor": "rgba(255,255,255,0)",
         "hoveron": "points",
         "hovertemplate": "sex=%{customdata[0]}<br>total_bill=%{x}<br>smoker=%{customdata[1]}<br>day=%{customdata[2]}<br>time=%{customdata[3]}<br>size=%{customdata[4]}<extra></extra>",
         "jitter": 0,
         "legendgroup": "Male",
         "line": {
          "color": "rgba(255,255,255,0)"
         },
         "marker": {
          "color": "#EF553B",
          "symbol": "line-ns-open"
         },
         "name": "Male",
         "offsetgroup": "Male",
         "showlegend": false,
         "type": "box",
         "x": [
          10.34,
          21.01,
          23.68,
          25.29,
          8.77,
          26.88,
          15.04,
          14.78,
          10.27,
          15.42,
          18.43,
          21.58,
          16.29,
          20.65,
          17.92,
          39.42,
          19.82,
          17.81,
          13.37,
          12.69,
          21.7,
          9.55,
          18.35,
          17.78,
          24.06,
          16.31,
          18.69,
          31.27,
          16.04,
          17.46,
          13.94,
          9.68,
          30.4,
          18.29,
          22.23,
          32.4,
          28.55,
          18.04,
          12.54,
          9.94,
          25.56,
          19.49,
          38.01,
          11.24,
          48.27,
          20.29,
          13.81,
          11.02,
          18.29,
          17.59,
          20.08,
          20.23,
          15.01,
          12.02,
          10.51,
          17.92,
          27.2,
          22.76,
          17.29,
          19.44,
          16.66,
          32.68,
          15.98,
          13.03,
          18.28,
          24.71,
          21.16,
          28.97,
          22.49,
          40.17,
          27.28,
          12.03,
          21.01,
          12.46,
          15.36,
          20.49,
          25.21,
          18.24,
          14,
          38.07,
          23.95,
          29.93,
          11.69,
          14.26,
          15.95,
          8.52,
          22.82,
          19.08,
          16,
          34.3,
          41.19,
          9.78,
          7.51,
          14.07,
          13.13,
          17.26,
          24.55,
          19.77,
          48.17,
          16.49,
          21.5,
          12.66,
          13.81,
          24.52,
          20.76,
          31.71,
          50.81,
          15.81,
          7.25,
          31.85,
          16.82,
          32.9,
          17.89,
          14.48,
          34.63,
          34.65,
          23.33,
          45.35,
          23.17,
          40.55,
          20.69,
          30.46,
          23.1,
          15.69,
          28.44,
          15.48,
          16.58,
          7.56,
          10.34,
          13.51,
          18.71,
          20.53,
          26.59,
          38.73,
          24.27,
          30.06,
          25.89,
          48.33,
          28.15,
          11.59,
          7.74,
          12.16,
          8.58,
          13.42,
          20.45,
          13.28,
          24.01,
          15.69,
          11.61,
          10.77,
          15.53,
          10.07,
          12.6,
          32.83,
          29.03,
          22.67,
          17.82
         ],
         "xaxis": "x2",
         "yaxis": "y2"
        }
       ],
       "layout": {
        "autosize": true,
        "barmode": "relative",
        "legend": {
         "title": {
          "text": "sex"
         },
         "tracegroupgap": 0
        },
        "margin": {
         "t": 60
        },
        "template": {
         "data": {
          "bar": [
           {
            "error_x": {
             "color": "#2a3f5f"
            },
            "error_y": {
             "color": "#2a3f5f"
            },
            "marker": {
             "line": {
              "color": "#E5ECF6",
              "width": 0.5
             },
             "pattern": {
              "fillmode": "overlay",
              "size": 10,
              "solidity": 0.2
             }
            },
            "type": "bar"
           }
          ],
          "barpolar": [
           {
            "marker": {
             "line": {
              "color": "#E5ECF6",
              "width": 0.5
             },
             "pattern": {
              "fillmode": "overlay",
              "size": 10,
              "solidity": 0.2
             }
            },
            "type": "barpolar"
           }
          ],
          "carpet": [
           {
            "aaxis": {
             "endlinecolor": "#2a3f5f",
             "gridcolor": "white",
             "linecolor": "white",
             "minorgridcolor": "white",
             "startlinecolor": "#2a3f5f"
            },
            "baxis": {
             "endlinecolor": "#2a3f5f",
             "gridcolor": "white",
             "linecolor": "white",
             "minorgridcolor": "white",
             "startlinecolor": "#2a3f5f"
            },
            "type": "carpet"
           }
          ],
          "choropleth": [
           {
            "colorbar": {
             "outlinewidth": 0,
             "ticks": ""
            },
            "type": "choropleth"
           }
          ],
          "contour": [
           {
            "colorbar": {
             "outlinewidth": 0,
             "ticks": ""
            },
            "colorscale": [
             [
              0,
              "#0d0887"
             ],
             [
              0.1111111111111111,
              "#46039f"
             ],
             [
              0.2222222222222222,
              "#7201a8"
             ],
             [
              0.3333333333333333,
              "#9c179e"
             ],
             [
              0.4444444444444444,
              "#bd3786"
             ],
             [
              0.5555555555555556,
              "#d8576b"
             ],
             [
              0.6666666666666666,
              "#ed7953"
             ],
             [
              0.7777777777777778,
              "#fb9f3a"
             ],
             [
              0.8888888888888888,
              "#fdca26"
             ],
             [
              1,
              "#f0f921"
             ]
            ],
            "type": "contour"
           }
          ],
          "contourcarpet": [
           {
            "colorbar": {
             "outlinewidth": 0,
             "ticks": ""
            },
            "type": "contourcarpet"
           }
          ],
          "heatmap": [
           {
            "colorbar": {
             "outlinewidth": 0,
             "ticks": ""
            },
            "colorscale": [
             [
              0,
              "#0d0887"
             ],
             [
              0.1111111111111111,
              "#46039f"
             ],
             [
              0.2222222222222222,
              "#7201a8"
             ],
             [
              0.3333333333333333,
              "#9c179e"
             ],
             [
              0.4444444444444444,
              "#bd3786"
             ],
             [
              0.5555555555555556,
              "#d8576b"
             ],
             [
              0.6666666666666666,
              "#ed7953"
             ],
             [
              0.7777777777777778,
              "#fb9f3a"
             ],
             [
              0.8888888888888888,
              "#fdca26"
             ],
             [
              1,
              "#f0f921"
             ]
            ],
            "type": "heatmap"
           }
          ],
          "heatmapgl": [
           {
            "colorbar": {
             "outlinewidth": 0,
             "ticks": ""
            },
            "colorscale": [
             [
              0,
              "#0d0887"
             ],
             [
              0.1111111111111111,
              "#46039f"
             ],
             [
              0.2222222222222222,
              "#7201a8"
             ],
             [
              0.3333333333333333,
              "#9c179e"
             ],
             [
              0.4444444444444444,
              "#bd3786"
             ],
             [
              0.5555555555555556,
              "#d8576b"
             ],
             [
              0.6666666666666666,
              "#ed7953"
             ],
             [
              0.7777777777777778,
              "#fb9f3a"
             ],
             [
              0.8888888888888888,
              "#fdca26"
             ],
             [
              1,
              "#f0f921"
             ]
            ],
            "type": "heatmapgl"
           }
          ],
          "histogram": [
           {
            "marker": {
             "pattern": {
              "fillmode": "overlay",
              "size": 10,
              "solidity": 0.2
             }
            },
            "type": "histogram"
           }
          ],
          "histogram2d": [
           {
            "colorbar": {
             "outlinewidth": 0,
             "ticks": ""
            },
            "colorscale": [
             [
              0,
              "#0d0887"
             ],
             [
              0.1111111111111111,
              "#46039f"
             ],
             [
              0.2222222222222222,
              "#7201a8"
             ],
             [
              0.3333333333333333,
              "#9c179e"
             ],
             [
              0.4444444444444444,
              "#bd3786"
             ],
             [
              0.5555555555555556,
              "#d8576b"
             ],
             [
              0.6666666666666666,
              "#ed7953"
             ],
             [
              0.7777777777777778,
              "#fb9f3a"
             ],
             [
              0.8888888888888888,
              "#fdca26"
             ],
             [
              1,
              "#f0f921"
             ]
            ],
            "type": "histogram2d"
           }
          ],
          "histogram2dcontour": [
           {
            "colorbar": {
             "outlinewidth": 0,
             "ticks": ""
            },
            "colorscale": [
             [
              0,
              "#0d0887"
             ],
             [
              0.1111111111111111,
              "#46039f"
             ],
             [
              0.2222222222222222,
              "#7201a8"
             ],
             [
              0.3333333333333333,
              "#9c179e"
             ],
             [
              0.4444444444444444,
              "#bd3786"
             ],
             [
              0.5555555555555556,
              "#d8576b"
             ],
             [
              0.6666666666666666,
              "#ed7953"
             ],
             [
              0.7777777777777778,
              "#fb9f3a"
             ],
             [
              0.8888888888888888,
              "#fdca26"
             ],
             [
              1,
              "#f0f921"
             ]
            ],
            "type": "histogram2dcontour"
           }
          ],
          "mesh3d": [
           {
            "colorbar": {
             "outlinewidth": 0,
             "ticks": ""
            },
            "type": "mesh3d"
           }
          ],
          "parcoords": [
           {
            "line": {
             "colorbar": {
              "outlinewidth": 0,
              "ticks": ""
             }
            },
            "type": "parcoords"
           }
          ],
          "pie": [
           {
            "automargin": true,
            "type": "pie"
           }
          ],
          "scatter": [
           {
            "fillpattern": {
             "fillmode": "overlay",
             "size": 10,
             "solidity": 0.2
            },
            "type": "scatter"
           }
          ],
          "scatter3d": [
           {
            "line": {
             "colorbar": {
              "outlinewidth": 0,
              "ticks": ""
             }
            },
            "marker": {
             "colorbar": {
              "outlinewidth": 0,
              "ticks": ""
             }
            },
            "type": "scatter3d"
           }
          ],
          "scattercarpet": [
           {
            "marker": {
             "colorbar": {
              "outlinewidth": 0,
              "ticks": ""
             }
            },
            "type": "scattercarpet"
           }
          ],
          "scattergeo": [
           {
            "marker": {
             "colorbar": {
              "outlinewidth": 0,
              "ticks": ""
             }
            },
            "type": "scattergeo"
           }
          ],
          "scattergl": [
           {
            "marker": {
             "colorbar": {
              "outlinewidth": 0,
              "ticks": ""
             }
            },
            "type": "scattergl"
           }
          ],
          "scattermapbox": [
           {
            "marker": {
             "colorbar": {
              "outlinewidth": 0,
              "ticks": ""
             }
            },
            "type": "scattermapbox"
           }
          ],
          "scatterpolar": [
           {
            "marker": {
             "colorbar": {
              "outlinewidth": 0,
              "ticks": ""
             }
            },
            "type": "scatterpolar"
           }
          ],
          "scatterpolargl": [
           {
            "marker": {
             "colorbar": {
              "outlinewidth": 0,
              "ticks": ""
             }
            },
            "type": "scatterpolargl"
           }
          ],
          "scatterternary": [
           {
            "marker": {
             "colorbar": {
              "outlinewidth": 0,
              "ticks": ""
             }
            },
            "type": "scatterternary"
           }
          ],
          "surface": [
           {
            "colorbar": {
             "outlinewidth": 0,
             "ticks": ""
            },
            "colorscale": [
             [
              0,
              "#0d0887"
             ],
             [
              0.1111111111111111,
              "#46039f"
             ],
             [
              0.2222222222222222,
              "#7201a8"
             ],
             [
              0.3333333333333333,
              "#9c179e"
             ],
             [
              0.4444444444444444,
              "#bd3786"
             ],
             [
              0.5555555555555556,
              "#d8576b"
             ],
             [
              0.6666666666666666,
              "#ed7953"
             ],
             [
              0.7777777777777778,
              "#fb9f3a"
             ],
             [
              0.8888888888888888,
              "#fdca26"
             ],
             [
              1,
              "#f0f921"
             ]
            ],
            "type": "surface"
           }
          ],
          "table": [
           {
            "cells": {
             "fill": {
              "color": "#EBF0F8"
             },
             "line": {
              "color": "white"
             }
            },
            "header": {
             "fill": {
              "color": "#C8D4E3"
             },
             "line": {
              "color": "white"
             }
            },
            "type": "table"
           }
          ]
         },
         "layout": {
          "annotationdefaults": {
           "arrowcolor": "#2a3f5f",
           "arrowhead": 0,
           "arrowwidth": 1
          },
          "autotypenumbers": "strict",
          "coloraxis": {
           "colorbar": {
            "outlinewidth": 0,
            "ticks": ""
           }
          },
          "colorscale": {
           "diverging": [
            [
             0,
             "#8e0152"
            ],
            [
             0.1,
             "#c51b7d"
            ],
            [
             0.2,
             "#de77ae"
            ],
            [
             0.3,
             "#f1b6da"
            ],
            [
             0.4,
             "#fde0ef"
            ],
            [
             0.5,
             "#f7f7f7"
            ],
            [
             0.6,
             "#e6f5d0"
            ],
            [
             0.7,
             "#b8e186"
            ],
            [
             0.8,
             "#7fbc41"
            ],
            [
             0.9,
             "#4d9221"
            ],
            [
             1,
             "#276419"
            ]
           ],
           "sequential": [
            [
             0,
             "#0d0887"
            ],
            [
             0.1111111111111111,
             "#46039f"
            ],
            [
             0.2222222222222222,
             "#7201a8"
            ],
            [
             0.3333333333333333,
             "#9c179e"
            ],
            [
             0.4444444444444444,
             "#bd3786"
            ],
            [
             0.5555555555555556,
             "#d8576b"
            ],
            [
             0.6666666666666666,
             "#ed7953"
            ],
            [
             0.7777777777777778,
             "#fb9f3a"
            ],
            [
             0.8888888888888888,
             "#fdca26"
            ],
            [
             1,
             "#f0f921"
            ]
           ],
           "sequentialminus": [
            [
             0,
             "#0d0887"
            ],
            [
             0.1111111111111111,
             "#46039f"
            ],
            [
             0.2222222222222222,
             "#7201a8"
            ],
            [
             0.3333333333333333,
             "#9c179e"
            ],
            [
             0.4444444444444444,
             "#bd3786"
            ],
            [
             0.5555555555555556,
             "#d8576b"
            ],
            [
             0.6666666666666666,
             "#ed7953"
            ],
            [
             0.7777777777777778,
             "#fb9f3a"
            ],
            [
             0.8888888888888888,
             "#fdca26"
            ],
            [
             1,
             "#f0f921"
            ]
           ]
          },
          "colorway": [
           "#636efa",
           "#EF553B",
           "#00cc96",
           "#ab63fa",
           "#FFA15A",
           "#19d3f3",
           "#FF6692",
           "#B6E880",
           "#FF97FF",
           "#FECB52"
          ],
          "font": {
           "color": "#2a3f5f"
          },
          "geo": {
           "bgcolor": "white",
           "lakecolor": "white",
           "landcolor": "#E5ECF6",
           "showlakes": true,
           "showland": true,
           "subunitcolor": "white"
          },
          "hoverlabel": {
           "align": "left"
          },
          "hovermode": "closest",
          "mapbox": {
           "style": "light"
          },
          "paper_bgcolor": "white",
          "plot_bgcolor": "#E5ECF6",
          "polar": {
           "angularaxis": {
            "gridcolor": "white",
            "linecolor": "white",
            "ticks": ""
           },
           "bgcolor": "#E5ECF6",
           "radialaxis": {
            "gridcolor": "white",
            "linecolor": "white",
            "ticks": ""
           }
          },
          "scene": {
           "xaxis": {
            "backgroundcolor": "#E5ECF6",
            "gridcolor": "white",
            "gridwidth": 2,
            "linecolor": "white",
            "showbackground": true,
            "ticks": "",
            "zerolinecolor": "white"
           },
           "yaxis": {
            "backgroundcolor": "#E5ECF6",
            "gridcolor": "white",
            "gridwidth": 2,
            "linecolor": "white",
            "showbackground": true,
            "ticks": "",
            "zerolinecolor": "white"
           },
           "zaxis": {
            "backgroundcolor": "#E5ECF6",
            "gridcolor": "white",
            "gridwidth": 2,
            "linecolor": "white",
            "showbackground": true,
            "ticks": "",
            "zerolinecolor": "white"
           }
          },
          "shapedefaults": {
           "line": {
            "color": "#2a3f5f"
           }
          },
          "ternary": {
           "aaxis": {
            "gridcolor": "white",
            "linecolor": "white",
            "ticks": ""
           },
           "baxis": {
            "gridcolor": "white",
            "linecolor": "white",
            "ticks": ""
           },
           "bgcolor": "#E5ECF6",
           "caxis": {
            "gridcolor": "white",
            "linecolor": "white",
            "ticks": ""
           }
          },
          "title": {
           "x": 0.05
          },
          "xaxis": {
           "automargin": true,
           "gridcolor": "white",
           "linecolor": "white",
           "ticks": "",
           "title": {
            "standoff": 15
           },
           "zerolinecolor": "white",
           "zerolinewidth": 2
          },
          "yaxis": {
           "automargin": true,
           "gridcolor": "white",
           "linecolor": "white",
           "ticks": "",
           "title": {
            "standoff": 15
           },
           "zerolinecolor": "white",
           "zerolinewidth": 2
          }
         }
        },
        "xaxis": {
         "anchor": "y",
         "autorange": true,
         "domain": [
          0,
          1
         ],
         "range": [
          0.41777777777777736,
          53.46222222222222
         ],
         "title": {
          "text": "total_bill"
         },
         "type": "linear"
        },
        "xaxis2": {
         "anchor": "y2",
         "autorange": true,
         "domain": [
          0,
          1
         ],
         "matches": "x",
         "range": [
          0.41777777777777736,
          53.46222222222222
         ],
         "showgrid": true,
         "showticklabels": false,
         "type": "linear"
        },
        "yaxis": {
         "anchor": "x",
         "autorange": true,
         "domain": [
          0,
          0.7326
         ],
         "range": [
          0,
          95.13684210526316
         ],
         "title": {
          "text": "sum of tip"
         },
         "type": "linear"
        },
        "yaxis2": {
         "anchor": "x2",
         "autorange": true,
         "domain": [
          0.7426,
          1
         ],
         "matches": "y2",
         "range": [
          -0.6118818527634817,
          1.5
         ],
         "showgrid": false,
         "showline": false,
         "showticklabels": false,
         "ticks": "",
         "type": "category"
        }
       }
      },
      "image/png": "[encoded data removed]",
      "text/html": [
       "<div>                            <div id=\"9836d684-1472-4a24-9b78-b35870d686db\" class=\"plotly-graph-div\" style=\"height:525px; width:100%;\"></div>            <script type=\"text/javascript\">                require([\"plotly\"], function(Plotly) {                    window.PLOTLYENV=window.PLOTLYENV || {};                                    if (document.getElementById(\"9836d684-1472-4a24-9b78-b35870d686db\")) {                    Plotly.newPlot(                        \"9836d684-1472-4a24-9b78-b35870d686db\",                        [{\"alignmentgroup\":\"True\",\"bingroup\":\"x\",\"histfunc\":\"sum\",\"hovertemplate\":\"sex=Female<br>total_bill=%{x}<br>sum of tip=%{y}<extra></extra>\",\"legendgroup\":\"Female\",\"marker\":{\"color\":\"#636efa\",\"pattern\":{\"shape\":\"\"}},\"name\":\"Female\",\"offsetgroup\":\"Female\",\"orientation\":\"v\",\"showlegend\":true,\"x\":[16.99,24.59,35.26,14.83,10.33,16.97,20.29,15.77,19.65,15.06,20.69,16.93,10.29,34.81,26.41,16.45,3.07,17.07,26.86,25.28,14.73,10.07,34.83,5.75,16.32,22.75,11.35,15.38,44.3,22.42,20.92,14.31,7.25,25.71,17.31,10.65,12.43,24.08,13.42,12.48,29.8,14.52,11.38,20.27,11.17,12.26,18.26,8.51,10.33,14.15,13.16,17.47,27.05,16.43,8.35,18.64,11.87,29.85,25.0,13.39,16.21,17.51,10.59,10.63,9.6,20.9,18.15,19.81,43.11,13.0,12.74,13.0,16.4,16.47,12.76,13.27,28.17,12.9,30.14,13.42,15.98,16.27,10.09,22.12,35.83,27.18,18.78],\"xaxis\":\"x\",\"y\":[1.01,3.61,5.0,3.02,1.67,3.5,2.75,2.23,3.0,3.0,2.45,3.07,2.6,5.2,1.5,2.47,1.0,3.0,3.14,5.0,2.2,1.83,5.17,1.0,4.3,3.25,2.5,3.0,2.5,3.48,4.08,4.0,1.0,4.0,3.5,1.5,1.8,2.92,1.68,2.52,4.2,2.0,2.0,2.83,1.5,2.0,3.25,1.25,2.0,2.0,2.75,3.5,5.0,2.3,1.5,1.36,1.63,5.14,3.75,2.61,2.0,3.0,1.61,2.0,4.0,3.5,3.5,4.19,5.0,2.0,2.01,2.0,2.5,3.23,2.23,2.5,6.5,1.1,3.09,3.48,3.0,2.5,2.0,2.88,4.67,2.0,3.0],\"yaxis\":\"y\",\"type\":\"histogram\"},{\"alignmentgroup\":\"True\",\"boxpoints\":\"all\",\"customdata\":[[\"Female\",\"No\",\"Sun\",\"Dinner\",2],[\"Female\",\"No\",\"Sun\",\"Dinner\",4],[\"Female\",\"No\",\"Sun\",\"Dinner\",4],[\"Female\",\"No\",\"Sun\",\"Dinner\",2],[\"Female\",\"No\",\"Sun\",\"Dinner\",3],[\"Female\",\"No\",\"Sun\",\"Dinner\",3],[\"Female\",\"No\",\"Sat\",\"Dinner\",2],[\"Female\",\"No\",\"Sat\",\"Dinner\",2],[\"Female\",\"No\",\"Sat\",\"Dinner\",2],[\"Female\",\"No\",\"Sat\",\"Dinner\",2],[\"Female\",\"No\",\"Sat\",\"Dinner\",4],[\"Female\",\"No\",\"Sat\",\"Dinner\",3],[\"Female\",\"No\",\"Sun\",\"Dinner\",2],[\"Female\",\"No\",\"Sun\",\"Dinner\",4],[\"Female\",\"No\",\"Sat\",\"Dinner\",2],[\"Female\",\"No\",\"Sat\",\"Dinner\",2],[\"Female\",\"Yes\",\"Sat\",\"Dinner\",1],[\"Female\",\"No\",\"Sat\",\"Dinner\",3],[\"Female\",\"Yes\",\"Sat\",\"Dinner\",2],[\"Female\",\"Yes\",\"Sat\",\"Dinner\",2],[\"Female\",\"No\",\"Sat\",\"Dinner\",2],[\"Female\",\"No\",\"Thur\",\"Lunch\",1],[\"Female\",\"No\",\"Thur\",\"Lunch\",4],[\"Female\",\"Yes\",\"Fri\",\"Dinner\",2],[\"Female\",\"Yes\",\"Fri\",\"Dinner\",2],[\"Female\",\"No\",\"Fri\",\"Dinner\",2],[\"Female\",\"Yes\",\"Fri\",\"Dinner\",2],[\"Female\",\"Yes\",\"Fri\",\"Dinner\",2],[\"Female\",\"Yes\",\"Sat\",\"Dinner\",3],[\"Female\",\"Yes\",\"Sat\",\"Dinner\",2],[\"Female\",\"No\",\"Sat\",\"Dinner\",2],[\"Female\",\"Yes\",\"Sat\",\"Dinner\",2],[\"Female\",\"No\",\"Sat\",\"Dinner\",1],[\"Female\",\"No\",\"Sun\",\"Dinner\",3],[\"Female\",\"No\",\"Sun\",\"Dinner\",2],[\"Female\",\"No\",\"Thur\",\"Lunch\",2],[\"Female\",\"No\",\"Thur\",\"Lunch\",2],[\"Female\",\"No\",\"Thur\",\"Lunch\",4],[\"Female\",\"No\",\"Thur\",\"Lunch\",2],[\"Female\",\"No\",\"Thur\",\"Lunch\",2],[\"Female\",\"No\",\"Thur\",\"Lunch\",6],[\"Female\",\"No\",\"Thur\",\"Lunch\",2],[\"Female\",\"No\",\"Thur\",\"Lunch\",2],[\"Female\",\"No\",\"Thur\",\"Lunch\",2],[\"Female\",\"No\",\"Thur\",\"Lunch\",2],[\"Female\",\"No\",\"Thur\",\"Lunch\",2],[\"Female\",\"No\",\"Thur\",\"Lunch\",2],[\"Female\",\"No\",\"Thur\",\"Lunch\",2],[\"Female\",\"No\",\"Thur\",\"Lunch\",2],[\"Female\",\"No\",\"Thur\",\"Lunch\",2],[\"Female\",\"No\",\"Thur\",\"Lunch\",2],[\"Female\",\"No\",\"Thur\",\"Lunch\",2],[\"Female\",\"No\",\"Thur\",\"Lunch\",6],[\"Female\",\"No\",\"Thur\",\"Lunch\",2],[\"Female\",\"No\",\"Thur\",\"Lunch\",2],[\"Female\",\"No\",\"Thur\",\"Lunch\",3],[\"Female\",\"No\",\"Thur\",\"Lunch\",2],[\"Female\",\"No\",\"Sun\",\"Dinner\",5],[\"Female\",\"No\",\"Sun\",\"Dinner\",4],[\"Female\",\"No\",\"Sun\",\"Dinner\",2],[\"Female\",\"No\",\"Sun\",\"Dinner\",3],[\"Female\",\"Yes\",\"Sun\",\"Dinner\",2],[\"Female\",\"Yes\",\"Sat\",\"Dinner\",2],[\"Female\",\"Yes\",\"Sat\",\"Dinner\",2],[\"Female\",\"Yes\",\"Sun\",\"Dinner\",2],[\"Female\",\"Yes\",\"Sun\",\"Dinner\",3],[\"Female\",\"Yes\",\"Sun\",\"Dinner\",3],[\"Female\",\"Yes\",\"Thur\",\"Lunch\",2],[\"Female\",\"Yes\",\"Thur\",\"Lunch\",4],[\"Female\",\"Yes\",\"Thur\",\"Lunch\",2],[\"Female\",\"Yes\",\"Thur\",\"Lunch\",2],[\"Female\",\"Yes\",\"Thur\",\"Lunch\",2],[\"Female\",\"Yes\",\"Thur\",\"Lunch\",2],[\"Female\",\"Yes\",\"Thur\",\"Lunch\",3],[\"Female\",\"Yes\",\"Sat\",\"Dinner\",2],[\"Female\",\"Yes\",\"Sat\",\"Dinner\",2],[\"Female\",\"Yes\",\"Sat\",\"Dinner\",3],[\"Female\",\"Yes\",\"Sat\",\"Dinner\",2],[\"Female\",\"Yes\",\"Sat\",\"Dinner\",4],[\"Female\",\"Yes\",\"Fri\",\"Lunch\",2],[\"Female\",\"No\",\"Fri\",\"Lunch\",3],[\"Female\",\"Yes\",\"Fri\",\"Lunch\",2],[\"Female\",\"Yes\",\"Fri\",\"Lunch\",2],[\"Female\",\"Yes\",\"Sat\",\"Dinner\",2],[\"Female\",\"No\",\"Sat\",\"Dinner\",3],[\"Female\",\"Yes\",\"Sat\",\"Dinner\",2],[\"Female\",\"No\",\"Thur\",\"Dinner\",2]],\"fillcolor\":\"rgba(255,255,255,0)\",\"hoveron\":\"points\",\"hovertemplate\":\"sex=%{customdata[0]}<br>total_bill=%{x}<br>smoker=%{customdata[1]}<br>day=%{customdata[2]}<br>time=%{customdata[3]}<br>size=%{customdata[4]}<extra></extra>\",\"jitter\":0,\"legendgroup\":\"Female\",\"line\":{\"color\":\"rgba(255,255,255,0)\"},\"marker\":{\"color\":\"#636efa\",\"symbol\":\"line-ns-open\"},\"name\":\"Female\",\"offsetgroup\":\"Female\",\"showlegend\":false,\"x\":[16.99,24.59,35.26,14.83,10.33,16.97,20.29,15.77,19.65,15.06,20.69,16.93,10.29,34.81,26.41,16.45,3.07,17.07,26.86,25.28,14.73,10.07,34.83,5.75,16.32,22.75,11.35,15.38,44.3,22.42,20.92,14.31,7.25,25.71,17.31,10.65,12.43,24.08,13.42,12.48,29.8,14.52,11.38,20.27,11.17,12.26,18.26,8.51,10.33,14.15,13.16,17.47,27.05,16.43,8.35,18.64,11.87,29.85,25.0,13.39,16.21,17.51,10.59,10.63,9.6,20.9,18.15,19.81,43.11,13.0,12.74,13.0,16.4,16.47,12.76,13.27,28.17,12.9,30.14,13.42,15.98,16.27,10.09,22.12,35.83,27.18,18.78],\"xaxis\":\"x2\",\"yaxis\":\"y2\",\"type\":\"box\"},{\"alignmentgroup\":\"True\",\"bingroup\":\"x\",\"histfunc\":\"sum\",\"hovertemplate\":\"sex=Male<br>total_bill=%{x}<br>sum of tip=%{y}<extra></extra>\",\"legendgroup\":\"Male\",\"marker\":{\"color\":\"#EF553B\",\"pattern\":{\"shape\":\"\"}},\"name\":\"Male\",\"offsetgroup\":\"Male\",\"orientation\":\"v\",\"showlegend\":true,\"x\":[10.34,21.01,23.68,25.29,8.77,26.88,15.04,14.78,10.27,15.42,18.43,21.58,16.29,20.65,17.92,39.42,19.82,17.81,13.37,12.69,21.7,9.55,18.35,17.78,24.06,16.31,18.69,31.27,16.04,17.46,13.94,9.68,30.4,18.29,22.23,32.4,28.55,18.04,12.54,9.94,25.56,19.49,38.01,11.24,48.27,20.29,13.81,11.02,18.29,17.59,20.08,20.23,15.01,12.02,10.51,17.92,27.2,22.76,17.29,19.44,16.66,32.68,15.98,13.03,18.28,24.71,21.16,28.97,22.49,40.17,27.28,12.03,21.01,12.46,15.36,20.49,25.21,18.24,14.0,38.07,23.95,29.93,11.69,14.26,15.95,8.52,22.82,19.08,16.0,34.3,41.19,9.78,7.51,14.07,13.13,17.26,24.55,19.77,48.17,16.49,21.5,12.66,13.81,24.52,20.76,31.71,50.81,15.81,7.25,31.85,16.82,32.9,17.89,14.48,34.63,34.65,23.33,45.35,23.17,40.55,20.69,30.46,23.1,15.69,28.44,15.48,16.58,7.56,10.34,13.51,18.71,20.53,26.59,38.73,24.27,30.06,25.89,48.33,28.15,11.59,7.74,12.16,8.58,13.42,20.45,13.28,24.01,15.69,11.61,10.77,15.53,10.07,12.6,32.83,29.03,22.67,17.82],\"xaxis\":\"x\",\"y\":[1.66,3.5,3.31,4.71,2.0,3.12,1.96,3.23,1.71,1.57,3.0,3.92,3.71,3.35,4.08,7.58,3.18,2.34,2.0,2.0,4.3,1.45,2.5,3.27,3.6,2.0,2.31,5.0,2.24,2.54,3.06,1.32,5.6,3.0,5.0,6.0,2.05,3.0,2.5,1.56,4.34,3.51,3.0,1.76,6.73,3.21,2.0,1.98,3.76,2.64,3.15,2.01,2.09,1.97,1.25,3.08,4.0,3.0,2.71,3.0,3.4,5.0,2.03,2.0,4.0,5.85,3.0,3.0,3.5,4.73,4.0,1.5,3.0,1.5,1.64,4.06,4.29,3.76,3.0,4.0,2.55,5.07,2.31,2.5,2.0,1.48,2.18,1.5,2.0,6.7,5.0,1.73,2.0,2.5,2.0,2.74,2.0,2.0,5.0,2.0,3.5,2.5,2.0,3.48,2.24,4.5,10.0,3.16,5.15,3.18,4.0,3.11,2.0,2.0,3.55,3.68,5.65,3.5,6.5,3.0,5.0,2.0,4.0,1.5,2.56,2.02,4.0,1.44,2.0,2.0,4.0,4.0,3.41,3.0,2.03,2.0,5.16,9.0,3.0,1.5,1.44,2.2,1.92,1.58,3.0,2.72,2.0,3.0,3.39,1.47,3.0,1.25,1.0,1.17,5.92,2.0,1.75],\"yaxis\":\"y\",\"type\":\"histogram\"},{\"alignmentgroup\":\"True\",\"boxpoints\":\"all\",\"customdata\":[[\"Male\",\"No\",\"Sun\",\"Dinner\",3],[\"Male\",\"No\",\"Sun\",\"Dinner\",3],[\"Male\",\"No\",\"Sun\",\"Dinner\",2],[\"Male\",\"No\",\"Sun\",\"Dinner\",4],[\"Male\",\"No\",\"Sun\",\"Dinner\",2],[\"Male\",\"No\",\"Sun\",\"Dinner\",4],[\"Male\",\"No\",\"Sun\",\"Dinner\",2],[\"Male\",\"No\",\"Sun\",\"Dinner\",2],[\"Male\",\"No\",\"Sun\",\"Dinner\",2],[\"Male\",\"No\",\"Sun\",\"Dinner\",2],[\"Male\",\"No\",\"Sun\",\"Dinner\",4],[\"Male\",\"No\",\"Sun\",\"Dinner\",2],[\"Male\",\"No\",\"Sun\",\"Dinner\",3],[\"Male\",\"No\",\"Sat\",\"Dinner\",3],[\"Male\",\"No\",\"Sat\",\"Dinner\",2],[\"Male\",\"No\",\"Sat\",\"Dinner\",4],[\"Male\",\"No\",\"Sat\",\"Dinner\",2],[\"Male\",\"No\",\"Sat\",\"Dinner\",4],[\"Male\",\"No\",\"Sat\",\"Dinner\",2],[\"Male\",\"No\",\"Sat\",\"Dinner\",2],[\"Male\",\"No\",\"Sat\",\"Dinner\",2],[\"Male\",\"No\",\"Sat\",\"Dinner\",2],[\"Male\",\"No\",\"Sat\",\"Dinner\",4],[\"Male\",\"No\",\"Sat\",\"Dinner\",2],[\"Male\",\"No\",\"Sat\",\"Dinner\",3],[\"Male\",\"No\",\"Sat\",\"Dinner\",3],[\"Male\",\"No\",\"Sat\",\"Dinner\",3],[\"Male\",\"No\",\"Sat\",\"Dinner\",3],[\"Male\",\"No\",\"Sat\",\"Dinner\",3],[\"Male\",\"No\",\"Sun\",\"Dinner\",2],[\"Male\",\"No\",\"Sun\",\"Dinner\",2],[\"Male\",\"No\",\"Sun\",\"Dinner\",2],[\"Male\",\"No\",\"Sun\",\"Dinner\",4],[\"Male\",\"No\",\"Sun\",\"Dinner\",2],[\"Male\",\"No\",\"Sun\",\"Dinner\",2],[\"Male\",\"No\",\"Sun\",\"Dinner\",4],[\"Male\",\"No\",\"Sun\",\"Dinner\",3],[\"Male\",\"No\",\"Sun\",\"Dinner\",2],[\"Male\",\"No\",\"Sun\",\"Dinner\",2],[\"Male\",\"No\",\"Sun\",\"Dinner\",2],[\"Male\",\"No\",\"Sun\",\"Dinner\",4],[\"Male\",\"No\",\"Sun\",\"Dinner\",2],[\"Male\",\"Yes\",\"Sat\",\"Dinner\",4],[\"Male\",\"Yes\",\"Sat\",\"Dinner\",2],[\"Male\",\"No\",\"Sat\",\"Dinner\",4],[\"Male\",\"Yes\",\"Sat\",\"Dinner\",2],[\"Male\",\"Yes\",\"Sat\",\"Dinner\",2],[\"Male\",\"Yes\",\"Sat\",\"Dinner\",2],[\"Male\",\"Yes\",\"Sat\",\"Dinner\",4],[\"Male\",\"No\",\"Sat\",\"Dinner\",3],[\"Male\",\"No\",\"Sat\",\"Dinner\",3],[\"Male\",\"No\",\"Sat\",\"Dinner\",2],[\"Male\",\"Yes\",\"Sat\",\"Dinner\",2],[\"Male\",\"No\",\"Sat\",\"Dinner\",2],[\"Male\",\"No\",\"Sat\",\"Dinner\",2],[\"Male\",\"Yes\",\"Sat\",\"Dinner\",2],[\"Male\",\"No\",\"Thur\",\"Lunch\",4],[\"Male\",\"No\",\"Thur\",\"Lunch\",2],[\"Male\",\"No\",\"Thur\",\"Lunch\",2],[\"Male\",\"Yes\",\"Thur\",\"Lunch\",2],[\"Male\",\"No\",\"Thur\",\"Lunch\",2],[\"Male\",\"Yes\",\"Thur\",\"Lunch\",2],[\"Male\",\"No\",\"Thur\",\"Lunch\",2],[\"Male\",\"No\",\"Thur\",\"Lunch\",2],[\"Male\",\"No\",\"Thur\",\"Lunch\",2],[\"Male\",\"No\",\"Thur\",\"Lunch\",2],[\"Male\",\"No\",\"Thur\",\"Lunch\",2],[\"Male\",\"Yes\",\"Fri\",\"Dinner\",2],[\"Male\",\"No\",\"Fri\",\"Dinner\",2],[\"Male\",\"Yes\",\"Fri\",\"Dinner\",4],[\"Male\",\"Yes\",\"Fri\",\"Dinner\",2],[\"Male\",\"Yes\",\"Fri\",\"Dinner\",2],[\"Male\",\"Yes\",\"Fri\",\"Dinner\",2],[\"Male\",\"No\",\"Fri\",\"Dinner\",2],[\"Male\",\"Yes\",\"Sat\",\"Dinner\",2],[\"Male\",\"Yes\",\"Sat\",\"Dinner\",2],[\"Male\",\"Yes\",\"Sat\",\"Dinner\",2],[\"Male\",\"No\",\"Sat\",\"Dinner\",2],[\"Male\",\"No\",\"Sat\",\"Dinner\",2],[\"Male\",\"No\",\"Sun\",\"Dinner\",3],[\"Male\",\"No\",\"Sun\",\"Dinner\",2],[\"Male\",\"No\",\"Sun\",\"Dinner\",4],[\"Male\",\"No\",\"Thur\",\"Lunch\",2],[\"Male\",\"No\",\"Thur\",\"Lunch\",2],[\"Male\",\"No\",\"Thur\",\"Lunch\",2],[\"Male\",\"No\",\"Thur\",\"Lunch\",2],[\"Male\",\"No\",\"Thur\",\"Lunch\",3],[\"Male\",\"No\",\"Thur\",\"Lunch\",2],[\"Male\",\"Yes\",\"Thur\",\"Lunch\",2],[\"Male\",\"No\",\"Thur\",\"Lunch\",6],[\"Male\",\"No\",\"Thur\",\"Lunch\",5],[\"Male\",\"No\",\"Thur\",\"Lunch\",2],[\"Male\",\"No\",\"Thur\",\"Lunch\",2],[\"Male\",\"No\",\"Sun\",\"Dinner\",2],[\"Male\",\"No\",\"Sun\",\"Dinner\",2],[\"Male\",\"No\",\"Sun\",\"Dinner\",3],[\"Male\",\"No\",\"Sun\",\"Dinner\",4],[\"Male\",\"No\",\"Sun\",\"Dinner\",4],[\"Male\",\"No\",\"Sun\",\"Dinner\",6],[\"Male\",\"No\",\"Sun\",\"Dinner\",4],[\"Male\",\"No\",\"Sun\",\"Dinner\",4],[\"Male\",\"No\",\"Sun\",\"Dinner\",2],[\"Male\",\"No\",\"Sun\",\"Dinner\",2],[\"Male\",\"No\",\"Sun\",\"Dinner\",3],[\"Male\",\"No\",\"Sun\",\"Dinner\",2],[\"Male\",\"No\",\"Sun\",\"Dinner\",4],[\"Male\",\"Yes\",\"Sat\",\"Dinner\",3],[\"Male\",\"Yes\",\"Sat\",\"Dinner\",2],[\"Male\",\"Yes\",\"Sun\",\"Dinner\",2],[\"Male\",\"Yes\",\"Sun\",\"Dinner\",2],[\"Male\",\"Yes\",\"Sun\",\"Dinner\",2],[\"Male\",\"Yes\",\"Sun\",\"Dinner\",2],[\"Male\",\"Yes\",\"Sun\",\"Dinner\",2],[\"Male\",\"Yes\",\"Sun\",\"Dinner\",2],[\"Male\",\"Yes\",\"Sun\",\"Dinner\",2],[\"Male\",\"Yes\",\"Sun\",\"Dinner\",4],[\"Male\",\"Yes\",\"Sun\",\"Dinner\",2],[\"Male\",\"Yes\",\"Sun\",\"Dinner\",3],[\"Male\",\"Yes\",\"Sun\",\"Dinner\",4],[\"Male\",\"Yes\",\"Sun\",\"Dinner\",2],[\"Male\",\"No\",\"Sun\",\"Dinner\",5],[\"Male\",\"Yes\",\"Sun\",\"Dinner\",5],[\"Male\",\"Yes\",\"Sun\",\"Dinner\",3],[\"Male\",\"Yes\",\"Sun\",\"Dinner\",2],[\"Male\",\"Yes\",\"Thur\",\"Lunch\",2],[\"Male\",\"Yes\",\"Thur\",\"Lunch\",2],[\"Male\",\"Yes\",\"Thur\",\"Lunch\",2],[\"Male\",\"No\",\"Thur\",\"Lunch\",2],[\"Male\",\"Yes\",\"Thur\",\"Lunch\",2],[\"Male\",\"Yes\",\"Thur\",\"Lunch\",2],[\"Male\",\"Yes\",\"Thur\",\"Lunch\",3],[\"Male\",\"Yes\",\"Thur\",\"Lunch\",4],[\"Male\",\"Yes\",\"Sat\",\"Dinner\",3],[\"Male\",\"Yes\",\"Sat\",\"Dinner\",4],[\"Male\",\"Yes\",\"Sat\",\"Dinner\",2],[\"Male\",\"Yes\",\"Sat\",\"Dinner\",3],[\"Male\",\"Yes\",\"Sat\",\"Dinner\",4],[\"Male\",\"No\",\"Sat\",\"Dinner\",4],[\"Male\",\"Yes\",\"Sat\",\"Dinner\",5],[\"Male\",\"Yes\",\"Sat\",\"Dinner\",2],[\"Male\",\"Yes\",\"Sat\",\"Dinner\",2],[\"Male\",\"Yes\",\"Fri\",\"Lunch\",2],[\"Male\",\"Yes\",\"Fri\",\"Lunch\",1],[\"Male\",\"Yes\",\"Fri\",\"Lunch\",2],[\"Male\",\"No\",\"Sat\",\"Dinner\",4],[\"Male\",\"No\",\"Sat\",\"Dinner\",2],[\"Male\",\"Yes\",\"Sat\",\"Dinner\",4],[\"Male\",\"Yes\",\"Sat\",\"Dinner\",3],[\"Male\",\"No\",\"Sat\",\"Dinner\",2],[\"Male\",\"No\",\"Sat\",\"Dinner\",2],[\"Male\",\"Yes\",\"Sat\",\"Dinner\",2],[\"Male\",\"No\",\"Sat\",\"Dinner\",2],[\"Male\",\"Yes\",\"Sat\",\"Dinner\",2],[\"Male\",\"Yes\",\"Sat\",\"Dinner\",2],[\"Male\",\"No\",\"Sat\",\"Dinner\",3],[\"Male\",\"Yes\",\"Sat\",\"Dinner\",2],[\"Male\",\"No\",\"Sat\",\"Dinner\",2]],\"fillcolor\":\"rgba(255,255,255,0)\",\"hoveron\":\"points\",\"hovertemplate\":\"sex=%{customdata[0]}<br>total_bill=%{x}<br>smoker=%{customdata[1]}<br>day=%{customdata[2]}<br>time=%{customdata[3]}<br>size=%{customdata[4]}<extra></extra>\",\"jitter\":0,\"legendgroup\":\"Male\",\"line\":{\"color\":\"rgba(255,255,255,0)\"},\"marker\":{\"color\":\"#EF553B\",\"symbol\":\"line-ns-open\"},\"name\":\"Male\",\"offsetgroup\":\"Male\",\"showlegend\":false,\"x\":[10.34,21.01,23.68,25.29,8.77,26.88,15.04,14.78,10.27,15.42,18.43,21.58,16.29,20.65,17.92,39.42,19.82,17.81,13.37,12.69,21.7,9.55,18.35,17.78,24.06,16.31,18.69,31.27,16.04,17.46,13.94,9.68,30.4,18.29,22.23,32.4,28.55,18.04,12.54,9.94,25.56,19.49,38.01,11.24,48.27,20.29,13.81,11.02,18.29,17.59,20.08,20.23,15.01,12.02,10.51,17.92,27.2,22.76,17.29,19.44,16.66,32.68,15.98,13.03,18.28,24.71,21.16,28.97,22.49,40.17,27.28,12.03,21.01,12.46,15.36,20.49,25.21,18.24,14.0,38.07,23.95,29.93,11.69,14.26,15.95,8.52,22.82,19.08,16.0,34.3,41.19,9.78,7.51,14.07,13.13,17.26,24.55,19.77,48.17,16.49,21.5,12.66,13.81,24.52,20.76,31.71,50.81,15.81,7.25,31.85,16.82,32.9,17.89,14.48,34.63,34.65,23.33,45.35,23.17,40.55,20.69,30.46,23.1,15.69,28.44,15.48,16.58,7.56,10.34,13.51,18.71,20.53,26.59,38.73,24.27,30.06,25.89,48.33,28.15,11.59,7.74,12.16,8.58,13.42,20.45,13.28,24.01,15.69,11.61,10.77,15.53,10.07,12.6,32.83,29.03,22.67,17.82],\"xaxis\":\"x2\",\"yaxis\":\"y2\",\"type\":\"box\"}],                        {\"template\":{\"data\":{\"histogram2dcontour\":[{\"type\":\"histogram2dcontour\",\"colorbar\":{\"outlinewidth\":0,\"ticks\":\"\"},\"colorscale\":[[0.0,\"#0d0887\"],[0.1111111111111111,\"#46039f\"],[0.2222222222222222,\"#7201a8\"],[0.3333333333333333,\"#9c179e\"],[0.4444444444444444,\"#bd3786\"],[0.5555555555555556,\"#d8576b\"],[0.6666666666666666,\"#ed7953\"],[0.7777777777777778,\"#fb9f3a\"],[0.8888888888888888,\"#fdca26\"],[1.0,\"#f0f921\"]]}],\"choropleth\":[{\"type\":\"choropleth\",\"colorbar\":{\"outlinewidth\":0,\"ticks\":\"\"}}],\"histogram2d\":[{\"type\":\"histogram2d\",\"colorbar\":{\"outlinewidth\":0,\"ticks\":\"\"},\"colorscale\":[[0.0,\"#0d0887\"],[0.1111111111111111,\"#46039f\"],[0.2222222222222222,\"#7201a8\"],[0.3333333333333333,\"#9c179e\"],[0.4444444444444444,\"#bd3786\"],[0.5555555555555556,\"#d8576b\"],[0.6666666666666666,\"#ed7953\"],[0.7777777777777778,\"#fb9f3a\"],[0.8888888888888888,\"#fdca26\"],[1.0,\"#f0f921\"]]}],\"heatmap\":[{\"type\":\"heatmap\",\"colorbar\":{\"outlinewidth\":0,\"ticks\":\"\"},\"colorscale\":[[0.0,\"#0d0887\"],[0.1111111111111111,\"#46039f\"],[0.2222222222222222,\"#7201a8\"],[0.3333333333333333,\"#9c179e\"],[0.4444444444444444,\"#bd3786\"],[0.5555555555555556,\"#d8576b\"],[0.6666666666666666,\"#ed7953\"],[0.7777777777777778,\"#fb9f3a\"],[0.8888888888888888,\"#fdca26\"],[1.0,\"#f0f921\"]]}],\"heatmapgl\":[{\"type\":\"heatmapgl\",\"colorbar\":{\"outlinewidth\":0,\"ticks\":\"\"},\"colorscale\":[[0.0,\"#0d0887\"],[0.1111111111111111,\"#46039f\"],[0.2222222222222222,\"#7201a8\"],[0.3333333333333333,\"#9c179e\"],[0.4444444444444444,\"#bd3786\"],[0.5555555555555556,\"#d8576b\"],[0.6666666666666666,\"#ed7953\"],[0.7777777777777778,\"#fb9f3a\"],[0.8888888888888888,\"#fdca26\"],[1.0,\"#f0f921\"]]}],\"contourcarpet\":[{\"type\":\"contourcarpet\",\"colorbar\":{\"outlinewidth\":0,\"ticks\":\"\"}}],\"contour\":[{\"type\":\"contour\",\"colorbar\":{\"outlinewidth\":0,\"ticks\":\"\"},\"colorscale\":[[0.0,\"#0d0887\"],[0.1111111111111111,\"#46039f\"],[0.2222222222222222,\"#7201a8\"],[0.3333333333333333,\"#9c179e\"],[0.4444444444444444,\"#bd3786\"],[0.5555555555555556,\"#d8576b\"],[0.6666666666666666,\"#ed7953\"],[0.7777777777777778,\"#fb9f3a\"],[0.8888888888888888,\"#fdca26\"],[1.0,\"#f0f921\"]]}],\"surface\":[{\"type\":\"surface\",\"colorbar\":{\"outlinewidth\":0,\"ticks\":\"\"},\"colorscale\":[[0.0,\"#0d0887\"],[0.1111111111111111,\"#46039f\"],[0.2222222222222222,\"#7201a8\"],[0.3333333333333333,\"#9c179e\"],[0.4444444444444444,\"#bd3786\"],[0.5555555555555556,\"#d8576b\"],[0.6666666666666666,\"#ed7953\"],[0.7777777777777778,\"#fb9f3a\"],[0.8888888888888888,\"#fdca26\"],[1.0,\"#f0f921\"]]}],\"mesh3d\":[{\"type\":\"mesh3d\",\"colorbar\":{\"outlinewidth\":0,\"ticks\":\"\"}}],\"scatter\":[{\"fillpattern\":{\"fillmode\":\"overlay\",\"size\":10,\"solidity\":0.2},\"type\":\"scatter\"}],\"parcoords\":[{\"type\":\"parcoords\",\"line\":{\"colorbar\":{\"outlinewidth\":0,\"ticks\":\"\"}}}],\"scatterpolargl\":[{\"type\":\"scatterpolargl\",\"marker\":{\"colorbar\":{\"outlinewidth\":0,\"ticks\":\"\"}}}],\"bar\":[{\"error_x\":{\"color\":\"#2a3f5f\"},\"error_y\":{\"color\":\"#2a3f5f\"},\"marker\":{\"line\":{\"color\":\"#E5ECF6\",\"width\":0.5},\"pattern\":{\"fillmode\":\"overlay\",\"size\":10,\"solidity\":0.2}},\"type\":\"bar\"}],\"scattergeo\":[{\"type\":\"scattergeo\",\"marker\":{\"colorbar\":{\"outlinewidth\":0,\"ticks\":\"\"}}}],\"scatterpolar\":[{\"type\":\"scatterpolar\",\"marker\":{\"colorbar\":{\"outlinewidth\":0,\"ticks\":\"\"}}}],\"histogram\":[{\"marker\":{\"pattern\":{\"fillmode\":\"overlay\",\"size\":10,\"solidity\":0.2}},\"type\":\"histogram\"}],\"scattergl\":[{\"type\":\"scattergl\",\"marker\":{\"colorbar\":{\"outlinewidth\":0,\"ticks\":\"\"}}}],\"scatter3d\":[{\"type\":\"scatter3d\",\"line\":{\"colorbar\":{\"outlinewidth\":0,\"ticks\":\"\"}},\"marker\":{\"colorbar\":{\"outlinewidth\":0,\"ticks\":\"\"}}}],\"scattermapbox\":[{\"type\":\"scattermapbox\",\"marker\":{\"colorbar\":{\"outlinewidth\":0,\"ticks\":\"\"}}}],\"scatterternary\":[{\"type\":\"scatterternary\",\"marker\":{\"colorbar\":{\"outlinewidth\":0,\"ticks\":\"\"}}}],\"scattercarpet\":[{\"type\":\"scattercarpet\",\"marker\":{\"colorbar\":{\"outlinewidth\":0,\"ticks\":\"\"}}}],\"carpet\":[{\"aaxis\":{\"endlinecolor\":\"#2a3f5f\",\"gridcolor\":\"white\",\"linecolor\":\"white\",\"minorgridcolor\":\"white\",\"startlinecolor\":\"#2a3f5f\"},\"baxis\":{\"endlinecolor\":\"#2a3f5f\",\"gridcolor\":\"white\",\"linecolor\":\"white\",\"minorgridcolor\":\"white\",\"startlinecolor\":\"#2a3f5f\"},\"type\":\"carpet\"}],\"table\":[{\"cells\":{\"fill\":{\"color\":\"#EBF0F8\"},\"line\":{\"color\":\"white\"}},\"header\":{\"fill\":{\"color\":\"#C8D4E3\"},\"line\":{\"color\":\"white\"}},\"type\":\"table\"}],\"barpolar\":[{\"marker\":{\"line\":{\"color\":\"#E5ECF6\",\"width\":0.5},\"pattern\":{\"fillmode\":\"overlay\",\"size\":10,\"solidity\":0.2}},\"type\":\"barpolar\"}],\"pie\":[{\"automargin\":true,\"type\":\"pie\"}]},\"layout\":{\"autotypenumbers\":\"strict\",\"colorway\":[\"#636efa\",\"#EF553B\",\"#00cc96\",\"#ab63fa\",\"#FFA15A\",\"#19d3f3\",\"#FF6692\",\"#B6E880\",\"#FF97FF\",\"#FECB52\"],\"font\":{\"color\":\"#2a3f5f\"},\"hovermode\":\"closest\",\"hoverlabel\":{\"align\":\"left\"},\"paper_bgcolor\":\"white\",\"plot_bgcolor\":\"#E5ECF6\",\"polar\":{\"bgcolor\":\"#E5ECF6\",\"angularaxis\":{\"gridcolor\":\"white\",\"linecolor\":\"white\",\"ticks\":\"\"},\"radialaxis\":{\"gridcolor\":\"white\",\"linecolor\":\"white\",\"ticks\":\"\"}},\"ternary\":{\"bgcolor\":\"#E5ECF6\",\"aaxis\":{\"gridcolor\":\"white\",\"linecolor\":\"white\",\"ticks\":\"\"},\"baxis\":{\"gridcolor\":\"white\",\"linecolor\":\"white\",\"ticks\":\"\"},\"caxis\":{\"gridcolor\":\"white\",\"linecolor\":\"white\",\"ticks\":\"\"}},\"coloraxis\":{\"colorbar\":{\"outlinewidth\":0,\"ticks\":\"\"}},\"colorscale\":{\"sequential\":[[0.0,\"#0d0887\"],[0.1111111111111111,\"#46039f\"],[0.2222222222222222,\"#7201a8\"],[0.3333333333333333,\"#9c179e\"],[0.4444444444444444,\"#bd3786\"],[0.5555555555555556,\"#d8576b\"],[0.6666666666666666,\"#ed7953\"],[0.7777777777777778,\"#fb9f3a\"],[0.8888888888888888,\"#fdca26\"],[1.0,\"#f0f921\"]],\"sequentialminus\":[[0.0,\"#0d0887\"],[0.1111111111111111,\"#46039f\"],[0.2222222222222222,\"#7201a8\"],[0.3333333333333333,\"#9c179e\"],[0.4444444444444444,\"#bd3786\"],[0.5555555555555556,\"#d8576b\"],[0.6666666666666666,\"#ed7953\"],[0.7777777777777778,\"#fb9f3a\"],[0.8888888888888888,\"#fdca26\"],[1.0,\"#f0f921\"]],\"diverging\":[[0,\"#8e0152\"],[0.1,\"#c51b7d\"],[0.2,\"#de77ae\"],[0.3,\"#f1b6da\"],[0.4,\"#fde0ef\"],[0.5,\"#f7f7f7\"],[0.6,\"#e6f5d0\"],[0.7,\"#b8e186\"],[0.8,\"#7fbc41\"],[0.9,\"#4d9221\"],[1,\"#276419\"]]},\"xaxis\":{\"gridcolor\":\"white\",\"linecolor\":\"white\",\"ticks\":\"\",\"title\":{\"standoff\":15},\"zerolinecolor\":\"white\",\"automargin\":true,\"zerolinewidth\":2},\"yaxis\":{\"gridcolor\":\"white\",\"linecolor\":\"white\",\"ticks\":\"\",\"title\":{\"standoff\":15},\"zerolinecolor\":\"white\",\"automargin\":true,\"zerolinewidth\":2},\"scene\":{\"xaxis\":{\"backgroundcolor\":\"#E5ECF6\",\"gridcolor\":\"white\",\"linecolor\":\"white\",\"showbackground\":true,\"ticks\":\"\",\"zerolinecolor\":\"white\",\"gridwidth\":2},\"yaxis\":{\"backgroundcolor\":\"#E5ECF6\",\"gridcolor\":\"white\",\"linecolor\":\"white\",\"showbackground\":true,\"ticks\":\"\",\"zerolinecolor\":\"white\",\"gridwidth\":2},\"zaxis\":{\"backgroundcolor\":\"#E5ECF6\",\"gridcolor\":\"white\",\"linecolor\":\"white\",\"showbackground\":true,\"ticks\":\"\",\"zerolinecolor\":\"white\",\"gridwidth\":2}},\"shapedefaults\":{\"line\":{\"color\":\"#2a3f5f\"}},\"annotationdefaults\":{\"arrowcolor\":\"#2a3f5f\",\"arrowhead\":0,\"arrowwidth\":1},\"geo\":{\"bgcolor\":\"white\",\"landcolor\":\"#E5ECF6\",\"subunitcolor\":\"white\",\"showland\":true,\"showlakes\":true,\"lakecolor\":\"white\"},\"title\":{\"x\":0.05},\"mapbox\":{\"style\":\"light\"}}},\"xaxis\":{\"anchor\":\"y\",\"domain\":[0.0,1.0],\"title\":{\"text\":\"total_bill\"}},\"yaxis\":{\"anchor\":\"x\",\"domain\":[0.0,0.7326],\"title\":{\"text\":\"sum of tip\"}},\"xaxis2\":{\"anchor\":\"y2\",\"domain\":[0.0,1.0],\"matches\":\"x\",\"showticklabels\":false,\"showgrid\":true},\"yaxis2\":{\"anchor\":\"x2\",\"domain\":[0.7426,1.0],\"matches\":\"y2\",\"showticklabels\":false,\"showline\":false,\"ticks\":\"\",\"showgrid\":false},\"legend\":{\"title\":{\"text\":\"sex\"},\"tracegroupgap\":0},\"margin\":{\"t\":60},\"barmode\":\"relative\"},                        {\"responsive\": true}                    ).then(function(){\n",
       "                            \n",
       "var gd = document.getElementById('9836d684-1472-4a24-9b78-b35870d686db');\n",
       "var x = new MutationObserver(function (mutations, observer) {{\n",
       "        var display = window.getComputedStyle(gd).display;\n",
       "        if (!display || display === 'none') {{\n",
       "            console.log([gd, 'removed!']);\n",
       "            Plotly.purge(gd);\n",
       "            observer.disconnect();\n",
       "        }}\n",
       "}});\n",
       "\n",
       "// Listen for the removal of the full notebook cells\n",
       "var notebookContainer = gd.closest('#notebook-container');\n",
       "if (notebookContainer) {{\n",
       "    x.observe(notebookContainer, {childList: true});\n",
       "}}\n",
       "\n",
       "// Listen for the clearing of the current output cell\n",
       "var outputEl = gd.closest('.output');\n",
       "if (outputEl) {{\n",
       "    x.observe(outputEl, {childList: true});\n",
       "}}\n",
       "\n",
       "                        })                };                });            </script>        </div>"
      ]
     },
     "metadata": {},
     "output_type": "display_data"
    }
   ],
   "source": [
    "df = px.data.tips()\n",
    "fig = px.histogram(df, x=\"total_bill\", y=\"tip\", color=\"sex\", marginal=\"rug\", hover_data=df.columns)\n",
    "fig.show()"
   ]
  },
  {
   "cell_type": "code",
   "execution_count": 9,
   "id": "7a4cbc37-0d38-44db-8a1a-c20b86528ca1",
   "metadata": {},
   "outputs": [
    {
     "data": {
      "application/vnd.plotly.v1+json": {
       "config": {
        "plotlyServerURL": "https://plot.ly"
       },
       "data": [
        {
         "histnorm": "probability density",
         "legendgroup": "Group 1",
         "marker": {
          "color": "rgb(31, 119, 180)"
         },
         "name": "Group 1",
         "opacity": 0.7,
         "type": "histogram",
         "x": [
          0.941231486168995,
          -1.1717157934689795,
          -0.15743847009711565,
          -0.9374252639867032,
          -1.7632401106246367,
          -0.5272067262260689,
          -2.415958536077185,
          -1.295498950210098,
          -2.09495824587239,
          -0.7518285244524607,
          -0.011984073060171907,
          -1.4803857923664412,
          -1.5521108397981103,
          -1.4527406545286503,
          0.916415016960221,
          -0.7752640625992439,
          0.000847992708880696,
          -1.8007292991645927,
          -0.34593081488081934,
          -2.2585465449209607,
          -0.5280212595960704,
          -0.33182491845439643,
          -0.5137168709018137,
          -2.1127651655792086,
          -0.6092997279464268,
          -0.4925821064010689,
          -0.33666639663807485,
          -1.6158448436476744,
          -1.010571671688927,
          -1.502382158869243,
          -1.145394312092896,
          -1.2458844366924924,
          -1.6789722298373593,
          -2.2993386332381482,
          0.49538875215356915,
          -0.2866480153864627,
          -1.0719187465291868,
          -0.823384012350715,
          0.18692618188038157,
          0.470122520548409,
          -2.0016750388275324,
          -1.8542484271493298,
          -1.199350828028626,
          -0.3535042054605382,
          -2.21705493830853,
          0.21816568972387373,
          -2.02758990701365,
          -1.3033757742602445,
          0.01581287929560271,
          -1.07628262686404,
          -1.1222333104630422,
          -0.6902304057450042,
          -1.1354034456243272,
          -1.3955460524533867,
          -0.8732406313536633,
          -2.653632192455616,
          -1.806370194494265,
          -2.1561270743026135,
          -0.17530441041765543,
          -2.4371170857116633,
          -0.46244046714737297,
          0.6396334389936491,
          -0.1397838645792281,
          0.5047597210385795,
          -1.5512751801732603,
          -1.0786633307793654,
          -1.1583642192185957,
          -0.3051305760751054,
          -2.1946515568420892,
          -0.08538705092298171,
          -1.148862018696983,
          0.16489742794030837,
          2.1964306180970947,
          -0.9089546516782007,
          2.1137281948488105,
          -1.537868300123581,
          -0.4934915385886135,
          -2.2270264958852275,
          -1.943967280221309,
          -1.623905496639866,
          -0.7606891592527704,
          -2.4504648383147036,
          -0.33528175220532463,
          -0.9565300664797773,
          -0.7251807307483153,
          1.7640474353438256,
          0.16459143860018988,
          -0.2133612433092953,
          -1.3148804486450225,
          -3.0150702768986406,
          -0.9628071326150074,
          -2.0718620113637547,
          -2.4927656393231894,
          -1.1047590622607653,
          1.10789919123597,
          -2.7725827739674243,
          -0.8114599993811944,
          -2.987963643932048,
          -1.0839378926573082,
          0.6776374837062236,
          -0.6576451455404835,
          -1.065880270406692,
          -2.291093114971658,
          -0.7879584554965982,
          -0.27021988327259516,
          -0.5149007564282662,
          -1.1906500897439032,
          -1.2952783385874398,
          -1.5579567178046352,
          -0.6622575920150576,
          -0.2284113219532926,
          -0.704437252593873,
          0.019266553161821687,
          -1.8397353359743154,
          -1.6006999757409637,
          -0.051168494524950314,
          0.6742024630031629,
          -0.3855059437205435,
          -1.781327792976779,
          1.3685766353625746,
          0.22923774559291532,
          -0.20341974212731107,
          -1.717776620763436,
          0.822040311703992,
          0.06361755200462049,
          -0.8658091427923024,
          -0.39862578442937757,
          -0.3405983998345603,
          -1.873611078515361,
          -0.9044940464180389,
          -1.1250248610906661,
          -0.5695115344054502,
          -2.2361033372528833,
          1.0399470599696903,
          -0.8151045729534767,
          -1.1928016863902213,
          -2.19490691114669,
          -1.1499370347904871,
          -1.3362498470917505,
          -2.9944008474925905,
          -2.16570715812143,
          -1.091810491287119,
          -0.4013355287278445,
          -0.12259928260483555,
          -0.482726336408524,
          -2.1354287092500286,
          -2.0670412576200885,
          -1.3612808649452943,
          -0.5573670805740469,
          -1.1248546479924855,
          -2.29186143903628,
          -1.427766085944938,
          -2.2581962060609166,
          0.5107473451541527,
          -0.6285167867061131,
          -2.397801803857459,
          -0.5773868715268331,
          -0.9364558667192813,
          -1.402913511579746,
          -1.964743632515732,
          0.24936563524975397,
          -0.24404543207813123,
          -1.0211993006340938,
          -1.3167741483532467,
          0.1903642793223499,
          0.6431584820057714,
          -1.155220211429096,
          -1.2276306267365789,
          -1.0443333831616712,
          -1.6566076498456197,
          -1.6273464607636279,
          -1.7945853338614817,
          0.6870160756090475,
          -0.6187468892591255,
          -2.43893901166127,
          -1.6271796712632987,
          -1.8935016437071104,
          -3.1691451767253955,
          -2.2153701033833046,
          -1.2800429321519757,
          0.7289782590608356,
          -0.1775698905703863,
          -1.2537027325094319,
          -0.38957253239728906,
          -1.6371772197359968,
          -0.46505510701687747,
          -2.146227614724057,
          -1.1511343667513156,
          -0.8515969425299397,
          -2.5960587494947402,
          -0.6981735507793261,
          -1.9965875227366956,
          -2.3274717379868575,
          -0.8940967201445321,
          -0.8810653260453445,
          -0.06226241285503764,
          -0.32637236422389093,
          -1.4517143464030677,
          -0.6416465203749084,
          -1.1207248893579818
         ],
         "xaxis": "x",
         "xbins": {
          "end": 2.1964306180970947,
          "size": 1,
          "start": -3.1691451767253955
         },
         "yaxis": "y"
        },
        {
         "histnorm": "probability density",
         "legendgroup": "Group 2",
         "marker": {
          "color": "rgb(255, 127, 14)"
         },
         "name": "Group 2",
         "opacity": 0.7,
         "type": "histogram",
         "x": [
          1.0282723181985796,
          -1.1230253571042799,
          0.2500146941372775,
          -0.42205257158015086,
          1.3619015868602702,
          0.04676940402437464,
          0.14567141830186378,
          -0.18853632583702218,
          1.906317639575397,
          -0.5199835928953641,
          1.5687516476192342,
          1.3525774110270332,
          0.0500771752136733,
          1.3631640126021431,
          0.09272666891424249,
          1.4623576955716457,
          -0.11022051106318013,
          0.18582784810145564,
          0.995543855068172,
          0.3437637185683744,
          -0.2794647968086362,
          0.5797173203387765,
          -0.4167630014348701,
          -1.7921213120546193,
          0.7040993975947426,
          1.0042677004757816,
          0.7906868902326611,
          0.19859512771781132,
          0.6629769363543571,
          0.4436589713816685,
          0.04136592411273401,
          1.012060938438547,
          -0.36705452098369046,
          0.08653265128265662,
          0.23918104958005718,
          0.18335091867881909,
          0.5031928573233292,
          1.045698925862227,
          -0.07620136653486961,
          -1.6784906727801523,
          -0.409745374987928,
          -0.27577929481006475,
          -1.6030111397375832,
          -0.7540458386712114,
          0.4295674365194671,
          0.2864824309577482,
          -1.1108514245959373,
          0.05434149811173776,
          -0.7797542960092133,
          0.06012353387935553,
          -1.11654738083687,
          -0.298607871154107,
          -1.8596029858379668,
          1.1091448387073821,
          -0.4496274989372944,
          -1.2072774650924116,
          -1.8089302763986368,
          0.9713796974277826,
          1.273888341437396,
          0.7025086554454101,
          1.0893984649373825,
          -0.05708636044378414,
          0.6490723342933241,
          -0.706278878058656,
          0.4081818377933925,
          1.4919884610074152,
          -0.16456374024070047,
          -0.4665502927556181,
          -1.3487958030613165,
          0.255979053068562,
          -0.8079752838028241,
          0.30834841138388736,
          0.37878636493146867,
          0.06520422532725186,
          -0.3671177938210229,
          -0.7576480042265501,
          -0.41729775988366136,
          -1.0921607732576726,
          -0.5491506651422765,
          0.04479705137510054,
          0.7630631623295319,
          -0.9748403086787365,
          0.23655633476176272,
          -0.3882253651129599,
          -0.5609015056836318,
          -0.4148456959079058,
          0.535875034417125,
          0.17412825944538504,
          1.607003473921657,
          0.7049363873865603,
          -1.741495219561258,
          0.07466069041267616,
          -0.25205373916734175,
          1.0682398652372602,
          0.26945209428297767,
          1.2052625328498932,
          -1.502009164169081,
          -0.13299122905668725,
          1.2879958143982575,
          0.4126854106330917,
          -1.111480934748545,
          0.817408978152796,
          0.37281210016970284,
          0.2924185479404547,
          0.0017559359389817141,
          0.5773369040102551,
          -0.12777215630265784,
          -0.04869461081160686,
          -0.9815341006125561,
          -0.726597459253088,
          0.21621194844664535,
          -1.0622500753710322,
          -0.42501029017392833,
          0.4323500388903921,
          -0.27475513496269244,
          1.2994249687617225,
          0.5094730000641946,
          0.4581783772509445,
          -0.6979116126408395,
          0.6874363005649954,
          -1.1576020115589472,
          0.4637844272708443,
          1.0904905411702677,
          -0.10473884505012591,
          -0.3331776853717464,
          -1.2531647659478704,
          0.8491497424691811,
          -0.8988723856818561,
          -0.8650829268493117,
          -0.4897773180954035,
          1.3317060715683273,
          -0.6347626006638057,
          -0.2834910102690365,
          -0.4044002888380128,
          -1.4284056625026298,
          1.3598774747022055,
          -0.7879518464031162,
          0.1135636721751644,
          -0.04114364929342205,
          0.4362391198725118,
          0.09916588788246783,
          -0.9043512347222592,
          0.30034941638242263,
          0.39478125834274475,
          -0.5901934573098425,
          0.7092652131368469,
          0.2143254974544184,
          -0.39303988952975744,
          -1.12513806431941,
          1.0330123076345035,
          -1.932728431184569,
          0.450457341513028,
          -0.4931084935658147,
          -1.2871163186333456,
          -0.9268694265383536,
          -0.39842442058532984,
          1.9776386370547299,
          -1.9561950685281684,
          1.3026029409400557,
          -0.3968262943821681,
          1.3299386926595846,
          -0.7116381465899303,
          0.6921469383805353,
          -0.17783531089830001,
          1.3968566508447993,
          0.26553784031195543,
          -0.24067087183867422,
          -0.23448038014692574,
          0.5969186629903216,
          0.5033902509845961,
          -2.01284517254106,
          -0.6472240481527136,
          1.1151849581213011,
          0.7375126000298141,
          1.02113027536605,
          -0.9806812380338572,
          1.6958190740064951,
          -0.11696374882008309,
          -0.5343195240125445,
          -0.36975861707256824,
          -1.4583944751846474,
          0.22126517788669112,
          -0.3638656576273207,
          0.1836616076641356,
          0.16125243042000906,
          0.3191942178490905,
          0.7394726820028183,
          -0.09317558876310311,
          0.9559962712092913,
          -0.9228431280488765,
          -1.795165789603403,
          0.7884283332640285,
          -0.591290990371049,
          -0.166437490314563,
          0.5057674662304783,
          -1.6964723995163202,
          1.0426129305677585,
          -0.43379487081103096,
          0.23804574964997463,
          0.7106805163706168
         ],
         "xaxis": "x",
         "xbins": {
          "end": 1.9776386370547299,
          "size": 1,
          "start": -2.01284517254106
         },
         "yaxis": "y"
        },
        {
         "histnorm": "probability density",
         "legendgroup": "Group 3",
         "marker": {
          "color": "rgb(44, 160, 44)"
         },
         "name": "Group 3",
         "opacity": 0.7,
         "type": "histogram",
         "x": [
          2.1641521270376343,
          -1.0619443321800777,
          1.6819261901239955,
          1.061327075313312,
          1.2964626394929644,
          1.7551607164192795,
          0.25343653912266517,
          0.6924926847476953,
          -0.0005018532568519252,
          1.2073035530583625,
          0.35614303796802627,
          3.6707414957932327,
          -0.2463847362594378,
          1.3320491673018902,
          3.5282513151529638,
          1.9195201956914192,
          1.0732797076322949,
          0.3555882880561715,
          1.150082725873466,
          0.2616481170409831,
          1.9038971244820189,
          0.6938139801279863,
          -0.3259004817110567,
          0.37220815075447544,
          0.870466112449841,
          1.044807422818073,
          2.9244381281060927,
          1.958706837613275,
          1.1708406691207167,
          2.4756966729360808,
          2.2475556108139365,
          1.672583662904278,
          0.5525126017943456,
          2.061041141588504,
          -0.19340456862371247,
          1.430051770209181,
          -0.5348565290409208,
          0.5977208210382654,
          0.6965389687909691,
          1.2739348807325326,
          0.06385637603722927,
          -0.7449200682764892,
          1.3543132104867703,
          -0.8348498031410332,
          1.0043279797258071,
          0.1734530497506499,
          0.41871542361381986,
          2.7104469445559567,
          -0.30693894679194766,
          0.8991165426385578,
          0.3297480899699461,
          0.9624108210489848,
          1.007795653648667,
          1.6899428012088493,
          1.5032777153552535,
          0.9178265384299871,
          1.1722303427923726,
          -0.29089158383570446,
          1.5725692104167193,
          1.1794268265510026,
          3.2074593465145074,
          2.2918534305610034,
          0.9599623599178173,
          0.4447966255399042,
          2.1836501728020616,
          0.45404897977718983,
          0.49514921981609916,
          1.8998303821921128,
          0.6409464774451732,
          2.1753245805767145,
          0.3189976432393318,
          1.7538499497558853,
          2.527239618273139,
          1.6147460991079292,
          1.8834259850723334,
          0.7954714860299447,
          0.1403056937331929,
          -0.766124002631789,
          2.2673502376237327,
          0.5071994106669999,
          2.2406376524860177,
          -0.15146891955452801,
          0.3513226989195244,
          1.845879628761725,
          0.8251087268132229,
          1.7552163316894736,
          0.3468609066299517,
          0.6483466684975698,
          1.7895752342114115,
          1.6193716818756934,
          0.9947770404834001,
          2.617392194830942,
          0.1521845495898918,
          -0.8526100440113058,
          0.790406019835772,
          -0.335125387318016,
          0.37332006649807925,
          1.1624371453697753,
          0.9702558926344805,
          2.610248000070378,
          1.1739029411246233,
          1.2129652310648802,
          1.26005111256349,
          1.445106566796493,
          1.494358277982366,
          -0.19296485181018785,
          -1.0319373138799723,
          1.0206637619634502,
          0.444859646052575,
          1.6674675598579884,
          1.835997842191536,
          0.30580433869483836,
          1.1705009436219667,
          0.10908221792065043,
          0.8799688843305205,
          0.6482305703799232,
          1.095716506820377,
          1.312926132558165,
          -0.33787406908409956,
          1.4536003103883943,
          1.6091819585661211,
          0.4186676554802282,
          1.7751628695857793,
          1.3509231499029524,
          1.5785964160653245,
          1.2855214430183841,
          2.359759493103586,
          3.8215553784367913,
          1.7487350549712979,
          0.2867775456633086,
          0.9214975942586456,
          0.39690328293259114,
          2.039930321994764,
          1.787991221678047,
          -0.4136134430634588,
          0.5321750687499553,
          1.007068142976947,
          0.3457925505830618,
          1.2847113900562528,
          1.2110815278492222,
          0.9817249748901781,
          0.6113487858765019,
          2.8766935872516024,
          0.3124953900387454,
          0.8395723608639658,
          2.7080510089419345,
          1.2606499820953805,
          0.9071423039461609,
          0.23050230980065312,
          1.260098450462732,
          0.6782453074667696,
          2.258812941770361,
          0.15724847861630353,
          0.9544184373947769,
          0.6169257869476132,
          0.9611393056734863,
          0.47378840467499683,
          0.411908925094549,
          1.1261222840458556,
          1.7433727103883077,
          -0.29590056907258044,
          0.9815571791397204,
          -0.3371439606110873,
          0.24276394472825336,
          -0.31408063740147196,
          1.8335735213348343,
          -0.25835366087334255,
          0.34427421125026514,
          1.8212493244435306,
          0.4319426441895796,
          2.403566384362537,
          -1.7360054244738925,
          2.867261079338891,
          1.2505208288643914,
          -1.5301639560495262,
          -0.9152041906364166,
          -0.8529481863542094,
          1.0448695245146016,
          1.2349232388616045,
          0.49933845868292304,
          1.791616646383604,
          1.776026323836864,
          1.6728051664728976,
          0.7701422298231276,
          1.4500739463624488,
          1.2297579190037677,
          0.983839484338821,
          0.4199946271921253,
          -0.2998848761241535,
          2.704467432790065,
          0.23859608232923035,
          0.4038493150846214,
          1.2955134439908482,
          0.023679391697451035,
          0.08705875394091434,
          0.8983057672050405,
          2.2467191262074078,
          1.936088021209358,
          1.0279939038408734,
          2.05167647754765
         ],
         "xaxis": "x",
         "xbins": {
          "end": 3.8215553784367913,
          "size": 1,
          "start": -1.7360054244738925
         },
         "yaxis": "y"
        },
        {
         "legendgroup": "Group 1",
         "marker": {
          "color": "rgb(31, 119, 180)"
         },
         "mode": "lines",
         "name": "Group 1",
         "showlegend": false,
         "type": "scatter",
         "x": [
          -3.1691451767253955,
          -3.1584140251357504,
          -3.1476828735461058,
          -3.1369517219564607,
          -3.1262205703668156,
          -3.1154894187771704,
          -3.104758267187526,
          -3.0940271155978807,
          -3.0832959640082356,
          -3.072564812418591,
          -3.061833660828946,
          -3.0511025092393007,
          -3.0403713576496556,
          -3.029640206060011,
          -3.018909054470366,
          -3.0081779028807207,
          -2.9974467512910756,
          -2.986715599701431,
          -2.975984448111786,
          -2.9652532965221408,
          -2.954522144932496,
          -2.943790993342851,
          -2.933059841753206,
          -2.922328690163561,
          -2.911597538573916,
          -2.900866386984271,
          -2.890135235394626,
          -2.879404083804981,
          -2.868672932215336,
          -2.857941780625691,
          -2.847210629036046,
          -2.8364794774464013,
          -2.825748325856756,
          -2.815017174267111,
          -2.8042860226774664,
          -2.7935548710878213,
          -2.782823719498176,
          -2.772092567908531,
          -2.7613614163188864,
          -2.7506302647292413,
          -2.739899113139596,
          -2.729167961549951,
          -2.7184368099603065,
          -2.7077056583706614,
          -2.6969745067810162,
          -2.6862433551913716,
          -2.6755122036017265,
          -2.6647810520120814,
          -2.6540499004224367,
          -2.6433187488327916,
          -2.6325875972431465,
          -2.6218564456535014,
          -2.6111252940638563,
          -2.6003941424742116,
          -2.5896629908845665,
          -2.5789318392949214,
          -2.5682006877052768,
          -2.5574695361156317,
          -2.5467383845259866,
          -2.536007232936342,
          -2.525276081346697,
          -2.5145449297570517,
          -2.5038137781674066,
          -2.4930826265777615,
          -2.482351474988117,
          -2.4716203233984717,
          -2.4608891718088266,
          -2.450158020219182,
          -2.439426868629537,
          -2.4286957170398917,
          -2.417964565450247,
          -2.407233413860602,
          -2.396502262270957,
          -2.385771110681312,
          -2.375039959091667,
          -2.364308807502022,
          -2.353577655912377,
          -2.3428465043227322,
          -2.332115352733087,
          -2.321384201143442,
          -2.310653049553797,
          -2.2999218979641523,
          -2.289190746374507,
          -2.278459594784862,
          -2.2677284431952174,
          -2.2569972916055723,
          -2.246266140015927,
          -2.235534988426282,
          -2.2248038368366374,
          -2.2140726852469923,
          -2.203341533657347,
          -2.192610382067702,
          -2.1818792304780574,
          -2.1711480788884123,
          -2.160416927298767,
          -2.1496857757091226,
          -2.1389546241194775,
          -2.1282234725298323,
          -2.1174923209401877,
          -2.106761169350542,
          -2.0960300177608975,
          -2.085298866171253,
          -2.0745677145816073,
          -2.0638365629919626,
          -2.0531054114023175,
          -2.0423742598126724,
          -2.0316431082230277,
          -2.0209119566333826,
          -2.0101808050437375,
          -1.9994496534540926,
          -1.9887185018644475,
          -1.9779873502748027,
          -1.9672561986851578,
          -1.956525047095513,
          -1.9457938955058678,
          -1.9350627439162227,
          -1.9243315923265778,
          -1.913600440736933,
          -1.9028692891472878,
          -1.8921381375576427,
          -1.8814069859679978,
          -1.870675834378353,
          -1.859944682788708,
          -1.849213531199063,
          -1.8384823796094178,
          -1.827751228019773,
          -1.8170200764301279,
          -1.806288924840483,
          -1.795557773250838,
          -1.784826621661193,
          -1.774095470071548,
          -1.763364318481903,
          -1.7526331668922581,
          -1.7419020153026132,
          -1.7311708637129681,
          -1.720439712123323,
          -1.7097085605336781,
          -1.6989774089440333,
          -1.6882462573543884,
          -1.6775151057647433,
          -1.6667839541750982,
          -1.6560528025854533,
          -1.6453216509958082,
          -1.6345904994061633,
          -1.6238593478165184,
          -1.6131281962268733,
          -1.6023970446372284,
          -1.5916658930475833,
          -1.5809347414579384,
          -1.5702035898682936,
          -1.5594724382786482,
          -1.5487412866890033,
          -1.5380101350993585,
          -1.5272789835097136,
          -1.5165478319200687,
          -1.5058166803304236,
          -1.4950855287407785,
          -1.4843543771511336,
          -1.4736232255614885,
          -1.4628920739718436,
          -1.4521609223821987,
          -1.4414297707925536,
          -1.4306986192029088,
          -1.4199674676132636,
          -1.4092363160236188,
          -1.3985051644339739,
          -1.3877740128443286,
          -1.3770428612546837,
          -1.3663117096650388,
          -1.355580558075394,
          -1.344849406485749,
          -1.334118254896104,
          -1.3233871033064588,
          -1.312655951716814,
          -1.3019248001271688,
          -1.291193648537524,
          -1.280462496947879,
          -1.269731345358234,
          -1.259000193768589,
          -1.248269042178944,
          -1.237537890589299,
          -1.2268067389996542,
          -1.2160755874100089,
          -1.205344435820364,
          -1.194613284230719,
          -1.1838821326410742,
          -1.1731509810514293,
          -1.162419829461784,
          -1.1516886778721394,
          -1.1409575262824942,
          -1.1302263746928491,
          -1.119495223103204,
          -1.1087640715135594,
          -1.0980329199239143,
          -1.0873017683342696,
          -1.0765706167446245,
          -1.0658394651549794,
          -1.0551083135653343,
          -1.0443771619756892,
          -1.0336460103860445,
          -1.0229148587963994,
          -1.0121837072067543,
          -1.0014525556171097,
          -0.9907214040274646,
          -0.9799902524378195,
          -0.9692591008481743,
          -0.9585279492585292,
          -0.9477967976688846,
          -0.9370656460792395,
          -0.9263344944895948,
          -0.9156033428999497,
          -0.9048721913103046,
          -0.89414103972066,
          -0.8834098881310144,
          -0.8726787365413697,
          -0.8619475849517246,
          -0.8512164333620795,
          -0.8404852817724349,
          -0.8297541301827898,
          -0.8190229785931451,
          -0.8082918270034996,
          -0.7975606754138544,
          -0.7868295238242098,
          -0.7760983722345647,
          -0.76536722064492,
          -0.7546360690552749,
          -0.7439049174656303,
          -0.7331737658759852,
          -0.72244261428634,
          -0.7117114626966949,
          -0.7009803111070498,
          -0.6902491595174052,
          -0.6795180079277601,
          -0.668786856338115,
          -0.6580557047484703,
          -0.6473245531588252,
          -0.6365934015691801,
          -0.625862249979535,
          -0.6151310983898899,
          -0.6043999468002452,
          -0.5936687952106001,
          -0.5829376436209555,
          -0.5722064920313104,
          -0.5614753404416652,
          -0.5507441888520206,
          -0.540013037262375,
          -0.5292818856727304,
          -0.5185507340830853,
          -0.5078195824934402,
          -0.4970884309037955,
          -0.4863572793141504,
          -0.47562612772450574,
          -0.4648949761348602,
          -0.4541638245452151,
          -0.44343267295557043,
          -0.4327015213659253,
          -0.42197036977628066,
          -0.41123921818663556,
          -0.40050806659699045,
          -0.3897769150073458,
          -0.3790457634177007,
          -0.3683146118280556,
          -0.3575834602384105,
          -0.3468523086487658,
          -0.3361211570591207,
          -0.3253900054694756,
          -0.31465885387983095,
          -0.30392770229018584,
          -0.29319655070054074,
          -0.28246539911089563,
          -0.2717342475212505,
          -0.26100309593160587,
          -0.25027194434196076,
          -0.2395407927523161,
          -0.228809641162671,
          -0.2180784895730259,
          -0.20734733798338123,
          -0.19661618639373568,
          -0.18588503480409102,
          -0.17515388321444592,
          -0.1644227316248008,
          -0.15369158003515615,
          -0.14296042844551105,
          -0.13222927685586638,
          -0.12149812526622084,
          -0.11076697367657573,
          -0.10003582208693107,
          -0.08930467049728597,
          -0.0785735189076413,
          -0.0678423673179962,
          -0.057111215728351095,
          -0.046380064138706434,
          -0.03564891254906133,
          -0.024917760959416224,
          -0.01418660936977112,
          -0.0034554577801260145,
          0.007275693809518646,
          0.01800684539916375,
          0.028737996988808412,
          0.03946914857845352,
          0.050200300168099066,
          0.060931451757743726,
          0.07166260334738883,
          0.08239375493703349,
          0.0931249065266786,
          0.10385605811632326,
          0.11458720970596836,
          0.12531836129561347,
          0.13604951288525813,
          0.14678066447490368,
          0.15751181606454834,
          0.16824296765419344,
          0.17897411924383855,
          0.1897052708334832,
          0.2004364224231283,
          0.21116757401277297,
          0.22189872560241852,
          0.23262987719206363,
          0.2433610287817083,
          0.2540921803713534,
          0.26482333196099805,
          0.27555448355064316,
          0.28628563514028826,
          0.2970167867299329,
          0.30774793831957803,
          0.31847908990922313,
          0.32921024149886824,
          0.33994139308851334,
          0.350672544678158,
          0.3614036962678031,
          0.37213484785744777,
          0.3828659994470929,
          0.3935971510367384,
          0.4043283026263831,
          0.4150594542160282,
          0.42579060580567285,
          0.43652175739531796,
          0.44725290898496306,
          0.4579840605746077,
          0.4687152121642528,
          0.4794463637538975,
          0.49017751534354304,
          0.5009086669331877,
          0.5116398185228328,
          0.5223709701124779,
          0.5331021217021226,
          0.5438332732917677,
          0.5545644248814123,
          0.5652955764710579,
          0.576026728060703,
          0.5867578796503476,
          0.5974890312399928,
          0.6082201828296374,
          0.6189513344192825,
          0.6296824860089276,
          0.6404136375985723,
          0.6511447891882174,
          0.6618759407778625,
          0.6726070923675076,
          0.6833382439571527,
          0.6940693955467974,
          0.7048005471364425,
          0.7155316987260871,
          0.7262628503157322,
          0.7369940019053778,
          0.7477251534950224,
          0.7584563050846675,
          0.7691874566743122,
          0.7799186082639573,
          0.7906497598536024,
          0.8013809114432471,
          0.8121120630328922,
          0.8228432146225368,
          0.833574366212182,
          0.8443055178018275,
          0.8550366693914722,
          0.8657678209811168,
          0.8764989725707624,
          0.887230124160407,
          0.8979612757500517,
          0.9086924273396972,
          0.9194235789293419,
          0.9301547305189874,
          0.9408858821086312,
          0.9516170336982768,
          0.9623481852879223,
          0.973079336877567,
          0.9838104884672125,
          0.9945416400568563,
          1.0052727916465019,
          1.0160039432361465,
          1.026735094825792,
          1.0374662464154367,
          1.0481973980050814,
          1.058928549594727,
          1.0696597011843716,
          1.0803908527740171,
          1.0911220043636618,
          1.1018531559533065,
          1.1125843075429511,
          1.1233154591325967,
          1.1340466107222422,
          1.1447777623118869,
          1.1555089139015315,
          1.1662400654911762,
          1.1769712170808218,
          1.1877023686704664,
          1.198433520260112,
          1.2091646718497566,
          1.2198958234394013,
          1.2306269750290468,
          1.2413581266186915,
          1.252089278208337,
          1.2628204297979808,
          1.2735515813876264,
          1.284282732977271,
          1.2950138845669166,
          1.3057450361565621,
          1.316476187746206,
          1.3272073393358514,
          1.337938490925496,
          1.3486696425151417,
          1.3594007941047863,
          1.370131945694431,
          1.3808630972840756,
          1.3915942488737212,
          1.4023254004633667,
          1.4130565520530114,
          1.423787703642656,
          1.4345188552323007,
          1.4452500068219463,
          1.455981158411591,
          1.4667123100012365,
          1.4774434615908811,
          1.4881746131805258,
          1.4989057647701713,
          1.509636916359816,
          1.5203680679494616,
          1.5310992195391053,
          1.5418303711287509,
          1.5525615227183964,
          1.563292674308041,
          1.5740238258976866,
          1.5847549774873304,
          1.595486129076976,
          1.6062172806666206,
          1.6169484322562662,
          1.62767958384591,
          1.6384107354355555,
          1.649141887025201,
          1.6598730386148457,
          1.6706041902044912,
          1.681335341794135,
          1.6920664933837806,
          1.7027976449734252,
          1.7135287965630708,
          1.7242599481527154,
          1.73499109974236,
          1.7457222513320056,
          1.7564534029216503,
          1.7671845545112959,
          1.7779157061009405,
          1.7886468576905852,
          1.7993780092802298,
          1.8101091608698754,
          1.820840312459521,
          1.8315714640491656,
          1.8423026156388103,
          1.853033767228455,
          1.8637649188181005,
          1.8744960704077451,
          1.8852272219973907,
          1.8959583735870353,
          1.90668952517668,
          1.9174206767663255,
          1.9281518283559702,
          1.9388829799456158,
          1.9496141315352595,
          1.960345283124905,
          1.9710764347145497,
          1.9818075863041953,
          1.9925387378938408,
          2.0032698894834846,
          2.01400104107313,
          2.024732192662775,
          2.0354633442524204,
          2.046194495842065,
          2.0569256474317097,
          2.0676567990213544,
          2.078387950611,
          2.0891191022006455,
          2.09985025379029,
          2.1105814053799348,
          2.1213125569695794,
          2.132043708559225,
          2.1427748601488696,
          2.153506011738515,
          2.16423716332816,
          2.1749683149178045,
          2.18569946650745
         ],
         "xaxis": "x",
         "y": [
          0.03391501340321505,
          0.03490228837675568,
          0.035908282591039425,
          0.036933547865691634,
          0.03797867769064329,
          0.03904430686872182,
          0.04013111082967416,
          0.04123980460417233,
          0.042371141448309474,
          0.0435259111112011,
          0.04470493774054749,
          0.04590907742337375,
          0.04713921536163311,
          0.04839626268492004,
          0.04968115290517288,
          0.05099483802093856,
          0.052338284281503195,
          0.0537124676239375,
          0.055118368798855816,
          0.05655696820340995,
          0.0580292404427195,
          0.05953614864355511,
          0.061078638546619365,
          0.06265763240618918,
          0.06427402272817562,
          0.0659286658797952,
          0.06762237560601726,
          0.06935591648973793,
          0.07112999739419784,
          0.07294526492751564,
          0.07480229697031639,
          0.07670159630828904,
          0.0786435844120944,
          0.0806285954073534,
          0.08265687027746875,
          0.08472855134176106,
          0.08684367705082191,
          0.08900217714012086,
          0.09120386818171979,
          0.0934484495724662,
          0.09573549999526493,
          0.09806447438795564,
          0.10043470145197016,
          0.10284538173032373,
          0.10529558628160463,
          0.10778425597350685,
          0.1103102014160942,
          0.11287210355142156,
          0.11546851491240712,
          0.11809786155992714,
          0.12075844570308161,
          0.12344844900341284,
          0.12616593655963995,
          0.12890886156517622,
          0.13167507062639836,
          0.13446230972533232,
          0.13726823080616526,
          0.14009039896080364,
          0.1429263001846124,
          0.1457733496695236,
          0.14862890059790831,
          0.1514902533970223,
          0.1543546654104606,
          0.15721936093994335,
          0.1600815416079056,
          0.1629383969888325,
          0.16578711545504796,
          0.16862489518080434,
          0.17144895524698509,
          0.17425654678759675,
          0.17704496411846474,
          0.17981155578817618,
          0.18255373549134746,
          0.1852689927847252,
          0.18795490354746267,
          0.19060914012813457,
          0.19322948112268018,
          0.19581382072944212,
          0.19836017762983274,
          0.20086670334585288,
          0.20333169002871457,
          0.2057535776361455,
          0.20813096045955248,
          0.21046259296607295,
          0.21274739492461148,
          0.21498445578921443,
          0.21717303831753518,
          0.21931258140667587,
          0.22140270213329186,
          0.22344319698949447,
          0.22543404231075645,
          0.2273753938966501,
          0.229267585829825,
          0.23111112850310397,
          0.2329067058689213,
          0.23465517192950267,
          0.23635754649018464,
          0.2380150102020276,
          0.2396288989234049,
          0.2412006974335072,
          0.24273203253365844,
          0.24422466557501368,
          0.24568048445354415,
          0.24710149511524104,
          0.2484898126161528,
          0.2498476517832171,
          0.2511773175228668,
          0.2524811948250753,
          0.25376173851085926,
          0.2550214627713066,
          0.2562629305459493,
          0.2574887427877526,
          0.25870152766119775,
          0.2599039297188878,
          0.2610985991008339,
          0.2622881807991108,
          0.26347530402894437,
          0.26466257174548624,
          0.2658525503436502,
          0.26704775957636245,
          0.2682506627245333,
          0.26946365704993086,
          0.2706890645600315,
          0.27192912311178213,
          0.2731859778791374,
          0.27446167320717635,
          0.27575814487362627,
          0.27707721277671993,
          0.2784205740664961,
          0.27978979673494736,
          0.28118631367880464,
          0.2826114172472629,
          0.28406625428556187,
          0.2855518216840589,
          0.2870689624412725,
          0.2886183622482841,
          0.2902005466009178,
          0.29181587844520074,
          0.29346455636075575,
          0.2951466132859904,
          0.2968619157881647,
          0.2986101638806762,
          0.30039089138912767,
          0.3022034668669762,
          0.304047095060721,
          0.30592081892371686,
          0.30782352217674047,
          0.3097539324123885,
          0.3117106247392368,
          0.3136920259604301,
          0.31569641927997155,
          0.31772194952847965,
          0.3197666288985094,
          0.3218283431777571,
          0.3239048584665392,
          0.32599382836388907,
          0.3280928016044405,
          0.33019923012599867,
          0.3323104775453063,
          0.33442382801709325,
          0.33653649544896874,
          0.33864563304219825,
          0.34074834312585056,
          0.3428416872492972,
          0.34492269649554824,
          0.34698838197554754,
          0.34903574546124005,
          0.3510617901131122,
          0.3530635312559217,
          0.3550380071545911,
          0.35698228974071733,
          0.35889349523888464,
          0.3607687946410242,
          0.3626054239764056,
          0.36440069432455197,
          0.36615200151842575,
          0.36785683548566434,
          0.3695127891764778,
          0.37111756702801957,
          0.37266899291670486,
          0.3741650175519262,
          0.3756037252670885,
          0.37698334016667123,
          0.3783022315912275,
          0.379558918865797,
          0.3807520753010734,
          0.3818805314209063,
          0.3829432773941927,
          0.383939464653958,
          0.3848684066914003,
          0.385729579017797,
          0.38652261829246326,
          0.38724732062031403,
          0.3879036390280089,
          0.38849168013308033,
          0.3890117000258319,
          0.3894640993890849,
          0.38984941788601724,
          0.39016832785131245,
          0.3904216273256068,
          0.3906102324777059,
          0.39073516946323933,
          0.3907975657722765,
          0.3907986411218957,
          0.39073969795277713,
          0.3906221115915357,
          0.3904473201426943,
          0.3902168141759197,
          0.3899321262753811,
          0.38959482051882693,
          0.38920648195421287,
          0.3887687061414664,
          0.38828308882620133,
          0.38775121581096916,
          0.38717465308789967,
          0.38655493729442103,
          0.38589356655112816,
          0.3851919917378458,
          0.38445160826050845,
          0.3836737483577356,
          0.38285967399185733,
          0.3820105703648036,
          0.3811275400946181,
          0.3802115980835372,
          0.37926366710357123,
          0.37828457412038324,
          0.37727504737104756,
          0.3762357142060118,
          0.37516709970029843,
          0.37406962603377486,
          0.3729436126351393,
          0.37178927707924164,
          0.37060673672245514,
          0.3693960110561142,
          0.3681570247535247,
          0.3668896113818138,
          0.36559351774590865,
          0.36426840882824757,
          0.3629138732844679,
          0.36152942945228417,
          0.36011453182810105,
          0.3586685779635785,
          0.35719091573243605,
          0.35568085091621554,
          0.3541376550565219,
          0.3525605735204785,
          0.35094883372567537,
          0.3493016534708448,
          0.3476182493187845,
          0.34589784497869774,
          0.34413967963609715,
          0.3423430161797156,
          0.3405071492764716,
          0.3386314132474021,
          0.3367151896996258,
          0.3347579148717606,
          0.3327590866528147,
          0.33071827123733355,
          0.3286351093825316,
          0.32650932223619045,
          0.32434071670731096,
          0.3221291903547555,
          0.31987473577244907,
          0.3175774444530708,
          0.3152375101155357,
          0.3128552314849211,
          0.3104310145168203,
          0.30796537406135693,
          0.3054589349652933,
          0.3029124326137504,
          0.300326712916019,
          0.29770273174282896,
          0.29504155382509967,
          0.29234435112679674,
          0.28961240070687233,
          0.28684708208751203,
          0.2840498741479385,
          0.28122235156487685,
          0.27836618082248155,
          0.2754831158159799,
          0.2725749930746238,
          0.26964372663063174,
          0.266691302561759,
          0.26371977323589396,
          0.2607312512866699,
          0.25772790334952217,
          0.2547119435878961,
          0.2516856270394444,
          0.24865124281206255,
          0.24561110715947107,
          0.24256755646581743,
          0.2395229401684269,
          0.23647961364737605,
          0.23343993111004738,
          0.2304062384982006,
          0.22738086644443925,
          0.2243661233042099,
          0.22136428828868593,
          0.21837760472307485,
          0.2154082734540077,
          0.21245844642878844,
          0.2095302204683532,
          0.20662563125484126,
          0.20374664755372354,
          0.2008951656894432,
          0.19807300429252528,
          0.19528189933509488,
          0.19252349947071404,
          0.18979936169338704,
          0.18711094732952294,
          0.18445961837554595,
          0.1818466341927336,
          0.17927314856972176,
          0.17674020716194894,
          0.17424874531611242,
          0.17179958628648676,
          0.16939343984868319,
          0.16703090131514278,
          0.16471245095531076,
          0.16243845382208327,
          0.1602091599847084,
          0.15802470516688635,
          0.15588511178735334,
          0.15379029039873,
          0.1517400415189054,
          0.1497340578476905,
          0.14777192685992113,
          0.1458531337646483,
          0.14397706481849812,
          0.1421430109797474,
          0.14035017188814974,
          0.13859766015405714,
          0.13688450593894852,
          0.13520966180807925,
          0.1335720078346509,
          0.13197035693364587,
          0.13040346040231515,
          0.12887001364324108,
          0.12736866204494737,
          0.12589800699418677,
          0.12445661199334042,
          0.12304300885578126,
          0.12165570395164055,
          0.12029318447613539,
          0.11895392471250313,
          0.11763639226163122,
          0.1163390542106802,
          0.11506038321337096,
          0.11379886345514424,
          0.11255299647710368,
          0.11132130683351227,
          0.11010234755862869,
          0.10889470541983494,
          0.10769700593531245,
          0.10650791813595777,
          0.10532615905279284,
          0.10415049791278905,
          0.1029797600277938,
          0.10181283036309514,
          0.10064865677408323,
          0.09948625290143896,
          0.09832470071729806,
          0.09716315271687162,
          0.09600083375205709,
          0.09483704250560704,
          0.09367115260644256,
          0.09250261338867474,
          0.09133095029882436,
          0.09015576495758895,
          0.08897673488428497,
          0.08779361289378527,
          0.0866062261773517,
          0.08541447508024295,
          0.08421833159032477,
          0.08301783755313497,
          0.081813102629946,
          0.0806043020163134,
          0.07939167393940855,
          0.07817551695309427,
          0.0769561870502161,
          0.07573409461195645,
          0.07450970121432517,
          0.07328351631194756,
          0.07205609381926668,
          0.07082802860909511,
          0.06959995294815655,
          0.06837253288883102,
          0.06714646463579735,
          0.06592247090563609,
          0.06470129729673528,
          0.0634837086860453,
          0.062270485668347905,
          0.06106242105277726,
          0.0598603164303349,
          0.058664978825115004,
          0.057477217440890814,
          0.05629784051362558,
          0.055127652279375626,
          0.0539674500659425,
          0.0528180215155368,
          0.05168014194462234,
          0.05055457184604244,
          0.04944205453748644,
          0.04834331395934219,
          0.047259052624010645,
          0.04618994971782571,
          0.04513665935584295,
          0.04409980898892759,
          0.04307999796179799,
          0.04207779621995714,
          0.04109374316278613,
          0.04012834663946824,
          0.03918208208387181,
          0.03825539178403822,
          0.037348684281497894,
          0.036462333895279295,
          0.035596680365165494,
          0.034752028608513306,
          0.03392864858475158,
          0.03312677526153959,
          0.032346608676479524,
          0.031588314088231435,
          0.030852022210891908,
          0.030137829525539925,
          0.029445798662946266,
          0.028775958851565413,
          0.028128306425090153,
          0.02750280538403901,
          0.02689938800606489,
          0.026317955499918368,
          0.025758378698262793,
          0.02522049878482439,
          0.024704128051659637,
          0.024209050682638143,
          0.023735023559559976,
          0.023281777087660757,
          0.022849016037591614,
          0.02243642040129891,
          0.02204364625956712,
          0.021670326659318707,
          0.02131607249909552,
          0.020980473421461435,
          0.020663098711376095,
          0.020363498199882948,
          0.020081203172732206,
          0.019815727283822183,
          0.01956656747357975,
          0.019333204892621646,
          0.01911510583123094,
          0.018911722655352403,
          0.018722494749951038,
          0.018546849470690928,
          0.018384203104974104,
          0.018233961843430298,
          0.018095522762968313,
          0.01796827482248734,
          0.017851599872301126,
          0.01774487367825044,
          0.017647466961368978,
          0.017558746453826844,
          0.01747807597170244,
          0.017404817504933195,
          0.01733833232456461,
          0.01727798210716252,
          0.01722313007597425,
          0.017173142158123475,
          0.01712738815680571,
          0.017085242937118005,
          0.017046087623810453,
          0.017009310808895384,
          0.01697430976669141,
          0.01694049167352423,
          0.01690727482895186,
          0.016874089875038467,
          0.016840381009869173,
          0.01680560719118456,
          0.016769243325720225,
          0.016730781439570908,
          0.0166897318246607,
          0.016645624156198358,
          0.0165980085758303,
          0.0165464567350785,
          0.01649056279356888,
          0.016429944366519497,
          0.01636424341597127,
          0.016293127080305402,
          0.016216288436705428,
          0.016133447191387155,
          0.016044350292635887,
          0.015948772461958846,
          0.015846516638978226,
          0.01573741433605697,
          0.015621325899062441,
          0.015498140671128714,
          0.015367777056775292,
          0.01523018248427254,
          0.015085333264709311,
          0.014933234346810768,
          0.01477391896716948,
          0.014607448196185058
         ],
         "yaxis": "y"
        },
        {
         "legendgroup": "Group 2",
         "marker": {
          "color": "rgb(255, 127, 14)"
         },
         "mode": "lines",
         "name": "Group 2",
         "showlegend": false,
         "type": "scatter",
         "x": [
          -2.01284517254106,
          -2.0048642049218683,
          -1.996883237302677,
          -1.9889022696834853,
          -1.9809213020642937,
          -1.9729403344451022,
          -1.9649593668259107,
          -1.9569783992067191,
          -1.9489974315875274,
          -1.9410164639683358,
          -1.9330354963491443,
          -1.9250545287299528,
          -1.9170735611107612,
          -1.9090925934915695,
          -1.901111625872378,
          -1.8931306582531864,
          -1.8851496906339948,
          -1.8771687230148033,
          -1.8691877553956118,
          -1.86120678777642,
          -1.8532258201572285,
          -1.845244852538037,
          -1.8372638849188454,
          -1.8292829172996539,
          -1.8213019496804623,
          -1.8133209820612706,
          -1.805340014442079,
          -1.7973590468228875,
          -1.789378079203696,
          -1.7813971115845044,
          -1.7734161439653127,
          -1.7654351763461211,
          -1.7574542087269296,
          -1.749473241107738,
          -1.7414922734885465,
          -1.7335113058693548,
          -1.7255303382501632,
          -1.7175493706309717,
          -1.70956840301178,
          -1.7015874353925886,
          -1.6936064677733969,
          -1.6856255001542053,
          -1.6776445325350138,
          -1.6696635649158222,
          -1.6616825972966307,
          -1.653701629677439,
          -1.6457206620582474,
          -1.6377396944390559,
          -1.6297587268198643,
          -1.6217777592006728,
          -1.613796791581481,
          -1.6058158239622895,
          -1.597834856343098,
          -1.5898538887239064,
          -1.581872921104715,
          -1.5738919534855231,
          -1.5659109858663316,
          -1.55793001824714,
          -1.5499490506279485,
          -1.541968083008757,
          -1.5339871153895652,
          -1.5260061477703737,
          -1.5180251801511822,
          -1.5100442125319906,
          -1.502063244912799,
          -1.4940822772936073,
          -1.486101309674416,
          -1.4781203420552242,
          -1.4701393744360327,
          -1.4621584068168412,
          -1.4541774391976494,
          -1.446196471578458,
          -1.4382155039592663,
          -1.4302345363400748,
          -1.4222535687208833,
          -1.4142726011016915,
          -1.4062916334825,
          -1.3983106658633084,
          -1.390329698244117,
          -1.3823487306249254,
          -1.3743677630057336,
          -1.3663867953865423,
          -1.3584058277673505,
          -1.350424860148159,
          -1.3424438925289675,
          -1.3344629249097757,
          -1.3264819572905844,
          -1.3185009896713926,
          -1.310520022052201,
          -1.3025390544330095,
          -1.294558086813818,
          -1.2865771191946265,
          -1.2785961515754347,
          -1.2706151839562434,
          -1.2626342163370516,
          -1.25465324871786,
          -1.2466722810986686,
          -1.2386913134794768,
          -1.2307103458602853,
          -1.2227293782410937,
          -1.214748410621902,
          -1.2067674430027107,
          -1.198786475383519,
          -1.1908055077643274,
          -1.1828245401451358,
          -1.1748435725259443,
          -1.1668626049067528,
          -1.158881637287561,
          -1.1509006696683697,
          -1.142919702049178,
          -1.1349387344299864,
          -1.1269577668107948,
          -1.118976799191603,
          -1.1109958315724118,
          -1.10301486395322,
          -1.0950338963340285,
          -1.087052928714837,
          -1.0790719610956454,
          -1.0710909934764536,
          -1.063110025857262,
          -1.0551290582380706,
          -1.047148090618879,
          -1.0391671229996873,
          -1.031186155380496,
          -1.0232051877613042,
          -1.0152242201421127,
          -1.0072432525229211,
          -0.9992622849037296,
          -0.9912813172845378,
          -0.9833003496653463,
          -0.9753193820461548,
          -0.967338414426963,
          -0.9593574468077717,
          -0.9513764791885799,
          -0.9433955115693884,
          -0.9354145439501969,
          -0.9274335763310053,
          -0.9194526087118136,
          -0.9114716410926222,
          -0.9034906734734305,
          -0.895509705854239,
          -0.8875287382350474,
          -0.8795477706158559,
          -0.8715668029966641,
          -0.8635858353774728,
          -0.855604867758281,
          -0.8476239001390895,
          -0.839642932519898,
          -0.8316619649007064,
          -0.8236809972815147,
          -0.8157000296623231,
          -0.8077190620431316,
          -0.7997380944239398,
          -0.7917571268047485,
          -0.7837761591855568,
          -0.7757951915663652,
          -0.7678142239471737,
          -0.7598332563279822,
          -0.7518522887087904,
          -0.7438713210895991,
          -0.7358903534704073,
          -0.7279093858512158,
          -0.7199284182320242,
          -0.7119474506128327,
          -0.703966482993641,
          -0.6959855153744496,
          -0.6880045477552579,
          -0.6800235801360663,
          -0.6720426125168748,
          -0.6640616448976833,
          -0.6560806772784915,
          -0.6480997096593,
          -0.6401187420401084,
          -0.6321377744209167,
          -0.6241568068017254,
          -0.6161758391825336,
          -0.6081948715633421,
          -0.6002139039441505,
          -0.592232936324959,
          -0.5842519687057672,
          -0.5762710010865759,
          -0.5682900334673842,
          -0.5603090658481926,
          -0.5523280982290011,
          -0.5443471306098095,
          -0.5363661629906178,
          -0.5283851953714265,
          -0.5204042277522347,
          -0.5124232601330432,
          -0.5044422925138516,
          -0.4964613248946601,
          -0.48848035727546835,
          -0.48049938965627703,
          -0.4725184220370853,
          -0.4645374544178935,
          -0.4565564867987022,
          -0.44857551917951044,
          -0.4405945515603189,
          -0.43261358394112737,
          -0.42463261632193583,
          -0.41665164870274407,
          -0.40867068108355276,
          -0.400689713464361,
          -0.39270874584516946,
          -0.3847277782259779,
          -0.3767468106067864,
          -0.3687658429875946,
          -0.3607848753684033,
          -0.35280390774921155,
          -0.34482294013002,
          -0.3368419725108285,
          -0.32886100489163694,
          -0.3208800372724452,
          -0.31289906965325387,
          -0.3049181020340621,
          -0.29693713441487035,
          -0.28895616679567904,
          -0.2809751991764873,
          -0.27299423155729574,
          -0.2650132639381042,
          -0.25703229631891267,
          -0.2490513286997209,
          -0.2410703610805296,
          -0.23308939346133783,
          -0.2251084258421463,
          -0.21712745822295476,
          -0.20914649060376322,
          -0.20116552298457147,
          -0.19318455536538015,
          -0.1852035877461884,
          -0.17722262012699685,
          -0.16924165250780532,
          -0.16126068488861378,
          -0.15327971726942202,
          -0.1452987496502307,
          -0.13731778203103895,
          -0.1293368144118472,
          -0.12135584679265587,
          -0.11337487917346412,
          -0.10539391155427258,
          -0.09741294393508104,
          -0.0894319763158895,
          -0.08145100869669775,
          -0.07347004107750643,
          -0.06548907345831467,
          -0.057508105839123136,
          -0.0495271382199316,
          -0.04154617060074006,
          -0.0335652029815483,
          -0.02558423536235699,
          -0.01760326774316523,
          -0.009622300123973915,
          -0.0016413325047821559,
          0.006339635114409603,
          0.014320602733600918,
          0.022301570352792677,
          0.030282537971984436,
          0.03826350559117575,
          0.04624447321036751,
          0.054225440829558824,
          0.06220640844875058,
          0.07018737606794234,
          0.0781683436871341,
          0.08614931130632497,
          0.09413027892551673,
          0.10211124654470849,
          0.11009221416390025,
          0.11807318178309156,
          0.12605414940228332,
          0.13403511702147464,
          0.1420160846406664,
          0.1499970522598577,
          0.15797801987904947,
          0.16595898749824123,
          0.173939955117433,
          0.18192092273662386,
          0.18990189035581562,
          0.19788285797500738,
          0.20586382559419913,
          0.2138447932133909,
          0.2218257608325822,
          0.22980672845177352,
          0.23778769607096528,
          0.24576866369015704,
          0.25374963130934836,
          0.2617305989285401,
          0.2697115665477319,
          0.2776925341669232,
          0.2856735017861145,
          0.29365446940530626,
          0.301635437024498,
          0.3096164046436898,
          0.3175973722628811,
          0.3255783398820724,
          0.33355930750126417,
          0.3415402751204559,
          0.34952124273964724,
          0.357502210358839,
          0.36548317797803076,
          0.3734641455972221,
          0.38144511321641383,
          0.38942608083560515,
          0.3974070484547969,
          0.40538801607398867,
          0.4133689836931804,
          0.4213499513123713,
          0.42933091893156305,
          0.4373118865507548,
          0.4452928541699466,
          0.4532738217891379,
          0.46125478940832965,
          0.46923575702752096,
          0.4772167246467127,
          0.48519769226590403,
          0.4931786598850958,
          0.5011596275042876,
          0.5091405951234793,
          0.5171215627426702,
          0.5251025303618619,
          0.5330834979810537,
          0.5410644656002455,
          0.5490454332194372,
          0.5570264008386285,
          0.5650073684578198,
          0.5729883360770116,
          0.5809693036962034,
          0.5889502713153947,
          0.5969312389345864,
          0.6049122065537782,
          0.6128931741729695,
          0.6208741417921608,
          0.6288551094113526,
          0.6368360770305443,
          0.6448170446497361,
          0.6527980122689274,
          0.6607789798881187,
          0.6687599475073105,
          0.6767409151265023,
          0.6847218827456936,
          0.6927028503648853,
          0.7006838179840771,
          0.7086647856032684,
          0.7166457532224602,
          0.7246267208416515,
          0.7326076884608432,
          0.740588656080035,
          0.7485696236992267,
          0.7565505913184176,
          0.7645315589376094,
          0.7725125265568011,
          0.7804934941759929,
          0.7884744617951842,
          0.796455429414376,
          0.8044363970335677,
          0.812417364652759,
          0.8203983322719504,
          0.8283792998911421,
          0.8363602675103339,
          0.8443412351295256,
          0.8523222027487165,
          0.8603031703679083,
          0.8682841379871,
          0.8762651056062918,
          0.8842460732254835,
          0.8922270408446749,
          0.9002080084638666,
          0.9081889760830579,
          0.9161699437022497,
          0.924150911321441,
          0.9321318789406328,
          0.9401128465598245,
          0.9480938141790163,
          0.9560747817982072,
          0.9640557494173989,
          0.9720367170365907,
          0.9800176846557824,
          0.9879986522749737,
          0.9959796198941655,
          1.0039605875133568,
          1.0119415551325486,
          1.01992252275174,
          1.0279034903709316,
          1.0358844579901234,
          1.0438654256093152,
          1.051846393228506,
          1.0598273608476978,
          1.0678083284668896,
          1.0757892960860813,
          1.083770263705273,
          1.0917512313244644,
          1.0997321989436557,
          1.1077131665628475,
          1.1156941341820392,
          1.1236751018012305,
          1.1316560694204223,
          1.139637037039614,
          1.1476180046588054,
          1.1555989722779967,
          1.1635799398971884,
          1.1715609075163802,
          1.179541875135572,
          1.1875228427547633,
          1.1955038103739546,
          1.2034847779931463,
          1.211465745612338,
          1.2194467132315294,
          1.2274276808507212,
          1.235408648469913,
          1.2433896160891043,
          1.251370583708296,
          1.2593515513274873,
          1.267332518946679,
          1.2753134865658708,
          1.2832944541850626,
          1.2912754218042535,
          1.2992563894234452,
          1.307237357042637,
          1.3152183246618288,
          1.32319929228102,
          1.3311802599002118,
          1.3391612275194031,
          1.347142195138595,
          1.3551231627577862,
          1.363104130376978,
          1.3710850979961697,
          1.3790660656153615,
          1.3870470332345524,
          1.3950280008537441,
          1.4030089684729359,
          1.4109899360921276,
          1.4189709037113194,
          1.4269518713305107,
          1.434932838949702,
          1.4429138065688938,
          1.4508947741880855,
          1.4588757418072769,
          1.4668567094264686,
          1.4748376770456604,
          1.4828186446648517,
          1.490799612284043,
          1.4987805799032348,
          1.5067615475224265,
          1.5147425151416183,
          1.5227234827608096,
          1.530704450380001,
          1.5386854179991927,
          1.5466663856183844,
          1.5546473532375757,
          1.5626283208567675,
          1.5706092884759593,
          1.5785902560951506,
          1.5865712237143423,
          1.5945521913335337,
          1.6025331589527254,
          1.6105141265719172,
          1.618495094191109,
          1.6264760618102998,
          1.6344570294294916,
          1.6424379970486833,
          1.650418964667875,
          1.6583999322870664,
          1.6663808999062582,
          1.6743618675254495,
          1.6823428351446412,
          1.6903238027638325,
          1.6983047703830243,
          1.706285738002216,
          1.7142667056214078,
          1.7222476732405987,
          1.7302286408597904,
          1.7382096084789822,
          1.746190576098174,
          1.7541715437173657,
          1.762152511336557,
          1.7701334789557484,
          1.77811444657494,
          1.7860954141941319,
          1.7940763818133232,
          1.802057349432515,
          1.8100383170517067,
          1.818019284670898,
          1.8260002522900893,
          1.833981219909281,
          1.8419621875284728,
          1.8499431551476646,
          1.857924122766856,
          1.8659050903860472,
          1.873886058005239,
          1.8818670256244308,
          1.889847993243622,
          1.8978289608628138,
          1.9058099284820056,
          1.913790896101197,
          1.9217718637203887,
          1.92975283133958,
          1.9377337989587717,
          1.9457147665779635,
          1.9536957341971553,
          1.9616767018163461,
          1.9696576694355379
         ],
         "xaxis": "x",
         "y": [
          0.061147549937789626,
          0.06233538032376981,
          0.06351754998195308,
          0.06469323309076859,
          0.0658616283153469,
          0.06702196153622102,
          0.06817348852390244,
          0.06931549754806755,
          0.07044731191018934,
          0.07156829238861132,
          0.07267783958527359,
          0.07377539616356947,
          0.07486044896713337,
          0.07593253100973495,
          0.07699122332688427,
          0.07803615668022623,
          0.07906701310633062,
          0.08008352730205552,
          0.08108548783927608,
          0.08207273820242988,
          0.08304517764302417,
          0.08400276184598007,
          0.08494550340345394,
          0.08587347209256442,
          0.08678679495427133,
          0.08768565617148871,
          0.08857029674536629,
          0.08944101396954424,
          0.09029816070305414,
          0.09114214444342544,
          0.0919734262024313,
          0.09279251918778252,
          0.09359998729494784,
          0.09439644341412831,
          0.09518254755825031,
          0.09595900481865811,
          0.09672656315597204,
          0.09748601103434199,
          0.0982381749080476,
          0.09898391657008797,
          0.09972413037305207,
          0.1004597403331633,
          0.10119169712895076,
          0.10192097500650661,
          0.10264856860374293,
          0.10337548970646303,
          0.10410276394940267,
          0.10483142747568218,
          0.10556252356833283,
          0.10629709926772167,
          0.10703620198879965,
          0.10778087615212988,
          0.10853215984262755,
          0.10929108150984525,
          0.1100586567234879,
          0.11083588499761456,
          0.11162374669670587,
          0.11242320003643258,
          0.11323517819155517,
          0.11406058652292403,
          0.11490029993503109,
          0.11575516037499244,
          0.11662597448321688,
          0.11751351140534262,
          0.11841850077430709,
          0.11934163087065118,
          0.12028354696836183,
          0.12124484987271528,
          0.12222609465571982,
          0.12322778959385604,
          0.12425039531189123,
          0.12529432413560534,
          0.12635993965530695,
          0.12744755650104628,
          0.128557440329461,
          0.1296898080212066,
          0.13084482808694775,
          0.1320226212789165,
          0.13322326140407997,
          0.1344467763340177,
          0.13569314920567901,
          0.13696231980629212,
          0.13825418613481938,
          0.13956860613151023,
          0.14090539956630221,
          0.14226435007604674,
          0.1436452073398195,
          0.14504768938089954,
          0.14647148498337156,
          0.14791625621074306,
          0.14938164101344736,
          0.15086725591165046,
          0.15237269873939036,
          0.1538975514357422,
          0.15544138286844675,
          0.15700375167524,
          0.1585842091079959,
          0.16018230186474244,
          0.16179757489462027,
          0.16342957416094409,
          0.16507784934768385,
          0.1667419564949074,
          0.16842146054903692,
          0.17011593781412898,
          0.17182497829083562,
          0.17354818789021104,
          0.17528519051009342,
          0.1770356299624363,
          0.1787991717406608,
          0.18057550461684696,
          0.18236434205941154,
          0.18416542346276804,
          0.18597851518139508,
          0.1878034113616809,
          0.1896399345659353,
          0.1914879361839738,
          0.19334729662877487,
          0.1952179253137885,
          0.19709976041061048,
          0.19899276838687505,
          0.2008969433253639,
          0.2028123060265022,
          0.2047389028975652,
          0.20667680463308574,
          0.2086261046920997,
          0.21058691757900133,
          0.2125593769359014,
          0.21454363345546204,
          0.21653985262424724,
          0.21854821230764093,
          0.22056890018836747,
          0.22260211107156885,
          0.22464804407027664,
          0.22670689968592114,
          0.2287788767992797,
          0.23086416958793599,
          0.2329629643869422,
          0.23507543650989188,
          0.23720174704806699,
          0.23934203966568282,
          0.2414964374095149,
          0.24366503955139074,
          0.24584791848209225,
          0.2480451166752187,
          0.2502566437394355,
          0.25248247357733217,
          0.2547225416687907,
          0.2569767424963621,
          0.25924492712962055,
          0.26152690098486514,
          0.2638224217758113,
          0.26613119767011734,
          0.26845288566567144,
          0.27078709019959163,
          0.2731333620017834,
          0.27549119720375637,
          0.2778600367121456,
          0.28023926585507153,
          0.28262821430809004,
          0.28502615630504213,
          0.2874323111376166,
          0.2898458439458922,
          0.29226586680056615,
          0.29469144007593406,
          0.2971215741110962,
          0.2995552311551914,
          0.3019913275908402,
          0.30442873642832463,
          0.30686629006143407,
          0.30930278327428873,
          0.3117369764869227,
          0.31416759922587845,
          0.3165933538046261,
          0.31901291919721975,
          0.3214249550873073,
          0.32382810607336465,
          0.3262210060099035,
          0.32860228246336076,
          0.3309705612604565,
          0.33332447110599817,
          0.3356626482464204,
          0.33798374115480856,
          0.34028641521271014,
          0.34256935736377636,
          0.34483128071413394,
          0.34707092905437964,
          0.3492870812782693,
          0.35147855567345326,
          0.35364421406007757,
          0.35578296575366153,
          0.35789377132941974,
          0.35997564616606786,
          0.36202766374820206,
          0.3640489587074854,
          0.3660387295841822,
          0.36799624129198405,
          0.3699208272706092,
          0.37181189131228337,
          0.37366890904995087,
          0.3754914290968728,
          0.37727907382917847,
          0.3790315398048836,
          0.3807485978149115,
          0.3824300925637008,
          0.38407594197908285,
          0.385686136153187,
          0.38726073591826166,
          0.3887998710633663,
          0.39030373819998365,
          0.3917725982866024,
          0.39320677382433705,
          0.3946066457375422,
          0.3959726499552364,
          0.3973052737109176,
          0.3986050515799913,
          0.3998725612756066,
          0.4011084192251145,
          0.40231327595067456,
          0.4034878112787069,
          0.404632729403901,
          0.405748753834389,
          0.40683662224538364,
          0.40789708126916163,
          0.40893088124965793,
          0.40993877099015996,
          0.41092149252265847,
          0.4118797759273025,
          0.41281433423012454,
          0.41372585840676457,
          0.4146150125193262,
          0.4154824290127202,
          0.4163287041959599,
          0.4171543939327923,
          0.4179600095648599,
          0.4187460140892647,
          0.41951281861092704,
          0.4202607790885992,
          0.4209901933916971,
          0.42170129868335743,
          0.4223942691433048,
          0.42306921404216613,
          0.4237261761769406,
          0.42436513067528897,
          0.42498598417428257,
          0.4255885743771824,
          0.4261726699897428,
          0.42673797103549466,
          0.4272841095473781,
          0.427810650631138,
          0.428317093893867,
          0.42880287522921356,
          0.4292673689488964,
          0.42970989024840417,
          0.43012969799306056,
          0.4305259978090647,
          0.4308979454625988,
          0.431244650508739,
          0.43156518019064016,
          0.4318585635683162,
          0.43212379585535254,
          0.4323598429409924,
          0.43256564607431097,
          0.4327401266865969,
          0.432882191327585,
          0.4329907366908851,
          0.4330646547037631,
          0.4331028376563868,
          0.433104183345768,
          0.43306760020983204,
          0.43299201242743535,
          0.43287636496062715,
          0.43271962851605406,
          0.43252080440313384,
          0.43227892926745703,
          0.4319930796787886,
          0.43166237655408735,
          0.4312859893970391,
          0.4308631403368154,
          0.43039310794999225,
          0.42987523085088825,
          0.42930891103694363,
          0.42869361697714975,
          0.428028886432984,
          0.4273143290027486,
          0.4265496283816893,
          0.42573454433172686,
          0.42486891435612084,
          0.42395265507581786,
          0.42298576330568594,
          0.42196831683023395,
          0.42090047487977694,
          0.4197824783093512,
          0.4186146494839345,
          0.41739739187476715,
          0.4161311893727229,
          0.4148166053257675,
          0.4134542813085774,
          0.4120449356333424,
          0.41058936161165005,
          0.4090884255781476,
          0.4075430646874092,
          0.4059542844960583,
          0.4043231563427691,
          0.4026508145392403,
          0.400938453385631,
          0.3991873240242739,
          0.39739873114571067,
          0.3955740295612764,
          0.3937146206565292,
          0.39182194873986975,
          0.3898974973006275,
          0.3879427851908074,
          0.3859593627445007,
          0.383948807848765,
          0.38191272197949183,
          0.37985272621546734,
          0.3777704572434776,
          0.3756675633669009,
          0.37354570052980995,
          0.37140652836814797,
          0.3692517062990517,
          0.36708288965890734,
          0.36490172590019515,
          0.36270985085665897,
          0.3605088850857994,
          0.3583004302971487,
          0.35608606587424596,
          0.35386734549769555,
          0.35164579387616113,
          0.3494229035916136,
          0.34720013206465544,
          0.3449788986452254,
          0.342760581833506,
          0.34054651663538843,
          0.33833799205638343,
          0.3361362487374371,
          0.3339424767356742,
          0.33175781345271255,
          0.3295833417127693,
          0.32742008799245115,
          0.3252690208037377,
          0.3231310492313492,
          0.32100702162536854,
          0.31889772444968034,
          0.3168038812865065,
          0.3147261519970392,
          0.312665132037908,
          0.31062135193297313,
          0.3085952768996791,
          0.3065873066289934,
          0.3045977752177031,
          0.3026269512516446,
          0.30067503803821644,
          0.29874217398632247,
          0.2968284331316776,
          0.29493382580522803,
          0.29305829944220607,
          0.2912017395291729,
          0.28936397068618636,
          0.2875447578810355,
          0.2857438077722996,
          0.2839607701777801,
          0.28219523966466886,
          0.28044675725760965,
          0.27871481226063427,
          0.2769988441887376,
          0.27529824480468507,
          0.27361236025644076,
          0.27194049331042286,
          0.27028190567560445,
          0.2686358204133006,
          0.26700142442729174,
          0.26537787102877414,
          0.26376428257045265,
          0.26215975314392687,
          0.26056335133436803,
          0.258974123026344,
          0.2573910942544944,
          0.2558132740926465,
          0.2542396575748251,
          0.2526692286415172,
          0.25110096310443497,
          0.249533831622956,
          0.24796680268532478,
          0.24639884558765554,
          0.24482893340371967,
          0.24325604593847616,
          0.24167917265827743,
          0.24009731559068742,
          0.23850949218685968,
          0.23691473813945324,
          0.23531211014910824,
          0.2337006886325687,
          0.2320795803656187,
          0.23044792105409437,
          0.22880487782635506,
          0.22714965164072243,
          0.22548147960155424,
          0.2237996371777911,
          0.22210344031799611,
          0.22039224745612307,
          0.21866546140247337,
          0.21692253111454413,
          0.21516295334274332,
          0.21338627414621977,
          0.2115920902743714,
          0.2097800504099056,
          0.20794985626967274,
          0.2061012635598467,
          0.2042340827824031,
          0.2023481798902416,
          0.20044347678869862,
          0.19851995168163242,
          0.1965776392606899,
          0.19461663073682708,
          0.1926370737136119,
          0.19063917190232482,
          0.18862318467934636,
          0.18658942648682594,
          0.18453826607812773,
          0.18247012561004844,
          0.1803854795843194,
          0.17828485364141364,
          0.1761688232101894,
          0.1740380120174067,
          0.17189309046165763,
          0.16973477385674024,
          0.16756382054999333,
          0.1653810299215775,
          0.16318724027113862,
          0.1609833265987318,
          0.15877019828729796,
          0.15654879669437316,
          0.15432009266108437,
          0.1520850839468217,
          0.14984479259828015,
          0.14760026226185155,
          0.14535255544857686,
          0.1431027507610784,
          0.14085194009206195,
          0.1386012258040944,
          0.13635171790045975,
          0.13410453119692695,
          0.13186078250427177,
          0.12962158783134123,
          0.12738805961836777,
          0.1251613040100974,
          0.12294241817812472,
          0.12073248770159865,
          0.11853258401520327,
          0.11634376193300187,
          0.11416705725639,
          0.11200348447401025,
          0.10985403456105425,
          0.1077196728849213,
          0.10560133722369815,
          0.10349993590340832,
          0.10141634605941792,
          0.09935141202681433,
          0.09730594386396381,
          0.09528071601284617,
          0.09327646609912467,
          0.09129389387426791,
          0.08933366030138604,
          0.08739638678579027,
          0.08548265455062659,
          0.08359300415728343,
          0.081727935169625,
          0.07988790596047216,
          0.07807333365812824,
          0.0762845942301489,
          0.07452202270097244,
          0.07278591349947187,
          0.07107652093196351,
          0.0693940597757041,
          0.06773870598745067,
          0.066110597521221,
          0.0645098352490043,
          0.06293648397781883,
          0.06139057355620045,
          0.05987210006293647,
          0.058381027070633945,
          0.05691728697652849,
          0.05548078239280242,
          0.05407138758858589,
          0.05268894997576765,
          0.051333291630736015,
          0.050004210844207496,
          0.04870148369138199,
          0.04742486561478239,
          0.04617409301229879,
          0.04494888482315249,
          0.04374894410472994,
          0.04257395959350184,
          0.04142360724354202,
          0.040297551736483334,
          0.03919544795710404,
          0.038116942429108444,
          0.03706167470606417,
          0.0360292787128679
         ],
         "yaxis": "y"
        },
        {
         "legendgroup": "Group 3",
         "marker": {
          "color": "rgb(44, 160, 44)"
         },
         "mode": "lines",
         "name": "Group 3",
         "showlegend": false,
         "type": "scatter",
         "x": [
          -1.7360054244738925,
          -1.724890302868071,
          -1.7137751812622497,
          -1.7026600596564283,
          -1.6915449380506071,
          -1.6804298164447857,
          -1.6693146948389643,
          -1.658199573233143,
          -1.6470844516273215,
          -1.6359693300215001,
          -1.6248542084156787,
          -1.6137390868098573,
          -1.6026239652040362,
          -1.5915088435982148,
          -1.5803937219923934,
          -1.569278600386572,
          -1.5581634787807506,
          -1.5470483571749292,
          -1.5359332355691078,
          -1.5248181139632866,
          -1.5137029923574652,
          -1.5025878707516438,
          -1.4914727491458224,
          -1.480357627540001,
          -1.4692425059341798,
          -1.4581273843283582,
          -1.447012262722537,
          -1.4358971411167154,
          -1.4247820195108942,
          -1.4136668979050728,
          -1.4025517762992514,
          -1.39143665469343,
          -1.3803215330876086,
          -1.3692064114817875,
          -1.3580912898759658,
          -1.3469761682701447,
          -1.3358610466643233,
          -1.3247459250585019,
          -1.3136308034526805,
          -1.302515681846859,
          -1.2914005602410377,
          -1.2802854386352163,
          -1.269170317029395,
          -1.2580551954235737,
          -1.2469400738177523,
          -1.235824952211931,
          -1.2247098306061095,
          -1.2135947090002883,
          -1.202479587394467,
          -1.1913644657886455,
          -1.1802493441828241,
          -1.1691342225770027,
          -1.1580191009711815,
          -1.14690397936536,
          -1.1357888577595385,
          -1.1246737361537171,
          -1.113558614547896,
          -1.1024434929420743,
          -1.0913283713362532,
          -1.0802132497304318,
          -1.0690981281246104,
          -1.057983006518789,
          -1.0468678849129676,
          -1.0357527633071464,
          -1.0246376417013248,
          -1.0135225200955036,
          -1.0024073984896822,
          -0.9912922768838608,
          -0.9801771552780394,
          -0.969062033672218,
          -0.9579469120663967,
          -0.9468317904605753,
          -0.9357166688547539,
          -0.9246015472489326,
          -0.9134864256431112,
          -0.9023713040372898,
          -0.8912561824314684,
          -0.8801410608256471,
          -0.8690259392198257,
          -0.8579108176140043,
          -0.8467956960081829,
          -0.8356805744023617,
          -0.8245654527965403,
          -0.8134503311907189,
          -0.8023352095848976,
          -0.7912200879790762,
          -0.7801049663732548,
          -0.7689898447674334,
          -0.7578747231616121,
          -0.7467596015557907,
          -0.7356444799499693,
          -0.7245293583441481,
          -0.7134142367383267,
          -0.7022991151325053,
          -0.6911839935266839,
          -0.6800688719208625,
          -0.6689537503150413,
          -0.6578386287092197,
          -0.6467235071033985,
          -0.6356083854975769,
          -0.6244932638917557,
          -0.6133781422859343,
          -0.602263020680113,
          -0.5911478990742915,
          -0.5800327774684704,
          -0.5689176558626488,
          -0.5578025342568276,
          -0.5466874126510062,
          -0.5355722910451846,
          -0.5244571694393634,
          -0.5133420478335418,
          -0.5022269262277206,
          -0.4911118046218992,
          -0.4799966830160778,
          -0.4688815614102564,
          -0.4577664398044352,
          -0.4466513181986136,
          -0.4355361965927924,
          -0.424421074986971,
          -0.4133059533811496,
          -0.4021908317753282,
          -0.39107571016950704,
          -0.3799605885636854,
          -0.36884546695786424,
          -0.3577303453520426,
          -0.34661522374622145,
          -0.33550010214040005,
          -0.32438498053457865,
          -0.31326985892875725,
          -0.3021547373229361,
          -0.29103961571711445,
          -0.2799244941112933,
          -0.2688093725054719,
          -0.2576942508996505,
          -0.24657912929382908,
          -0.23546400768800768,
          -0.22434888608218628,
          -0.2132337644763651,
          -0.20211864287054349,
          -0.1910035212647223,
          -0.1798883996589009,
          -0.1687732780530795,
          -0.1576581564472581,
          -0.14654303484143694,
          -0.13542791323561532,
          -0.12431279162979414,
          -0.11319767002397274,
          -0.10208254841815134,
          -0.09096742681232994,
          -0.07985230520650854,
          -0.06873718360068715,
          -0.05762206199486597,
          -0.04650694038904435,
          -0.03539181878322317,
          -0.024276697177401774,
          -0.013161575571580375,
          -0.0020464539657589764,
          0.0090686676400622,
          0.02018378924588382,
          0.031298910851705,
          0.04241403245752662,
          0.053529154063347795,
          0.0646442756691692,
          0.07575939727499059,
          0.08687451888081199,
          0.09798964048663317,
          0.10910476209245479,
          0.12021988369827596,
          0.13133500530409736,
          0.14245012690991876,
          0.15356524851574016,
          0.16468037012156134,
          0.17579549172738296,
          0.18691061333320413,
          0.19802573493902575,
          0.20914085654484693,
          0.22025597815066833,
          0.23137109975648973,
          0.24248622136231113,
          0.2536013429681323,
          0.2647164645739539,
          0.2758315861797751,
          0.2869467077855963,
          0.2980618293914179,
          0.3091769509972391,
          0.3202920726030607,
          0.3314071942088819,
          0.3425223158147035,
          0.35363743742052467,
          0.36475255902634585,
          0.37586768063216747,
          0.3869828022379891,
          0.3980979238438098,
          0.40921304544963144,
          0.42032816705545306,
          0.4314432886612747,
          0.4425584102670954,
          0.45367353187291704,
          0.46478865347873866,
          0.47590377508455983,
          0.487018896690381,
          0.49813401829620263,
          0.5092491399020238,
          0.5203642615078454,
          0.5314793831136666,
          0.5425945047194878,
          0.5537096263253094,
          0.564824747931131,
          0.5759398695369518,
          0.5870549911427734,
          0.598170112748595,
          0.6092852343544162,
          0.6204003559602373,
          0.631515477566059,
          0.6426305991718801,
          0.6537457207777018,
          0.6648608423835234,
          0.6759759639893441,
          0.6870910855951657,
          0.6982062072009874,
          0.709321328806809,
          0.7204364504126297,
          0.7315515720184513,
          0.742666693624273,
          0.7537818152300941,
          0.7648969368359153,
          0.7760120584417369,
          0.7871271800475581,
          0.7982423016533797,
          0.8093574232592009,
          0.8204725448650221,
          0.8315876664708437,
          0.8427027880766653,
          0.853817909682486,
          0.8649330312883077,
          0.8760481528941293,
          0.8871632744999505,
          0.8982783961057716,
          0.9093935177115933,
          0.9205086393174144,
          0.9316237609232361,
          0.9427388825290572,
          0.9538540041348784,
          0.9649691257407,
          0.9760842473465217,
          0.9871993689523428,
          0.998314490558164,
          1.0094296121639856,
          1.0205447337698073,
          1.031659855375628,
          1.0427749769814496,
          1.0538900985872712,
          1.0650052201930924,
          1.0761203417989136,
          1.0872354634047352,
          1.0983505850105564,
          1.109465706616378,
          1.1205808282221992,
          1.1316959498280204,
          1.142811071433842,
          1.1539261930396636,
          1.1650413146454843,
          1.176156436251306,
          1.1872715578571276,
          1.1983866794629487,
          1.20950180106877,
          1.2206169226745915,
          1.2317320442804127,
          1.2428471658862343,
          1.2539622874920555,
          1.2650774090978771,
          1.2761925307036983,
          1.28730765230952,
          1.298422773915341,
          1.3095378955211623,
          1.320653017126984,
          1.3317681387328055,
          1.3428832603386263,
          1.3539983819444479,
          1.3651135035502695,
          1.3762286251560907,
          1.3873437467619119,
          1.3984588683677335,
          1.4095739899735547,
          1.4206891115793763,
          1.4318042331851975,
          1.4429193547910186,
          1.4540344763968402,
          1.4651495980026619,
          1.4762647196084826,
          1.4873798412143042,
          1.4984949628201258,
          1.509610084425947,
          1.5207252060317682,
          1.5318403276375898,
          1.5429554492434114,
          1.5540705708492326,
          1.5651856924550538,
          1.5763008140608754,
          1.5874159356666966,
          1.5985310572725182,
          1.6096461788783394,
          1.6207613004841606,
          1.6318764220899822,
          1.6429915436958038,
          1.6541066653016245,
          1.6652217869074462,
          1.6763369085132678,
          1.687452030119089,
          1.6985671517249101,
          1.7096822733307317,
          1.720797394936553,
          1.7319125165423745,
          1.7430276381481957,
          1.754142759754017,
          1.7652578813598385,
          1.7763730029656601,
          1.7874881245714809,
          1.7986032461773025,
          1.8097183677831241,
          1.8208334893889457,
          1.8319486109947665,
          1.843063732600588,
          1.8541788542064097,
          1.8652939758122309,
          1.8764090974180525,
          1.8875242190238737,
          1.8986393406296949,
          1.9097544622355165,
          1.920869583841338,
          1.9319847054471588,
          1.9430998270529805,
          1.954214948658802,
          1.9653300702646233,
          1.9764451918704444,
          1.987560313476266,
          1.9986754350820872,
          2.009790556687909,
          2.02090567829373,
          2.032020799899551,
          2.043135921505373,
          2.0542510431111944,
          2.065366164717015,
          2.076481286322837,
          2.0875964079286584,
          2.0987115295344796,
          2.1098266511403008,
          2.1209417727461224,
          2.132056894351944,
          2.143172015957765,
          2.1542871375635864,
          2.165402259169408,
          2.176517380775229,
          2.187632502381051,
          2.198747623986872,
          2.209862745592693,
          2.2209778671985148,
          2.2320929888043364,
          2.243208110410157,
          2.2543232320159787,
          2.2654383536218003,
          2.276553475227621,
          2.2876685968334427,
          2.2987837184392643,
          2.309898840045085,
          2.3210139616509067,
          2.3321290832567283,
          2.34324420486255,
          2.3543593264683707,
          2.3654744480741923,
          2.376589569680014,
          2.3877046912858355,
          2.3988198128916562,
          2.409934934497478,
          2.4210500561032995,
          2.432165177709121,
          2.443280299314942,
          2.4543954209207635,
          2.465510542526584,
          2.476625664132406,
          2.4877407857382274,
          2.498855907344049,
          2.5099710289498707,
          2.5210861505556923,
          2.532201272161512,
          2.5433163937673338,
          2.5544315153731554,
          2.565546636978977,
          2.5766617585847986,
          2.5877768801906202,
          2.598892001796442,
          2.6100071234022626,
          2.6211222450080833,
          2.632237366613905,
          2.6433524882197266,
          2.654467609825548,
          2.66558273143137,
          2.6766978530371905,
          2.687812974643012,
          2.698928096248834,
          2.7100432178546545,
          2.721158339460476,
          2.7322734610662978,
          2.7433885826721185,
          2.75450370427794,
          2.7656188258837617,
          2.7767339474895834,
          2.787849069095405,
          2.7989641907012257,
          2.8100793123070464,
          2.821194433912868,
          2.8323095555186897,
          2.8434246771245113,
          2.854539798730333,
          2.8656549203361545,
          2.876770041941976,
          2.887885163547796,
          2.8990002851536176,
          2.9101154067594392,
          2.921230528365261,
          2.9323456499710825,
          2.943460771576904,
          2.954575893182725,
          2.9656910147885465,
          2.976806136394367,
          2.987921258000189,
          2.9990363796060104,
          3.010151501211832,
          3.021266622817653,
          3.0323817444234744,
          3.043496866029296,
          3.0546119876351177,
          3.0657271092409393,
          3.07684223084676,
          3.0879573524525807,
          3.0990724740584024,
          3.110187595664224,
          3.1213027172700456,
          3.132417838875867,
          3.143532960481689,
          3.1546480820875105,
          3.1657632036933303,
          3.176878325299152,
          3.1879934469049735,
          3.199108568510795,
          3.210223690116617,
          3.2213388117224384,
          3.232453933328259,
          3.2435690549340808,
          3.2546841765399015,
          3.265799298145723,
          3.2769144197515447,
          3.2880295413573664,
          3.299144662963187,
          3.3102597845690087,
          3.3213749061748303,
          3.332490027780652,
          3.3436051493864727,
          3.3547202709922943,
          3.365835392598115,
          3.3769505142039367,
          3.3880656358097583,
          3.39918075741558,
          3.4102958790214015,
          3.421411000627223,
          3.432526122233044,
          3.4436412438388646,
          3.4547563654446862,
          3.465871487050508,
          3.4769866086563295,
          3.488101730262151,
          3.4992168518679727,
          3.5103319734737934,
          3.521447095079614,
          3.532562216685436,
          3.5436773382912574,
          3.554792459897079,
          3.5659075815029007,
          3.5770227031087214,
          3.588137824714543,
          3.5992529463203646,
          3.6103680679261854,
          3.621483189532007,
          3.6325983111378286,
          3.6437134327436493,
          3.654828554349471,
          3.6659436759552926,
          3.677058797561114,
          3.688173919166936,
          3.6992890407727566,
          3.710404162378578,
          3.721519283984399,
          3.7326344055902205,
          3.743749527196042,
          3.7548646488018638,
          3.7659797704076854,
          3.777094892013507,
          3.788210013619327,
          3.7993251352251485,
          3.81044025683097
         ],
         "xaxis": "x",
         "y": [
          0.013348700286831367,
          0.013639431012429395,
          0.01393267464199369,
          0.014228743447382484,
          0.01452798301067135,
          0.014830771637277392,
          0.015137519521666276,
          0.015448667663579524,
          0.01576468653472057,
          0.016086074497917335,
          0.016413355982917155,
          0.0167470794251517,
          0.017087814976015067,
          0.01743615199540869,
          0.017792696339500723,
          0.018158067458805594,
          0.01853289532378762,
          0.018917817197211417,
          0.019313474274378014,
          0.01972050821417631,
          0.020139557585526695,
          0.020571254255271457,
          0.02101621974485979,
          0.021475061584260723,
          0.021948369692400424,
          0.022436712814041974,
          0.02294063504339445,
          0.023460652464838274,
          0.023997249940976937,
          0.0245508780777636,
          0.02512195039569701,
          0.025710840735034327,
          0.026317880921628723,
          0.02694335871836755,
          0.027587516085272774,
          0.02825054776913451,
          0.028932600241097638,
          0.029633770997920753,
          0.03035410823970243,
          0.031093610933735194,
          0.03185222927083644,
          0.03262986551703747,
          0.03342637525992397,
          0.03424156904524093,
          0.03507521439564117,
          0.03592703819970428,
          0.03679672945561927,
          0.03768394235025193,
          0.0385882996507444,
          0.03950939638236127,
          0.040446803763045734,
          0.04140007336211791,
          0.042368741447776796,
          0.043352333485596195,
          0.044350368748062266,
          0.04536236499343012,
          0.04638784317079727,
          0.04742633210733836,
          0.04847737313313657,
          0.049540524599003655,
          0.05061536624311126,
          0.05170150336318035,
          0.05279857075238138,
          0.05390623635899899,
          0.05502420463229283,
          0.056152219519829294,
          0.0572900670848519,
          0.058437577715970176,
          0.05959462790554704,
          0.060761141577621657,
          0.06193709095096732,
          0.06312249692791001,
          0.06431742900477184,
          0.06552200470519232,
          0.0667363885430633,
          0.06796079052732915,
          0.06919546422637891,
          0.07044070441513584,
          0.07169684433315238,
          0.07296425258698547,
          0.07424332973478918,
          0.07553450459534922,
          0.07683823032764052,
          0.07815498033035236,
          0.07948524401363877,
          0.08082952249757065,
          0.08218832429334079,
          0.08356216102417244,
          0.0849515432430735,
          0.0863569764040393,
          0.08777895704203247,
          0.08921796921504371,
          0.09067448125877954,
          0.09214894290103759,
          0.09364178277865258,
          0.09515340639504959,
          0.09668419455098545,
          0.09823450227502557,
          0.0998046582737826,
          0.10139496491497801,
          0.10300569874907498,
          0.10463711156764893,
          0.10628943198889654,
          0.10796286755284183,
          0.1096576073009665,
          0.1113738248072784,
          0.11311168162033808,
          0.11487133106859503,
          0.1166529223746324,
          0.11845660501769782,
          0.12028253327828563,
          0.12213087089362798,
          0.12400179574884007,
          0.12589550452520185,
          0.1278122172247315,
          0.12975218148885495,
          0.13171567662865302,
          0.13370301728489858,
          0.13571455663790902,
          0.13775068909012894,
          0.1398118523483291,
          0.14189852883732837,
          0.14401124638319324,
          0.1461505781108795,
          0.14831714150921838,
          0.15051159662489655,
          0.1527346433566194,
          0.15498701783078875,
          0.15726948785076347,
          0.15958284742290677,
          0.16192791037407667,
          0.16430550308684305,
          0.16671645639038477,
          0.1691615966565843,
          0.17164173616216744,
          0.17415766278869074,
          0.1767101291426075,
          0.1792998411874272,
          0.18192744648898643,
          0.18459352218294003,
          0.18729856278066642,
          0.19004296793573053,
          0.19282703029779535,
          0.19565092358431008,
          0.19851469100239388,
          0.20141823415399773,
          0.20436130255664842,
          0.20734348390982474,
          0.21036419523329353,
          0.21342267499854028,
          0.21651797636782283,
          0.2196489616473599,
          0.22281429805185796,
          0.2260124548670052,
          0.22924170208485892,
          0.2325001105742842,
          0.23578555383494929,
          0.23909571136890867,
          0.24242807368871197,
          0.2457799489653805,
          0.24914847130367096,
          0.25253061061594845,
          0.25592318404990805,
          0.2593228689094501,
          0.26272621699244847,
          0.26612967025406364,
          0.2695295776898691,
          0.27292221331947447,
          0.27630379513875625,
          0.2796705048973353,
          0.28301850854773375,
          0.28634397720381327,
          0.289643108438732,
          0.2929121477468725,
          0.2961474099900553,
          0.29934530064588777,
          0.3025023366754185,
          0.3056151668283025,
          0.308680591206524,
          0.31169557991228486,
          0.3146572906119849,
          0.3175630848561558,
          0.32041054300480876,
          0.32319747761870954,
          0.32592194518961837,
          0.32858225609630437,
          0.3311769826881379,
          0.33370496541404315,
          0.33616531693147683,
          0.33855742414769097,
          0.3408809481636684,
          0.34313582210963367,
          0.34532224687974267,
          0.3474406847922655,
          0.34949185122012255,
          0.35147670425483124,
          0.35339643248458974,
          0.3552524409842041,
          0.3570463356306747,
          0.3587799058733725,
          0.36045510610167936,
          0.3620740357656078,
          0.36363891841618556,
          0.3651520798420963,
          0.36661592548719135,
          0.36803291733993915,
          0.36940555049056323,
          0.3707363295545365,
          0.3720277451622319,
          0.3732822507138048,
          0.3745022395959138,
          0.3756900230526032,
          0.3768478088966984,
          0.3779776812403942,
          0.3790815814145095,
          0.38016129023512246,
          0.38121841176421556,
          0.3822543586975572,
          0.38327033949852457,
          0.3842673473810599,
          0.3852461512285578,
          0.3862072885184099,
          0.38715106030431296,
          0.3880775282904419,
          0.3889865140133866,
          0.38987760012947975,
          0.3907501337870158,
          0.3916032320449837,
          0.3924357892825197,
          0.39324648652644784,
          0.39403380260817367,
          0.3947960270459652,
          0.3955312745344449,
          0.396237500909986,
          0.3969125204488567,
          0.3975540243443763,
          0.3981596002002103,
          0.39872675236926,
          0.3992529229614453,
          0.3997355133391193,
          0.40017190591587254,
          0.4005594860731431,
          0.4008956640092745,
          0.4011778963375541,
          0.4014037072531481,
          0.40157070909383297,
          0.4016766221258232,
          0.40171929339384227,
          0.40169671448372346,
          0.4016070380562517,
          0.401448593022466,
          0.40121989824323767,
          0.400919674649415,
          0.4005468556931045,
          0.400100596055617,
          0.3995802785530697,
          0.3989855191965173,
          0.39831617037960215,
          0.3975723221829626,
          0.39675430180082777,
          0.39586267111128415,
          0.39489822242742456,
          0.39386197248186416,
          0.3927551547118455,
          0.39157920992614453,
          0.3903357754482012,
          0.3890266728421588,
          0.387653894339729,
          0.3862195880959126,
          0.38472604241050806,
          0.38317566905994965,
          0.38157098589031685,
          0.3799145988272201,
          0.3782091834617601,
          0.37645746637374483,
          0.37466220635393654,
          0.37282617568617493,
          0.3709521416479182,
          0.3690428483839736,
          0.36710099930311313,
          0.3651292401408336,
          0.363130142823886,
          0.3611061902633771,
          0.35905976219336894,
          0.35699312216104867,
          0.3549084057628337,
          0.35280761020832085,
          0.35069258528092384,
          0.34856502575047316,
          0.34642646527915694,
          0.34427827184803117,
          0.342121644717147,
          0.33995761291815796,
          0.3377870352643671,
          0.33561060184950897,
          0.3334288369934498,
          0.3312421035803884,
          0.32905060872329345,
          0.3268544106772694,
          0.3246534269143933,
          0.3224474432634518,
          0.3202361240099467,
          0.31801902284485073,
          0.31579559454488965,
          0.3135652072626792,
          0.3113271553018479,
          0.3090806722503778,
          0.30682494434476343,
          0.30455912393821305,
          0.30228234294798806,
          0.2999937261600283,
          0.29769240427319504,
          0.29537752657073063,
          0.2930482731127677,
          0.2907038663508911,
          0.2883435820737035,
          0.2859667596010227,
          0.2835728111536041,
          0.28116123033502366,
          0.2787315996724934,
          0.2762835971737367,
          0.2738170018675621,
          0.2713316983062937,
          0.26882768001864,
          0.26630505191180165,
          0.26376403163151935,
          0.2612049498982742,
          0.25862824984683314,
          0.25603448540477086,
          0.2534243187533517,
          0.2507985169212155,
          0.24815794756759293,
          0.2455035740172562,
          0.24283644961405568,
          0.24015771146366693,
          0.23746857363911647,
          0.23477031992469546,
          0.23206429617510232,
          0.22935190236704225,
          0.2266345844201093,
          0.2239138258626401,
          0.2211911394163615,
          0.21846805857117013,
          0.21574612921828107,
          0.21302690140639383,
          0.21031192128143417,
          0.20760272326600512,
          0.20490082252990816,
          0.20220770779809216,
          0.1995248345372225,
          0.1968536185567821,
          0.19419543005531387,
          0.19155158813713066,
          0.1889233558196249,
          0.186311935546263,
          0.18371846521548008,
          0.18114401473105984,
          0.17858958307522818,
          0.17605609590161056,
          0.1735444036414706,
          0.17105528011324306,
          0.16858942162231483,
          0.16614744653531915,
          0.16372989531086743,
          0.16133723096665012,
          0.15896983996119504,
          0.15662803346724452,
          0.15431204901269957,
          0.15202205246435044,
          0.14975814032914228,
          0.14752034234749825,
          0.14530862435319544,
          0.1431228913744507,
          0.14096299095118547,
          0.13882871664387672,
          0.13671981170993927,
          0.13463597292419688,
          0.13257685452066503,
          0.13054207223356362,
          0.12853120741617938,
          0.126543811216912,
          0.12457940879251098,
          0.12263750353918096,
          0.12071758132285197,
          0.11881911469050116,
          0.11694156704495533,
          0.11508439676611637,
          0.11324706126201389,
          0.11142902093353593,
          0.10962974303710085,
          0.10784870542993301,
          0.10608540018300273,
          0.10433933704708609,
          0.10261004675782222,
          0.10089708416608384,
          0.09920003118046261,
          0.09751849950920329,
          0.09585213318950789,
          0.09420061089279551,
          0.09256364799523333,
          0.09094099840367267,
          0.08933245612802525,
          0.08773785659210677,
          0.0861570776760501,
          0.08459004048456437,
          0.08303670983656233,
          0.08149709447301617,
          0.07997124698130405,
          0.07845926343578447,
          0.07696128275585597,
          0.07547748578433712,
          0.07400809409059485,
          0.07255336850447269,
          0.07111360738869156,
          0.06968914465900614,
          0.0682803475629842,
          0.0668876142298219,
          0.06551137100508718,
          0.06415206958571194,
          0.06281018397186854,
          0.06148620725360958,
          0.060180648251267184,
          0.05889402802960873,
          0.057626876306612305,
          0.05637972777846026,
          0.055153118382922285,
          0.05394758152374031,
          0.052763644278890465,
          0.05160182361572412,
          0.050462622635939605,
          0.04934652687314014,
          0.048254000665376204,
          0.04718548362456316,
          0.04614138722401283,
          0.04512209152452262,
          0.04412794205854088,
          0.04315924689087813,
          0.04221627387326877,
          0.041299248108821365,
          0.04040834964103316,
          0.039543711380602524,
          0.03870541728175767,
          0.03789350077824751,
          0.03710794348752415,
          0.03634867418998544,
          0.0356155680884756,
          0.034908446351546246,
          0.0342270759422928,
          0.033571169732899336,
          0.03294038690336497,
          0.0323343336212536,
          0.0317525639977199,
          0.031194581313518096,
          0.030659839507216288,
          0.030147744916412544,
          0.029657658261397903,
          0.02918889685943233,
          0.02874073705660673,
          0.028312416863155047,
          0.0279031387770661,
          0.027512072779922125,
          0.027138359488071587,
          0.026781113441521932,
          0.026439426512323363,
          0.026112371413703893,
          0.025799005290812766,
          0.025498373373635703,
          0.025209512672456927,
          0.024931455696168205,
          0.02466323417375214,
          0.02440388275940739,
          0.024152442702025316,
          0.02390796546007556,
          0.023669516243407827,
          0.023436177464025282,
          0.02320705207853032,
          0.022981266805680075,
          0.022757975203314986,
          0.022536360589832542,
          0.02231563879636656,
          0.02209506073689393,
          0.021873914784617553,
          0.021651528944165367,
          0.02142727281038679,
          0.021200559305817813,
          0.020970846190215053,
          0.020737637336917605,
          0.02050048377217874,
          0.020258984475004165,
          0.020012786936436964,
          0.019761587478625064,
          0.019505131335394776,
          0.019243212497415656,
          0.018975673326376844,
          0.018702403943888564,
          0.018423341402069027,
          0.01813846864396712,
          0.017847813263097752,
          0.017551446072421012,
          0.017249479494074085
         ],
         "yaxis": "y"
        },
        {
         "legendgroup": "Group 1",
         "marker": {
          "color": "rgb(31, 119, 180)",
          "symbol": "line-ns-open"
         },
         "mode": "markers",
         "name": "Group 1",
         "showlegend": false,
         "type": "scatter",
         "x": [
          0.941231486168995,
          -1.1717157934689795,
          -0.15743847009711565,
          -0.9374252639867032,
          -1.7632401106246367,
          -0.5272067262260689,
          -2.415958536077185,
          -1.295498950210098,
          -2.09495824587239,
          -0.7518285244524607,
          -0.011984073060171907,
          -1.4803857923664412,
          -1.5521108397981103,
          -1.4527406545286503,
          0.916415016960221,
          -0.7752640625992439,
          0.000847992708880696,
          -1.8007292991645927,
          -0.34593081488081934,
          -2.2585465449209607,
          -0.5280212595960704,
          -0.33182491845439643,
          -0.5137168709018137,
          -2.1127651655792086,
          -0.6092997279464268,
          -0.4925821064010689,
          -0.33666639663807485,
          -1.6158448436476744,
          -1.010571671688927,
          -1.502382158869243,
          -1.145394312092896,
          -1.2458844366924924,
          -1.6789722298373593,
          -2.2993386332381482,
          0.49538875215356915,
          -0.2866480153864627,
          -1.0719187465291868,
          -0.823384012350715,
          0.18692618188038157,
          0.470122520548409,
          -2.0016750388275324,
          -1.8542484271493298,
          -1.199350828028626,
          -0.3535042054605382,
          -2.21705493830853,
          0.21816568972387373,
          -2.02758990701365,
          -1.3033757742602445,
          0.01581287929560271,
          -1.07628262686404,
          -1.1222333104630422,
          -0.6902304057450042,
          -1.1354034456243272,
          -1.3955460524533867,
          -0.8732406313536633,
          -2.653632192455616,
          -1.806370194494265,
          -2.1561270743026135,
          -0.17530441041765543,
          -2.4371170857116633,
          -0.46244046714737297,
          0.6396334389936491,
          -0.1397838645792281,
          0.5047597210385795,
          -1.5512751801732603,
          -1.0786633307793654,
          -1.1583642192185957,
          -0.3051305760751054,
          -2.1946515568420892,
          -0.08538705092298171,
          -1.148862018696983,
          0.16489742794030837,
          2.1964306180970947,
          -0.9089546516782007,
          2.1137281948488105,
          -1.537868300123581,
          -0.4934915385886135,
          -2.2270264958852275,
          -1.943967280221309,
          -1.623905496639866,
          -0.7606891592527704,
          -2.4504648383147036,
          -0.33528175220532463,
          -0.9565300664797773,
          -0.7251807307483153,
          1.7640474353438256,
          0.16459143860018988,
          -0.2133612433092953,
          -1.3148804486450225,
          -3.0150702768986406,
          -0.9628071326150074,
          -2.0718620113637547,
          -2.4927656393231894,
          -1.1047590622607653,
          1.10789919123597,
          -2.7725827739674243,
          -0.8114599993811944,
          -2.987963643932048,
          -1.0839378926573082,
          0.6776374837062236,
          -0.6576451455404835,
          -1.065880270406692,
          -2.291093114971658,
          -0.7879584554965982,
          -0.27021988327259516,
          -0.5149007564282662,
          -1.1906500897439032,
          -1.2952783385874398,
          -1.5579567178046352,
          -0.6622575920150576,
          -0.2284113219532926,
          -0.704437252593873,
          0.019266553161821687,
          -1.8397353359743154,
          -1.6006999757409637,
          -0.051168494524950314,
          0.6742024630031629,
          -0.3855059437205435,
          -1.781327792976779,
          1.3685766353625746,
          0.22923774559291532,
          -0.20341974212731107,
          -1.717776620763436,
          0.822040311703992,
          0.06361755200462049,
          -0.8658091427923024,
          -0.39862578442937757,
          -0.3405983998345603,
          -1.873611078515361,
          -0.9044940464180389,
          -1.1250248610906661,
          -0.5695115344054502,
          -2.2361033372528833,
          1.0399470599696903,
          -0.8151045729534767,
          -1.1928016863902213,
          -2.19490691114669,
          -1.1499370347904871,
          -1.3362498470917505,
          -2.9944008474925905,
          -2.16570715812143,
          -1.091810491287119,
          -0.4013355287278445,
          -0.12259928260483555,
          -0.482726336408524,
          -2.1354287092500286,
          -2.0670412576200885,
          -1.3612808649452943,
          -0.5573670805740469,
          -1.1248546479924855,
          -2.29186143903628,
          -1.427766085944938,
          -2.2581962060609166,
          0.5107473451541527,
          -0.6285167867061131,
          -2.397801803857459,
          -0.5773868715268331,
          -0.9364558667192813,
          -1.402913511579746,
          -1.964743632515732,
          0.24936563524975397,
          -0.24404543207813123,
          -1.0211993006340938,
          -1.3167741483532467,
          0.1903642793223499,
          0.6431584820057714,
          -1.155220211429096,
          -1.2276306267365789,
          -1.0443333831616712,
          -1.6566076498456197,
          -1.6273464607636279,
          -1.7945853338614817,
          0.6870160756090475,
          -0.6187468892591255,
          -2.43893901166127,
          -1.6271796712632987,
          -1.8935016437071104,
          -3.1691451767253955,
          -2.2153701033833046,
          -1.2800429321519757,
          0.7289782590608356,
          -0.1775698905703863,
          -1.2537027325094319,
          -0.38957253239728906,
          -1.6371772197359968,
          -0.46505510701687747,
          -2.146227614724057,
          -1.1511343667513156,
          -0.8515969425299397,
          -2.5960587494947402,
          -0.6981735507793261,
          -1.9965875227366956,
          -2.3274717379868575,
          -0.8940967201445321,
          -0.8810653260453445,
          -0.06226241285503764,
          -0.32637236422389093,
          -1.4517143464030677,
          -0.6416465203749084,
          -1.1207248893579818
         ],
         "xaxis": "x",
         "y": [
          "Group 1",
          "Group 1",
          "Group 1",
          "Group 1",
          "Group 1",
          "Group 1",
          "Group 1",
          "Group 1",
          "Group 1",
          "Group 1",
          "Group 1",
          "Group 1",
          "Group 1",
          "Group 1",
          "Group 1",
          "Group 1",
          "Group 1",
          "Group 1",
          "Group 1",
          "Group 1",
          "Group 1",
          "Group 1",
          "Group 1",
          "Group 1",
          "Group 1",
          "Group 1",
          "Group 1",
          "Group 1",
          "Group 1",
          "Group 1",
          "Group 1",
          "Group 1",
          "Group 1",
          "Group 1",
          "Group 1",
          "Group 1",
          "Group 1",
          "Group 1",
          "Group 1",
          "Group 1",
          "Group 1",
          "Group 1",
          "Group 1",
          "Group 1",
          "Group 1",
          "Group 1",
          "Group 1",
          "Group 1",
          "Group 1",
          "Group 1",
          "Group 1",
          "Group 1",
          "Group 1",
          "Group 1",
          "Group 1",
          "Group 1",
          "Group 1",
          "Group 1",
          "Group 1",
          "Group 1",
          "Group 1",
          "Group 1",
          "Group 1",
          "Group 1",
          "Group 1",
          "Group 1",
          "Group 1",
          "Group 1",
          "Group 1",
          "Group 1",
          "Group 1",
          "Group 1",
          "Group 1",
          "Group 1",
          "Group 1",
          "Group 1",
          "Group 1",
          "Group 1",
          "Group 1",
          "Group 1",
          "Group 1",
          "Group 1",
          "Group 1",
          "Group 1",
          "Group 1",
          "Group 1",
          "Group 1",
          "Group 1",
          "Group 1",
          "Group 1",
          "Group 1",
          "Group 1",
          "Group 1",
          "Group 1",
          "Group 1",
          "Group 1",
          "Group 1",
          "Group 1",
          "Group 1",
          "Group 1",
          "Group 1",
          "Group 1",
          "Group 1",
          "Group 1",
          "Group 1",
          "Group 1",
          "Group 1",
          "Group 1",
          "Group 1",
          "Group 1",
          "Group 1",
          "Group 1",
          "Group 1",
          "Group 1",
          "Group 1",
          "Group 1",
          "Group 1",
          "Group 1",
          "Group 1",
          "Group 1",
          "Group 1",
          "Group 1",
          "Group 1",
          "Group 1",
          "Group 1",
          "Group 1",
          "Group 1",
          "Group 1",
          "Group 1",
          "Group 1",
          "Group 1",
          "Group 1",
          "Group 1",
          "Group 1",
          "Group 1",
          "Group 1",
          "Group 1",
          "Group 1",
          "Group 1",
          "Group 1",
          "Group 1",
          "Group 1",
          "Group 1",
          "Group 1",
          "Group 1",
          "Group 1",
          "Group 1",
          "Group 1",
          "Group 1",
          "Group 1",
          "Group 1",
          "Group 1",
          "Group 1",
          "Group 1",
          "Group 1",
          "Group 1",
          "Group 1",
          "Group 1",
          "Group 1",
          "Group 1",
          "Group 1",
          "Group 1",
          "Group 1",
          "Group 1",
          "Group 1",
          "Group 1",
          "Group 1",
          "Group 1",
          "Group 1",
          "Group 1",
          "Group 1",
          "Group 1",
          "Group 1",
          "Group 1",
          "Group 1",
          "Group 1",
          "Group 1",
          "Group 1",
          "Group 1",
          "Group 1",
          "Group 1",
          "Group 1",
          "Group 1",
          "Group 1",
          "Group 1",
          "Group 1",
          "Group 1",
          "Group 1",
          "Group 1",
          "Group 1",
          "Group 1",
          "Group 1",
          "Group 1",
          "Group 1",
          "Group 1",
          "Group 1",
          "Group 1",
          "Group 1",
          "Group 1",
          "Group 1"
         ],
         "yaxis": "y2"
        },
        {
         "legendgroup": "Group 2",
         "marker": {
          "color": "rgb(255, 127, 14)",
          "symbol": "line-ns-open"
         },
         "mode": "markers",
         "name": "Group 2",
         "showlegend": false,
         "type": "scatter",
         "x": [
          1.0282723181985796,
          -1.1230253571042799,
          0.2500146941372775,
          -0.42205257158015086,
          1.3619015868602702,
          0.04676940402437464,
          0.14567141830186378,
          -0.18853632583702218,
          1.906317639575397,
          -0.5199835928953641,
          1.5687516476192342,
          1.3525774110270332,
          0.0500771752136733,
          1.3631640126021431,
          0.09272666891424249,
          1.4623576955716457,
          -0.11022051106318013,
          0.18582784810145564,
          0.995543855068172,
          0.3437637185683744,
          -0.2794647968086362,
          0.5797173203387765,
          -0.4167630014348701,
          -1.7921213120546193,
          0.7040993975947426,
          1.0042677004757816,
          0.7906868902326611,
          0.19859512771781132,
          0.6629769363543571,
          0.4436589713816685,
          0.04136592411273401,
          1.012060938438547,
          -0.36705452098369046,
          0.08653265128265662,
          0.23918104958005718,
          0.18335091867881909,
          0.5031928573233292,
          1.045698925862227,
          -0.07620136653486961,
          -1.6784906727801523,
          -0.409745374987928,
          -0.27577929481006475,
          -1.6030111397375832,
          -0.7540458386712114,
          0.4295674365194671,
          0.2864824309577482,
          -1.1108514245959373,
          0.05434149811173776,
          -0.7797542960092133,
          0.06012353387935553,
          -1.11654738083687,
          -0.298607871154107,
          -1.8596029858379668,
          1.1091448387073821,
          -0.4496274989372944,
          -1.2072774650924116,
          -1.8089302763986368,
          0.9713796974277826,
          1.273888341437396,
          0.7025086554454101,
          1.0893984649373825,
          -0.05708636044378414,
          0.6490723342933241,
          -0.706278878058656,
          0.4081818377933925,
          1.4919884610074152,
          -0.16456374024070047,
          -0.4665502927556181,
          -1.3487958030613165,
          0.255979053068562,
          -0.8079752838028241,
          0.30834841138388736,
          0.37878636493146867,
          0.06520422532725186,
          -0.3671177938210229,
          -0.7576480042265501,
          -0.41729775988366136,
          -1.0921607732576726,
          -0.5491506651422765,
          0.04479705137510054,
          0.7630631623295319,
          -0.9748403086787365,
          0.23655633476176272,
          -0.3882253651129599,
          -0.5609015056836318,
          -0.4148456959079058,
          0.535875034417125,
          0.17412825944538504,
          1.607003473921657,
          0.7049363873865603,
          -1.741495219561258,
          0.07466069041267616,
          -0.25205373916734175,
          1.0682398652372602,
          0.26945209428297767,
          1.2052625328498932,
          -1.502009164169081,
          -0.13299122905668725,
          1.2879958143982575,
          0.4126854106330917,
          -1.111480934748545,
          0.817408978152796,
          0.37281210016970284,
          0.2924185479404547,
          0.0017559359389817141,
          0.5773369040102551,
          -0.12777215630265784,
          -0.04869461081160686,
          -0.9815341006125561,
          -0.726597459253088,
          0.21621194844664535,
          -1.0622500753710322,
          -0.42501029017392833,
          0.4323500388903921,
          -0.27475513496269244,
          1.2994249687617225,
          0.5094730000641946,
          0.4581783772509445,
          -0.6979116126408395,
          0.6874363005649954,
          -1.1576020115589472,
          0.4637844272708443,
          1.0904905411702677,
          -0.10473884505012591,
          -0.3331776853717464,
          -1.2531647659478704,
          0.8491497424691811,
          -0.8988723856818561,
          -0.8650829268493117,
          -0.4897773180954035,
          1.3317060715683273,
          -0.6347626006638057,
          -0.2834910102690365,
          -0.4044002888380128,
          -1.4284056625026298,
          1.3598774747022055,
          -0.7879518464031162,
          0.1135636721751644,
          -0.04114364929342205,
          0.4362391198725118,
          0.09916588788246783,
          -0.9043512347222592,
          0.30034941638242263,
          0.39478125834274475,
          -0.5901934573098425,
          0.7092652131368469,
          0.2143254974544184,
          -0.39303988952975744,
          -1.12513806431941,
          1.0330123076345035,
          -1.932728431184569,
          0.450457341513028,
          -0.4931084935658147,
          -1.2871163186333456,
          -0.9268694265383536,
          -0.39842442058532984,
          1.9776386370547299,
          -1.9561950685281684,
          1.3026029409400557,
          -0.3968262943821681,
          1.3299386926595846,
          -0.7116381465899303,
          0.6921469383805353,
          -0.17783531089830001,
          1.3968566508447993,
          0.26553784031195543,
          -0.24067087183867422,
          -0.23448038014692574,
          0.5969186629903216,
          0.5033902509845961,
          -2.01284517254106,
          -0.6472240481527136,
          1.1151849581213011,
          0.7375126000298141,
          1.02113027536605,
          -0.9806812380338572,
          1.6958190740064951,
          -0.11696374882008309,
          -0.5343195240125445,
          -0.36975861707256824,
          -1.4583944751846474,
          0.22126517788669112,
          -0.3638656576273207,
          0.1836616076641356,
          0.16125243042000906,
          0.3191942178490905,
          0.7394726820028183,
          -0.09317558876310311,
          0.9559962712092913,
          -0.9228431280488765,
          -1.795165789603403,
          0.7884283332640285,
          -0.591290990371049,
          -0.166437490314563,
          0.5057674662304783,
          -1.6964723995163202,
          1.0426129305677585,
          -0.43379487081103096,
          0.23804574964997463,
          0.7106805163706168
         ],
         "xaxis": "x",
         "y": [
          "Group 2",
          "Group 2",
          "Group 2",
          "Group 2",
          "Group 2",
          "Group 2",
          "Group 2",
          "Group 2",
          "Group 2",
          "Group 2",
          "Group 2",
          "Group 2",
          "Group 2",
          "Group 2",
          "Group 2",
          "Group 2",
          "Group 2",
          "Group 2",
          "Group 2",
          "Group 2",
          "Group 2",
          "Group 2",
          "Group 2",
          "Group 2",
          "Group 2",
          "Group 2",
          "Group 2",
          "Group 2",
          "Group 2",
          "Group 2",
          "Group 2",
          "Group 2",
          "Group 2",
          "Group 2",
          "Group 2",
          "Group 2",
          "Group 2",
          "Group 2",
          "Group 2",
          "Group 2",
          "Group 2",
          "Group 2",
          "Group 2",
          "Group 2",
          "Group 2",
          "Group 2",
          "Group 2",
          "Group 2",
          "Group 2",
          "Group 2",
          "Group 2",
          "Group 2",
          "Group 2",
          "Group 2",
          "Group 2",
          "Group 2",
          "Group 2",
          "Group 2",
          "Group 2",
          "Group 2",
          "Group 2",
          "Group 2",
          "Group 2",
          "Group 2",
          "Group 2",
          "Group 2",
          "Group 2",
          "Group 2",
          "Group 2",
          "Group 2",
          "Group 2",
          "Group 2",
          "Group 2",
          "Group 2",
          "Group 2",
          "Group 2",
          "Group 2",
          "Group 2",
          "Group 2",
          "Group 2",
          "Group 2",
          "Group 2",
          "Group 2",
          "Group 2",
          "Group 2",
          "Group 2",
          "Group 2",
          "Group 2",
          "Group 2",
          "Group 2",
          "Group 2",
          "Group 2",
          "Group 2",
          "Group 2",
          "Group 2",
          "Group 2",
          "Group 2",
          "Group 2",
          "Group 2",
          "Group 2",
          "Group 2",
          "Group 2",
          "Group 2",
          "Group 2",
          "Group 2",
          "Group 2",
          "Group 2",
          "Group 2",
          "Group 2",
          "Group 2",
          "Group 2",
          "Group 2",
          "Group 2",
          "Group 2",
          "Group 2",
          "Group 2",
          "Group 2",
          "Group 2",
          "Group 2",
          "Group 2",
          "Group 2",
          "Group 2",
          "Group 2",
          "Group 2",
          "Group 2",
          "Group 2",
          "Group 2",
          "Group 2",
          "Group 2",
          "Group 2",
          "Group 2",
          "Group 2",
          "Group 2",
          "Group 2",
          "Group 2",
          "Group 2",
          "Group 2",
          "Group 2",
          "Group 2",
          "Group 2",
          "Group 2",
          "Group 2",
          "Group 2",
          "Group 2",
          "Group 2",
          "Group 2",
          "Group 2",
          "Group 2",
          "Group 2",
          "Group 2",
          "Group 2",
          "Group 2",
          "Group 2",
          "Group 2",
          "Group 2",
          "Group 2",
          "Group 2",
          "Group 2",
          "Group 2",
          "Group 2",
          "Group 2",
          "Group 2",
          "Group 2",
          "Group 2",
          "Group 2",
          "Group 2",
          "Group 2",
          "Group 2",
          "Group 2",
          "Group 2",
          "Group 2",
          "Group 2",
          "Group 2",
          "Group 2",
          "Group 2",
          "Group 2",
          "Group 2",
          "Group 2",
          "Group 2",
          "Group 2",
          "Group 2",
          "Group 2",
          "Group 2",
          "Group 2",
          "Group 2",
          "Group 2",
          "Group 2",
          "Group 2",
          "Group 2",
          "Group 2",
          "Group 2",
          "Group 2",
          "Group 2",
          "Group 2",
          "Group 2",
          "Group 2",
          "Group 2",
          "Group 2",
          "Group 2",
          "Group 2"
         ],
         "yaxis": "y2"
        },
        {
         "legendgroup": "Group 3",
         "marker": {
          "color": "rgb(44, 160, 44)",
          "symbol": "line-ns-open"
         },
         "mode": "markers",
         "name": "Group 3",
         "showlegend": false,
         "type": "scatter",
         "x": [
          2.1641521270376343,
          -1.0619443321800777,
          1.6819261901239955,
          1.061327075313312,
          1.2964626394929644,
          1.7551607164192795,
          0.25343653912266517,
          0.6924926847476953,
          -0.0005018532568519252,
          1.2073035530583625,
          0.35614303796802627,
          3.6707414957932327,
          -0.2463847362594378,
          1.3320491673018902,
          3.5282513151529638,
          1.9195201956914192,
          1.0732797076322949,
          0.3555882880561715,
          1.150082725873466,
          0.2616481170409831,
          1.9038971244820189,
          0.6938139801279863,
          -0.3259004817110567,
          0.37220815075447544,
          0.870466112449841,
          1.044807422818073,
          2.9244381281060927,
          1.958706837613275,
          1.1708406691207167,
          2.4756966729360808,
          2.2475556108139365,
          1.672583662904278,
          0.5525126017943456,
          2.061041141588504,
          -0.19340456862371247,
          1.430051770209181,
          -0.5348565290409208,
          0.5977208210382654,
          0.6965389687909691,
          1.2739348807325326,
          0.06385637603722927,
          -0.7449200682764892,
          1.3543132104867703,
          -0.8348498031410332,
          1.0043279797258071,
          0.1734530497506499,
          0.41871542361381986,
          2.7104469445559567,
          -0.30693894679194766,
          0.8991165426385578,
          0.3297480899699461,
          0.9624108210489848,
          1.007795653648667,
          1.6899428012088493,
          1.5032777153552535,
          0.9178265384299871,
          1.1722303427923726,
          -0.29089158383570446,
          1.5725692104167193,
          1.1794268265510026,
          3.2074593465145074,
          2.2918534305610034,
          0.9599623599178173,
          0.4447966255399042,
          2.1836501728020616,
          0.45404897977718983,
          0.49514921981609916,
          1.8998303821921128,
          0.6409464774451732,
          2.1753245805767145,
          0.3189976432393318,
          1.7538499497558853,
          2.527239618273139,
          1.6147460991079292,
          1.8834259850723334,
          0.7954714860299447,
          0.1403056937331929,
          -0.766124002631789,
          2.2673502376237327,
          0.5071994106669999,
          2.2406376524860177,
          -0.15146891955452801,
          0.3513226989195244,
          1.845879628761725,
          0.8251087268132229,
          1.7552163316894736,
          0.3468609066299517,
          0.6483466684975698,
          1.7895752342114115,
          1.6193716818756934,
          0.9947770404834001,
          2.617392194830942,
          0.1521845495898918,
          -0.8526100440113058,
          0.790406019835772,
          -0.335125387318016,
          0.37332006649807925,
          1.1624371453697753,
          0.9702558926344805,
          2.610248000070378,
          1.1739029411246233,
          1.2129652310648802,
          1.26005111256349,
          1.445106566796493,
          1.494358277982366,
          -0.19296485181018785,
          -1.0319373138799723,
          1.0206637619634502,
          0.444859646052575,
          1.6674675598579884,
          1.835997842191536,
          0.30580433869483836,
          1.1705009436219667,
          0.10908221792065043,
          0.8799688843305205,
          0.6482305703799232,
          1.095716506820377,
          1.312926132558165,
          -0.33787406908409956,
          1.4536003103883943,
          1.6091819585661211,
          0.4186676554802282,
          1.7751628695857793,
          1.3509231499029524,
          1.5785964160653245,
          1.2855214430183841,
          2.359759493103586,
          3.8215553784367913,
          1.7487350549712979,
          0.2867775456633086,
          0.9214975942586456,
          0.39690328293259114,
          2.039930321994764,
          1.787991221678047,
          -0.4136134430634588,
          0.5321750687499553,
          1.007068142976947,
          0.3457925505830618,
          1.2847113900562528,
          1.2110815278492222,
          0.9817249748901781,
          0.6113487858765019,
          2.8766935872516024,
          0.3124953900387454,
          0.8395723608639658,
          2.7080510089419345,
          1.2606499820953805,
          0.9071423039461609,
          0.23050230980065312,
          1.260098450462732,
          0.6782453074667696,
          2.258812941770361,
          0.15724847861630353,
          0.9544184373947769,
          0.6169257869476132,
          0.9611393056734863,
          0.47378840467499683,
          0.411908925094549,
          1.1261222840458556,
          1.7433727103883077,
          -0.29590056907258044,
          0.9815571791397204,
          -0.3371439606110873,
          0.24276394472825336,
          -0.31408063740147196,
          1.8335735213348343,
          -0.25835366087334255,
          0.34427421125026514,
          1.8212493244435306,
          0.4319426441895796,
          2.403566384362537,
          -1.7360054244738925,
          2.867261079338891,
          1.2505208288643914,
          -1.5301639560495262,
          -0.9152041906364166,
          -0.8529481863542094,
          1.0448695245146016,
          1.2349232388616045,
          0.49933845868292304,
          1.791616646383604,
          1.776026323836864,
          1.6728051664728976,
          0.7701422298231276,
          1.4500739463624488,
          1.2297579190037677,
          0.983839484338821,
          0.4199946271921253,
          -0.2998848761241535,
          2.704467432790065,
          0.23859608232923035,
          0.4038493150846214,
          1.2955134439908482,
          0.023679391697451035,
          0.08705875394091434,
          0.8983057672050405,
          2.2467191262074078,
          1.936088021209358,
          1.0279939038408734,
          2.05167647754765
         ],
         "xaxis": "x",
         "y": [
          "Group 3",
          "Group 3",
          "Group 3",
          "Group 3",
          "Group 3",
          "Group 3",
          "Group 3",
          "Group 3",
          "Group 3",
          "Group 3",
          "Group 3",
          "Group 3",
          "Group 3",
          "Group 3",
          "Group 3",
          "Group 3",
          "Group 3",
          "Group 3",
          "Group 3",
          "Group 3",
          "Group 3",
          "Group 3",
          "Group 3",
          "Group 3",
          "Group 3",
          "Group 3",
          "Group 3",
          "Group 3",
          "Group 3",
          "Group 3",
          "Group 3",
          "Group 3",
          "Group 3",
          "Group 3",
          "Group 3",
          "Group 3",
          "Group 3",
          "Group 3",
          "Group 3",
          "Group 3",
          "Group 3",
          "Group 3",
          "Group 3",
          "Group 3",
          "Group 3",
          "Group 3",
          "Group 3",
          "Group 3",
          "Group 3",
          "Group 3",
          "Group 3",
          "Group 3",
          "Group 3",
          "Group 3",
          "Group 3",
          "Group 3",
          "Group 3",
          "Group 3",
          "Group 3",
          "Group 3",
          "Group 3",
          "Group 3",
          "Group 3",
          "Group 3",
          "Group 3",
          "Group 3",
          "Group 3",
          "Group 3",
          "Group 3",
          "Group 3",
          "Group 3",
          "Group 3",
          "Group 3",
          "Group 3",
          "Group 3",
          "Group 3",
          "Group 3",
          "Group 3",
          "Group 3",
          "Group 3",
          "Group 3",
          "Group 3",
          "Group 3",
          "Group 3",
          "Group 3",
          "Group 3",
          "Group 3",
          "Group 3",
          "Group 3",
          "Group 3",
          "Group 3",
          "Group 3",
          "Group 3",
          "Group 3",
          "Group 3",
          "Group 3",
          "Group 3",
          "Group 3",
          "Group 3",
          "Group 3",
          "Group 3",
          "Group 3",
          "Group 3",
          "Group 3",
          "Group 3",
          "Group 3",
          "Group 3",
          "Group 3",
          "Group 3",
          "Group 3",
          "Group 3",
          "Group 3",
          "Group 3",
          "Group 3",
          "Group 3",
          "Group 3",
          "Group 3",
          "Group 3",
          "Group 3",
          "Group 3",
          "Group 3",
          "Group 3",
          "Group 3",
          "Group 3",
          "Group 3",
          "Group 3",
          "Group 3",
          "Group 3",
          "Group 3",
          "Group 3",
          "Group 3",
          "Group 3",
          "Group 3",
          "Group 3",
          "Group 3",
          "Group 3",
          "Group 3",
          "Group 3",
          "Group 3",
          "Group 3",
          "Group 3",
          "Group 3",
          "Group 3",
          "Group 3",
          "Group 3",
          "Group 3",
          "Group 3",
          "Group 3",
          "Group 3",
          "Group 3",
          "Group 3",
          "Group 3",
          "Group 3",
          "Group 3",
          "Group 3",
          "Group 3",
          "Group 3",
          "Group 3",
          "Group 3",
          "Group 3",
          "Group 3",
          "Group 3",
          "Group 3",
          "Group 3",
          "Group 3",
          "Group 3",
          "Group 3",
          "Group 3",
          "Group 3",
          "Group 3",
          "Group 3",
          "Group 3",
          "Group 3",
          "Group 3",
          "Group 3",
          "Group 3",
          "Group 3",
          "Group 3",
          "Group 3",
          "Group 3",
          "Group 3",
          "Group 3",
          "Group 3",
          "Group 3",
          "Group 3",
          "Group 3",
          "Group 3",
          "Group 3",
          "Group 3",
          "Group 3",
          "Group 3",
          "Group 3",
          "Group 3",
          "Group 3",
          "Group 3",
          "Group 3",
          "Group 3",
          "Group 3",
          "Group 3",
          "Group 3"
         ],
         "yaxis": "y2"
        }
       ],
       "layout": {
        "autosize": true,
        "barmode": "overlay",
        "hovermode": "closest",
        "legend": {
         "traceorder": "reversed"
        },
        "template": {
         "data": {
          "bar": [
           {
            "error_x": {
             "color": "#2a3f5f"
            },
            "error_y": {
             "color": "#2a3f5f"
            },
            "marker": {
             "line": {
              "color": "#E5ECF6",
              "width": 0.5
             },
             "pattern": {
              "fillmode": "overlay",
              "size": 10,
              "solidity": 0.2
             }
            },
            "type": "bar"
           }
          ],
          "barpolar": [
           {
            "marker": {
             "line": {
              "color": "#E5ECF6",
              "width": 0.5
             },
             "pattern": {
              "fillmode": "overlay",
              "size": 10,
              "solidity": 0.2
             }
            },
            "type": "barpolar"
           }
          ],
          "carpet": [
           {
            "aaxis": {
             "endlinecolor": "#2a3f5f",
             "gridcolor": "white",
             "linecolor": "white",
             "minorgridcolor": "white",
             "startlinecolor": "#2a3f5f"
            },
            "baxis": {
             "endlinecolor": "#2a3f5f",
             "gridcolor": "white",
             "linecolor": "white",
             "minorgridcolor": "white",
             "startlinecolor": "#2a3f5f"
            },
            "type": "carpet"
           }
          ],
          "choropleth": [
           {
            "colorbar": {
             "outlinewidth": 0,
             "ticks": ""
            },
            "type": "choropleth"
           }
          ],
          "contour": [
           {
            "colorbar": {
             "outlinewidth": 0,
             "ticks": ""
            },
            "colorscale": [
             [
              0,
              "#0d0887"
             ],
             [
              0.1111111111111111,
              "#46039f"
             ],
             [
              0.2222222222222222,
              "#7201a8"
             ],
             [
              0.3333333333333333,
              "#9c179e"
             ],
             [
              0.4444444444444444,
              "#bd3786"
             ],
             [
              0.5555555555555556,
              "#d8576b"
             ],
             [
              0.6666666666666666,
              "#ed7953"
             ],
             [
              0.7777777777777778,
              "#fb9f3a"
             ],
             [
              0.8888888888888888,
              "#fdca26"
             ],
             [
              1,
              "#f0f921"
             ]
            ],
            "type": "contour"
           }
          ],
          "contourcarpet": [
           {
            "colorbar": {
             "outlinewidth": 0,
             "ticks": ""
            },
            "type": "contourcarpet"
           }
          ],
          "heatmap": [
           {
            "colorbar": {
             "outlinewidth": 0,
             "ticks": ""
            },
            "colorscale": [
             [
              0,
              "#0d0887"
             ],
             [
              0.1111111111111111,
              "#46039f"
             ],
             [
              0.2222222222222222,
              "#7201a8"
             ],
             [
              0.3333333333333333,
              "#9c179e"
             ],
             [
              0.4444444444444444,
              "#bd3786"
             ],
             [
              0.5555555555555556,
              "#d8576b"
             ],
             [
              0.6666666666666666,
              "#ed7953"
             ],
             [
              0.7777777777777778,
              "#fb9f3a"
             ],
             [
              0.8888888888888888,
              "#fdca26"
             ],
             [
              1,
              "#f0f921"
             ]
            ],
            "type": "heatmap"
           }
          ],
          "heatmapgl": [
           {
            "colorbar": {
             "outlinewidth": 0,
             "ticks": ""
            },
            "colorscale": [
             [
              0,
              "#0d0887"
             ],
             [
              0.1111111111111111,
              "#46039f"
             ],
             [
              0.2222222222222222,
              "#7201a8"
             ],
             [
              0.3333333333333333,
              "#9c179e"
             ],
             [
              0.4444444444444444,
              "#bd3786"
             ],
             [
              0.5555555555555556,
              "#d8576b"
             ],
             [
              0.6666666666666666,
              "#ed7953"
             ],
             [
              0.7777777777777778,
              "#fb9f3a"
             ],
             [
              0.8888888888888888,
              "#fdca26"
             ],
             [
              1,
              "#f0f921"
             ]
            ],
            "type": "heatmapgl"
           }
          ],
          "histogram": [
           {
            "marker": {
             "pattern": {
              "fillmode": "overlay",
              "size": 10,
              "solidity": 0.2
             }
            },
            "type": "histogram"
           }
          ],
          "histogram2d": [
           {
            "colorbar": {
             "outlinewidth": 0,
             "ticks": ""
            },
            "colorscale": [
             [
              0,
              "#0d0887"
             ],
             [
              0.1111111111111111,
              "#46039f"
             ],
             [
              0.2222222222222222,
              "#7201a8"
             ],
             [
              0.3333333333333333,
              "#9c179e"
             ],
             [
              0.4444444444444444,
              "#bd3786"
             ],
             [
              0.5555555555555556,
              "#d8576b"
             ],
             [
              0.6666666666666666,
              "#ed7953"
             ],
             [
              0.7777777777777778,
              "#fb9f3a"
             ],
             [
              0.8888888888888888,
              "#fdca26"
             ],
             [
              1,
              "#f0f921"
             ]
            ],
            "type": "histogram2d"
           }
          ],
          "histogram2dcontour": [
           {
            "colorbar": {
             "outlinewidth": 0,
             "ticks": ""
            },
            "colorscale": [
             [
              0,
              "#0d0887"
             ],
             [
              0.1111111111111111,
              "#46039f"
             ],
             [
              0.2222222222222222,
              "#7201a8"
             ],
             [
              0.3333333333333333,
              "#9c179e"
             ],
             [
              0.4444444444444444,
              "#bd3786"
             ],
             [
              0.5555555555555556,
              "#d8576b"
             ],
             [
              0.6666666666666666,
              "#ed7953"
             ],
             [
              0.7777777777777778,
              "#fb9f3a"
             ],
             [
              0.8888888888888888,
              "#fdca26"
             ],
             [
              1,
              "#f0f921"
             ]
            ],
            "type": "histogram2dcontour"
           }
          ],
          "mesh3d": [
           {
            "colorbar": {
             "outlinewidth": 0,
             "ticks": ""
            },
            "type": "mesh3d"
           }
          ],
          "parcoords": [
           {
            "line": {
             "colorbar": {
              "outlinewidth": 0,
              "ticks": ""
             }
            },
            "type": "parcoords"
           }
          ],
          "pie": [
           {
            "automargin": true,
            "type": "pie"
           }
          ],
          "scatter": [
           {
            "fillpattern": {
             "fillmode": "overlay",
             "size": 10,
             "solidity": 0.2
            },
            "type": "scatter"
           }
          ],
          "scatter3d": [
           {
            "line": {
             "colorbar": {
              "outlinewidth": 0,
              "ticks": ""
             }
            },
            "marker": {
             "colorbar": {
              "outlinewidth": 0,
              "ticks": ""
             }
            },
            "type": "scatter3d"
           }
          ],
          "scattercarpet": [
           {
            "marker": {
             "colorbar": {
              "outlinewidth": 0,
              "ticks": ""
             }
            },
            "type": "scattercarpet"
           }
          ],
          "scattergeo": [
           {
            "marker": {
             "colorbar": {
              "outlinewidth": 0,
              "ticks": ""
             }
            },
            "type": "scattergeo"
           }
          ],
          "scattergl": [
           {
            "marker": {
             "colorbar": {
              "outlinewidth": 0,
              "ticks": ""
             }
            },
            "type": "scattergl"
           }
          ],
          "scattermapbox": [
           {
            "marker": {
             "colorbar": {
              "outlinewidth": 0,
              "ticks": ""
             }
            },
            "type": "scattermapbox"
           }
          ],
          "scatterpolar": [
           {
            "marker": {
             "colorbar": {
              "outlinewidth": 0,
              "ticks": ""
             }
            },
            "type": "scatterpolar"
           }
          ],
          "scatterpolargl": [
           {
            "marker": {
             "colorbar": {
              "outlinewidth": 0,
              "ticks": ""
             }
            },
            "type": "scatterpolargl"
           }
          ],
          "scatterternary": [
           {
            "marker": {
             "colorbar": {
              "outlinewidth": 0,
              "ticks": ""
             }
            },
            "type": "scatterternary"
           }
          ],
          "surface": [
           {
            "colorbar": {
             "outlinewidth": 0,
             "ticks": ""
            },
            "colorscale": [
             [
              0,
              "#0d0887"
             ],
             [
              0.1111111111111111,
              "#46039f"
             ],
             [
              0.2222222222222222,
              "#7201a8"
             ],
             [
              0.3333333333333333,
              "#9c179e"
             ],
             [
              0.4444444444444444,
              "#bd3786"
             ],
             [
              0.5555555555555556,
              "#d8576b"
             ],
             [
              0.6666666666666666,
              "#ed7953"
             ],
             [
              0.7777777777777778,
              "#fb9f3a"
             ],
             [
              0.8888888888888888,
              "#fdca26"
             ],
             [
              1,
              "#f0f921"
             ]
            ],
            "type": "surface"
           }
          ],
          "table": [
           {
            "cells": {
             "fill": {
              "color": "#EBF0F8"
             },
             "line": {
              "color": "white"
             }
            },
            "header": {
             "fill": {
              "color": "#C8D4E3"
             },
             "line": {
              "color": "white"
             }
            },
            "type": "table"
           }
          ]
         },
         "layout": {
          "annotationdefaults": {
           "arrowcolor": "#2a3f5f",
           "arrowhead": 0,
           "arrowwidth": 1
          },
          "autotypenumbers": "strict",
          "coloraxis": {
           "colorbar": {
            "outlinewidth": 0,
            "ticks": ""
           }
          },
          "colorscale": {
           "diverging": [
            [
             0,
             "#8e0152"
            ],
            [
             0.1,
             "#c51b7d"
            ],
            [
             0.2,
             "#de77ae"
            ],
            [
             0.3,
             "#f1b6da"
            ],
            [
             0.4,
             "#fde0ef"
            ],
            [
             0.5,
             "#f7f7f7"
            ],
            [
             0.6,
             "#e6f5d0"
            ],
            [
             0.7,
             "#b8e186"
            ],
            [
             0.8,
             "#7fbc41"
            ],
            [
             0.9,
             "#4d9221"
            ],
            [
             1,
             "#276419"
            ]
           ],
           "sequential": [
            [
             0,
             "#0d0887"
            ],
            [
             0.1111111111111111,
             "#46039f"
            ],
            [
             0.2222222222222222,
             "#7201a8"
            ],
            [
             0.3333333333333333,
             "#9c179e"
            ],
            [
             0.4444444444444444,
             "#bd3786"
            ],
            [
             0.5555555555555556,
             "#d8576b"
            ],
            [
             0.6666666666666666,
             "#ed7953"
            ],
            [
             0.7777777777777778,
             "#fb9f3a"
            ],
            [
             0.8888888888888888,
             "#fdca26"
            ],
            [
             1,
             "#f0f921"
            ]
           ],
           "sequentialminus": [
            [
             0,
             "#0d0887"
            ],
            [
             0.1111111111111111,
             "#46039f"
            ],
            [
             0.2222222222222222,
             "#7201a8"
            ],
            [
             0.3333333333333333,
             "#9c179e"
            ],
            [
             0.4444444444444444,
             "#bd3786"
            ],
            [
             0.5555555555555556,
             "#d8576b"
            ],
            [
             0.6666666666666666,
             "#ed7953"
            ],
            [
             0.7777777777777778,
             "#fb9f3a"
            ],
            [
             0.8888888888888888,
             "#fdca26"
            ],
            [
             1,
             "#f0f921"
            ]
           ]
          },
          "colorway": [
           "#636efa",
           "#EF553B",
           "#00cc96",
           "#ab63fa",
           "#FFA15A",
           "#19d3f3",
           "#FF6692",
           "#B6E880",
           "#FF97FF",
           "#FECB52"
          ],
          "font": {
           "color": "#2a3f5f"
          },
          "geo": {
           "bgcolor": "white",
           "lakecolor": "white",
           "landcolor": "#E5ECF6",
           "showlakes": true,
           "showland": true,
           "subunitcolor": "white"
          },
          "hoverlabel": {
           "align": "left"
          },
          "hovermode": "closest",
          "mapbox": {
           "style": "light"
          },
          "paper_bgcolor": "white",
          "plot_bgcolor": "#E5ECF6",
          "polar": {
           "angularaxis": {
            "gridcolor": "white",
            "linecolor": "white",
            "ticks": ""
           },
           "bgcolor": "#E5ECF6",
           "radialaxis": {
            "gridcolor": "white",
            "linecolor": "white",
            "ticks": ""
           }
          },
          "scene": {
           "xaxis": {
            "backgroundcolor": "#E5ECF6",
            "gridcolor": "white",
            "gridwidth": 2,
            "linecolor": "white",
            "showbackground": true,
            "ticks": "",
            "zerolinecolor": "white"
           },
           "yaxis": {
            "backgroundcolor": "#E5ECF6",
            "gridcolor": "white",
            "gridwidth": 2,
            "linecolor": "white",
            "showbackground": true,
            "ticks": "",
            "zerolinecolor": "white"
           },
           "zaxis": {
            "backgroundcolor": "#E5ECF6",
            "gridcolor": "white",
            "gridwidth": 2,
            "linecolor": "white",
            "showbackground": true,
            "ticks": "",
            "zerolinecolor": "white"
           }
          },
          "shapedefaults": {
           "line": {
            "color": "#2a3f5f"
           }
          },
          "ternary": {
           "aaxis": {
            "gridcolor": "white",
            "linecolor": "white",
            "ticks": ""
           },
           "baxis": {
            "gridcolor": "white",
            "linecolor": "white",
            "ticks": ""
           },
           "bgcolor": "#E5ECF6",
           "caxis": {
            "gridcolor": "white",
            "linecolor": "white",
            "ticks": ""
           }
          },
          "title": {
           "x": 0.05
          },
          "xaxis": {
           "automargin": true,
           "gridcolor": "white",
           "linecolor": "white",
           "ticks": "",
           "title": {
            "standoff": 15
           },
           "zerolinecolor": "white",
           "zerolinewidth": 2
          },
          "yaxis": {
           "automargin": true,
           "gridcolor": "white",
           "linecolor": "white",
           "ticks": "",
           "title": {
            "standoff": 15
           },
           "zerolinecolor": "white",
           "zerolinewidth": 2
          }
         }
        },
        "xaxis": {
         "anchor": "y2",
         "autorange": true,
         "domain": [
          0,
          1
         ],
         "range": [
          -3.597173171491854,
          4.263994575526107
         ],
         "type": "linear",
         "zeroline": false
        },
        "yaxis": {
         "anchor": "free",
         "autorange": true,
         "domain": [
          0.35,
          1
         ],
         "position": 0,
         "range": [
          -0.010076371919455781,
          0.45842507220628714
         ],
         "type": "linear"
        },
        "yaxis2": {
         "anchor": "x",
         "autorange": true,
         "domain": [
          0,
          0.25
         ],
         "dtick": 1,
         "range": [
          -0.36363636363636365,
          2.3636363636363638
         ],
         "showticklabels": false,
         "type": "category"
        }
       }
      },
      "image/png": "[encoded data removed]",
      "text/html": [
       "<div>                            <div id=\"a52e3df1-0c23-4873-b6ed-0a04ea9204ac\" class=\"plotly-graph-div\" style=\"height:525px; width:100%;\"></div>            <script type=\"text/javascript\">                require([\"plotly\"], function(Plotly) {                    window.PLOTLYENV=window.PLOTLYENV || {};                                    if (document.getElementById(\"a52e3df1-0c23-4873-b6ed-0a04ea9204ac\")) {                    Plotly.newPlot(                        \"a52e3df1-0c23-4873-b6ed-0a04ea9204ac\",                        [{\"autobinx\":false,\"histnorm\":\"probability density\",\"legendgroup\":\"Group 1\",\"marker\":{\"color\":\"rgb(31, 119, 180)\"},\"name\":\"Group 1\",\"opacity\":0.7,\"x\":[0.941231486168995,-1.1717157934689795,-0.15743847009711565,-0.9374252639867032,-1.7632401106246367,-0.5272067262260689,-2.415958536077185,-1.295498950210098,-2.09495824587239,-0.7518285244524607,-0.011984073060171907,-1.4803857923664412,-1.5521108397981103,-1.4527406545286503,0.916415016960221,-0.7752640625992439,0.000847992708880696,-1.8007292991645927,-0.34593081488081934,-2.2585465449209607,-0.5280212595960704,-0.33182491845439643,-0.5137168709018137,-2.1127651655792086,-0.6092997279464268,-0.4925821064010689,-0.33666639663807485,-1.6158448436476744,-1.010571671688927,-1.502382158869243,-1.145394312092896,-1.2458844366924924,-1.6789722298373593,-2.2993386332381482,0.49538875215356915,-0.2866480153864627,-1.0719187465291868,-0.823384012350715,0.18692618188038157,0.470122520548409,-2.0016750388275324,-1.8542484271493298,-1.199350828028626,-0.3535042054605382,-2.21705493830853,0.21816568972387373,-2.02758990701365,-1.3033757742602445,0.01581287929560271,-1.07628262686404,-1.1222333104630422,-0.6902304057450042,-1.1354034456243272,-1.3955460524533867,-0.8732406313536633,-2.653632192455616,-1.806370194494265,-2.1561270743026135,-0.17530441041765543,-2.4371170857116633,-0.46244046714737297,0.6396334389936491,-0.1397838645792281,0.5047597210385795,-1.5512751801732603,-1.0786633307793654,-1.1583642192185957,-0.3051305760751054,-2.1946515568420892,-0.08538705092298171,-1.148862018696983,0.16489742794030837,2.1964306180970947,-0.9089546516782007,2.1137281948488105,-1.537868300123581,-0.4934915385886135,-2.2270264958852275,-1.943967280221309,-1.623905496639866,-0.7606891592527704,-2.4504648383147036,-0.33528175220532463,-0.9565300664797773,-0.7251807307483153,1.7640474353438256,0.16459143860018988,-0.2133612433092953,-1.3148804486450225,-3.0150702768986406,-0.9628071326150074,-2.0718620113637547,-2.4927656393231894,-1.1047590622607653,1.10789919123597,-2.7725827739674243,-0.8114599993811944,-2.987963643932048,-1.0839378926573082,0.6776374837062236,-0.6576451455404835,-1.065880270406692,-2.291093114971658,-0.7879584554965982,-0.27021988327259516,-0.5149007564282662,-1.1906500897439032,-1.2952783385874398,-1.5579567178046352,-0.6622575920150576,-0.2284113219532926,-0.704437252593873,0.019266553161821687,-1.8397353359743154,-1.6006999757409637,-0.051168494524950314,0.6742024630031629,-0.3855059437205435,-1.781327792976779,1.3685766353625746,0.22923774559291532,-0.20341974212731107,-1.717776620763436,0.822040311703992,0.06361755200462049,-0.8658091427923024,-0.39862578442937757,-0.3405983998345603,-1.873611078515361,-0.9044940464180389,-1.1250248610906661,-0.5695115344054502,-2.2361033372528833,1.0399470599696903,-0.8151045729534767,-1.1928016863902213,-2.19490691114669,-1.1499370347904871,-1.3362498470917505,-2.9944008474925905,-2.16570715812143,-1.091810491287119,-0.4013355287278445,-0.12259928260483555,-0.482726336408524,-2.1354287092500286,-2.0670412576200885,-1.3612808649452943,-0.5573670805740469,-1.1248546479924855,-2.29186143903628,-1.427766085944938,-2.2581962060609166,0.5107473451541527,-0.6285167867061131,-2.397801803857459,-0.5773868715268331,-0.9364558667192813,-1.402913511579746,-1.964743632515732,0.24936563524975397,-0.24404543207813123,-1.0211993006340938,-1.3167741483532467,0.1903642793223499,0.6431584820057714,-1.155220211429096,-1.2276306267365789,-1.0443333831616712,-1.6566076498456197,-1.6273464607636279,-1.7945853338614817,0.6870160756090475,-0.6187468892591255,-2.43893901166127,-1.6271796712632987,-1.8935016437071104,-3.1691451767253955,-2.2153701033833046,-1.2800429321519757,0.7289782590608356,-0.1775698905703863,-1.2537027325094319,-0.38957253239728906,-1.6371772197359968,-0.46505510701687747,-2.146227614724057,-1.1511343667513156,-0.8515969425299397,-2.5960587494947402,-0.6981735507793261,-1.9965875227366956,-2.3274717379868575,-0.8940967201445321,-0.8810653260453445,-0.06226241285503764,-0.32637236422389093,-1.4517143464030677,-0.6416465203749084,-1.1207248893579818],\"xaxis\":\"x\",\"xbins\":{\"end\":2.1964306180970947,\"size\":1.0,\"start\":-3.1691451767253955},\"yaxis\":\"y\",\"type\":\"histogram\"},{\"autobinx\":false,\"histnorm\":\"probability density\",\"legendgroup\":\"Group 2\",\"marker\":{\"color\":\"rgb(255, 127, 14)\"},\"name\":\"Group 2\",\"opacity\":0.7,\"x\":[1.0282723181985796,-1.1230253571042799,0.2500146941372775,-0.42205257158015086,1.3619015868602702,0.04676940402437464,0.14567141830186378,-0.18853632583702218,1.906317639575397,-0.5199835928953641,1.5687516476192342,1.3525774110270332,0.0500771752136733,1.3631640126021431,0.09272666891424249,1.4623576955716457,-0.11022051106318013,0.18582784810145564,0.995543855068172,0.3437637185683744,-0.2794647968086362,0.5797173203387765,-0.4167630014348701,-1.7921213120546193,0.7040993975947426,1.0042677004757816,0.7906868902326611,0.19859512771781132,0.6629769363543571,0.4436589713816685,0.04136592411273401,1.012060938438547,-0.36705452098369046,0.08653265128265662,0.23918104958005718,0.18335091867881909,0.5031928573233292,1.045698925862227,-0.07620136653486961,-1.6784906727801523,-0.409745374987928,-0.27577929481006475,-1.6030111397375832,-0.7540458386712114,0.4295674365194671,0.2864824309577482,-1.1108514245959373,0.05434149811173776,-0.7797542960092133,0.06012353387935553,-1.11654738083687,-0.298607871154107,-1.8596029858379668,1.1091448387073821,-0.4496274989372944,-1.2072774650924116,-1.8089302763986368,0.9713796974277826,1.273888341437396,0.7025086554454101,1.0893984649373825,-0.05708636044378414,0.6490723342933241,-0.706278878058656,0.4081818377933925,1.4919884610074152,-0.16456374024070047,-0.4665502927556181,-1.3487958030613165,0.255979053068562,-0.8079752838028241,0.30834841138388736,0.37878636493146867,0.06520422532725186,-0.3671177938210229,-0.7576480042265501,-0.41729775988366136,-1.0921607732576726,-0.5491506651422765,0.04479705137510054,0.7630631623295319,-0.9748403086787365,0.23655633476176272,-0.3882253651129599,-0.5609015056836318,-0.4148456959079058,0.535875034417125,0.17412825944538504,1.607003473921657,0.7049363873865603,-1.741495219561258,0.07466069041267616,-0.25205373916734175,1.0682398652372602,0.26945209428297767,1.2052625328498932,-1.502009164169081,-0.13299122905668725,1.2879958143982575,0.4126854106330917,-1.111480934748545,0.817408978152796,0.37281210016970284,0.2924185479404547,0.0017559359389817141,0.5773369040102551,-0.12777215630265784,-0.04869461081160686,-0.9815341006125561,-0.726597459253088,0.21621194844664535,-1.0622500753710322,-0.42501029017392833,0.4323500388903921,-0.27475513496269244,1.2994249687617225,0.5094730000641946,0.4581783772509445,-0.6979116126408395,0.6874363005649954,-1.1576020115589472,0.4637844272708443,1.0904905411702677,-0.10473884505012591,-0.3331776853717464,-1.2531647659478704,0.8491497424691811,-0.8988723856818561,-0.8650829268493117,-0.4897773180954035,1.3317060715683273,-0.6347626006638057,-0.2834910102690365,-0.4044002888380128,-1.4284056625026298,1.3598774747022055,-0.7879518464031162,0.1135636721751644,-0.04114364929342205,0.4362391198725118,0.09916588788246783,-0.9043512347222592,0.30034941638242263,0.39478125834274475,-0.5901934573098425,0.7092652131368469,0.2143254974544184,-0.39303988952975744,-1.12513806431941,1.0330123076345035,-1.932728431184569,0.450457341513028,-0.4931084935658147,-1.2871163186333456,-0.9268694265383536,-0.39842442058532984,1.9776386370547299,-1.9561950685281684,1.3026029409400557,-0.3968262943821681,1.3299386926595846,-0.7116381465899303,0.6921469383805353,-0.17783531089830001,1.3968566508447993,0.26553784031195543,-0.24067087183867422,-0.23448038014692574,0.5969186629903216,0.5033902509845961,-2.01284517254106,-0.6472240481527136,1.1151849581213011,0.7375126000298141,1.02113027536605,-0.9806812380338572,1.6958190740064951,-0.11696374882008309,-0.5343195240125445,-0.36975861707256824,-1.4583944751846474,0.22126517788669112,-0.3638656576273207,0.1836616076641356,0.16125243042000906,0.3191942178490905,0.7394726820028183,-0.09317558876310311,0.9559962712092913,-0.9228431280488765,-1.795165789603403,0.7884283332640285,-0.591290990371049,-0.166437490314563,0.5057674662304783,-1.6964723995163202,1.0426129305677585,-0.43379487081103096,0.23804574964997463,0.7106805163706168],\"xaxis\":\"x\",\"xbins\":{\"end\":1.9776386370547299,\"size\":1.0,\"start\":-2.01284517254106},\"yaxis\":\"y\",\"type\":\"histogram\"},{\"autobinx\":false,\"histnorm\":\"probability density\",\"legendgroup\":\"Group 3\",\"marker\":{\"color\":\"rgb(44, 160, 44)\"},\"name\":\"Group 3\",\"opacity\":0.7,\"x\":[2.1641521270376343,-1.0619443321800777,1.6819261901239955,1.061327075313312,1.2964626394929644,1.7551607164192795,0.25343653912266517,0.6924926847476953,-0.0005018532568519252,1.2073035530583625,0.35614303796802627,3.6707414957932327,-0.2463847362594378,1.3320491673018902,3.5282513151529638,1.9195201956914192,1.0732797076322949,0.3555882880561715,1.150082725873466,0.2616481170409831,1.9038971244820189,0.6938139801279863,-0.3259004817110567,0.37220815075447544,0.870466112449841,1.044807422818073,2.9244381281060927,1.958706837613275,1.1708406691207167,2.4756966729360808,2.2475556108139365,1.672583662904278,0.5525126017943456,2.061041141588504,-0.19340456862371247,1.430051770209181,-0.5348565290409208,0.5977208210382654,0.6965389687909691,1.2739348807325326,0.06385637603722927,-0.7449200682764892,1.3543132104867703,-0.8348498031410332,1.0043279797258071,0.1734530497506499,0.41871542361381986,2.7104469445559567,-0.30693894679194766,0.8991165426385578,0.3297480899699461,0.9624108210489848,1.007795653648667,1.6899428012088493,1.5032777153552535,0.9178265384299871,1.1722303427923726,-0.29089158383570446,1.5725692104167193,1.1794268265510026,3.2074593465145074,2.2918534305610034,0.9599623599178173,0.4447966255399042,2.1836501728020616,0.45404897977718983,0.49514921981609916,1.8998303821921128,0.6409464774451732,2.1753245805767145,0.3189976432393318,1.7538499497558853,2.527239618273139,1.6147460991079292,1.8834259850723334,0.7954714860299447,0.1403056937331929,-0.766124002631789,2.2673502376237327,0.5071994106669999,2.2406376524860177,-0.15146891955452801,0.3513226989195244,1.845879628761725,0.8251087268132229,1.7552163316894736,0.3468609066299517,0.6483466684975698,1.7895752342114115,1.6193716818756934,0.9947770404834001,2.617392194830942,0.1521845495898918,-0.8526100440113058,0.790406019835772,-0.335125387318016,0.37332006649807925,1.1624371453697753,0.9702558926344805,2.610248000070378,1.1739029411246233,1.2129652310648802,1.26005111256349,1.445106566796493,1.494358277982366,-0.19296485181018785,-1.0319373138799723,1.0206637619634502,0.444859646052575,1.6674675598579884,1.835997842191536,0.30580433869483836,1.1705009436219667,0.10908221792065043,0.8799688843305205,0.6482305703799232,1.095716506820377,1.312926132558165,-0.33787406908409956,1.4536003103883943,1.6091819585661211,0.4186676554802282,1.7751628695857793,1.3509231499029524,1.5785964160653245,1.2855214430183841,2.359759493103586,3.8215553784367913,1.7487350549712979,0.2867775456633086,0.9214975942586456,0.39690328293259114,2.039930321994764,1.787991221678047,-0.4136134430634588,0.5321750687499553,1.007068142976947,0.3457925505830618,1.2847113900562528,1.2110815278492222,0.9817249748901781,0.6113487858765019,2.8766935872516024,0.3124953900387454,0.8395723608639658,2.7080510089419345,1.2606499820953805,0.9071423039461609,0.23050230980065312,1.260098450462732,0.6782453074667696,2.258812941770361,0.15724847861630353,0.9544184373947769,0.6169257869476132,0.9611393056734863,0.47378840467499683,0.411908925094549,1.1261222840458556,1.7433727103883077,-0.29590056907258044,0.9815571791397204,-0.3371439606110873,0.24276394472825336,-0.31408063740147196,1.8335735213348343,-0.25835366087334255,0.34427421125026514,1.8212493244435306,0.4319426441895796,2.403566384362537,-1.7360054244738925,2.867261079338891,1.2505208288643914,-1.5301639560495262,-0.9152041906364166,-0.8529481863542094,1.0448695245146016,1.2349232388616045,0.49933845868292304,1.791616646383604,1.776026323836864,1.6728051664728976,0.7701422298231276,1.4500739463624488,1.2297579190037677,0.983839484338821,0.4199946271921253,-0.2998848761241535,2.704467432790065,0.23859608232923035,0.4038493150846214,1.2955134439908482,0.023679391697451035,0.08705875394091434,0.8983057672050405,2.2467191262074078,1.936088021209358,1.0279939038408734,2.05167647754765],\"xaxis\":\"x\",\"xbins\":{\"end\":3.8215553784367913,\"size\":1.0,\"start\":-1.7360054244738925},\"yaxis\":\"y\",\"type\":\"histogram\"},{\"legendgroup\":\"Group 1\",\"marker\":{\"color\":\"rgb(31, 119, 180)\"},\"mode\":\"lines\",\"name\":\"Group 1\",\"showlegend\":false,\"x\":[-3.1691451767253955,-3.1584140251357504,-3.1476828735461058,-3.1369517219564607,-3.1262205703668156,-3.1154894187771704,-3.104758267187526,-3.0940271155978807,-3.0832959640082356,-3.072564812418591,-3.061833660828946,-3.0511025092393007,-3.0403713576496556,-3.029640206060011,-3.018909054470366,-3.0081779028807207,-2.9974467512910756,-2.986715599701431,-2.975984448111786,-2.9652532965221408,-2.954522144932496,-2.943790993342851,-2.933059841753206,-2.922328690163561,-2.911597538573916,-2.900866386984271,-2.890135235394626,-2.879404083804981,-2.868672932215336,-2.857941780625691,-2.847210629036046,-2.8364794774464013,-2.825748325856756,-2.815017174267111,-2.8042860226774664,-2.7935548710878213,-2.782823719498176,-2.772092567908531,-2.7613614163188864,-2.7506302647292413,-2.739899113139596,-2.729167961549951,-2.7184368099603065,-2.7077056583706614,-2.6969745067810162,-2.6862433551913716,-2.6755122036017265,-2.6647810520120814,-2.6540499004224367,-2.6433187488327916,-2.6325875972431465,-2.6218564456535014,-2.6111252940638563,-2.6003941424742116,-2.5896629908845665,-2.5789318392949214,-2.5682006877052768,-2.5574695361156317,-2.5467383845259866,-2.536007232936342,-2.525276081346697,-2.5145449297570517,-2.5038137781674066,-2.4930826265777615,-2.482351474988117,-2.4716203233984717,-2.4608891718088266,-2.450158020219182,-2.439426868629537,-2.4286957170398917,-2.417964565450247,-2.407233413860602,-2.396502262270957,-2.385771110681312,-2.375039959091667,-2.364308807502022,-2.353577655912377,-2.3428465043227322,-2.332115352733087,-2.321384201143442,-2.310653049553797,-2.2999218979641523,-2.289190746374507,-2.278459594784862,-2.2677284431952174,-2.2569972916055723,-2.246266140015927,-2.235534988426282,-2.2248038368366374,-2.2140726852469923,-2.203341533657347,-2.192610382067702,-2.1818792304780574,-2.1711480788884123,-2.160416927298767,-2.1496857757091226,-2.1389546241194775,-2.1282234725298323,-2.1174923209401877,-2.106761169350542,-2.0960300177608975,-2.085298866171253,-2.0745677145816073,-2.0638365629919626,-2.0531054114023175,-2.0423742598126724,-2.0316431082230277,-2.0209119566333826,-2.0101808050437375,-1.9994496534540926,-1.9887185018644475,-1.9779873502748027,-1.9672561986851578,-1.956525047095513,-1.9457938955058678,-1.9350627439162227,-1.9243315923265778,-1.913600440736933,-1.9028692891472878,-1.8921381375576427,-1.8814069859679978,-1.870675834378353,-1.859944682788708,-1.849213531199063,-1.8384823796094178,-1.827751228019773,-1.8170200764301279,-1.806288924840483,-1.795557773250838,-1.784826621661193,-1.774095470071548,-1.763364318481903,-1.7526331668922581,-1.7419020153026132,-1.7311708637129681,-1.720439712123323,-1.7097085605336781,-1.6989774089440333,-1.6882462573543884,-1.6775151057647433,-1.6667839541750982,-1.6560528025854533,-1.6453216509958082,-1.6345904994061633,-1.6238593478165184,-1.6131281962268733,-1.6023970446372284,-1.5916658930475833,-1.5809347414579384,-1.5702035898682936,-1.5594724382786482,-1.5487412866890033,-1.5380101350993585,-1.5272789835097136,-1.5165478319200687,-1.5058166803304236,-1.4950855287407785,-1.4843543771511336,-1.4736232255614885,-1.4628920739718436,-1.4521609223821987,-1.4414297707925536,-1.4306986192029088,-1.4199674676132636,-1.4092363160236188,-1.3985051644339739,-1.3877740128443286,-1.3770428612546837,-1.3663117096650388,-1.355580558075394,-1.344849406485749,-1.334118254896104,-1.3233871033064588,-1.312655951716814,-1.3019248001271688,-1.291193648537524,-1.280462496947879,-1.269731345358234,-1.259000193768589,-1.248269042178944,-1.237537890589299,-1.2268067389996542,-1.2160755874100089,-1.205344435820364,-1.194613284230719,-1.1838821326410742,-1.1731509810514293,-1.162419829461784,-1.1516886778721394,-1.1409575262824942,-1.1302263746928491,-1.119495223103204,-1.1087640715135594,-1.0980329199239143,-1.0873017683342696,-1.0765706167446245,-1.0658394651549794,-1.0551083135653343,-1.0443771619756892,-1.0336460103860445,-1.0229148587963994,-1.0121837072067543,-1.0014525556171097,-0.9907214040274646,-0.9799902524378195,-0.9692591008481743,-0.9585279492585292,-0.9477967976688846,-0.9370656460792395,-0.9263344944895948,-0.9156033428999497,-0.9048721913103046,-0.89414103972066,-0.8834098881310144,-0.8726787365413697,-0.8619475849517246,-0.8512164333620795,-0.8404852817724349,-0.8297541301827898,-0.8190229785931451,-0.8082918270034996,-0.7975606754138544,-0.7868295238242098,-0.7760983722345647,-0.76536722064492,-0.7546360690552749,-0.7439049174656303,-0.7331737658759852,-0.72244261428634,-0.7117114626966949,-0.7009803111070498,-0.6902491595174052,-0.6795180079277601,-0.668786856338115,-0.6580557047484703,-0.6473245531588252,-0.6365934015691801,-0.625862249979535,-0.6151310983898899,-0.6043999468002452,-0.5936687952106001,-0.5829376436209555,-0.5722064920313104,-0.5614753404416652,-0.5507441888520206,-0.540013037262375,-0.5292818856727304,-0.5185507340830853,-0.5078195824934402,-0.4970884309037955,-0.4863572793141504,-0.47562612772450574,-0.4648949761348602,-0.4541638245452151,-0.44343267295557043,-0.4327015213659253,-0.42197036977628066,-0.41123921818663556,-0.40050806659699045,-0.3897769150073458,-0.3790457634177007,-0.3683146118280556,-0.3575834602384105,-0.3468523086487658,-0.3361211570591207,-0.3253900054694756,-0.31465885387983095,-0.30392770229018584,-0.29319655070054074,-0.28246539911089563,-0.2717342475212505,-0.26100309593160587,-0.25027194434196076,-0.2395407927523161,-0.228809641162671,-0.2180784895730259,-0.20734733798338123,-0.19661618639373568,-0.18588503480409102,-0.17515388321444592,-0.1644227316248008,-0.15369158003515615,-0.14296042844551105,-0.13222927685586638,-0.12149812526622084,-0.11076697367657573,-0.10003582208693107,-0.08930467049728597,-0.0785735189076413,-0.0678423673179962,-0.057111215728351095,-0.046380064138706434,-0.03564891254906133,-0.024917760959416224,-0.01418660936977112,-0.0034554577801260145,0.007275693809518646,0.01800684539916375,0.028737996988808412,0.03946914857845352,0.050200300168099066,0.060931451757743726,0.07166260334738883,0.08239375493703349,0.0931249065266786,0.10385605811632326,0.11458720970596836,0.12531836129561347,0.13604951288525813,0.14678066447490368,0.15751181606454834,0.16824296765419344,0.17897411924383855,0.1897052708334832,0.2004364224231283,0.21116757401277297,0.22189872560241852,0.23262987719206363,0.2433610287817083,0.2540921803713534,0.26482333196099805,0.27555448355064316,0.28628563514028826,0.2970167867299329,0.30774793831957803,0.31847908990922313,0.32921024149886824,0.33994139308851334,0.350672544678158,0.3614036962678031,0.37213484785744777,0.3828659994470929,0.3935971510367384,0.4043283026263831,0.4150594542160282,0.42579060580567285,0.43652175739531796,0.44725290898496306,0.4579840605746077,0.4687152121642528,0.4794463637538975,0.49017751534354304,0.5009086669331877,0.5116398185228328,0.5223709701124779,0.5331021217021226,0.5438332732917677,0.5545644248814123,0.5652955764710579,0.576026728060703,0.5867578796503476,0.5974890312399928,0.6082201828296374,0.6189513344192825,0.6296824860089276,0.6404136375985723,0.6511447891882174,0.6618759407778625,0.6726070923675076,0.6833382439571527,0.6940693955467974,0.7048005471364425,0.7155316987260871,0.7262628503157322,0.7369940019053778,0.7477251534950224,0.7584563050846675,0.7691874566743122,0.7799186082639573,0.7906497598536024,0.8013809114432471,0.8121120630328922,0.8228432146225368,0.833574366212182,0.8443055178018275,0.8550366693914722,0.8657678209811168,0.8764989725707624,0.887230124160407,0.8979612757500517,0.9086924273396972,0.9194235789293419,0.9301547305189874,0.9408858821086312,0.9516170336982768,0.9623481852879223,0.973079336877567,0.9838104884672125,0.9945416400568563,1.0052727916465019,1.0160039432361465,1.026735094825792,1.0374662464154367,1.0481973980050814,1.058928549594727,1.0696597011843716,1.0803908527740171,1.0911220043636618,1.1018531559533065,1.1125843075429511,1.1233154591325967,1.1340466107222422,1.1447777623118869,1.1555089139015315,1.1662400654911762,1.1769712170808218,1.1877023686704664,1.198433520260112,1.2091646718497566,1.2198958234394013,1.2306269750290468,1.2413581266186915,1.252089278208337,1.2628204297979808,1.2735515813876264,1.284282732977271,1.2950138845669166,1.3057450361565621,1.316476187746206,1.3272073393358514,1.337938490925496,1.3486696425151417,1.3594007941047863,1.370131945694431,1.3808630972840756,1.3915942488737212,1.4023254004633667,1.4130565520530114,1.423787703642656,1.4345188552323007,1.4452500068219463,1.455981158411591,1.4667123100012365,1.4774434615908811,1.4881746131805258,1.4989057647701713,1.509636916359816,1.5203680679494616,1.5310992195391053,1.5418303711287509,1.5525615227183964,1.563292674308041,1.5740238258976866,1.5847549774873304,1.595486129076976,1.6062172806666206,1.6169484322562662,1.62767958384591,1.6384107354355555,1.649141887025201,1.6598730386148457,1.6706041902044912,1.681335341794135,1.6920664933837806,1.7027976449734252,1.7135287965630708,1.7242599481527154,1.73499109974236,1.7457222513320056,1.7564534029216503,1.7671845545112959,1.7779157061009405,1.7886468576905852,1.7993780092802298,1.8101091608698754,1.820840312459521,1.8315714640491656,1.8423026156388103,1.853033767228455,1.8637649188181005,1.8744960704077451,1.8852272219973907,1.8959583735870353,1.90668952517668,1.9174206767663255,1.9281518283559702,1.9388829799456158,1.9496141315352595,1.960345283124905,1.9710764347145497,1.9818075863041953,1.9925387378938408,2.0032698894834846,2.01400104107313,2.024732192662775,2.0354633442524204,2.046194495842065,2.0569256474317097,2.0676567990213544,2.078387950611,2.0891191022006455,2.09985025379029,2.1105814053799348,2.1213125569695794,2.132043708559225,2.1427748601488696,2.153506011738515,2.16423716332816,2.1749683149178045,2.18569946650745],\"xaxis\":\"x\",\"y\":[0.03391501340321505,0.03490228837675568,0.035908282591039425,0.036933547865691634,0.03797867769064329,0.03904430686872182,0.04013111082967416,0.04123980460417233,0.042371141448309474,0.0435259111112011,0.04470493774054749,0.04590907742337375,0.04713921536163311,0.04839626268492004,0.04968115290517288,0.05099483802093856,0.052338284281503195,0.0537124676239375,0.055118368798855816,0.05655696820340995,0.0580292404427195,0.05953614864355511,0.061078638546619365,0.06265763240618918,0.06427402272817562,0.0659286658797952,0.06762237560601726,0.06935591648973793,0.07112999739419784,0.07294526492751564,0.07480229697031639,0.07670159630828904,0.0786435844120944,0.0806285954073534,0.08265687027746875,0.08472855134176106,0.08684367705082191,0.08900217714012086,0.09120386818171979,0.0934484495724662,0.09573549999526493,0.09806447438795564,0.10043470145197016,0.10284538173032373,0.10529558628160463,0.10778425597350685,0.1103102014160942,0.11287210355142156,0.11546851491240712,0.11809786155992714,0.12075844570308161,0.12344844900341284,0.12616593655963995,0.12890886156517622,0.13167507062639836,0.13446230972533232,0.13726823080616526,0.14009039896080364,0.1429263001846124,0.1457733496695236,0.14862890059790831,0.1514902533970223,0.1543546654104606,0.15721936093994335,0.1600815416079056,0.1629383969888325,0.16578711545504796,0.16862489518080434,0.17144895524698509,0.17425654678759675,0.17704496411846474,0.17981155578817618,0.18255373549134746,0.1852689927847252,0.18795490354746267,0.19060914012813457,0.19322948112268018,0.19581382072944212,0.19836017762983274,0.20086670334585288,0.20333169002871457,0.2057535776361455,0.20813096045955248,0.21046259296607295,0.21274739492461148,0.21498445578921443,0.21717303831753518,0.21931258140667587,0.22140270213329186,0.22344319698949447,0.22543404231075645,0.2273753938966501,0.229267585829825,0.23111112850310397,0.2329067058689213,0.23465517192950267,0.23635754649018464,0.2380150102020276,0.2396288989234049,0.2412006974335072,0.24273203253365844,0.24422466557501368,0.24568048445354415,0.24710149511524104,0.2484898126161528,0.2498476517832171,0.2511773175228668,0.2524811948250753,0.25376173851085926,0.2550214627713066,0.2562629305459493,0.2574887427877526,0.25870152766119775,0.2599039297188878,0.2610985991008339,0.2622881807991108,0.26347530402894437,0.26466257174548624,0.2658525503436502,0.26704775957636245,0.2682506627245333,0.26946365704993086,0.2706890645600315,0.27192912311178213,0.2731859778791374,0.27446167320717635,0.27575814487362627,0.27707721277671993,0.2784205740664961,0.27978979673494736,0.28118631367880464,0.2826114172472629,0.28406625428556187,0.2855518216840589,0.2870689624412725,0.2886183622482841,0.2902005466009178,0.29181587844520074,0.29346455636075575,0.2951466132859904,0.2968619157881647,0.2986101638806762,0.30039089138912767,0.3022034668669762,0.304047095060721,0.30592081892371686,0.30782352217674047,0.3097539324123885,0.3117106247392368,0.3136920259604301,0.31569641927997155,0.31772194952847965,0.3197666288985094,0.3218283431777571,0.3239048584665392,0.32599382836388907,0.3280928016044405,0.33019923012599867,0.3323104775453063,0.33442382801709325,0.33653649544896874,0.33864563304219825,0.34074834312585056,0.3428416872492972,0.34492269649554824,0.34698838197554754,0.34903574546124005,0.3510617901131122,0.3530635312559217,0.3550380071545911,0.35698228974071733,0.35889349523888464,0.3607687946410242,0.3626054239764056,0.36440069432455197,0.36615200151842575,0.36785683548566434,0.3695127891764778,0.37111756702801957,0.37266899291670486,0.3741650175519262,0.3756037252670885,0.37698334016667123,0.3783022315912275,0.379558918865797,0.3807520753010734,0.3818805314209063,0.3829432773941927,0.383939464653958,0.3848684066914003,0.385729579017797,0.38652261829246326,0.38724732062031403,0.3879036390280089,0.38849168013308033,0.3890117000258319,0.3894640993890849,0.38984941788601724,0.39016832785131245,0.3904216273256068,0.3906102324777059,0.39073516946323933,0.3907975657722765,0.3907986411218957,0.39073969795277713,0.3906221115915357,0.3904473201426943,0.3902168141759197,0.3899321262753811,0.38959482051882693,0.38920648195421287,0.3887687061414664,0.38828308882620133,0.38775121581096916,0.38717465308789967,0.38655493729442103,0.38589356655112816,0.3851919917378458,0.38445160826050845,0.3836737483577356,0.38285967399185733,0.3820105703648036,0.3811275400946181,0.3802115980835372,0.37926366710357123,0.37828457412038324,0.37727504737104756,0.3762357142060118,0.37516709970029843,0.37406962603377486,0.3729436126351393,0.37178927707924164,0.37060673672245514,0.3693960110561142,0.3681570247535247,0.3668896113818138,0.36559351774590865,0.36426840882824757,0.3629138732844679,0.36152942945228417,0.36011453182810105,0.3586685779635785,0.35719091573243605,0.35568085091621554,0.3541376550565219,0.3525605735204785,0.35094883372567537,0.3493016534708448,0.3476182493187845,0.34589784497869774,0.34413967963609715,0.3423430161797156,0.3405071492764716,0.3386314132474021,0.3367151896996258,0.3347579148717606,0.3327590866528147,0.33071827123733355,0.3286351093825316,0.32650932223619045,0.32434071670731096,0.3221291903547555,0.31987473577244907,0.3175774444530708,0.3152375101155357,0.3128552314849211,0.3104310145168203,0.30796537406135693,0.3054589349652933,0.3029124326137504,0.300326712916019,0.29770273174282896,0.29504155382509967,0.29234435112679674,0.28961240070687233,0.28684708208751203,0.2840498741479385,0.28122235156487685,0.27836618082248155,0.2754831158159799,0.2725749930746238,0.26964372663063174,0.266691302561759,0.26371977323589396,0.2607312512866699,0.25772790334952217,0.2547119435878961,0.2516856270394444,0.24865124281206255,0.24561110715947107,0.24256755646581743,0.2395229401684269,0.23647961364737605,0.23343993111004738,0.2304062384982006,0.22738086644443925,0.2243661233042099,0.22136428828868593,0.21837760472307485,0.2154082734540077,0.21245844642878844,0.2095302204683532,0.20662563125484126,0.20374664755372354,0.2008951656894432,0.19807300429252528,0.19528189933509488,0.19252349947071404,0.18979936169338704,0.18711094732952294,0.18445961837554595,0.1818466341927336,0.17927314856972176,0.17674020716194894,0.17424874531611242,0.17179958628648676,0.16939343984868319,0.16703090131514278,0.16471245095531076,0.16243845382208327,0.1602091599847084,0.15802470516688635,0.15588511178735334,0.15379029039873,0.1517400415189054,0.1497340578476905,0.14777192685992113,0.1458531337646483,0.14397706481849812,0.1421430109797474,0.14035017188814974,0.13859766015405714,0.13688450593894852,0.13520966180807925,0.1335720078346509,0.13197035693364587,0.13040346040231515,0.12887001364324108,0.12736866204494737,0.12589800699418677,0.12445661199334042,0.12304300885578126,0.12165570395164055,0.12029318447613539,0.11895392471250313,0.11763639226163122,0.1163390542106802,0.11506038321337096,0.11379886345514424,0.11255299647710368,0.11132130683351227,0.11010234755862869,0.10889470541983494,0.10769700593531245,0.10650791813595777,0.10532615905279284,0.10415049791278905,0.1029797600277938,0.10181283036309514,0.10064865677408323,0.09948625290143896,0.09832470071729806,0.09716315271687162,0.09600083375205709,0.09483704250560704,0.09367115260644256,0.09250261338867474,0.09133095029882436,0.09015576495758895,0.08897673488428497,0.08779361289378527,0.0866062261773517,0.08541447508024295,0.08421833159032477,0.08301783755313497,0.081813102629946,0.0806043020163134,0.07939167393940855,0.07817551695309427,0.0769561870502161,0.07573409461195645,0.07450970121432517,0.07328351631194756,0.07205609381926668,0.07082802860909511,0.06959995294815655,0.06837253288883102,0.06714646463579735,0.06592247090563609,0.06470129729673528,0.0634837086860453,0.062270485668347905,0.06106242105277726,0.0598603164303349,0.058664978825115004,0.057477217440890814,0.05629784051362558,0.055127652279375626,0.0539674500659425,0.0528180215155368,0.05168014194462234,0.05055457184604244,0.04944205453748644,0.04834331395934219,0.047259052624010645,0.04618994971782571,0.04513665935584295,0.04409980898892759,0.04307999796179799,0.04207779621995714,0.04109374316278613,0.04012834663946824,0.03918208208387181,0.03825539178403822,0.037348684281497894,0.036462333895279295,0.035596680365165494,0.034752028608513306,0.03392864858475158,0.03312677526153959,0.032346608676479524,0.031588314088231435,0.030852022210891908,0.030137829525539925,0.029445798662946266,0.028775958851565413,0.028128306425090153,0.02750280538403901,0.02689938800606489,0.026317955499918368,0.025758378698262793,0.02522049878482439,0.024704128051659637,0.024209050682638143,0.023735023559559976,0.023281777087660757,0.022849016037591614,0.02243642040129891,0.02204364625956712,0.021670326659318707,0.02131607249909552,0.020980473421461435,0.020663098711376095,0.020363498199882948,0.020081203172732206,0.019815727283822183,0.01956656747357975,0.019333204892621646,0.01911510583123094,0.018911722655352403,0.018722494749951038,0.018546849470690928,0.018384203104974104,0.018233961843430298,0.018095522762968313,0.01796827482248734,0.017851599872301126,0.01774487367825044,0.017647466961368978,0.017558746453826844,0.01747807597170244,0.017404817504933195,0.01733833232456461,0.01727798210716252,0.01722313007597425,0.017173142158123475,0.01712738815680571,0.017085242937118005,0.017046087623810453,0.017009310808895384,0.01697430976669141,0.01694049167352423,0.01690727482895186,0.016874089875038467,0.016840381009869173,0.01680560719118456,0.016769243325720225,0.016730781439570908,0.0166897318246607,0.016645624156198358,0.0165980085758303,0.0165464567350785,0.01649056279356888,0.016429944366519497,0.01636424341597127,0.016293127080305402,0.016216288436705428,0.016133447191387155,0.016044350292635887,0.015948772461958846,0.015846516638978226,0.01573741433605697,0.015621325899062441,0.015498140671128714,0.015367777056775292,0.01523018248427254,0.015085333264709311,0.014933234346810768,0.01477391896716948,0.014607448196185058],\"yaxis\":\"y\",\"type\":\"scatter\"},{\"legendgroup\":\"Group 2\",\"marker\":{\"color\":\"rgb(255, 127, 14)\"},\"mode\":\"lines\",\"name\":\"Group 2\",\"showlegend\":false,\"x\":[-2.01284517254106,-2.0048642049218683,-1.996883237302677,-1.9889022696834853,-1.9809213020642937,-1.9729403344451022,-1.9649593668259107,-1.9569783992067191,-1.9489974315875274,-1.9410164639683358,-1.9330354963491443,-1.9250545287299528,-1.9170735611107612,-1.9090925934915695,-1.901111625872378,-1.8931306582531864,-1.8851496906339948,-1.8771687230148033,-1.8691877553956118,-1.86120678777642,-1.8532258201572285,-1.845244852538037,-1.8372638849188454,-1.8292829172996539,-1.8213019496804623,-1.8133209820612706,-1.805340014442079,-1.7973590468228875,-1.789378079203696,-1.7813971115845044,-1.7734161439653127,-1.7654351763461211,-1.7574542087269296,-1.749473241107738,-1.7414922734885465,-1.7335113058693548,-1.7255303382501632,-1.7175493706309717,-1.70956840301178,-1.7015874353925886,-1.6936064677733969,-1.6856255001542053,-1.6776445325350138,-1.6696635649158222,-1.6616825972966307,-1.653701629677439,-1.6457206620582474,-1.6377396944390559,-1.6297587268198643,-1.6217777592006728,-1.613796791581481,-1.6058158239622895,-1.597834856343098,-1.5898538887239064,-1.581872921104715,-1.5738919534855231,-1.5659109858663316,-1.55793001824714,-1.5499490506279485,-1.541968083008757,-1.5339871153895652,-1.5260061477703737,-1.5180251801511822,-1.5100442125319906,-1.502063244912799,-1.4940822772936073,-1.486101309674416,-1.4781203420552242,-1.4701393744360327,-1.4621584068168412,-1.4541774391976494,-1.446196471578458,-1.4382155039592663,-1.4302345363400748,-1.4222535687208833,-1.4142726011016915,-1.4062916334825,-1.3983106658633084,-1.390329698244117,-1.3823487306249254,-1.3743677630057336,-1.3663867953865423,-1.3584058277673505,-1.350424860148159,-1.3424438925289675,-1.3344629249097757,-1.3264819572905844,-1.3185009896713926,-1.310520022052201,-1.3025390544330095,-1.294558086813818,-1.2865771191946265,-1.2785961515754347,-1.2706151839562434,-1.2626342163370516,-1.25465324871786,-1.2466722810986686,-1.2386913134794768,-1.2307103458602853,-1.2227293782410937,-1.214748410621902,-1.2067674430027107,-1.198786475383519,-1.1908055077643274,-1.1828245401451358,-1.1748435725259443,-1.1668626049067528,-1.158881637287561,-1.1509006696683697,-1.142919702049178,-1.1349387344299864,-1.1269577668107948,-1.118976799191603,-1.1109958315724118,-1.10301486395322,-1.0950338963340285,-1.087052928714837,-1.0790719610956454,-1.0710909934764536,-1.063110025857262,-1.0551290582380706,-1.047148090618879,-1.0391671229996873,-1.031186155380496,-1.0232051877613042,-1.0152242201421127,-1.0072432525229211,-0.9992622849037296,-0.9912813172845378,-0.9833003496653463,-0.9753193820461548,-0.967338414426963,-0.9593574468077717,-0.9513764791885799,-0.9433955115693884,-0.9354145439501969,-0.9274335763310053,-0.9194526087118136,-0.9114716410926222,-0.9034906734734305,-0.895509705854239,-0.8875287382350474,-0.8795477706158559,-0.8715668029966641,-0.8635858353774728,-0.855604867758281,-0.8476239001390895,-0.839642932519898,-0.8316619649007064,-0.8236809972815147,-0.8157000296623231,-0.8077190620431316,-0.7997380944239398,-0.7917571268047485,-0.7837761591855568,-0.7757951915663652,-0.7678142239471737,-0.7598332563279822,-0.7518522887087904,-0.7438713210895991,-0.7358903534704073,-0.7279093858512158,-0.7199284182320242,-0.7119474506128327,-0.703966482993641,-0.6959855153744496,-0.6880045477552579,-0.6800235801360663,-0.6720426125168748,-0.6640616448976833,-0.6560806772784915,-0.6480997096593,-0.6401187420401084,-0.6321377744209167,-0.6241568068017254,-0.6161758391825336,-0.6081948715633421,-0.6002139039441505,-0.592232936324959,-0.5842519687057672,-0.5762710010865759,-0.5682900334673842,-0.5603090658481926,-0.5523280982290011,-0.5443471306098095,-0.5363661629906178,-0.5283851953714265,-0.5204042277522347,-0.5124232601330432,-0.5044422925138516,-0.4964613248946601,-0.48848035727546835,-0.48049938965627703,-0.4725184220370853,-0.4645374544178935,-0.4565564867987022,-0.44857551917951044,-0.4405945515603189,-0.43261358394112737,-0.42463261632193583,-0.41665164870274407,-0.40867068108355276,-0.400689713464361,-0.39270874584516946,-0.3847277782259779,-0.3767468106067864,-0.3687658429875946,-0.3607848753684033,-0.35280390774921155,-0.34482294013002,-0.3368419725108285,-0.32886100489163694,-0.3208800372724452,-0.31289906965325387,-0.3049181020340621,-0.29693713441487035,-0.28895616679567904,-0.2809751991764873,-0.27299423155729574,-0.2650132639381042,-0.25703229631891267,-0.2490513286997209,-0.2410703610805296,-0.23308939346133783,-0.2251084258421463,-0.21712745822295476,-0.20914649060376322,-0.20116552298457147,-0.19318455536538015,-0.1852035877461884,-0.17722262012699685,-0.16924165250780532,-0.16126068488861378,-0.15327971726942202,-0.1452987496502307,-0.13731778203103895,-0.1293368144118472,-0.12135584679265587,-0.11337487917346412,-0.10539391155427258,-0.09741294393508104,-0.0894319763158895,-0.08145100869669775,-0.07347004107750643,-0.06548907345831467,-0.057508105839123136,-0.0495271382199316,-0.04154617060074006,-0.0335652029815483,-0.02558423536235699,-0.01760326774316523,-0.009622300123973915,-0.0016413325047821559,0.006339635114409603,0.014320602733600918,0.022301570352792677,0.030282537971984436,0.03826350559117575,0.04624447321036751,0.054225440829558824,0.06220640844875058,0.07018737606794234,0.0781683436871341,0.08614931130632497,0.09413027892551673,0.10211124654470849,0.11009221416390025,0.11807318178309156,0.12605414940228332,0.13403511702147464,0.1420160846406664,0.1499970522598577,0.15797801987904947,0.16595898749824123,0.173939955117433,0.18192092273662386,0.18990189035581562,0.19788285797500738,0.20586382559419913,0.2138447932133909,0.2218257608325822,0.22980672845177352,0.23778769607096528,0.24576866369015704,0.25374963130934836,0.2617305989285401,0.2697115665477319,0.2776925341669232,0.2856735017861145,0.29365446940530626,0.301635437024498,0.3096164046436898,0.3175973722628811,0.3255783398820724,0.33355930750126417,0.3415402751204559,0.34952124273964724,0.357502210358839,0.36548317797803076,0.3734641455972221,0.38144511321641383,0.38942608083560515,0.3974070484547969,0.40538801607398867,0.4133689836931804,0.4213499513123713,0.42933091893156305,0.4373118865507548,0.4452928541699466,0.4532738217891379,0.46125478940832965,0.46923575702752096,0.4772167246467127,0.48519769226590403,0.4931786598850958,0.5011596275042876,0.5091405951234793,0.5171215627426702,0.5251025303618619,0.5330834979810537,0.5410644656002455,0.5490454332194372,0.5570264008386285,0.5650073684578198,0.5729883360770116,0.5809693036962034,0.5889502713153947,0.5969312389345864,0.6049122065537782,0.6128931741729695,0.6208741417921608,0.6288551094113526,0.6368360770305443,0.6448170446497361,0.6527980122689274,0.6607789798881187,0.6687599475073105,0.6767409151265023,0.6847218827456936,0.6927028503648853,0.7006838179840771,0.7086647856032684,0.7166457532224602,0.7246267208416515,0.7326076884608432,0.740588656080035,0.7485696236992267,0.7565505913184176,0.7645315589376094,0.7725125265568011,0.7804934941759929,0.7884744617951842,0.796455429414376,0.8044363970335677,0.812417364652759,0.8203983322719504,0.8283792998911421,0.8363602675103339,0.8443412351295256,0.8523222027487165,0.8603031703679083,0.8682841379871,0.8762651056062918,0.8842460732254835,0.8922270408446749,0.9002080084638666,0.9081889760830579,0.9161699437022497,0.924150911321441,0.9321318789406328,0.9401128465598245,0.9480938141790163,0.9560747817982072,0.9640557494173989,0.9720367170365907,0.9800176846557824,0.9879986522749737,0.9959796198941655,1.0039605875133568,1.0119415551325486,1.01992252275174,1.0279034903709316,1.0358844579901234,1.0438654256093152,1.051846393228506,1.0598273608476978,1.0678083284668896,1.0757892960860813,1.083770263705273,1.0917512313244644,1.0997321989436557,1.1077131665628475,1.1156941341820392,1.1236751018012305,1.1316560694204223,1.139637037039614,1.1476180046588054,1.1555989722779967,1.1635799398971884,1.1715609075163802,1.179541875135572,1.1875228427547633,1.1955038103739546,1.2034847779931463,1.211465745612338,1.2194467132315294,1.2274276808507212,1.235408648469913,1.2433896160891043,1.251370583708296,1.2593515513274873,1.267332518946679,1.2753134865658708,1.2832944541850626,1.2912754218042535,1.2992563894234452,1.307237357042637,1.3152183246618288,1.32319929228102,1.3311802599002118,1.3391612275194031,1.347142195138595,1.3551231627577862,1.363104130376978,1.3710850979961697,1.3790660656153615,1.3870470332345524,1.3950280008537441,1.4030089684729359,1.4109899360921276,1.4189709037113194,1.4269518713305107,1.434932838949702,1.4429138065688938,1.4508947741880855,1.4588757418072769,1.4668567094264686,1.4748376770456604,1.4828186446648517,1.490799612284043,1.4987805799032348,1.5067615475224265,1.5147425151416183,1.5227234827608096,1.530704450380001,1.5386854179991927,1.5466663856183844,1.5546473532375757,1.5626283208567675,1.5706092884759593,1.5785902560951506,1.5865712237143423,1.5945521913335337,1.6025331589527254,1.6105141265719172,1.618495094191109,1.6264760618102998,1.6344570294294916,1.6424379970486833,1.650418964667875,1.6583999322870664,1.6663808999062582,1.6743618675254495,1.6823428351446412,1.6903238027638325,1.6983047703830243,1.706285738002216,1.7142667056214078,1.7222476732405987,1.7302286408597904,1.7382096084789822,1.746190576098174,1.7541715437173657,1.762152511336557,1.7701334789557484,1.77811444657494,1.7860954141941319,1.7940763818133232,1.802057349432515,1.8100383170517067,1.818019284670898,1.8260002522900893,1.833981219909281,1.8419621875284728,1.8499431551476646,1.857924122766856,1.8659050903860472,1.873886058005239,1.8818670256244308,1.889847993243622,1.8978289608628138,1.9058099284820056,1.913790896101197,1.9217718637203887,1.92975283133958,1.9377337989587717,1.9457147665779635,1.9536957341971553,1.9616767018163461,1.9696576694355379],\"xaxis\":\"x\",\"y\":[0.061147549937789626,0.06233538032376981,0.06351754998195308,0.06469323309076859,0.0658616283153469,0.06702196153622102,0.06817348852390244,0.06931549754806755,0.07044731191018934,0.07156829238861132,0.07267783958527359,0.07377539616356947,0.07486044896713337,0.07593253100973495,0.07699122332688427,0.07803615668022623,0.07906701310633062,0.08008352730205552,0.08108548783927608,0.08207273820242988,0.08304517764302417,0.08400276184598007,0.08494550340345394,0.08587347209256442,0.08678679495427133,0.08768565617148871,0.08857029674536629,0.08944101396954424,0.09029816070305414,0.09114214444342544,0.0919734262024313,0.09279251918778252,0.09359998729494784,0.09439644341412831,0.09518254755825031,0.09595900481865811,0.09672656315597204,0.09748601103434199,0.0982381749080476,0.09898391657008797,0.09972413037305207,0.1004597403331633,0.10119169712895076,0.10192097500650661,0.10264856860374293,0.10337548970646303,0.10410276394940267,0.10483142747568218,0.10556252356833283,0.10629709926772167,0.10703620198879965,0.10778087615212988,0.10853215984262755,0.10929108150984525,0.1100586567234879,0.11083588499761456,0.11162374669670587,0.11242320003643258,0.11323517819155517,0.11406058652292403,0.11490029993503109,0.11575516037499244,0.11662597448321688,0.11751351140534262,0.11841850077430709,0.11934163087065118,0.12028354696836183,0.12124484987271528,0.12222609465571982,0.12322778959385604,0.12425039531189123,0.12529432413560534,0.12635993965530695,0.12744755650104628,0.128557440329461,0.1296898080212066,0.13084482808694775,0.1320226212789165,0.13322326140407997,0.1344467763340177,0.13569314920567901,0.13696231980629212,0.13825418613481938,0.13956860613151023,0.14090539956630221,0.14226435007604674,0.1436452073398195,0.14504768938089954,0.14647148498337156,0.14791625621074306,0.14938164101344736,0.15086725591165046,0.15237269873939036,0.1538975514357422,0.15544138286844675,0.15700375167524,0.1585842091079959,0.16018230186474244,0.16179757489462027,0.16342957416094409,0.16507784934768385,0.1667419564949074,0.16842146054903692,0.17011593781412898,0.17182497829083562,0.17354818789021104,0.17528519051009342,0.1770356299624363,0.1787991717406608,0.18057550461684696,0.18236434205941154,0.18416542346276804,0.18597851518139508,0.1878034113616809,0.1896399345659353,0.1914879361839738,0.19334729662877487,0.1952179253137885,0.19709976041061048,0.19899276838687505,0.2008969433253639,0.2028123060265022,0.2047389028975652,0.20667680463308574,0.2086261046920997,0.21058691757900133,0.2125593769359014,0.21454363345546204,0.21653985262424724,0.21854821230764093,0.22056890018836747,0.22260211107156885,0.22464804407027664,0.22670689968592114,0.2287788767992797,0.23086416958793599,0.2329629643869422,0.23507543650989188,0.23720174704806699,0.23934203966568282,0.2414964374095149,0.24366503955139074,0.24584791848209225,0.2480451166752187,0.2502566437394355,0.25248247357733217,0.2547225416687907,0.2569767424963621,0.25924492712962055,0.26152690098486514,0.2638224217758113,0.26613119767011734,0.26845288566567144,0.27078709019959163,0.2731333620017834,0.27549119720375637,0.2778600367121456,0.28023926585507153,0.28262821430809004,0.28502615630504213,0.2874323111376166,0.2898458439458922,0.29226586680056615,0.29469144007593406,0.2971215741110962,0.2995552311551914,0.3019913275908402,0.30442873642832463,0.30686629006143407,0.30930278327428873,0.3117369764869227,0.31416759922587845,0.3165933538046261,0.31901291919721975,0.3214249550873073,0.32382810607336465,0.3262210060099035,0.32860228246336076,0.3309705612604565,0.33332447110599817,0.3356626482464204,0.33798374115480856,0.34028641521271014,0.34256935736377636,0.34483128071413394,0.34707092905437964,0.3492870812782693,0.35147855567345326,0.35364421406007757,0.35578296575366153,0.35789377132941974,0.35997564616606786,0.36202766374820206,0.3640489587074854,0.3660387295841822,0.36799624129198405,0.3699208272706092,0.37181189131228337,0.37366890904995087,0.3754914290968728,0.37727907382917847,0.3790315398048836,0.3807485978149115,0.3824300925637008,0.38407594197908285,0.385686136153187,0.38726073591826166,0.3887998710633663,0.39030373819998365,0.3917725982866024,0.39320677382433705,0.3946066457375422,0.3959726499552364,0.3973052737109176,0.3986050515799913,0.3998725612756066,0.4011084192251145,0.40231327595067456,0.4034878112787069,0.404632729403901,0.405748753834389,0.40683662224538364,0.40789708126916163,0.40893088124965793,0.40993877099015996,0.41092149252265847,0.4118797759273025,0.41281433423012454,0.41372585840676457,0.4146150125193262,0.4154824290127202,0.4163287041959599,0.4171543939327923,0.4179600095648599,0.4187460140892647,0.41951281861092704,0.4202607790885992,0.4209901933916971,0.42170129868335743,0.4223942691433048,0.42306921404216613,0.4237261761769406,0.42436513067528897,0.42498598417428257,0.4255885743771824,0.4261726699897428,0.42673797103549466,0.4272841095473781,0.427810650631138,0.428317093893867,0.42880287522921356,0.4292673689488964,0.42970989024840417,0.43012969799306056,0.4305259978090647,0.4308979454625988,0.431244650508739,0.43156518019064016,0.4318585635683162,0.43212379585535254,0.4323598429409924,0.43256564607431097,0.4327401266865969,0.432882191327585,0.4329907366908851,0.4330646547037631,0.4331028376563868,0.433104183345768,0.43306760020983204,0.43299201242743535,0.43287636496062715,0.43271962851605406,0.43252080440313384,0.43227892926745703,0.4319930796787886,0.43166237655408735,0.4312859893970391,0.4308631403368154,0.43039310794999225,0.42987523085088825,0.42930891103694363,0.42869361697714975,0.428028886432984,0.4273143290027486,0.4265496283816893,0.42573454433172686,0.42486891435612084,0.42395265507581786,0.42298576330568594,0.42196831683023395,0.42090047487977694,0.4197824783093512,0.4186146494839345,0.41739739187476715,0.4161311893727229,0.4148166053257675,0.4134542813085774,0.4120449356333424,0.41058936161165005,0.4090884255781476,0.4075430646874092,0.4059542844960583,0.4043231563427691,0.4026508145392403,0.400938453385631,0.3991873240242739,0.39739873114571067,0.3955740295612764,0.3937146206565292,0.39182194873986975,0.3898974973006275,0.3879427851908074,0.3859593627445007,0.383948807848765,0.38191272197949183,0.37985272621546734,0.3777704572434776,0.3756675633669009,0.37354570052980995,0.37140652836814797,0.3692517062990517,0.36708288965890734,0.36490172590019515,0.36270985085665897,0.3605088850857994,0.3583004302971487,0.35608606587424596,0.35386734549769555,0.35164579387616113,0.3494229035916136,0.34720013206465544,0.3449788986452254,0.342760581833506,0.34054651663538843,0.33833799205638343,0.3361362487374371,0.3339424767356742,0.33175781345271255,0.3295833417127693,0.32742008799245115,0.3252690208037377,0.3231310492313492,0.32100702162536854,0.31889772444968034,0.3168038812865065,0.3147261519970392,0.312665132037908,0.31062135193297313,0.3085952768996791,0.3065873066289934,0.3045977752177031,0.3026269512516446,0.30067503803821644,0.29874217398632247,0.2968284331316776,0.29493382580522803,0.29305829944220607,0.2912017395291729,0.28936397068618636,0.2875447578810355,0.2857438077722996,0.2839607701777801,0.28219523966466886,0.28044675725760965,0.27871481226063427,0.2769988441887376,0.27529824480468507,0.27361236025644076,0.27194049331042286,0.27028190567560445,0.2686358204133006,0.26700142442729174,0.26537787102877414,0.26376428257045265,0.26215975314392687,0.26056335133436803,0.258974123026344,0.2573910942544944,0.2558132740926465,0.2542396575748251,0.2526692286415172,0.25110096310443497,0.249533831622956,0.24796680268532478,0.24639884558765554,0.24482893340371967,0.24325604593847616,0.24167917265827743,0.24009731559068742,0.23850949218685968,0.23691473813945324,0.23531211014910824,0.2337006886325687,0.2320795803656187,0.23044792105409437,0.22880487782635506,0.22714965164072243,0.22548147960155424,0.2237996371777911,0.22210344031799611,0.22039224745612307,0.21866546140247337,0.21692253111454413,0.21516295334274332,0.21338627414621977,0.2115920902743714,0.2097800504099056,0.20794985626967274,0.2061012635598467,0.2042340827824031,0.2023481798902416,0.20044347678869862,0.19851995168163242,0.1965776392606899,0.19461663073682708,0.1926370737136119,0.19063917190232482,0.18862318467934636,0.18658942648682594,0.18453826607812773,0.18247012561004844,0.1803854795843194,0.17828485364141364,0.1761688232101894,0.1740380120174067,0.17189309046165763,0.16973477385674024,0.16756382054999333,0.1653810299215775,0.16318724027113862,0.1609833265987318,0.15877019828729796,0.15654879669437316,0.15432009266108437,0.1520850839468217,0.14984479259828015,0.14760026226185155,0.14535255544857686,0.1431027507610784,0.14085194009206195,0.1386012258040944,0.13635171790045975,0.13410453119692695,0.13186078250427177,0.12962158783134123,0.12738805961836777,0.1251613040100974,0.12294241817812472,0.12073248770159865,0.11853258401520327,0.11634376193300187,0.11416705725639,0.11200348447401025,0.10985403456105425,0.1077196728849213,0.10560133722369815,0.10349993590340832,0.10141634605941792,0.09935141202681433,0.09730594386396381,0.09528071601284617,0.09327646609912467,0.09129389387426791,0.08933366030138604,0.08739638678579027,0.08548265455062659,0.08359300415728343,0.081727935169625,0.07988790596047216,0.07807333365812824,0.0762845942301489,0.07452202270097244,0.07278591349947187,0.07107652093196351,0.0693940597757041,0.06773870598745067,0.066110597521221,0.0645098352490043,0.06293648397781883,0.06139057355620045,0.05987210006293647,0.058381027070633945,0.05691728697652849,0.05548078239280242,0.05407138758858589,0.05268894997576765,0.051333291630736015,0.050004210844207496,0.04870148369138199,0.04742486561478239,0.04617409301229879,0.04494888482315249,0.04374894410472994,0.04257395959350184,0.04142360724354202,0.040297551736483334,0.03919544795710404,0.038116942429108444,0.03706167470606417,0.0360292787128679],\"yaxis\":\"y\",\"type\":\"scatter\"},{\"legendgroup\":\"Group 3\",\"marker\":{\"color\":\"rgb(44, 160, 44)\"},\"mode\":\"lines\",\"name\":\"Group 3\",\"showlegend\":false,\"x\":[-1.7360054244738925,-1.724890302868071,-1.7137751812622497,-1.7026600596564283,-1.6915449380506071,-1.6804298164447857,-1.6693146948389643,-1.658199573233143,-1.6470844516273215,-1.6359693300215001,-1.6248542084156787,-1.6137390868098573,-1.6026239652040362,-1.5915088435982148,-1.5803937219923934,-1.569278600386572,-1.5581634787807506,-1.5470483571749292,-1.5359332355691078,-1.5248181139632866,-1.5137029923574652,-1.5025878707516438,-1.4914727491458224,-1.480357627540001,-1.4692425059341798,-1.4581273843283582,-1.447012262722537,-1.4358971411167154,-1.4247820195108942,-1.4136668979050728,-1.4025517762992514,-1.39143665469343,-1.3803215330876086,-1.3692064114817875,-1.3580912898759658,-1.3469761682701447,-1.3358610466643233,-1.3247459250585019,-1.3136308034526805,-1.302515681846859,-1.2914005602410377,-1.2802854386352163,-1.269170317029395,-1.2580551954235737,-1.2469400738177523,-1.235824952211931,-1.2247098306061095,-1.2135947090002883,-1.202479587394467,-1.1913644657886455,-1.1802493441828241,-1.1691342225770027,-1.1580191009711815,-1.14690397936536,-1.1357888577595385,-1.1246737361537171,-1.113558614547896,-1.1024434929420743,-1.0913283713362532,-1.0802132497304318,-1.0690981281246104,-1.057983006518789,-1.0468678849129676,-1.0357527633071464,-1.0246376417013248,-1.0135225200955036,-1.0024073984896822,-0.9912922768838608,-0.9801771552780394,-0.969062033672218,-0.9579469120663967,-0.9468317904605753,-0.9357166688547539,-0.9246015472489326,-0.9134864256431112,-0.9023713040372898,-0.8912561824314684,-0.8801410608256471,-0.8690259392198257,-0.8579108176140043,-0.8467956960081829,-0.8356805744023617,-0.8245654527965403,-0.8134503311907189,-0.8023352095848976,-0.7912200879790762,-0.7801049663732548,-0.7689898447674334,-0.7578747231616121,-0.7467596015557907,-0.7356444799499693,-0.7245293583441481,-0.7134142367383267,-0.7022991151325053,-0.6911839935266839,-0.6800688719208625,-0.6689537503150413,-0.6578386287092197,-0.6467235071033985,-0.6356083854975769,-0.6244932638917557,-0.6133781422859343,-0.602263020680113,-0.5911478990742915,-0.5800327774684704,-0.5689176558626488,-0.5578025342568276,-0.5466874126510062,-0.5355722910451846,-0.5244571694393634,-0.5133420478335418,-0.5022269262277206,-0.4911118046218992,-0.4799966830160778,-0.4688815614102564,-0.4577664398044352,-0.4466513181986136,-0.4355361965927924,-0.424421074986971,-0.4133059533811496,-0.4021908317753282,-0.39107571016950704,-0.3799605885636854,-0.36884546695786424,-0.3577303453520426,-0.34661522374622145,-0.33550010214040005,-0.32438498053457865,-0.31326985892875725,-0.3021547373229361,-0.29103961571711445,-0.2799244941112933,-0.2688093725054719,-0.2576942508996505,-0.24657912929382908,-0.23546400768800768,-0.22434888608218628,-0.2132337644763651,-0.20211864287054349,-0.1910035212647223,-0.1798883996589009,-0.1687732780530795,-0.1576581564472581,-0.14654303484143694,-0.13542791323561532,-0.12431279162979414,-0.11319767002397274,-0.10208254841815134,-0.09096742681232994,-0.07985230520650854,-0.06873718360068715,-0.05762206199486597,-0.04650694038904435,-0.03539181878322317,-0.024276697177401774,-0.013161575571580375,-0.0020464539657589764,0.0090686676400622,0.02018378924588382,0.031298910851705,0.04241403245752662,0.053529154063347795,0.0646442756691692,0.07575939727499059,0.08687451888081199,0.09798964048663317,0.10910476209245479,0.12021988369827596,0.13133500530409736,0.14245012690991876,0.15356524851574016,0.16468037012156134,0.17579549172738296,0.18691061333320413,0.19802573493902575,0.20914085654484693,0.22025597815066833,0.23137109975648973,0.24248622136231113,0.2536013429681323,0.2647164645739539,0.2758315861797751,0.2869467077855963,0.2980618293914179,0.3091769509972391,0.3202920726030607,0.3314071942088819,0.3425223158147035,0.35363743742052467,0.36475255902634585,0.37586768063216747,0.3869828022379891,0.3980979238438098,0.40921304544963144,0.42032816705545306,0.4314432886612747,0.4425584102670954,0.45367353187291704,0.46478865347873866,0.47590377508455983,0.487018896690381,0.49813401829620263,0.5092491399020238,0.5203642615078454,0.5314793831136666,0.5425945047194878,0.5537096263253094,0.564824747931131,0.5759398695369518,0.5870549911427734,0.598170112748595,0.6092852343544162,0.6204003559602373,0.631515477566059,0.6426305991718801,0.6537457207777018,0.6648608423835234,0.6759759639893441,0.6870910855951657,0.6982062072009874,0.709321328806809,0.7204364504126297,0.7315515720184513,0.742666693624273,0.7537818152300941,0.7648969368359153,0.7760120584417369,0.7871271800475581,0.7982423016533797,0.8093574232592009,0.8204725448650221,0.8315876664708437,0.8427027880766653,0.853817909682486,0.8649330312883077,0.8760481528941293,0.8871632744999505,0.8982783961057716,0.9093935177115933,0.9205086393174144,0.9316237609232361,0.9427388825290572,0.9538540041348784,0.9649691257407,0.9760842473465217,0.9871993689523428,0.998314490558164,1.0094296121639856,1.0205447337698073,1.031659855375628,1.0427749769814496,1.0538900985872712,1.0650052201930924,1.0761203417989136,1.0872354634047352,1.0983505850105564,1.109465706616378,1.1205808282221992,1.1316959498280204,1.142811071433842,1.1539261930396636,1.1650413146454843,1.176156436251306,1.1872715578571276,1.1983866794629487,1.20950180106877,1.2206169226745915,1.2317320442804127,1.2428471658862343,1.2539622874920555,1.2650774090978771,1.2761925307036983,1.28730765230952,1.298422773915341,1.3095378955211623,1.320653017126984,1.3317681387328055,1.3428832603386263,1.3539983819444479,1.3651135035502695,1.3762286251560907,1.3873437467619119,1.3984588683677335,1.4095739899735547,1.4206891115793763,1.4318042331851975,1.4429193547910186,1.4540344763968402,1.4651495980026619,1.4762647196084826,1.4873798412143042,1.4984949628201258,1.509610084425947,1.5207252060317682,1.5318403276375898,1.5429554492434114,1.5540705708492326,1.5651856924550538,1.5763008140608754,1.5874159356666966,1.5985310572725182,1.6096461788783394,1.6207613004841606,1.6318764220899822,1.6429915436958038,1.6541066653016245,1.6652217869074462,1.6763369085132678,1.687452030119089,1.6985671517249101,1.7096822733307317,1.720797394936553,1.7319125165423745,1.7430276381481957,1.754142759754017,1.7652578813598385,1.7763730029656601,1.7874881245714809,1.7986032461773025,1.8097183677831241,1.8208334893889457,1.8319486109947665,1.843063732600588,1.8541788542064097,1.8652939758122309,1.8764090974180525,1.8875242190238737,1.8986393406296949,1.9097544622355165,1.920869583841338,1.9319847054471588,1.9430998270529805,1.954214948658802,1.9653300702646233,1.9764451918704444,1.987560313476266,1.9986754350820872,2.009790556687909,2.02090567829373,2.032020799899551,2.043135921505373,2.0542510431111944,2.065366164717015,2.076481286322837,2.0875964079286584,2.0987115295344796,2.1098266511403008,2.1209417727461224,2.132056894351944,2.143172015957765,2.1542871375635864,2.165402259169408,2.176517380775229,2.187632502381051,2.198747623986872,2.209862745592693,2.2209778671985148,2.2320929888043364,2.243208110410157,2.2543232320159787,2.2654383536218003,2.276553475227621,2.2876685968334427,2.2987837184392643,2.309898840045085,2.3210139616509067,2.3321290832567283,2.34324420486255,2.3543593264683707,2.3654744480741923,2.376589569680014,2.3877046912858355,2.3988198128916562,2.409934934497478,2.4210500561032995,2.432165177709121,2.443280299314942,2.4543954209207635,2.465510542526584,2.476625664132406,2.4877407857382274,2.498855907344049,2.5099710289498707,2.5210861505556923,2.532201272161512,2.5433163937673338,2.5544315153731554,2.565546636978977,2.5766617585847986,2.5877768801906202,2.598892001796442,2.6100071234022626,2.6211222450080833,2.632237366613905,2.6433524882197266,2.654467609825548,2.66558273143137,2.6766978530371905,2.687812974643012,2.698928096248834,2.7100432178546545,2.721158339460476,2.7322734610662978,2.7433885826721185,2.75450370427794,2.7656188258837617,2.7767339474895834,2.787849069095405,2.7989641907012257,2.8100793123070464,2.821194433912868,2.8323095555186897,2.8434246771245113,2.854539798730333,2.8656549203361545,2.876770041941976,2.887885163547796,2.8990002851536176,2.9101154067594392,2.921230528365261,2.9323456499710825,2.943460771576904,2.954575893182725,2.9656910147885465,2.976806136394367,2.987921258000189,2.9990363796060104,3.010151501211832,3.021266622817653,3.0323817444234744,3.043496866029296,3.0546119876351177,3.0657271092409393,3.07684223084676,3.0879573524525807,3.0990724740584024,3.110187595664224,3.1213027172700456,3.132417838875867,3.143532960481689,3.1546480820875105,3.1657632036933303,3.176878325299152,3.1879934469049735,3.199108568510795,3.210223690116617,3.2213388117224384,3.232453933328259,3.2435690549340808,3.2546841765399015,3.265799298145723,3.2769144197515447,3.2880295413573664,3.299144662963187,3.3102597845690087,3.3213749061748303,3.332490027780652,3.3436051493864727,3.3547202709922943,3.365835392598115,3.3769505142039367,3.3880656358097583,3.39918075741558,3.4102958790214015,3.421411000627223,3.432526122233044,3.4436412438388646,3.4547563654446862,3.465871487050508,3.4769866086563295,3.488101730262151,3.4992168518679727,3.5103319734737934,3.521447095079614,3.532562216685436,3.5436773382912574,3.554792459897079,3.5659075815029007,3.5770227031087214,3.588137824714543,3.5992529463203646,3.6103680679261854,3.621483189532007,3.6325983111378286,3.6437134327436493,3.654828554349471,3.6659436759552926,3.677058797561114,3.688173919166936,3.6992890407727566,3.710404162378578,3.721519283984399,3.7326344055902205,3.743749527196042,3.7548646488018638,3.7659797704076854,3.777094892013507,3.788210013619327,3.7993251352251485,3.81044025683097],\"xaxis\":\"x\",\"y\":[0.013348700286831367,0.013639431012429395,0.01393267464199369,0.014228743447382484,0.01452798301067135,0.014830771637277392,0.015137519521666276,0.015448667663579524,0.01576468653472057,0.016086074497917335,0.016413355982917155,0.0167470794251517,0.017087814976015067,0.01743615199540869,0.017792696339500723,0.018158067458805594,0.01853289532378762,0.018917817197211417,0.019313474274378014,0.01972050821417631,0.020139557585526695,0.020571254255271457,0.02101621974485979,0.021475061584260723,0.021948369692400424,0.022436712814041974,0.02294063504339445,0.023460652464838274,0.023997249940976937,0.0245508780777636,0.02512195039569701,0.025710840735034327,0.026317880921628723,0.02694335871836755,0.027587516085272774,0.02825054776913451,0.028932600241097638,0.029633770997920753,0.03035410823970243,0.031093610933735194,0.03185222927083644,0.03262986551703747,0.03342637525992397,0.03424156904524093,0.03507521439564117,0.03592703819970428,0.03679672945561927,0.03768394235025193,0.0385882996507444,0.03950939638236127,0.040446803763045734,0.04140007336211791,0.042368741447776796,0.043352333485596195,0.044350368748062266,0.04536236499343012,0.04638784317079727,0.04742633210733836,0.04847737313313657,0.049540524599003655,0.05061536624311126,0.05170150336318035,0.05279857075238138,0.05390623635899899,0.05502420463229283,0.056152219519829294,0.0572900670848519,0.058437577715970176,0.05959462790554704,0.060761141577621657,0.06193709095096732,0.06312249692791001,0.06431742900477184,0.06552200470519232,0.0667363885430633,0.06796079052732915,0.06919546422637891,0.07044070441513584,0.07169684433315238,0.07296425258698547,0.07424332973478918,0.07553450459534922,0.07683823032764052,0.07815498033035236,0.07948524401363877,0.08082952249757065,0.08218832429334079,0.08356216102417244,0.0849515432430735,0.0863569764040393,0.08777895704203247,0.08921796921504371,0.09067448125877954,0.09214894290103759,0.09364178277865258,0.09515340639504959,0.09668419455098545,0.09823450227502557,0.0998046582737826,0.10139496491497801,0.10300569874907498,0.10463711156764893,0.10628943198889654,0.10796286755284183,0.1096576073009665,0.1113738248072784,0.11311168162033808,0.11487133106859503,0.1166529223746324,0.11845660501769782,0.12028253327828563,0.12213087089362798,0.12400179574884007,0.12589550452520185,0.1278122172247315,0.12975218148885495,0.13171567662865302,0.13370301728489858,0.13571455663790902,0.13775068909012894,0.1398118523483291,0.14189852883732837,0.14401124638319324,0.1461505781108795,0.14831714150921838,0.15051159662489655,0.1527346433566194,0.15498701783078875,0.15726948785076347,0.15958284742290677,0.16192791037407667,0.16430550308684305,0.16671645639038477,0.1691615966565843,0.17164173616216744,0.17415766278869074,0.1767101291426075,0.1792998411874272,0.18192744648898643,0.18459352218294003,0.18729856278066642,0.19004296793573053,0.19282703029779535,0.19565092358431008,0.19851469100239388,0.20141823415399773,0.20436130255664842,0.20734348390982474,0.21036419523329353,0.21342267499854028,0.21651797636782283,0.2196489616473599,0.22281429805185796,0.2260124548670052,0.22924170208485892,0.2325001105742842,0.23578555383494929,0.23909571136890867,0.24242807368871197,0.2457799489653805,0.24914847130367096,0.25253061061594845,0.25592318404990805,0.2593228689094501,0.26272621699244847,0.26612967025406364,0.2695295776898691,0.27292221331947447,0.27630379513875625,0.2796705048973353,0.28301850854773375,0.28634397720381327,0.289643108438732,0.2929121477468725,0.2961474099900553,0.29934530064588777,0.3025023366754185,0.3056151668283025,0.308680591206524,0.31169557991228486,0.3146572906119849,0.3175630848561558,0.32041054300480876,0.32319747761870954,0.32592194518961837,0.32858225609630437,0.3311769826881379,0.33370496541404315,0.33616531693147683,0.33855742414769097,0.3408809481636684,0.34313582210963367,0.34532224687974267,0.3474406847922655,0.34949185122012255,0.35147670425483124,0.35339643248458974,0.3552524409842041,0.3570463356306747,0.3587799058733725,0.36045510610167936,0.3620740357656078,0.36363891841618556,0.3651520798420963,0.36661592548719135,0.36803291733993915,0.36940555049056323,0.3707363295545365,0.3720277451622319,0.3732822507138048,0.3745022395959138,0.3756900230526032,0.3768478088966984,0.3779776812403942,0.3790815814145095,0.38016129023512246,0.38121841176421556,0.3822543586975572,0.38327033949852457,0.3842673473810599,0.3852461512285578,0.3862072885184099,0.38715106030431296,0.3880775282904419,0.3889865140133866,0.38987760012947975,0.3907501337870158,0.3916032320449837,0.3924357892825197,0.39324648652644784,0.39403380260817367,0.3947960270459652,0.3955312745344449,0.396237500909986,0.3969125204488567,0.3975540243443763,0.3981596002002103,0.39872675236926,0.3992529229614453,0.3997355133391193,0.40017190591587254,0.4005594860731431,0.4008956640092745,0.4011778963375541,0.4014037072531481,0.40157070909383297,0.4016766221258232,0.40171929339384227,0.40169671448372346,0.4016070380562517,0.401448593022466,0.40121989824323767,0.400919674649415,0.4005468556931045,0.400100596055617,0.3995802785530697,0.3989855191965173,0.39831617037960215,0.3975723221829626,0.39675430180082777,0.39586267111128415,0.39489822242742456,0.39386197248186416,0.3927551547118455,0.39157920992614453,0.3903357754482012,0.3890266728421588,0.387653894339729,0.3862195880959126,0.38472604241050806,0.38317566905994965,0.38157098589031685,0.3799145988272201,0.3782091834617601,0.37645746637374483,0.37466220635393654,0.37282617568617493,0.3709521416479182,0.3690428483839736,0.36710099930311313,0.3651292401408336,0.363130142823886,0.3611061902633771,0.35905976219336894,0.35699312216104867,0.3549084057628337,0.35280761020832085,0.35069258528092384,0.34856502575047316,0.34642646527915694,0.34427827184803117,0.342121644717147,0.33995761291815796,0.3377870352643671,0.33561060184950897,0.3334288369934498,0.3312421035803884,0.32905060872329345,0.3268544106772694,0.3246534269143933,0.3224474432634518,0.3202361240099467,0.31801902284485073,0.31579559454488965,0.3135652072626792,0.3113271553018479,0.3090806722503778,0.30682494434476343,0.30455912393821305,0.30228234294798806,0.2999937261600283,0.29769240427319504,0.29537752657073063,0.2930482731127677,0.2907038663508911,0.2883435820737035,0.2859667596010227,0.2835728111536041,0.28116123033502366,0.2787315996724934,0.2762835971737367,0.2738170018675621,0.2713316983062937,0.26882768001864,0.26630505191180165,0.26376403163151935,0.2612049498982742,0.25862824984683314,0.25603448540477086,0.2534243187533517,0.2507985169212155,0.24815794756759293,0.2455035740172562,0.24283644961405568,0.24015771146366693,0.23746857363911647,0.23477031992469546,0.23206429617510232,0.22935190236704225,0.2266345844201093,0.2239138258626401,0.2211911394163615,0.21846805857117013,0.21574612921828107,0.21302690140639383,0.21031192128143417,0.20760272326600512,0.20490082252990816,0.20220770779809216,0.1995248345372225,0.1968536185567821,0.19419543005531387,0.19155158813713066,0.1889233558196249,0.186311935546263,0.18371846521548008,0.18114401473105984,0.17858958307522818,0.17605609590161056,0.1735444036414706,0.17105528011324306,0.16858942162231483,0.16614744653531915,0.16372989531086743,0.16133723096665012,0.15896983996119504,0.15662803346724452,0.15431204901269957,0.15202205246435044,0.14975814032914228,0.14752034234749825,0.14530862435319544,0.1431228913744507,0.14096299095118547,0.13882871664387672,0.13671981170993927,0.13463597292419688,0.13257685452066503,0.13054207223356362,0.12853120741617938,0.126543811216912,0.12457940879251098,0.12263750353918096,0.12071758132285197,0.11881911469050116,0.11694156704495533,0.11508439676611637,0.11324706126201389,0.11142902093353593,0.10962974303710085,0.10784870542993301,0.10608540018300273,0.10433933704708609,0.10261004675782222,0.10089708416608384,0.09920003118046261,0.09751849950920329,0.09585213318950789,0.09420061089279551,0.09256364799523333,0.09094099840367267,0.08933245612802525,0.08773785659210677,0.0861570776760501,0.08459004048456437,0.08303670983656233,0.08149709447301617,0.07997124698130405,0.07845926343578447,0.07696128275585597,0.07547748578433712,0.07400809409059485,0.07255336850447269,0.07111360738869156,0.06968914465900614,0.0682803475629842,0.0668876142298219,0.06551137100508718,0.06415206958571194,0.06281018397186854,0.06148620725360958,0.060180648251267184,0.05889402802960873,0.057626876306612305,0.05637972777846026,0.055153118382922285,0.05394758152374031,0.052763644278890465,0.05160182361572412,0.050462622635939605,0.04934652687314014,0.048254000665376204,0.04718548362456316,0.04614138722401283,0.04512209152452262,0.04412794205854088,0.04315924689087813,0.04221627387326877,0.041299248108821365,0.04040834964103316,0.039543711380602524,0.03870541728175767,0.03789350077824751,0.03710794348752415,0.03634867418998544,0.0356155680884756,0.034908446351546246,0.0342270759422928,0.033571169732899336,0.03294038690336497,0.0323343336212536,0.0317525639977199,0.031194581313518096,0.030659839507216288,0.030147744916412544,0.029657658261397903,0.02918889685943233,0.02874073705660673,0.028312416863155047,0.0279031387770661,0.027512072779922125,0.027138359488071587,0.026781113441521932,0.026439426512323363,0.026112371413703893,0.025799005290812766,0.025498373373635703,0.025209512672456927,0.024931455696168205,0.02466323417375214,0.02440388275940739,0.024152442702025316,0.02390796546007556,0.023669516243407827,0.023436177464025282,0.02320705207853032,0.022981266805680075,0.022757975203314986,0.022536360589832542,0.02231563879636656,0.02209506073689393,0.021873914784617553,0.021651528944165367,0.02142727281038679,0.021200559305817813,0.020970846190215053,0.020737637336917605,0.02050048377217874,0.020258984475004165,0.020012786936436964,0.019761587478625064,0.019505131335394776,0.019243212497415656,0.018975673326376844,0.018702403943888564,0.018423341402069027,0.01813846864396712,0.017847813263097752,0.017551446072421012,0.017249479494074085],\"yaxis\":\"y\",\"type\":\"scatter\"},{\"legendgroup\":\"Group 1\",\"marker\":{\"color\":\"rgb(31, 119, 180)\",\"symbol\":\"line-ns-open\"},\"mode\":\"markers\",\"name\":\"Group 1\",\"showlegend\":false,\"x\":[0.941231486168995,-1.1717157934689795,-0.15743847009711565,-0.9374252639867032,-1.7632401106246367,-0.5272067262260689,-2.415958536077185,-1.295498950210098,-2.09495824587239,-0.7518285244524607,-0.011984073060171907,-1.4803857923664412,-1.5521108397981103,-1.4527406545286503,0.916415016960221,-0.7752640625992439,0.000847992708880696,-1.8007292991645927,-0.34593081488081934,-2.2585465449209607,-0.5280212595960704,-0.33182491845439643,-0.5137168709018137,-2.1127651655792086,-0.6092997279464268,-0.4925821064010689,-0.33666639663807485,-1.6158448436476744,-1.010571671688927,-1.502382158869243,-1.145394312092896,-1.2458844366924924,-1.6789722298373593,-2.2993386332381482,0.49538875215356915,-0.2866480153864627,-1.0719187465291868,-0.823384012350715,0.18692618188038157,0.470122520548409,-2.0016750388275324,-1.8542484271493298,-1.199350828028626,-0.3535042054605382,-2.21705493830853,0.21816568972387373,-2.02758990701365,-1.3033757742602445,0.01581287929560271,-1.07628262686404,-1.1222333104630422,-0.6902304057450042,-1.1354034456243272,-1.3955460524533867,-0.8732406313536633,-2.653632192455616,-1.806370194494265,-2.1561270743026135,-0.17530441041765543,-2.4371170857116633,-0.46244046714737297,0.6396334389936491,-0.1397838645792281,0.5047597210385795,-1.5512751801732603,-1.0786633307793654,-1.1583642192185957,-0.3051305760751054,-2.1946515568420892,-0.08538705092298171,-1.148862018696983,0.16489742794030837,2.1964306180970947,-0.9089546516782007,2.1137281948488105,-1.537868300123581,-0.4934915385886135,-2.2270264958852275,-1.943967280221309,-1.623905496639866,-0.7606891592527704,-2.4504648383147036,-0.33528175220532463,-0.9565300664797773,-0.7251807307483153,1.7640474353438256,0.16459143860018988,-0.2133612433092953,-1.3148804486450225,-3.0150702768986406,-0.9628071326150074,-2.0718620113637547,-2.4927656393231894,-1.1047590622607653,1.10789919123597,-2.7725827739674243,-0.8114599993811944,-2.987963643932048,-1.0839378926573082,0.6776374837062236,-0.6576451455404835,-1.065880270406692,-2.291093114971658,-0.7879584554965982,-0.27021988327259516,-0.5149007564282662,-1.1906500897439032,-1.2952783385874398,-1.5579567178046352,-0.6622575920150576,-0.2284113219532926,-0.704437252593873,0.019266553161821687,-1.8397353359743154,-1.6006999757409637,-0.051168494524950314,0.6742024630031629,-0.3855059437205435,-1.781327792976779,1.3685766353625746,0.22923774559291532,-0.20341974212731107,-1.717776620763436,0.822040311703992,0.06361755200462049,-0.8658091427923024,-0.39862578442937757,-0.3405983998345603,-1.873611078515361,-0.9044940464180389,-1.1250248610906661,-0.5695115344054502,-2.2361033372528833,1.0399470599696903,-0.8151045729534767,-1.1928016863902213,-2.19490691114669,-1.1499370347904871,-1.3362498470917505,-2.9944008474925905,-2.16570715812143,-1.091810491287119,-0.4013355287278445,-0.12259928260483555,-0.482726336408524,-2.1354287092500286,-2.0670412576200885,-1.3612808649452943,-0.5573670805740469,-1.1248546479924855,-2.29186143903628,-1.427766085944938,-2.2581962060609166,0.5107473451541527,-0.6285167867061131,-2.397801803857459,-0.5773868715268331,-0.9364558667192813,-1.402913511579746,-1.964743632515732,0.24936563524975397,-0.24404543207813123,-1.0211993006340938,-1.3167741483532467,0.1903642793223499,0.6431584820057714,-1.155220211429096,-1.2276306267365789,-1.0443333831616712,-1.6566076498456197,-1.6273464607636279,-1.7945853338614817,0.6870160756090475,-0.6187468892591255,-2.43893901166127,-1.6271796712632987,-1.8935016437071104,-3.1691451767253955,-2.2153701033833046,-1.2800429321519757,0.7289782590608356,-0.1775698905703863,-1.2537027325094319,-0.38957253239728906,-1.6371772197359968,-0.46505510701687747,-2.146227614724057,-1.1511343667513156,-0.8515969425299397,-2.5960587494947402,-0.6981735507793261,-1.9965875227366956,-2.3274717379868575,-0.8940967201445321,-0.8810653260453445,-0.06226241285503764,-0.32637236422389093,-1.4517143464030677,-0.6416465203749084,-1.1207248893579818],\"xaxis\":\"x\",\"y\":[\"Group 1\",\"Group 1\",\"Group 1\",\"Group 1\",\"Group 1\",\"Group 1\",\"Group 1\",\"Group 1\",\"Group 1\",\"Group 1\",\"Group 1\",\"Group 1\",\"Group 1\",\"Group 1\",\"Group 1\",\"Group 1\",\"Group 1\",\"Group 1\",\"Group 1\",\"Group 1\",\"Group 1\",\"Group 1\",\"Group 1\",\"Group 1\",\"Group 1\",\"Group 1\",\"Group 1\",\"Group 1\",\"Group 1\",\"Group 1\",\"Group 1\",\"Group 1\",\"Group 1\",\"Group 1\",\"Group 1\",\"Group 1\",\"Group 1\",\"Group 1\",\"Group 1\",\"Group 1\",\"Group 1\",\"Group 1\",\"Group 1\",\"Group 1\",\"Group 1\",\"Group 1\",\"Group 1\",\"Group 1\",\"Group 1\",\"Group 1\",\"Group 1\",\"Group 1\",\"Group 1\",\"Group 1\",\"Group 1\",\"Group 1\",\"Group 1\",\"Group 1\",\"Group 1\",\"Group 1\",\"Group 1\",\"Group 1\",\"Group 1\",\"Group 1\",\"Group 1\",\"Group 1\",\"Group 1\",\"Group 1\",\"Group 1\",\"Group 1\",\"Group 1\",\"Group 1\",\"Group 1\",\"Group 1\",\"Group 1\",\"Group 1\",\"Group 1\",\"Group 1\",\"Group 1\",\"Group 1\",\"Group 1\",\"Group 1\",\"Group 1\",\"Group 1\",\"Group 1\",\"Group 1\",\"Group 1\",\"Group 1\",\"Group 1\",\"Group 1\",\"Group 1\",\"Group 1\",\"Group 1\",\"Group 1\",\"Group 1\",\"Group 1\",\"Group 1\",\"Group 1\",\"Group 1\",\"Group 1\",\"Group 1\",\"Group 1\",\"Group 1\",\"Group 1\",\"Group 1\",\"Group 1\",\"Group 1\",\"Group 1\",\"Group 1\",\"Group 1\",\"Group 1\",\"Group 1\",\"Group 1\",\"Group 1\",\"Group 1\",\"Group 1\",\"Group 1\",\"Group 1\",\"Group 1\",\"Group 1\",\"Group 1\",\"Group 1\",\"Group 1\",\"Group 1\",\"Group 1\",\"Group 1\",\"Group 1\",\"Group 1\",\"Group 1\",\"Group 1\",\"Group 1\",\"Group 1\",\"Group 1\",\"Group 1\",\"Group 1\",\"Group 1\",\"Group 1\",\"Group 1\",\"Group 1\",\"Group 1\",\"Group 1\",\"Group 1\",\"Group 1\",\"Group 1\",\"Group 1\",\"Group 1\",\"Group 1\",\"Group 1\",\"Group 1\",\"Group 1\",\"Group 1\",\"Group 1\",\"Group 1\",\"Group 1\",\"Group 1\",\"Group 1\",\"Group 1\",\"Group 1\",\"Group 1\",\"Group 1\",\"Group 1\",\"Group 1\",\"Group 1\",\"Group 1\",\"Group 1\",\"Group 1\",\"Group 1\",\"Group 1\",\"Group 1\",\"Group 1\",\"Group 1\",\"Group 1\",\"Group 1\",\"Group 1\",\"Group 1\",\"Group 1\",\"Group 1\",\"Group 1\",\"Group 1\",\"Group 1\",\"Group 1\",\"Group 1\",\"Group 1\",\"Group 1\",\"Group 1\",\"Group 1\",\"Group 1\",\"Group 1\",\"Group 1\",\"Group 1\",\"Group 1\",\"Group 1\",\"Group 1\",\"Group 1\",\"Group 1\",\"Group 1\",\"Group 1\",\"Group 1\",\"Group 1\",\"Group 1\"],\"yaxis\":\"y2\",\"type\":\"scatter\"},{\"legendgroup\":\"Group 2\",\"marker\":{\"color\":\"rgb(255, 127, 14)\",\"symbol\":\"line-ns-open\"},\"mode\":\"markers\",\"name\":\"Group 2\",\"showlegend\":false,\"x\":[1.0282723181985796,-1.1230253571042799,0.2500146941372775,-0.42205257158015086,1.3619015868602702,0.04676940402437464,0.14567141830186378,-0.18853632583702218,1.906317639575397,-0.5199835928953641,1.5687516476192342,1.3525774110270332,0.0500771752136733,1.3631640126021431,0.09272666891424249,1.4623576955716457,-0.11022051106318013,0.18582784810145564,0.995543855068172,0.3437637185683744,-0.2794647968086362,0.5797173203387765,-0.4167630014348701,-1.7921213120546193,0.7040993975947426,1.0042677004757816,0.7906868902326611,0.19859512771781132,0.6629769363543571,0.4436589713816685,0.04136592411273401,1.012060938438547,-0.36705452098369046,0.08653265128265662,0.23918104958005718,0.18335091867881909,0.5031928573233292,1.045698925862227,-0.07620136653486961,-1.6784906727801523,-0.409745374987928,-0.27577929481006475,-1.6030111397375832,-0.7540458386712114,0.4295674365194671,0.2864824309577482,-1.1108514245959373,0.05434149811173776,-0.7797542960092133,0.06012353387935553,-1.11654738083687,-0.298607871154107,-1.8596029858379668,1.1091448387073821,-0.4496274989372944,-1.2072774650924116,-1.8089302763986368,0.9713796974277826,1.273888341437396,0.7025086554454101,1.0893984649373825,-0.05708636044378414,0.6490723342933241,-0.706278878058656,0.4081818377933925,1.4919884610074152,-0.16456374024070047,-0.4665502927556181,-1.3487958030613165,0.255979053068562,-0.8079752838028241,0.30834841138388736,0.37878636493146867,0.06520422532725186,-0.3671177938210229,-0.7576480042265501,-0.41729775988366136,-1.0921607732576726,-0.5491506651422765,0.04479705137510054,0.7630631623295319,-0.9748403086787365,0.23655633476176272,-0.3882253651129599,-0.5609015056836318,-0.4148456959079058,0.535875034417125,0.17412825944538504,1.607003473921657,0.7049363873865603,-1.741495219561258,0.07466069041267616,-0.25205373916734175,1.0682398652372602,0.26945209428297767,1.2052625328498932,-1.502009164169081,-0.13299122905668725,1.2879958143982575,0.4126854106330917,-1.111480934748545,0.817408978152796,0.37281210016970284,0.2924185479404547,0.0017559359389817141,0.5773369040102551,-0.12777215630265784,-0.04869461081160686,-0.9815341006125561,-0.726597459253088,0.21621194844664535,-1.0622500753710322,-0.42501029017392833,0.4323500388903921,-0.27475513496269244,1.2994249687617225,0.5094730000641946,0.4581783772509445,-0.6979116126408395,0.6874363005649954,-1.1576020115589472,0.4637844272708443,1.0904905411702677,-0.10473884505012591,-0.3331776853717464,-1.2531647659478704,0.8491497424691811,-0.8988723856818561,-0.8650829268493117,-0.4897773180954035,1.3317060715683273,-0.6347626006638057,-0.2834910102690365,-0.4044002888380128,-1.4284056625026298,1.3598774747022055,-0.7879518464031162,0.1135636721751644,-0.04114364929342205,0.4362391198725118,0.09916588788246783,-0.9043512347222592,0.30034941638242263,0.39478125834274475,-0.5901934573098425,0.7092652131368469,0.2143254974544184,-0.39303988952975744,-1.12513806431941,1.0330123076345035,-1.932728431184569,0.450457341513028,-0.4931084935658147,-1.2871163186333456,-0.9268694265383536,-0.39842442058532984,1.9776386370547299,-1.9561950685281684,1.3026029409400557,-0.3968262943821681,1.3299386926595846,-0.7116381465899303,0.6921469383805353,-0.17783531089830001,1.3968566508447993,0.26553784031195543,-0.24067087183867422,-0.23448038014692574,0.5969186629903216,0.5033902509845961,-2.01284517254106,-0.6472240481527136,1.1151849581213011,0.7375126000298141,1.02113027536605,-0.9806812380338572,1.6958190740064951,-0.11696374882008309,-0.5343195240125445,-0.36975861707256824,-1.4583944751846474,0.22126517788669112,-0.3638656576273207,0.1836616076641356,0.16125243042000906,0.3191942178490905,0.7394726820028183,-0.09317558876310311,0.9559962712092913,-0.9228431280488765,-1.795165789603403,0.7884283332640285,-0.591290990371049,-0.166437490314563,0.5057674662304783,-1.6964723995163202,1.0426129305677585,-0.43379487081103096,0.23804574964997463,0.7106805163706168],\"xaxis\":\"x\",\"y\":[\"Group 2\",\"Group 2\",\"Group 2\",\"Group 2\",\"Group 2\",\"Group 2\",\"Group 2\",\"Group 2\",\"Group 2\",\"Group 2\",\"Group 2\",\"Group 2\",\"Group 2\",\"Group 2\",\"Group 2\",\"Group 2\",\"Group 2\",\"Group 2\",\"Group 2\",\"Group 2\",\"Group 2\",\"Group 2\",\"Group 2\",\"Group 2\",\"Group 2\",\"Group 2\",\"Group 2\",\"Group 2\",\"Group 2\",\"Group 2\",\"Group 2\",\"Group 2\",\"Group 2\",\"Group 2\",\"Group 2\",\"Group 2\",\"Group 2\",\"Group 2\",\"Group 2\",\"Group 2\",\"Group 2\",\"Group 2\",\"Group 2\",\"Group 2\",\"Group 2\",\"Group 2\",\"Group 2\",\"Group 2\",\"Group 2\",\"Group 2\",\"Group 2\",\"Group 2\",\"Group 2\",\"Group 2\",\"Group 2\",\"Group 2\",\"Group 2\",\"Group 2\",\"Group 2\",\"Group 2\",\"Group 2\",\"Group 2\",\"Group 2\",\"Group 2\",\"Group 2\",\"Group 2\",\"Group 2\",\"Group 2\",\"Group 2\",\"Group 2\",\"Group 2\",\"Group 2\",\"Group 2\",\"Group 2\",\"Group 2\",\"Group 2\",\"Group 2\",\"Group 2\",\"Group 2\",\"Group 2\",\"Group 2\",\"Group 2\",\"Group 2\",\"Group 2\",\"Group 2\",\"Group 2\",\"Group 2\",\"Group 2\",\"Group 2\",\"Group 2\",\"Group 2\",\"Group 2\",\"Group 2\",\"Group 2\",\"Group 2\",\"Group 2\",\"Group 2\",\"Group 2\",\"Group 2\",\"Group 2\",\"Group 2\",\"Group 2\",\"Group 2\",\"Group 2\",\"Group 2\",\"Group 2\",\"Group 2\",\"Group 2\",\"Group 2\",\"Group 2\",\"Group 2\",\"Group 2\",\"Group 2\",\"Group 2\",\"Group 2\",\"Group 2\",\"Group 2\",\"Group 2\",\"Group 2\",\"Group 2\",\"Group 2\",\"Group 2\",\"Group 2\",\"Group 2\",\"Group 2\",\"Group 2\",\"Group 2\",\"Group 2\",\"Group 2\",\"Group 2\",\"Group 2\",\"Group 2\",\"Group 2\",\"Group 2\",\"Group 2\",\"Group 2\",\"Group 2\",\"Group 2\",\"Group 2\",\"Group 2\",\"Group 2\",\"Group 2\",\"Group 2\",\"Group 2\",\"Group 2\",\"Group 2\",\"Group 2\",\"Group 2\",\"Group 2\",\"Group 2\",\"Group 2\",\"Group 2\",\"Group 2\",\"Group 2\",\"Group 2\",\"Group 2\",\"Group 2\",\"Group 2\",\"Group 2\",\"Group 2\",\"Group 2\",\"Group 2\",\"Group 2\",\"Group 2\",\"Group 2\",\"Group 2\",\"Group 2\",\"Group 2\",\"Group 2\",\"Group 2\",\"Group 2\",\"Group 2\",\"Group 2\",\"Group 2\",\"Group 2\",\"Group 2\",\"Group 2\",\"Group 2\",\"Group 2\",\"Group 2\",\"Group 2\",\"Group 2\",\"Group 2\",\"Group 2\",\"Group 2\",\"Group 2\",\"Group 2\",\"Group 2\",\"Group 2\",\"Group 2\",\"Group 2\",\"Group 2\",\"Group 2\",\"Group 2\",\"Group 2\",\"Group 2\",\"Group 2\",\"Group 2\",\"Group 2\",\"Group 2\"],\"yaxis\":\"y2\",\"type\":\"scatter\"},{\"legendgroup\":\"Group 3\",\"marker\":{\"color\":\"rgb(44, 160, 44)\",\"symbol\":\"line-ns-open\"},\"mode\":\"markers\",\"name\":\"Group 3\",\"showlegend\":false,\"x\":[2.1641521270376343,-1.0619443321800777,1.6819261901239955,1.061327075313312,1.2964626394929644,1.7551607164192795,0.25343653912266517,0.6924926847476953,-0.0005018532568519252,1.2073035530583625,0.35614303796802627,3.6707414957932327,-0.2463847362594378,1.3320491673018902,3.5282513151529638,1.9195201956914192,1.0732797076322949,0.3555882880561715,1.150082725873466,0.2616481170409831,1.9038971244820189,0.6938139801279863,-0.3259004817110567,0.37220815075447544,0.870466112449841,1.044807422818073,2.9244381281060927,1.958706837613275,1.1708406691207167,2.4756966729360808,2.2475556108139365,1.672583662904278,0.5525126017943456,2.061041141588504,-0.19340456862371247,1.430051770209181,-0.5348565290409208,0.5977208210382654,0.6965389687909691,1.2739348807325326,0.06385637603722927,-0.7449200682764892,1.3543132104867703,-0.8348498031410332,1.0043279797258071,0.1734530497506499,0.41871542361381986,2.7104469445559567,-0.30693894679194766,0.8991165426385578,0.3297480899699461,0.9624108210489848,1.007795653648667,1.6899428012088493,1.5032777153552535,0.9178265384299871,1.1722303427923726,-0.29089158383570446,1.5725692104167193,1.1794268265510026,3.2074593465145074,2.2918534305610034,0.9599623599178173,0.4447966255399042,2.1836501728020616,0.45404897977718983,0.49514921981609916,1.8998303821921128,0.6409464774451732,2.1753245805767145,0.3189976432393318,1.7538499497558853,2.527239618273139,1.6147460991079292,1.8834259850723334,0.7954714860299447,0.1403056937331929,-0.766124002631789,2.2673502376237327,0.5071994106669999,2.2406376524860177,-0.15146891955452801,0.3513226989195244,1.845879628761725,0.8251087268132229,1.7552163316894736,0.3468609066299517,0.6483466684975698,1.7895752342114115,1.6193716818756934,0.9947770404834001,2.617392194830942,0.1521845495898918,-0.8526100440113058,0.790406019835772,-0.335125387318016,0.37332006649807925,1.1624371453697753,0.9702558926344805,2.610248000070378,1.1739029411246233,1.2129652310648802,1.26005111256349,1.445106566796493,1.494358277982366,-0.19296485181018785,-1.0319373138799723,1.0206637619634502,0.444859646052575,1.6674675598579884,1.835997842191536,0.30580433869483836,1.1705009436219667,0.10908221792065043,0.8799688843305205,0.6482305703799232,1.095716506820377,1.312926132558165,-0.33787406908409956,1.4536003103883943,1.6091819585661211,0.4186676554802282,1.7751628695857793,1.3509231499029524,1.5785964160653245,1.2855214430183841,2.359759493103586,3.8215553784367913,1.7487350549712979,0.2867775456633086,0.9214975942586456,0.39690328293259114,2.039930321994764,1.787991221678047,-0.4136134430634588,0.5321750687499553,1.007068142976947,0.3457925505830618,1.2847113900562528,1.2110815278492222,0.9817249748901781,0.6113487858765019,2.8766935872516024,0.3124953900387454,0.8395723608639658,2.7080510089419345,1.2606499820953805,0.9071423039461609,0.23050230980065312,1.260098450462732,0.6782453074667696,2.258812941770361,0.15724847861630353,0.9544184373947769,0.6169257869476132,0.9611393056734863,0.47378840467499683,0.411908925094549,1.1261222840458556,1.7433727103883077,-0.29590056907258044,0.9815571791397204,-0.3371439606110873,0.24276394472825336,-0.31408063740147196,1.8335735213348343,-0.25835366087334255,0.34427421125026514,1.8212493244435306,0.4319426441895796,2.403566384362537,-1.7360054244738925,2.867261079338891,1.2505208288643914,-1.5301639560495262,-0.9152041906364166,-0.8529481863542094,1.0448695245146016,1.2349232388616045,0.49933845868292304,1.791616646383604,1.776026323836864,1.6728051664728976,0.7701422298231276,1.4500739463624488,1.2297579190037677,0.983839484338821,0.4199946271921253,-0.2998848761241535,2.704467432790065,0.23859608232923035,0.4038493150846214,1.2955134439908482,0.023679391697451035,0.08705875394091434,0.8983057672050405,2.2467191262074078,1.936088021209358,1.0279939038408734,2.05167647754765],\"xaxis\":\"x\",\"y\":[\"Group 3\",\"Group 3\",\"Group 3\",\"Group 3\",\"Group 3\",\"Group 3\",\"Group 3\",\"Group 3\",\"Group 3\",\"Group 3\",\"Group 3\",\"Group 3\",\"Group 3\",\"Group 3\",\"Group 3\",\"Group 3\",\"Group 3\",\"Group 3\",\"Group 3\",\"Group 3\",\"Group 3\",\"Group 3\",\"Group 3\",\"Group 3\",\"Group 3\",\"Group 3\",\"Group 3\",\"Group 3\",\"Group 3\",\"Group 3\",\"Group 3\",\"Group 3\",\"Group 3\",\"Group 3\",\"Group 3\",\"Group 3\",\"Group 3\",\"Group 3\",\"Group 3\",\"Group 3\",\"Group 3\",\"Group 3\",\"Group 3\",\"Group 3\",\"Group 3\",\"Group 3\",\"Group 3\",\"Group 3\",\"Group 3\",\"Group 3\",\"Group 3\",\"Group 3\",\"Group 3\",\"Group 3\",\"Group 3\",\"Group 3\",\"Group 3\",\"Group 3\",\"Group 3\",\"Group 3\",\"Group 3\",\"Group 3\",\"Group 3\",\"Group 3\",\"Group 3\",\"Group 3\",\"Group 3\",\"Group 3\",\"Group 3\",\"Group 3\",\"Group 3\",\"Group 3\",\"Group 3\",\"Group 3\",\"Group 3\",\"Group 3\",\"Group 3\",\"Group 3\",\"Group 3\",\"Group 3\",\"Group 3\",\"Group 3\",\"Group 3\",\"Group 3\",\"Group 3\",\"Group 3\",\"Group 3\",\"Group 3\",\"Group 3\",\"Group 3\",\"Group 3\",\"Group 3\",\"Group 3\",\"Group 3\",\"Group 3\",\"Group 3\",\"Group 3\",\"Group 3\",\"Group 3\",\"Group 3\",\"Group 3\",\"Group 3\",\"Group 3\",\"Group 3\",\"Group 3\",\"Group 3\",\"Group 3\",\"Group 3\",\"Group 3\",\"Group 3\",\"Group 3\",\"Group 3\",\"Group 3\",\"Group 3\",\"Group 3\",\"Group 3\",\"Group 3\",\"Group 3\",\"Group 3\",\"Group 3\",\"Group 3\",\"Group 3\",\"Group 3\",\"Group 3\",\"Group 3\",\"Group 3\",\"Group 3\",\"Group 3\",\"Group 3\",\"Group 3\",\"Group 3\",\"Group 3\",\"Group 3\",\"Group 3\",\"Group 3\",\"Group 3\",\"Group 3\",\"Group 3\",\"Group 3\",\"Group 3\",\"Group 3\",\"Group 3\",\"Group 3\",\"Group 3\",\"Group 3\",\"Group 3\",\"Group 3\",\"Group 3\",\"Group 3\",\"Group 3\",\"Group 3\",\"Group 3\",\"Group 3\",\"Group 3\",\"Group 3\",\"Group 3\",\"Group 3\",\"Group 3\",\"Group 3\",\"Group 3\",\"Group 3\",\"Group 3\",\"Group 3\",\"Group 3\",\"Group 3\",\"Group 3\",\"Group 3\",\"Group 3\",\"Group 3\",\"Group 3\",\"Group 3\",\"Group 3\",\"Group 3\",\"Group 3\",\"Group 3\",\"Group 3\",\"Group 3\",\"Group 3\",\"Group 3\",\"Group 3\",\"Group 3\",\"Group 3\",\"Group 3\",\"Group 3\",\"Group 3\",\"Group 3\",\"Group 3\",\"Group 3\",\"Group 3\",\"Group 3\",\"Group 3\",\"Group 3\",\"Group 3\",\"Group 3\",\"Group 3\",\"Group 3\",\"Group 3\",\"Group 3\",\"Group 3\",\"Group 3\"],\"yaxis\":\"y2\",\"type\":\"scatter\"}],                        {\"barmode\":\"overlay\",\"hovermode\":\"closest\",\"legend\":{\"traceorder\":\"reversed\"},\"xaxis\":{\"anchor\":\"y2\",\"domain\":[0.0,1.0],\"zeroline\":false},\"yaxis\":{\"anchor\":\"free\",\"domain\":[0.35,1],\"position\":0.0},\"yaxis2\":{\"anchor\":\"x\",\"domain\":[0,0.25],\"dtick\":1,\"showticklabels\":false},\"template\":{\"data\":{\"histogram2dcontour\":[{\"type\":\"histogram2dcontour\",\"colorbar\":{\"outlinewidth\":0,\"ticks\":\"\"},\"colorscale\":[[0.0,\"#0d0887\"],[0.1111111111111111,\"#46039f\"],[0.2222222222222222,\"#7201a8\"],[0.3333333333333333,\"#9c179e\"],[0.4444444444444444,\"#bd3786\"],[0.5555555555555556,\"#d8576b\"],[0.6666666666666666,\"#ed7953\"],[0.7777777777777778,\"#fb9f3a\"],[0.8888888888888888,\"#fdca26\"],[1.0,\"#f0f921\"]]}],\"choropleth\":[{\"type\":\"choropleth\",\"colorbar\":{\"outlinewidth\":0,\"ticks\":\"\"}}],\"histogram2d\":[{\"type\":\"histogram2d\",\"colorbar\":{\"outlinewidth\":0,\"ticks\":\"\"},\"colorscale\":[[0.0,\"#0d0887\"],[0.1111111111111111,\"#46039f\"],[0.2222222222222222,\"#7201a8\"],[0.3333333333333333,\"#9c179e\"],[0.4444444444444444,\"#bd3786\"],[0.5555555555555556,\"#d8576b\"],[0.6666666666666666,\"#ed7953\"],[0.7777777777777778,\"#fb9f3a\"],[0.8888888888888888,\"#fdca26\"],[1.0,\"#f0f921\"]]}],\"heatmap\":[{\"type\":\"heatmap\",\"colorbar\":{\"outlinewidth\":0,\"ticks\":\"\"},\"colorscale\":[[0.0,\"#0d0887\"],[0.1111111111111111,\"#46039f\"],[0.2222222222222222,\"#7201a8\"],[0.3333333333333333,\"#9c179e\"],[0.4444444444444444,\"#bd3786\"],[0.5555555555555556,\"#d8576b\"],[0.6666666666666666,\"#ed7953\"],[0.7777777777777778,\"#fb9f3a\"],[0.8888888888888888,\"#fdca26\"],[1.0,\"#f0f921\"]]}],\"heatmapgl\":[{\"type\":\"heatmapgl\",\"colorbar\":{\"outlinewidth\":0,\"ticks\":\"\"},\"colorscale\":[[0.0,\"#0d0887\"],[0.1111111111111111,\"#46039f\"],[0.2222222222222222,\"#7201a8\"],[0.3333333333333333,\"#9c179e\"],[0.4444444444444444,\"#bd3786\"],[0.5555555555555556,\"#d8576b\"],[0.6666666666666666,\"#ed7953\"],[0.7777777777777778,\"#fb9f3a\"],[0.8888888888888888,\"#fdca26\"],[1.0,\"#f0f921\"]]}],\"contourcarpet\":[{\"type\":\"contourcarpet\",\"colorbar\":{\"outlinewidth\":0,\"ticks\":\"\"}}],\"contour\":[{\"type\":\"contour\",\"colorbar\":{\"outlinewidth\":0,\"ticks\":\"\"},\"colorscale\":[[0.0,\"#0d0887\"],[0.1111111111111111,\"#46039f\"],[0.2222222222222222,\"#7201a8\"],[0.3333333333333333,\"#9c179e\"],[0.4444444444444444,\"#bd3786\"],[0.5555555555555556,\"#d8576b\"],[0.6666666666666666,\"#ed7953\"],[0.7777777777777778,\"#fb9f3a\"],[0.8888888888888888,\"#fdca26\"],[1.0,\"#f0f921\"]]}],\"surface\":[{\"type\":\"surface\",\"colorbar\":{\"outlinewidth\":0,\"ticks\":\"\"},\"colorscale\":[[0.0,\"#0d0887\"],[0.1111111111111111,\"#46039f\"],[0.2222222222222222,\"#7201a8\"],[0.3333333333333333,\"#9c179e\"],[0.4444444444444444,\"#bd3786\"],[0.5555555555555556,\"#d8576b\"],[0.6666666666666666,\"#ed7953\"],[0.7777777777777778,\"#fb9f3a\"],[0.8888888888888888,\"#fdca26\"],[1.0,\"#f0f921\"]]}],\"mesh3d\":[{\"type\":\"mesh3d\",\"colorbar\":{\"outlinewidth\":0,\"ticks\":\"\"}}],\"scatter\":[{\"fillpattern\":{\"fillmode\":\"overlay\",\"size\":10,\"solidity\":0.2},\"type\":\"scatter\"}],\"parcoords\":[{\"type\":\"parcoords\",\"line\":{\"colorbar\":{\"outlinewidth\":0,\"ticks\":\"\"}}}],\"scatterpolargl\":[{\"type\":\"scatterpolargl\",\"marker\":{\"colorbar\":{\"outlinewidth\":0,\"ticks\":\"\"}}}],\"bar\":[{\"error_x\":{\"color\":\"#2a3f5f\"},\"error_y\":{\"color\":\"#2a3f5f\"},\"marker\":{\"line\":{\"color\":\"#E5ECF6\",\"width\":0.5},\"pattern\":{\"fillmode\":\"overlay\",\"size\":10,\"solidity\":0.2}},\"type\":\"bar\"}],\"scattergeo\":[{\"type\":\"scattergeo\",\"marker\":{\"colorbar\":{\"outlinewidth\":0,\"ticks\":\"\"}}}],\"scatterpolar\":[{\"type\":\"scatterpolar\",\"marker\":{\"colorbar\":{\"outlinewidth\":0,\"ticks\":\"\"}}}],\"histogram\":[{\"marker\":{\"pattern\":{\"fillmode\":\"overlay\",\"size\":10,\"solidity\":0.2}},\"type\":\"histogram\"}],\"scattergl\":[{\"type\":\"scattergl\",\"marker\":{\"colorbar\":{\"outlinewidth\":0,\"ticks\":\"\"}}}],\"scatter3d\":[{\"type\":\"scatter3d\",\"line\":{\"colorbar\":{\"outlinewidth\":0,\"ticks\":\"\"}},\"marker\":{\"colorbar\":{\"outlinewidth\":0,\"ticks\":\"\"}}}],\"scattermapbox\":[{\"type\":\"scattermapbox\",\"marker\":{\"colorbar\":{\"outlinewidth\":0,\"ticks\":\"\"}}}],\"scatterternary\":[{\"type\":\"scatterternary\",\"marker\":{\"colorbar\":{\"outlinewidth\":0,\"ticks\":\"\"}}}],\"scattercarpet\":[{\"type\":\"scattercarpet\",\"marker\":{\"colorbar\":{\"outlinewidth\":0,\"ticks\":\"\"}}}],\"carpet\":[{\"aaxis\":{\"endlinecolor\":\"#2a3f5f\",\"gridcolor\":\"white\",\"linecolor\":\"white\",\"minorgridcolor\":\"white\",\"startlinecolor\":\"#2a3f5f\"},\"baxis\":{\"endlinecolor\":\"#2a3f5f\",\"gridcolor\":\"white\",\"linecolor\":\"white\",\"minorgridcolor\":\"white\",\"startlinecolor\":\"#2a3f5f\"},\"type\":\"carpet\"}],\"table\":[{\"cells\":{\"fill\":{\"color\":\"#EBF0F8\"},\"line\":{\"color\":\"white\"}},\"header\":{\"fill\":{\"color\":\"#C8D4E3\"},\"line\":{\"color\":\"white\"}},\"type\":\"table\"}],\"barpolar\":[{\"marker\":{\"line\":{\"color\":\"#E5ECF6\",\"width\":0.5},\"pattern\":{\"fillmode\":\"overlay\",\"size\":10,\"solidity\":0.2}},\"type\":\"barpolar\"}],\"pie\":[{\"automargin\":true,\"type\":\"pie\"}]},\"layout\":{\"autotypenumbers\":\"strict\",\"colorway\":[\"#636efa\",\"#EF553B\",\"#00cc96\",\"#ab63fa\",\"#FFA15A\",\"#19d3f3\",\"#FF6692\",\"#B6E880\",\"#FF97FF\",\"#FECB52\"],\"font\":{\"color\":\"#2a3f5f\"},\"hovermode\":\"closest\",\"hoverlabel\":{\"align\":\"left\"},\"paper_bgcolor\":\"white\",\"plot_bgcolor\":\"#E5ECF6\",\"polar\":{\"bgcolor\":\"#E5ECF6\",\"angularaxis\":{\"gridcolor\":\"white\",\"linecolor\":\"white\",\"ticks\":\"\"},\"radialaxis\":{\"gridcolor\":\"white\",\"linecolor\":\"white\",\"ticks\":\"\"}},\"ternary\":{\"bgcolor\":\"#E5ECF6\",\"aaxis\":{\"gridcolor\":\"white\",\"linecolor\":\"white\",\"ticks\":\"\"},\"baxis\":{\"gridcolor\":\"white\",\"linecolor\":\"white\",\"ticks\":\"\"},\"caxis\":{\"gridcolor\":\"white\",\"linecolor\":\"white\",\"ticks\":\"\"}},\"coloraxis\":{\"colorbar\":{\"outlinewidth\":0,\"ticks\":\"\"}},\"colorscale\":{\"sequential\":[[0.0,\"#0d0887\"],[0.1111111111111111,\"#46039f\"],[0.2222222222222222,\"#7201a8\"],[0.3333333333333333,\"#9c179e\"],[0.4444444444444444,\"#bd3786\"],[0.5555555555555556,\"#d8576b\"],[0.6666666666666666,\"#ed7953\"],[0.7777777777777778,\"#fb9f3a\"],[0.8888888888888888,\"#fdca26\"],[1.0,\"#f0f921\"]],\"sequentialminus\":[[0.0,\"#0d0887\"],[0.1111111111111111,\"#46039f\"],[0.2222222222222222,\"#7201a8\"],[0.3333333333333333,\"#9c179e\"],[0.4444444444444444,\"#bd3786\"],[0.5555555555555556,\"#d8576b\"],[0.6666666666666666,\"#ed7953\"],[0.7777777777777778,\"#fb9f3a\"],[0.8888888888888888,\"#fdca26\"],[1.0,\"#f0f921\"]],\"diverging\":[[0,\"#8e0152\"],[0.1,\"#c51b7d\"],[0.2,\"#de77ae\"],[0.3,\"#f1b6da\"],[0.4,\"#fde0ef\"],[0.5,\"#f7f7f7\"],[0.6,\"#e6f5d0\"],[0.7,\"#b8e186\"],[0.8,\"#7fbc41\"],[0.9,\"#4d9221\"],[1,\"#276419\"]]},\"xaxis\":{\"gridcolor\":\"white\",\"linecolor\":\"white\",\"ticks\":\"\",\"title\":{\"standoff\":15},\"zerolinecolor\":\"white\",\"automargin\":true,\"zerolinewidth\":2},\"yaxis\":{\"gridcolor\":\"white\",\"linecolor\":\"white\",\"ticks\":\"\",\"title\":{\"standoff\":15},\"zerolinecolor\":\"white\",\"automargin\":true,\"zerolinewidth\":2},\"scene\":{\"xaxis\":{\"backgroundcolor\":\"#E5ECF6\",\"gridcolor\":\"white\",\"linecolor\":\"white\",\"showbackground\":true,\"ticks\":\"\",\"zerolinecolor\":\"white\",\"gridwidth\":2},\"yaxis\":{\"backgroundcolor\":\"#E5ECF6\",\"gridcolor\":\"white\",\"linecolor\":\"white\",\"showbackground\":true,\"ticks\":\"\",\"zerolinecolor\":\"white\",\"gridwidth\":2},\"zaxis\":{\"backgroundcolor\":\"#E5ECF6\",\"gridcolor\":\"white\",\"linecolor\":\"white\",\"showbackground\":true,\"ticks\":\"\",\"zerolinecolor\":\"white\",\"gridwidth\":2}},\"shapedefaults\":{\"line\":{\"color\":\"#2a3f5f\"}},\"annotationdefaults\":{\"arrowcolor\":\"#2a3f5f\",\"arrowhead\":0,\"arrowwidth\":1},\"geo\":{\"bgcolor\":\"white\",\"landcolor\":\"#E5ECF6\",\"subunitcolor\":\"white\",\"showland\":true,\"showlakes\":true,\"lakecolor\":\"white\"},\"title\":{\"x\":0.05},\"mapbox\":{\"style\":\"light\"}}}},                        {\"responsive\": true}                    ).then(function(){\n",
       "                            \n",
       "var gd = document.getElementById('a52e3df1-0c23-4873-b6ed-0a04ea9204ac');\n",
       "var x = new MutationObserver(function (mutations, observer) {{\n",
       "        var display = window.getComputedStyle(gd).display;\n",
       "        if (!display || display === 'none') {{\n",
       "            console.log([gd, 'removed!']);\n",
       "            Plotly.purge(gd);\n",
       "            observer.disconnect();\n",
       "        }}\n",
       "}});\n",
       "\n",
       "// Listen for the removal of the full notebook cells\n",
       "var notebookContainer = gd.closest('#notebook-container');\n",
       "if (notebookContainer) {{\n",
       "    x.observe(notebookContainer, {childList: true});\n",
       "}}\n",
       "\n",
       "// Listen for the clearing of the current output cell\n",
       "var outputEl = gd.closest('.output');\n",
       "if (outputEl) {{\n",
       "    x.observe(outputEl, {childList: true});\n",
       "}}\n",
       "\n",
       "                        })                };                });            </script>        </div>"
      ]
     },
     "metadata": {},
     "output_type": "display_data"
    }
   ],
   "source": [
    "import plotly.graph_objects as go\n",
    "from plotly.subplots import make_subplots\n",
    "import plotly.figure_factory as ff\n",
    "import numpy as np\n",
    "\n",
    "# data\n",
    "y1 = np.random.randn(200) - 1\n",
    "y2 = np.random.randn(200)\n",
    "y3 = np.random.randn(200) + 1\n",
    "x = np.linspace(0, 1, 200)\n",
    "\n",
    "# subplot setupt\n",
    "fig = make_subplots(\n",
    "    rows=3, cols=2\n",
    ")\n",
    "\n",
    "# raw data with go.Scatter\n",
    "fig.add_trace(go.Scatter(x = x, \n",
    "                        y = y1,\n",
    "                        hoverinfo = 'x+y',\n",
    "                        mode='lines',\n",
    "                        line=dict(color='rgb(0, 0, 0)',width=1),\n",
    "                        showlegend=False,\n",
    "                        ),\n",
    "             row=1, col=1\n",
    ")\n",
    "\n",
    "fig.add_trace(\n",
    "    go.Scatter(x = x, \n",
    "                y = y2,\n",
    "                hoverinfo = 'x+y',\n",
    "                mode='lines',\n",
    "                line=dict(color='rgb(246, 52, 16)',\n",
    "                width=1),\n",
    "                showlegend=False,\n",
    "                ),\n",
    "    row=2, col=1\n",
    ")\n",
    "\n",
    "fig.add_trace(\n",
    "    go.Scatter(x = x, \n",
    "                y = y3,\n",
    "                hoverinfo = 'x+y',\n",
    "                mode='lines',\n",
    "                line=dict(color='rgb(16, 154, 246)',\n",
    "                width=1),\n",
    "                showlegend=False,\n",
    "                ),\n",
    "    row=3, col=1\n",
    ")\n",
    "\n",
    "# box plots\n",
    "fig.add_trace(go.Box(x=y1),\n",
    "    row=1, col=2\n",
    ")\n",
    "\n",
    "fig.add_trace(go.Box(x=y1),\n",
    "    row=2, col=2\n",
    ")\n",
    "\n",
    "fig.add_trace(go.Box(x=y1),\n",
    "    row=3, col=2\n",
    ")\n",
    "\n",
    "# fig.show()\n",
    "\n",
    "hist_data = [y1, y2, y3]\n",
    "group_labels = ['Group 1', 'Group 2', 'Group 3']\n",
    "fig2 = ff.create_distplot(hist_data, group_labels)\n",
    "fig2.show()"
   ]
  },
  {
   "cell_type": "code",
   "execution_count": 10,
   "id": "70732234-1f1d-411e-ac87-4dfdd80d189e",
   "metadata": {},
   "outputs": [
    {
     "data": {
      "application/vnd.plotly.v1+json": {
       "config": {
        "plotlyServerURL": "https://plot.ly"
       },
       "data": [
        {
         "type": "histogram",
         "x": [
          1,
          2,
          0,
          2,
          1,
          0,
          2
         ]
        },
        {
         "mode": "lines",
         "type": "scatter",
         "x": [
          0,
          1,
          2
         ],
         "y": [
          1,
          3,
          2
         ]
        }
       ],
       "layout": {
        "autosize": true,
        "template": {
         "data": {
          "bar": [
           {
            "error_x": {
             "color": "#2a3f5f"
            },
            "error_y": {
             "color": "#2a3f5f"
            },
            "marker": {
             "line": {
              "color": "#E5ECF6",
              "width": 0.5
             },
             "pattern": {
              "fillmode": "overlay",
              "size": 10,
              "solidity": 0.2
             }
            },
            "type": "bar"
           }
          ],
          "barpolar": [
           {
            "marker": {
             "line": {
              "color": "#E5ECF6",
              "width": 0.5
             },
             "pattern": {
              "fillmode": "overlay",
              "size": 10,
              "solidity": 0.2
             }
            },
            "type": "barpolar"
           }
          ],
          "carpet": [
           {
            "aaxis": {
             "endlinecolor": "#2a3f5f",
             "gridcolor": "white",
             "linecolor": "white",
             "minorgridcolor": "white",
             "startlinecolor": "#2a3f5f"
            },
            "baxis": {
             "endlinecolor": "#2a3f5f",
             "gridcolor": "white",
             "linecolor": "white",
             "minorgridcolor": "white",
             "startlinecolor": "#2a3f5f"
            },
            "type": "carpet"
           }
          ],
          "choropleth": [
           {
            "colorbar": {
             "outlinewidth": 0,
             "ticks": ""
            },
            "type": "choropleth"
           }
          ],
          "contour": [
           {
            "colorbar": {
             "outlinewidth": 0,
             "ticks": ""
            },
            "colorscale": [
             [
              0,
              "#0d0887"
             ],
             [
              0.1111111111111111,
              "#46039f"
             ],
             [
              0.2222222222222222,
              "#7201a8"
             ],
             [
              0.3333333333333333,
              "#9c179e"
             ],
             [
              0.4444444444444444,
              "#bd3786"
             ],
             [
              0.5555555555555556,
              "#d8576b"
             ],
             [
              0.6666666666666666,
              "#ed7953"
             ],
             [
              0.7777777777777778,
              "#fb9f3a"
             ],
             [
              0.8888888888888888,
              "#fdca26"
             ],
             [
              1,
              "#f0f921"
             ]
            ],
            "type": "contour"
           }
          ],
          "contourcarpet": [
           {
            "colorbar": {
             "outlinewidth": 0,
             "ticks": ""
            },
            "type": "contourcarpet"
           }
          ],
          "heatmap": [
           {
            "colorbar": {
             "outlinewidth": 0,
             "ticks": ""
            },
            "colorscale": [
             [
              0,
              "#0d0887"
             ],
             [
              0.1111111111111111,
              "#46039f"
             ],
             [
              0.2222222222222222,
              "#7201a8"
             ],
             [
              0.3333333333333333,
              "#9c179e"
             ],
             [
              0.4444444444444444,
              "#bd3786"
             ],
             [
              0.5555555555555556,
              "#d8576b"
             ],
             [
              0.6666666666666666,
              "#ed7953"
             ],
             [
              0.7777777777777778,
              "#fb9f3a"
             ],
             [
              0.8888888888888888,
              "#fdca26"
             ],
             [
              1,
              "#f0f921"
             ]
            ],
            "type": "heatmap"
           }
          ],
          "heatmapgl": [
           {
            "colorbar": {
             "outlinewidth": 0,
             "ticks": ""
            },
            "colorscale": [
             [
              0,
              "#0d0887"
             ],
             [
              0.1111111111111111,
              "#46039f"
             ],
             [
              0.2222222222222222,
              "#7201a8"
             ],
             [
              0.3333333333333333,
              "#9c179e"
             ],
             [
              0.4444444444444444,
              "#bd3786"
             ],
             [
              0.5555555555555556,
              "#d8576b"
             ],
             [
              0.6666666666666666,
              "#ed7953"
             ],
             [
              0.7777777777777778,
              "#fb9f3a"
             ],
             [
              0.8888888888888888,
              "#fdca26"
             ],
             [
              1,
              "#f0f921"
             ]
            ],
            "type": "heatmapgl"
           }
          ],
          "histogram": [
           {
            "marker": {
             "pattern": {
              "fillmode": "overlay",
              "size": 10,
              "solidity": 0.2
             }
            },
            "type": "histogram"
           }
          ],
          "histogram2d": [
           {
            "colorbar": {
             "outlinewidth": 0,
             "ticks": ""
            },
            "colorscale": [
             [
              0,
              "#0d0887"
             ],
             [
              0.1111111111111111,
              "#46039f"
             ],
             [
              0.2222222222222222,
              "#7201a8"
             ],
             [
              0.3333333333333333,
              "#9c179e"
             ],
             [
              0.4444444444444444,
              "#bd3786"
             ],
             [
              0.5555555555555556,
              "#d8576b"
             ],
             [
              0.6666666666666666,
              "#ed7953"
             ],
             [
              0.7777777777777778,
              "#fb9f3a"
             ],
             [
              0.8888888888888888,
              "#fdca26"
             ],
             [
              1,
              "#f0f921"
             ]
            ],
            "type": "histogram2d"
           }
          ],
          "histogram2dcontour": [
           {
            "colorbar": {
             "outlinewidth": 0,
             "ticks": ""
            },
            "colorscale": [
             [
              0,
              "#0d0887"
             ],
             [
              0.1111111111111111,
              "#46039f"
             ],
             [
              0.2222222222222222,
              "#7201a8"
             ],
             [
              0.3333333333333333,
              "#9c179e"
             ],
             [
              0.4444444444444444,
              "#bd3786"
             ],
             [
              0.5555555555555556,
              "#d8576b"
             ],
             [
              0.6666666666666666,
              "#ed7953"
             ],
             [
              0.7777777777777778,
              "#fb9f3a"
             ],
             [
              0.8888888888888888,
              "#fdca26"
             ],
             [
              1,
              "#f0f921"
             ]
            ],
            "type": "histogram2dcontour"
           }
          ],
          "mesh3d": [
           {
            "colorbar": {
             "outlinewidth": 0,
             "ticks": ""
            },
            "type": "mesh3d"
           }
          ],
          "parcoords": [
           {
            "line": {
             "colorbar": {
              "outlinewidth": 0,
              "ticks": ""
             }
            },
            "type": "parcoords"
           }
          ],
          "pie": [
           {
            "automargin": true,
            "type": "pie"
           }
          ],
          "scatter": [
           {
            "fillpattern": {
             "fillmode": "overlay",
             "size": 10,
             "solidity": 0.2
            },
            "type": "scatter"
           }
          ],
          "scatter3d": [
           {
            "line": {
             "colorbar": {
              "outlinewidth": 0,
              "ticks": ""
             }
            },
            "marker": {
             "colorbar": {
              "outlinewidth": 0,
              "ticks": ""
             }
            },
            "type": "scatter3d"
           }
          ],
          "scattercarpet": [
           {
            "marker": {
             "colorbar": {
              "outlinewidth": 0,
              "ticks": ""
             }
            },
            "type": "scattercarpet"
           }
          ],
          "scattergeo": [
           {
            "marker": {
             "colorbar": {
              "outlinewidth": 0,
              "ticks": ""
             }
            },
            "type": "scattergeo"
           }
          ],
          "scattergl": [
           {
            "marker": {
             "colorbar": {
              "outlinewidth": 0,
              "ticks": ""
             }
            },
            "type": "scattergl"
           }
          ],
          "scattermapbox": [
           {
            "marker": {
             "colorbar": {
              "outlinewidth": 0,
              "ticks": ""
             }
            },
            "type": "scattermapbox"
           }
          ],
          "scatterpolar": [
           {
            "marker": {
             "colorbar": {
              "outlinewidth": 0,
              "ticks": ""
             }
            },
            "type": "scatterpolar"
           }
          ],
          "scatterpolargl": [
           {
            "marker": {
             "colorbar": {
              "outlinewidth": 0,
              "ticks": ""
             }
            },
            "type": "scatterpolargl"
           }
          ],
          "scatterternary": [
           {
            "marker": {
             "colorbar": {
              "outlinewidth": 0,
              "ticks": ""
             }
            },
            "type": "scatterternary"
           }
          ],
          "surface": [
           {
            "colorbar": {
             "outlinewidth": 0,
             "ticks": ""
            },
            "colorscale": [
             [
              0,
              "#0d0887"
             ],
             [
              0.1111111111111111,
              "#46039f"
             ],
             [
              0.2222222222222222,
              "#7201a8"
             ],
             [
              0.3333333333333333,
              "#9c179e"
             ],
             [
              0.4444444444444444,
              "#bd3786"
             ],
             [
              0.5555555555555556,
              "#d8576b"
             ],
             [
              0.6666666666666666,
              "#ed7953"
             ],
             [
              0.7777777777777778,
              "#fb9f3a"
             ],
             [
              0.8888888888888888,
              "#fdca26"
             ],
             [
              1,
              "#f0f921"
             ]
            ],
            "type": "surface"
           }
          ],
          "table": [
           {
            "cells": {
             "fill": {
              "color": "#EBF0F8"
             },
             "line": {
              "color": "white"
             }
            },
            "header": {
             "fill": {
              "color": "#C8D4E3"
             },
             "line": {
              "color": "white"
             }
            },
            "type": "table"
           }
          ]
         },
         "layout": {
          "annotationdefaults": {
           "arrowcolor": "#2a3f5f",
           "arrowhead": 0,
           "arrowwidth": 1
          },
          "autotypenumbers": "strict",
          "coloraxis": {
           "colorbar": {
            "outlinewidth": 0,
            "ticks": ""
           }
          },
          "colorscale": {
           "diverging": [
            [
             0,
             "#8e0152"
            ],
            [
             0.1,
             "#c51b7d"
            ],
            [
             0.2,
             "#de77ae"
            ],
            [
             0.3,
             "#f1b6da"
            ],
            [
             0.4,
             "#fde0ef"
            ],
            [
             0.5,
             "#f7f7f7"
            ],
            [
             0.6,
             "#e6f5d0"
            ],
            [
             0.7,
             "#b8e186"
            ],
            [
             0.8,
             "#7fbc41"
            ],
            [
             0.9,
             "#4d9221"
            ],
            [
             1,
             "#276419"
            ]
           ],
           "sequential": [
            [
             0,
             "#0d0887"
            ],
            [
             0.1111111111111111,
             "#46039f"
            ],
            [
             0.2222222222222222,
             "#7201a8"
            ],
            [
             0.3333333333333333,
             "#9c179e"
            ],
            [
             0.4444444444444444,
             "#bd3786"
            ],
            [
             0.5555555555555556,
             "#d8576b"
            ],
            [
             0.6666666666666666,
             "#ed7953"
            ],
            [
             0.7777777777777778,
             "#fb9f3a"
            ],
            [
             0.8888888888888888,
             "#fdca26"
            ],
            [
             1,
             "#f0f921"
            ]
           ],
           "sequentialminus": [
            [
             0,
             "#0d0887"
            ],
            [
             0.1111111111111111,
             "#46039f"
            ],
            [
             0.2222222222222222,
             "#7201a8"
            ],
            [
             0.3333333333333333,
             "#9c179e"
            ],
            [
             0.4444444444444444,
             "#bd3786"
            ],
            [
             0.5555555555555556,
             "#d8576b"
            ],
            [
             0.6666666666666666,
             "#ed7953"
            ],
            [
             0.7777777777777778,
             "#fb9f3a"
            ],
            [
             0.8888888888888888,
             "#fdca26"
            ],
            [
             1,
             "#f0f921"
            ]
           ]
          },
          "colorway": [
           "#636efa",
           "#EF553B",
           "#00cc96",
           "#ab63fa",
           "#FFA15A",
           "#19d3f3",
           "#FF6692",
           "#B6E880",
           "#FF97FF",
           "#FECB52"
          ],
          "font": {
           "color": "#2a3f5f"
          },
          "geo": {
           "bgcolor": "white",
           "lakecolor": "white",
           "landcolor": "#E5ECF6",
           "showlakes": true,
           "showland": true,
           "subunitcolor": "white"
          },
          "hoverlabel": {
           "align": "left"
          },
          "hovermode": "closest",
          "mapbox": {
           "style": "light"
          },
          "paper_bgcolor": "white",
          "plot_bgcolor": "#E5ECF6",
          "polar": {
           "angularaxis": {
            "gridcolor": "white",
            "linecolor": "white",
            "ticks": ""
           },
           "bgcolor": "#E5ECF6",
           "radialaxis": {
            "gridcolor": "white",
            "linecolor": "white",
            "ticks": ""
           }
          },
          "scene": {
           "xaxis": {
            "backgroundcolor": "#E5ECF6",
            "gridcolor": "white",
            "gridwidth": 2,
            "linecolor": "white",
            "showbackground": true,
            "ticks": "",
            "zerolinecolor": "white"
           },
           "yaxis": {
            "backgroundcolor": "#E5ECF6",
            "gridcolor": "white",
            "gridwidth": 2,
            "linecolor": "white",
            "showbackground": true,
            "ticks": "",
            "zerolinecolor": "white"
           },
           "zaxis": {
            "backgroundcolor": "#E5ECF6",
            "gridcolor": "white",
            "gridwidth": 2,
            "linecolor": "white",
            "showbackground": true,
            "ticks": "",
            "zerolinecolor": "white"
           }
          },
          "shapedefaults": {
           "line": {
            "color": "#2a3f5f"
           }
          },
          "ternary": {
           "aaxis": {
            "gridcolor": "white",
            "linecolor": "white",
            "ticks": ""
           },
           "baxis": {
            "gridcolor": "white",
            "linecolor": "white",
            "ticks": ""
           },
           "bgcolor": "#E5ECF6",
           "caxis": {
            "gridcolor": "white",
            "linecolor": "white",
            "ticks": ""
           }
          },
          "title": {
           "x": 0.05
          },
          "xaxis": {
           "automargin": true,
           "gridcolor": "white",
           "linecolor": "white",
           "ticks": "",
           "title": {
            "standoff": 15
           },
           "zerolinecolor": "white",
           "zerolinewidth": 2
          },
          "yaxis": {
           "automargin": true,
           "gridcolor": "white",
           "linecolor": "white",
           "ticks": "",
           "title": {
            "standoff": 15
           },
           "zerolinecolor": "white",
           "zerolinewidth": 2
          }
         }
        },
        "xaxis": {
         "autorange": true,
         "range": [
          -0.5,
          2.5
         ],
         "type": "linear"
        },
        "yaxis": {
         "autorange": true,
         "range": [
          0,
          3.1578947368421053
         ],
         "type": "linear"
        }
       }
      },
      "image/png": "[encoded data removed]",
      "text/html": [
       "<div>                            <div id=\"448522b6-69a8-4e35-acff-b4db6c971deb\" class=\"plotly-graph-div\" style=\"height:525px; width:100%;\"></div>            <script type=\"text/javascript\">                require([\"plotly\"], function(Plotly) {                    window.PLOTLYENV=window.PLOTLYENV || {};                                    if (document.getElementById(\"448522b6-69a8-4e35-acff-b4db6c971deb\")) {                    Plotly.newPlot(                        \"448522b6-69a8-4e35-acff-b4db6c971deb\",                        [{\"x\":[1,2,0,2,1,0,2],\"type\":\"histogram\"},{\"mode\":\"lines\",\"x\":[0,1,2],\"y\":[1,3,2],\"type\":\"scatter\"}],                        {\"template\":{\"data\":{\"histogram2dcontour\":[{\"type\":\"histogram2dcontour\",\"colorbar\":{\"outlinewidth\":0,\"ticks\":\"\"},\"colorscale\":[[0.0,\"#0d0887\"],[0.1111111111111111,\"#46039f\"],[0.2222222222222222,\"#7201a8\"],[0.3333333333333333,\"#9c179e\"],[0.4444444444444444,\"#bd3786\"],[0.5555555555555556,\"#d8576b\"],[0.6666666666666666,\"#ed7953\"],[0.7777777777777778,\"#fb9f3a\"],[0.8888888888888888,\"#fdca26\"],[1.0,\"#f0f921\"]]}],\"choropleth\":[{\"type\":\"choropleth\",\"colorbar\":{\"outlinewidth\":0,\"ticks\":\"\"}}],\"histogram2d\":[{\"type\":\"histogram2d\",\"colorbar\":{\"outlinewidth\":0,\"ticks\":\"\"},\"colorscale\":[[0.0,\"#0d0887\"],[0.1111111111111111,\"#46039f\"],[0.2222222222222222,\"#7201a8\"],[0.3333333333333333,\"#9c179e\"],[0.4444444444444444,\"#bd3786\"],[0.5555555555555556,\"#d8576b\"],[0.6666666666666666,\"#ed7953\"],[0.7777777777777778,\"#fb9f3a\"],[0.8888888888888888,\"#fdca26\"],[1.0,\"#f0f921\"]]}],\"heatmap\":[{\"type\":\"heatmap\",\"colorbar\":{\"outlinewidth\":0,\"ticks\":\"\"},\"colorscale\":[[0.0,\"#0d0887\"],[0.1111111111111111,\"#46039f\"],[0.2222222222222222,\"#7201a8\"],[0.3333333333333333,\"#9c179e\"],[0.4444444444444444,\"#bd3786\"],[0.5555555555555556,\"#d8576b\"],[0.6666666666666666,\"#ed7953\"],[0.7777777777777778,\"#fb9f3a\"],[0.8888888888888888,\"#fdca26\"],[1.0,\"#f0f921\"]]}],\"heatmapgl\":[{\"type\":\"heatmapgl\",\"colorbar\":{\"outlinewidth\":0,\"ticks\":\"\"},\"colorscale\":[[0.0,\"#0d0887\"],[0.1111111111111111,\"#46039f\"],[0.2222222222222222,\"#7201a8\"],[0.3333333333333333,\"#9c179e\"],[0.4444444444444444,\"#bd3786\"],[0.5555555555555556,\"#d8576b\"],[0.6666666666666666,\"#ed7953\"],[0.7777777777777778,\"#fb9f3a\"],[0.8888888888888888,\"#fdca26\"],[1.0,\"#f0f921\"]]}],\"contourcarpet\":[{\"type\":\"contourcarpet\",\"colorbar\":{\"outlinewidth\":0,\"ticks\":\"\"}}],\"contour\":[{\"type\":\"contour\",\"colorbar\":{\"outlinewidth\":0,\"ticks\":\"\"},\"colorscale\":[[0.0,\"#0d0887\"],[0.1111111111111111,\"#46039f\"],[0.2222222222222222,\"#7201a8\"],[0.3333333333333333,\"#9c179e\"],[0.4444444444444444,\"#bd3786\"],[0.5555555555555556,\"#d8576b\"],[0.6666666666666666,\"#ed7953\"],[0.7777777777777778,\"#fb9f3a\"],[0.8888888888888888,\"#fdca26\"],[1.0,\"#f0f921\"]]}],\"surface\":[{\"type\":\"surface\",\"colorbar\":{\"outlinewidth\":0,\"ticks\":\"\"},\"colorscale\":[[0.0,\"#0d0887\"],[0.1111111111111111,\"#46039f\"],[0.2222222222222222,\"#7201a8\"],[0.3333333333333333,\"#9c179e\"],[0.4444444444444444,\"#bd3786\"],[0.5555555555555556,\"#d8576b\"],[0.6666666666666666,\"#ed7953\"],[0.7777777777777778,\"#fb9f3a\"],[0.8888888888888888,\"#fdca26\"],[1.0,\"#f0f921\"]]}],\"mesh3d\":[{\"type\":\"mesh3d\",\"colorbar\":{\"outlinewidth\":0,\"ticks\":\"\"}}],\"scatter\":[{\"fillpattern\":{\"fillmode\":\"overlay\",\"size\":10,\"solidity\":0.2},\"type\":\"scatter\"}],\"parcoords\":[{\"type\":\"parcoords\",\"line\":{\"colorbar\":{\"outlinewidth\":0,\"ticks\":\"\"}}}],\"scatterpolargl\":[{\"type\":\"scatterpolargl\",\"marker\":{\"colorbar\":{\"outlinewidth\":0,\"ticks\":\"\"}}}],\"bar\":[{\"error_x\":{\"color\":\"#2a3f5f\"},\"error_y\":{\"color\":\"#2a3f5f\"},\"marker\":{\"line\":{\"color\":\"#E5ECF6\",\"width\":0.5},\"pattern\":{\"fillmode\":\"overlay\",\"size\":10,\"solidity\":0.2}},\"type\":\"bar\"}],\"scattergeo\":[{\"type\":\"scattergeo\",\"marker\":{\"colorbar\":{\"outlinewidth\":0,\"ticks\":\"\"}}}],\"scatterpolar\":[{\"type\":\"scatterpolar\",\"marker\":{\"colorbar\":{\"outlinewidth\":0,\"ticks\":\"\"}}}],\"histogram\":[{\"marker\":{\"pattern\":{\"fillmode\":\"overlay\",\"size\":10,\"solidity\":0.2}},\"type\":\"histogram\"}],\"scattergl\":[{\"type\":\"scattergl\",\"marker\":{\"colorbar\":{\"outlinewidth\":0,\"ticks\":\"\"}}}],\"scatter3d\":[{\"type\":\"scatter3d\",\"line\":{\"colorbar\":{\"outlinewidth\":0,\"ticks\":\"\"}},\"marker\":{\"colorbar\":{\"outlinewidth\":0,\"ticks\":\"\"}}}],\"scattermapbox\":[{\"type\":\"scattermapbox\",\"marker\":{\"colorbar\":{\"outlinewidth\":0,\"ticks\":\"\"}}}],\"scatterternary\":[{\"type\":\"scatterternary\",\"marker\":{\"colorbar\":{\"outlinewidth\":0,\"ticks\":\"\"}}}],\"scattercarpet\":[{\"type\":\"scattercarpet\",\"marker\":{\"colorbar\":{\"outlinewidth\":0,\"ticks\":\"\"}}}],\"carpet\":[{\"aaxis\":{\"endlinecolor\":\"#2a3f5f\",\"gridcolor\":\"white\",\"linecolor\":\"white\",\"minorgridcolor\":\"white\",\"startlinecolor\":\"#2a3f5f\"},\"baxis\":{\"endlinecolor\":\"#2a3f5f\",\"gridcolor\":\"white\",\"linecolor\":\"white\",\"minorgridcolor\":\"white\",\"startlinecolor\":\"#2a3f5f\"},\"type\":\"carpet\"}],\"table\":[{\"cells\":{\"fill\":{\"color\":\"#EBF0F8\"},\"line\":{\"color\":\"white\"}},\"header\":{\"fill\":{\"color\":\"#C8D4E3\"},\"line\":{\"color\":\"white\"}},\"type\":\"table\"}],\"barpolar\":[{\"marker\":{\"line\":{\"color\":\"#E5ECF6\",\"width\":0.5},\"pattern\":{\"fillmode\":\"overlay\",\"size\":10,\"solidity\":0.2}},\"type\":\"barpolar\"}],\"pie\":[{\"automargin\":true,\"type\":\"pie\"}]},\"layout\":{\"autotypenumbers\":\"strict\",\"colorway\":[\"#636efa\",\"#EF553B\",\"#00cc96\",\"#ab63fa\",\"#FFA15A\",\"#19d3f3\",\"#FF6692\",\"#B6E880\",\"#FF97FF\",\"#FECB52\"],\"font\":{\"color\":\"#2a3f5f\"},\"hovermode\":\"closest\",\"hoverlabel\":{\"align\":\"left\"},\"paper_bgcolor\":\"white\",\"plot_bgcolor\":\"#E5ECF6\",\"polar\":{\"bgcolor\":\"#E5ECF6\",\"angularaxis\":{\"gridcolor\":\"white\",\"linecolor\":\"white\",\"ticks\":\"\"},\"radialaxis\":{\"gridcolor\":\"white\",\"linecolor\":\"white\",\"ticks\":\"\"}},\"ternary\":{\"bgcolor\":\"#E5ECF6\",\"aaxis\":{\"gridcolor\":\"white\",\"linecolor\":\"white\",\"ticks\":\"\"},\"baxis\":{\"gridcolor\":\"white\",\"linecolor\":\"white\",\"ticks\":\"\"},\"caxis\":{\"gridcolor\":\"white\",\"linecolor\":\"white\",\"ticks\":\"\"}},\"coloraxis\":{\"colorbar\":{\"outlinewidth\":0,\"ticks\":\"\"}},\"colorscale\":{\"sequential\":[[0.0,\"#0d0887\"],[0.1111111111111111,\"#46039f\"],[0.2222222222222222,\"#7201a8\"],[0.3333333333333333,\"#9c179e\"],[0.4444444444444444,\"#bd3786\"],[0.5555555555555556,\"#d8576b\"],[0.6666666666666666,\"#ed7953\"],[0.7777777777777778,\"#fb9f3a\"],[0.8888888888888888,\"#fdca26\"],[1.0,\"#f0f921\"]],\"sequentialminus\":[[0.0,\"#0d0887\"],[0.1111111111111111,\"#46039f\"],[0.2222222222222222,\"#7201a8\"],[0.3333333333333333,\"#9c179e\"],[0.4444444444444444,\"#bd3786\"],[0.5555555555555556,\"#d8576b\"],[0.6666666666666666,\"#ed7953\"],[0.7777777777777778,\"#fb9f3a\"],[0.8888888888888888,\"#fdca26\"],[1.0,\"#f0f921\"]],\"diverging\":[[0,\"#8e0152\"],[0.1,\"#c51b7d\"],[0.2,\"#de77ae\"],[0.3,\"#f1b6da\"],[0.4,\"#fde0ef\"],[0.5,\"#f7f7f7\"],[0.6,\"#e6f5d0\"],[0.7,\"#b8e186\"],[0.8,\"#7fbc41\"],[0.9,\"#4d9221\"],[1,\"#276419\"]]},\"xaxis\":{\"gridcolor\":\"white\",\"linecolor\":\"white\",\"ticks\":\"\",\"title\":{\"standoff\":15},\"zerolinecolor\":\"white\",\"automargin\":true,\"zerolinewidth\":2},\"yaxis\":{\"gridcolor\":\"white\",\"linecolor\":\"white\",\"ticks\":\"\",\"title\":{\"standoff\":15},\"zerolinecolor\":\"white\",\"automargin\":true,\"zerolinewidth\":2},\"scene\":{\"xaxis\":{\"backgroundcolor\":\"#E5ECF6\",\"gridcolor\":\"white\",\"linecolor\":\"white\",\"showbackground\":true,\"ticks\":\"\",\"zerolinecolor\":\"white\",\"gridwidth\":2},\"yaxis\":{\"backgroundcolor\":\"#E5ECF6\",\"gridcolor\":\"white\",\"linecolor\":\"white\",\"showbackground\":true,\"ticks\":\"\",\"zerolinecolor\":\"white\",\"gridwidth\":2},\"zaxis\":{\"backgroundcolor\":\"#E5ECF6\",\"gridcolor\":\"white\",\"linecolor\":\"white\",\"showbackground\":true,\"ticks\":\"\",\"zerolinecolor\":\"white\",\"gridwidth\":2}},\"shapedefaults\":{\"line\":{\"color\":\"#2a3f5f\"}},\"annotationdefaults\":{\"arrowcolor\":\"#2a3f5f\",\"arrowhead\":0,\"arrowwidth\":1},\"geo\":{\"bgcolor\":\"white\",\"landcolor\":\"#E5ECF6\",\"subunitcolor\":\"white\",\"showland\":true,\"showlakes\":true,\"lakecolor\":\"white\"},\"title\":{\"x\":0.05},\"mapbox\":{\"style\":\"light\"}}}},                        {\"responsive\": true}                    ).then(function(){\n",
       "                            \n",
       "var gd = document.getElementById('448522b6-69a8-4e35-acff-b4db6c971deb');\n",
       "var x = new MutationObserver(function (mutations, observer) {{\n",
       "        var display = window.getComputedStyle(gd).display;\n",
       "        if (!display || display === 'none') {{\n",
       "            console.log([gd, 'removed!']);\n",
       "            Plotly.purge(gd);\n",
       "            observer.disconnect();\n",
       "        }}\n",
       "}});\n",
       "\n",
       "// Listen for the removal of the full notebook cells\n",
       "var notebookContainer = gd.closest('#notebook-container');\n",
       "if (notebookContainer) {{\n",
       "    x.observe(notebookContainer, {childList: true});\n",
       "}}\n",
       "\n",
       "// Listen for the clearing of the current output cell\n",
       "var outputEl = gd.closest('.output');\n",
       "if (outputEl) {{\n",
       "    x.observe(outputEl, {childList: true});\n",
       "}}\n",
       "\n",
       "                        })                };                });            </script>        </div>"
      ]
     },
     "metadata": {},
     "output_type": "display_data"
    }
   ],
   "source": [
    "import plotly.graph_objects as go\n",
    "fig = go.Figure()\n",
    "fig.add_trace(go.Histogram(x=[1, 2, 0, 2, 1, 0, 2]))\n",
    "fig.add_trace(go.Scatter(x=[0, 1, 2], y=[1, 3, 2], mode='lines'))\n",
    "fig.show()"
   ]
  }
 ],
 "metadata": {
  "kernelspec": {
   "display_name": "pytorch2-paper",
   "language": "python",
   "name": "pytorch2-paper"
  },
  "language_info": {
   "codemirror_mode": {
    "name": "ipython",
    "version": 3
   },
   "file_extension": ".py",
   "mimetype": "text/x-python",
   "name": "python",
   "nbconvert_exporter": "python",
   "pygments_lexer": "ipython3",
   "version": "3.10.10"
  }
 },
 "nbformat": 4,
 "nbformat_minor": 5
}
